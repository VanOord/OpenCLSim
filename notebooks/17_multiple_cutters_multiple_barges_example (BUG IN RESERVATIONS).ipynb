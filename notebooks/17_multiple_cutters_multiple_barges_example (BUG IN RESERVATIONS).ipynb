{
 "cells": [
  {
   "cell_type": "markdown",
   "metadata": {},
   "source": [
    "# Demo Multiple Cutters - Multiple Barches\n",
    "This notebook shows a basics of a feeder concept. This scenario has two vessels:\n",
    "* a *vessel* for the transport of material\n",
    "* an *installer*, receiving the material and installing it.\n",
    "Thus, we also need two processes - one for each vessel. In this process the hand over of the material is done from the *vessel* to the *installer*."
   ]
  },
  {
   "cell_type": "code",
   "execution_count": 1,
   "metadata": {},
   "outputs": [],
   "source": [
    "import datetime, time\n",
    "import simpy\n",
    "\n",
    "import shapely.geometry\n",
    "\n",
    "\n",
    "# package(s) for data handling\n",
    "import pandas as pd\n",
    "import numpy as np\n",
    "\n",
    "import openclsim.core as core\n",
    "import openclsim.model as model\n",
    "import openclsim.plot as plot\n",
    "import uuid\n",
    "\n",
    "# setup environment\n",
    "simulation_start = 0\n",
    "my_env = simpy.Environment(initial_time=simulation_start)\n",
    "registry = {}"
   ]
  },
  {
   "cell_type": "markdown",
   "metadata": {},
   "source": [
    "## Definition of Sites"
   ]
  },
  {
   "cell_type": "code",
   "execution_count": 2,
   "metadata": {},
   "outputs": [],
   "source": [
    "# The generic site class\n",
    "Site = type(\n",
    "    \"Site\",\n",
    "    (\n",
    "        core.Identifiable,  # Give it a name\n",
    "        core.Log,  # Allow logging of all discrete events\n",
    "        core.Locatable,  # Add coordinates to extract distance information and visualize\n",
    "        core.HasContainer,  # Add information on the material available at the site\n",
    "        core.HasResource,\n",
    "    ),  # Add information on serving equipment\n",
    "    {},\n",
    ")  # The dictionary is empty because the site type is generic\n",
    "\n",
    "# Information on the extraction site - the \"from site\" - the \"win locatie\"\n",
    "location_from_site = shapely.geometry.Point(4.18055556, 52.18664444)  # lon, lat\n",
    "\n",
    "data_from_site = {\n",
    "    \"env\": my_env,  # The simpy environment defined in the first cel\n",
    "    \"name\": \"Winlocatie1\",  # The name of the site\n",
    "    \"geometry\": location_from_site,  # The coordinates of the project site\n",
    "    \"capacity\": 24,\n",
    "    \"level\": 24,\n",
    "    \"nr_resources\":3,\n",
    "}  # The actual volume of the site\n",
    "from_site = Site(**data_from_site)\n",
    "\n",
    "location_to_site = shapely.geometry.Point(4.25222222, 52.11428333)  # lon, lat\n",
    "\n",
    "data_to_site = {\n",
    "    \"env\": my_env,  # The simpy environment defined in the first cel\n",
    "    \"name\": \"Dumplocatie\",  # The name of the site\n",
    "    \"geometry\": location_to_site,  # The coordinates of the project site\n",
    "    \"capacity\": 24,\n",
    "    \"level\": 0,\n",
    "}  # The actual volume of the site (empty of course)\n",
    "to_site = Site(**data_to_site)"
   ]
  },
  {
   "cell_type": "markdown",
   "metadata": {},
   "source": [
    "## Definition of Vessels"
   ]
  },
  {
   "cell_type": "code",
   "execution_count": 3,
   "metadata": {},
   "outputs": [],
   "source": [
    "# The generic class for an object that can move and transport (a TSHD for example)\n",
    "TransportProcessingResource = type(\n",
    "    \"TransportProcessingResource\",\n",
    "    (\n",
    "        core.Identifiable,  # Give it a name\n",
    "        core.Log,  # Allow logging of all discrete events\n",
    "        core.ContainerDependentMovable,  # A moving container, so capacity and location\n",
    "        core.Processor,  # Allow for loading and unloading\n",
    "        core.HasResource,  # Add information on serving equipment\n",
    "        \n",
    "        core.LoadingFunction,  # Add a loading function\n",
    "        core.UnloadingFunction,  # Add an unloading function\n",
    "        # SiteRegistry,\n",
    "    ),\n",
    "    {\"key\": \"MultiStoreHopper\"},\n",
    ")\n",
    "\n",
    "# print(SiteRegistry.inspect(\"MultiStoreHopper\"))\n",
    "# For more realistic simulation you might want to have speed dependent on the volume carried by the vessel\n",
    "def compute_v_provider(v_empty, v_full):\n",
    "    return lambda x: 10\n",
    "\n",
    "data_cutter1 = {\n",
    "    \"env\": my_env,  # The simpy environment\n",
    "    \"name\": \"Cutter1\",  # Name\n",
    "    \"geometry\": location_from_site,  # It starts at the \"from site\"\n",
    "    \"loading_rate\": 1,  # Loading rate\n",
    "    \"unloading_rate\": 1,  # Unloading rate\n",
    "    \"capacity\": 1,\n",
    "    \"level\": 0,\n",
    "    \"compute_v\": compute_v_provider(5, 4.5),  # Variable speed\n",
    "}\n",
    "cutter1 = TransportProcessingResource(**data_cutter1)\n",
    "data_cutter2 = {\n",
    "    \"env\": my_env,  # The simpy environment\n",
    "    \"name\": \"Cutter2\",  # Name\n",
    "    \"geometry\": location_from_site,  # It starts at the \"from site\"\n",
    "    \"loading_rate\": 1,  # Loading rate\n",
    "    \"unloading_rate\": 1,  # Unloading rate\n",
    "    \"capacity\": 1,\n",
    "    \"level\": 0,\n",
    "    \"compute_v\": compute_v_provider(5, 4.5),  # Variable speed\n",
    "}\n",
    "cutter2 = TransportProcessingResource(**data_cutter2)\n",
    "\n",
    "# TSHD variables\n",
    "data_hopper1 = {\n",
    "    \"env\": my_env,  # The simpy environment\n",
    "    \"name\": \"Hopper1\",  # Name\n",
    "    \"geometry\": location_from_site,  # It starts at the \"from site\"\n",
    "    \"loading_rate\": 1,  # Loading rate\n",
    "    \"unloading_rate\": 1,  # Unloading rate\n",
    "    \"capacity\": 1,\n",
    "    \"level\": 0,\n",
    "    \"compute_v\": compute_v_provider(5, 4.5),  # Variable speed\n",
    "}\n",
    "hopper1 = TransportProcessingResource(**data_hopper1)\n",
    "data_hopper2 = {\n",
    "    \"env\": my_env,  # The simpy environment\n",
    "    \"name\": \"Hopper2\",  # Name\n",
    "    \"geometry\": location_from_site,  # It starts at the \"from site\"\n",
    "    \"loading_rate\": 1,  # Loading rate\n",
    "    \"unloading_rate\": 1,  # Unloading rate\n",
    "    \"capacity\": 1,\n",
    "    \"level\": 0,\n",
    "    \"compute_v\": compute_v_provider(5, 4.5),  # Variable speed\n",
    "}\n",
    "hopper2 = TransportProcessingResource(**data_hopper2)\n",
    "data_hopper3 = {\n",
    "    \"env\": my_env,  # The simpy environment\n",
    "    \"name\": \"Hopper3\",  # Name\n",
    "    \"geometry\": location_from_site,  # It starts at the \"from site\"\n",
    "    \"loading_rate\": 1,  # Loading rate\n",
    "    \"unloading_rate\": 1,  # Unloading rate\n",
    "    \"capacity\": 1,\n",
    "    \"level\": 0,\n",
    "    \"compute_v\": compute_v_provider(5, 4.5),  # Variable speed\n",
    "}\n",
    "hopper3 = TransportProcessingResource(**data_hopper3)"
   ]
  },
  {
   "cell_type": "markdown",
   "metadata": {},
   "source": [
    "## Definition of Barge process"
   ]
  },
  {
   "cell_type": "code",
   "execution_count": 4,
   "metadata": {},
   "outputs": [],
   "source": [
    "cutter_list = [cutter1]\n",
    "activities = []\n",
    "\n",
    "for hopper in [hopper1, hopper2, hopper3]:\n",
    "    first_cutter = cutter_list[0]\n",
    "    cutter_list= cutter_list[1:]\n",
    "    cutter_list.append(first_cutter)\n",
    "    for cutter in cutter_list:\n",
    "        requested_resources = {}\n",
    "        run = []\n",
    "        \n",
    "        shift_amount_loading_data = {\n",
    "            \"env\": my_env,  # The simpy environment defined in the first cel\n",
    "            \"name\": \"Load\",  # We are moving soil\n",
    "            \"registry\": registry,\n",
    "            \"processor\": cutter,\n",
    "            \"origin\": from_site,\n",
    "            \"destination\": hopper,\n",
    "            \"amount\": 1,\n",
    "            \"duration\": 10,\n",
    "            \"requested_resources\":requested_resources,\n",
    "            \"keep_resources\":[hopper],\n",
    "        }\n",
    "        run.append(model.ShiftAmountActivity(**shift_amount_loading_data))\n",
    "        \n",
    "        move_activity_to_harbor_data = {\n",
    "            \"env\": my_env,  # The simpy environment defined in the first cel\n",
    "            \"name\": \"sailing full\",  # We are moving soil\n",
    "            \"registry\": registry,\n",
    "            \"mover\": hopper,\n",
    "            \"destination\": to_site,\n",
    "            \"requested_resources\":requested_resources,\n",
    "            \"keep_resources\":[hopper],\n",
    "        }\n",
    "        run.append(model.MoveActivity(**move_activity_to_harbor_data))\n",
    "\n",
    "        shift_amount_loading_data = {\n",
    "            \"env\": my_env,  # The simpy environment defined in the first cel\n",
    "            \"name\": \"Unload\",  # We are moving soil\n",
    "            \"registry\": registry,\n",
    "            \"processor\": hopper,\n",
    "            \"origin\": hopper,\n",
    "            \"destination\": to_site,\n",
    "            \"amount\": 1,\n",
    "            \"duration\": 10,\n",
    "            \"requested_resources\":requested_resources,\n",
    "            \"keep_resources\":[hopper],\n",
    "        }\n",
    "        run.append(model.ShiftAmountActivity(**shift_amount_loading_data))\n",
    "        \n",
    "        move_activity_to_harbor_data = {\n",
    "            \"env\": my_env,  # The simpy environment defined in the first cel\n",
    "            \"name\": \"sailing empty\",  # We are moving soil\n",
    "            \"registry\": registry,\n",
    "            \"mover\": hopper,\n",
    "            \"destination\": from_site,\n",
    "            \"requested_resources\":requested_resources,\n",
    "        }\n",
    "        run.append(model.MoveActivity(**move_activity_to_harbor_data))\n",
    "\n",
    "        sequential_activity_data = {\n",
    "            \"env\": my_env,\n",
    "            \"name\": \"run\",\n",
    "            \"registry\": registry,\n",
    "            \"sub_processes\": run,\n",
    "        }\n",
    "        sequential_activity = model.SequentialActivity(**sequential_activity_data)\n",
    "        \n",
    "        while_data = {\n",
    "            \"env\": my_env,  # The simpy environment defined in the first cel\n",
    "            \"name\": \"run while\",  # We are moving soil\n",
    "            \"registry\": registry,\n",
    "            \"sub_processes\": [sequential_activity],\n",
    "            \"condition_event\": [{\"type\":\"container\", \"concept\": from_site, \"state\":\"empty\"}],\n",
    "        }\n",
    "        run_activity = model.WhileActivity(**while_data)\n",
    "        activities.append(run_activity)\n",
    "    "
   ]
  },
  {
   "cell_type": "code",
   "execution_count": 5,
   "metadata": {
    "tags": [
     "outputPrepend"
    ]
   },
   "outputs": [
    {
     "ename": "ValueError",
     "evalue": "A valid container reservation could not be made. Tried 100 times",
     "output_type": "error",
     "traceback": [
      "\u001b[0;31m------------------------------------------------------------------\u001b[0m",
      "\u001b[0;31mValueError\u001b[0m                       Traceback (most recent call last)",
      "\u001b[0;32m/OpenCLSim/openclsim/model/base_activities.py\u001b[0m in \u001b[0;36mdelayed_process\u001b[0;34m(self, activity_log, env)\u001b[0m\n\u001b[1;32m    250\u001b[0m \u001b[0;34m\u001b[0m\u001b[0m\n\u001b[0;32m--> 251\u001b[0;31m         \u001b[0;32myield\u001b[0m \u001b[0;32mfrom\u001b[0m \u001b[0mself\u001b[0m\u001b[0;34m.\u001b[0m\u001b[0mmain_process_function\u001b[0m\u001b[0;34m(\u001b[0m\u001b[0mactivity_log\u001b[0m\u001b[0;34m=\u001b[0m\u001b[0mself\u001b[0m\u001b[0;34m,\u001b[0m \u001b[0menv\u001b[0m\u001b[0;34m=\u001b[0m\u001b[0mself\u001b[0m\u001b[0;34m.\u001b[0m\u001b[0menv\u001b[0m\u001b[0;34m)\u001b[0m\u001b[0;34m\u001b[0m\u001b[0;34m\u001b[0m\u001b[0m\n\u001b[0m\u001b[1;32m    252\u001b[0m \u001b[0;34m\u001b[0m\u001b[0m\n",
      "\u001b[0;32m/OpenCLSim/openclsim/model/shift_amount_activity.py\u001b[0m in \u001b[0;36mmain_process_function\u001b[0;34m(self, activity_log, env)\u001b[0m\n\u001b[1;32m    118\u001b[0m             \u001b[0menv\u001b[0m\u001b[0;34m,\u001b[0m\u001b[0;34m\u001b[0m\u001b[0;34m\u001b[0m\u001b[0m\n\u001b[0;32m--> 119\u001b[0;31m             \u001b[0mactivity_id\u001b[0m\u001b[0;34m=\u001b[0m\u001b[0mactivity_log\u001b[0m\u001b[0;34m.\u001b[0m\u001b[0mid\u001b[0m\u001b[0;34m,\u001b[0m\u001b[0;34m\u001b[0m\u001b[0;34m\u001b[0m\u001b[0m\n\u001b[0m\u001b[1;32m    120\u001b[0m         )\n",
      "\u001b[0;32m/OpenCLSim/openclsim/model/shift_amount_activity.py\u001b[0m in \u001b[0;36m_shift_amount\u001b[0;34m(self, env, activity_id)\u001b[0m\n\u001b[1;32m    150\u001b[0m             \u001b[0mid_\u001b[0m\u001b[0;34m=\u001b[0m\u001b[0mself\u001b[0m\u001b[0;34m.\u001b[0m\u001b[0mid_\u001b[0m\u001b[0;34m,\u001b[0m\u001b[0;34m\u001b[0m\u001b[0;34m\u001b[0m\u001b[0m\n\u001b[0;32m--> 151\u001b[0;31m             \u001b[0mshiftamount_fcn\u001b[0m\u001b[0;34m=\u001b[0m\u001b[0mshiftamount_fcn\u001b[0m\u001b[0;34m,\u001b[0m\u001b[0;34m\u001b[0m\u001b[0;34m\u001b[0m\u001b[0m\n\u001b[0m\u001b[1;32m    152\u001b[0m         )\n",
      "\u001b[0;32m/OpenCLSim/openclsim/core/processor.py\u001b[0m in \u001b[0;36mprocess\u001b[0;34m(self, origin, destination, shiftamount_fcn, id_)\u001b[0m\n\u001b[1;32m     88\u001b[0m             raise ValueError(\n\u001b[0;32m---> 89\u001b[0;31m                 \u001b[0;34mf\"A valid container reservation could not be made. Tried {nr_tries} times\"\u001b[0m\u001b[0;34m\u001b[0m\u001b[0;34m\u001b[0m\u001b[0m\n\u001b[0m\u001b[1;32m     90\u001b[0m             )\n",
      "\u001b[0;31mValueError\u001b[0m: A valid container reservation could not be made. Tried 100 times",
      "\nThe above exception was the direct cause of the following exception:\n",
      "\u001b[0;31mValueError\u001b[0m                       Traceback (most recent call last)",
      "\u001b[0;32m/OpenCLSim/openclsim/model/base_activities.py\u001b[0m in \u001b[0;36mdelayed_process\u001b[0;34m(self, activity_log, env)\u001b[0m\n\u001b[1;32m    250\u001b[0m \u001b[0;34m\u001b[0m\u001b[0m\n\u001b[0;32m--> 251\u001b[0;31m         \u001b[0;32myield\u001b[0m \u001b[0;32mfrom\u001b[0m \u001b[0mself\u001b[0m\u001b[0;34m.\u001b[0m\u001b[0mmain_process_function\u001b[0m\u001b[0;34m(\u001b[0m\u001b[0mactivity_log\u001b[0m\u001b[0;34m=\u001b[0m\u001b[0mself\u001b[0m\u001b[0;34m,\u001b[0m \u001b[0menv\u001b[0m\u001b[0;34m=\u001b[0m\u001b[0mself\u001b[0m\u001b[0;34m.\u001b[0m\u001b[0menv\u001b[0m\u001b[0;34m)\u001b[0m\u001b[0;34m\u001b[0m\u001b[0;34m\u001b[0m\u001b[0m\n\u001b[0m\u001b[1;32m    252\u001b[0m \u001b[0;34m\u001b[0m\u001b[0m\n",
      "\u001b[0;32m/OpenCLSim/openclsim/model/sequential_activity.py\u001b[0m in \u001b[0;36mmain_process_function\u001b[0;34m(self, activity_log, env)\u001b[0m\n\u001b[1;32m     68\u001b[0m             )\n\u001b[0;32m---> 69\u001b[0;31m             \u001b[0;32myield\u001b[0m \u001b[0mstop_event\u001b[0m\u001b[0;34m\u001b[0m\u001b[0;34m\u001b[0m\u001b[0m\n\u001b[0m\u001b[1;32m     70\u001b[0m \u001b[0;34m\u001b[0m\u001b[0m\n",
      "\u001b[0;31mValueError\u001b[0m: A valid container reservation could not be made. Tried 100 times",
      "\nThe above exception was the direct cause of the following exception:\n",
      "\u001b[0;31mValueError\u001b[0m                       Traceback (most recent call last)",
      "\u001b[0;32m<ipython-input-5-44545c99758f>\u001b[0m in \u001b[0;36m<module>\u001b[0;34m\u001b[0m\n\u001b[1;32m      1\u001b[0m \u001b[0mmodel\u001b[0m\u001b[0;34m.\u001b[0m\u001b[0mregister_processes\u001b[0m\u001b[0;34m(\u001b[0m\u001b[0mactivities\u001b[0m\u001b[0;34m)\u001b[0m\u001b[0;34m\u001b[0m\u001b[0;34m\u001b[0m\u001b[0m\n\u001b[1;32m      2\u001b[0m \u001b[0;34m\u001b[0m\u001b[0m\n\u001b[0;32m----> 3\u001b[0;31m \u001b[0mmy_env\u001b[0m\u001b[0;34m.\u001b[0m\u001b[0mrun\u001b[0m\u001b[0;34m(\u001b[0m\u001b[0;34m)\u001b[0m\u001b[0;34m\u001b[0m\u001b[0;34m\u001b[0m\u001b[0m\n\u001b[0m",
      "\u001b[0;32m/opt/conda/lib/python3.7/site-packages/simpy/core.py\u001b[0m in \u001b[0;36mrun\u001b[0;34m(self, until)\u001b[0m\n\u001b[1;32m    252\u001b[0m         \u001b[0;32mtry\u001b[0m\u001b[0;34m:\u001b[0m\u001b[0;34m\u001b[0m\u001b[0;34m\u001b[0m\u001b[0m\n\u001b[1;32m    253\u001b[0m             \u001b[0;32mwhile\u001b[0m \u001b[0;32mTrue\u001b[0m\u001b[0;34m:\u001b[0m\u001b[0;34m\u001b[0m\u001b[0;34m\u001b[0m\u001b[0m\n\u001b[0;32m--> 254\u001b[0;31m                 \u001b[0mself\u001b[0m\u001b[0;34m.\u001b[0m\u001b[0mstep\u001b[0m\u001b[0;34m(\u001b[0m\u001b[0;34m)\u001b[0m\u001b[0;34m\u001b[0m\u001b[0;34m\u001b[0m\u001b[0m\n\u001b[0m\u001b[1;32m    255\u001b[0m         \u001b[0;32mexcept\u001b[0m \u001b[0mStopSimulation\u001b[0m \u001b[0;32mas\u001b[0m \u001b[0mexc\u001b[0m\u001b[0;34m:\u001b[0m\u001b[0;34m\u001b[0m\u001b[0;34m\u001b[0m\u001b[0m\n\u001b[1;32m    256\u001b[0m             \u001b[0;32mreturn\u001b[0m \u001b[0mexc\u001b[0m\u001b[0;34m.\u001b[0m\u001b[0margs\u001b[0m\u001b[0;34m[\u001b[0m\u001b[0;36m0\u001b[0m\u001b[0;34m]\u001b[0m  \u001b[0;31m# == until.value\u001b[0m\u001b[0;34m\u001b[0m\u001b[0;34m\u001b[0m\u001b[0m\n",
      "\u001b[0;32m/opt/conda/lib/python3.7/site-packages/simpy/core.py\u001b[0m in \u001b[0;36mstep\u001b[0;34m(self)\u001b[0m\n\u001b[1;32m    204\u001b[0m             \u001b[0mexc\u001b[0m \u001b[0;34m=\u001b[0m \u001b[0mtype\u001b[0m\u001b[0;34m(\u001b[0m\u001b[0mevent\u001b[0m\u001b[0;34m.\u001b[0m\u001b[0m_value\u001b[0m\u001b[0;34m)\u001b[0m\u001b[0;34m(\u001b[0m\u001b[0;34m*\u001b[0m\u001b[0mevent\u001b[0m\u001b[0;34m.\u001b[0m\u001b[0m_value\u001b[0m\u001b[0;34m.\u001b[0m\u001b[0margs\u001b[0m\u001b[0;34m)\u001b[0m\u001b[0;34m\u001b[0m\u001b[0;34m\u001b[0m\u001b[0m\n\u001b[1;32m    205\u001b[0m             \u001b[0mexc\u001b[0m\u001b[0;34m.\u001b[0m\u001b[0m__cause__\u001b[0m \u001b[0;34m=\u001b[0m \u001b[0mevent\u001b[0m\u001b[0;34m.\u001b[0m\u001b[0m_value\u001b[0m\u001b[0;34m\u001b[0m\u001b[0;34m\u001b[0m\u001b[0m\n\u001b[0;32m--> 206\u001b[0;31m             \u001b[0;32mraise\u001b[0m \u001b[0mexc\u001b[0m\u001b[0;34m\u001b[0m\u001b[0;34m\u001b[0m\u001b[0m\n\u001b[0m\u001b[1;32m    207\u001b[0m \u001b[0;34m\u001b[0m\u001b[0m\n\u001b[1;32m    208\u001b[0m     def run(\n",
      "\u001b[0;31mValueError\u001b[0m: A valid container reservation could not be made. Tried 100 times"
     ]
    }
   ],
   "source": [
    "model.register_processes(activities)\n",
    "\n",
    "my_env.run()"
   ]
  },
  {
   "cell_type": "code",
   "execution_count": 6,
   "metadata": {},
   "outputs": [
    {
     "data": {
      "text/html": [
       "        <script type=\"text/javascript\">\n",
       "        window.PlotlyConfig = {MathJaxConfig: 'local'};\n",
       "        if (window.MathJax) {MathJax.Hub.Config({SVG: {font: \"STIX-Web\"}});}\n",
       "        if (typeof require !== 'undefined') {\n",
       "        require.undef(\"plotly\");\n",
       "        requirejs.config({\n",
       "            paths: {\n",
       "                'plotly': ['https://cdn.plot.ly/plotly-latest.min']\n",
       "            }\n",
       "        });\n",
       "        require(['plotly'], function(Plotly) {\n",
       "            window._Plotly = Plotly;\n",
       "        });\n",
       "        }\n",
       "        </script>\n",
       "        "
      ]
     },
     "metadata": {},
     "output_type": "display_data"
    },
    {
     "data": {
      "application/vnd.plotly.v1+json": {
       "config": {
        "linkText": "Export to plot.ly",
        "plotlyServerURL": "https://plot.ly",
        "showLink": false
       },
       "data": [
        {
         "connectgaps": false,
         "hoverinfo": "y+name",
         "line": {
          "color": "rgb(188,167,236)",
          "width": 10
         },
         "mode": "lines",
         "name": "d4655698-dbf9-41fa-9ab4-0ac2819c8b22",
         "type": "scatter",
         "x": [
          "1970-01-01T00:00:20",
          "1970-01-01T00:00:20",
          "1970-01-01T00:00:30",
          "1970-01-01T00:00:30",
          "1970-01-01T00:00:30",
          "1970-01-01T00:32:45.649183",
          "1970-01-01T00:32:45.649183",
          "1970-01-01T00:32:55.649183",
          "1970-01-01T00:32:55.649183",
          "1970-01-01T00:32:55.649183",
          "1970-01-01T01:05:01.298365",
          "1970-01-01T01:05:01.298365",
          "1970-01-01T01:05:11.298365",
          "1970-01-01T01:05:11.298365",
          "1970-01-01T01:05:11.298365",
          "1970-01-01T01:37:16.947548",
          "1970-01-01T01:37:16.947548",
          "1970-01-01T01:37:26.947548",
          "1970-01-01T01:37:26.947548",
          "1970-01-01T01:37:26.947548",
          "1970-01-01T02:09:32.596730",
          "1970-01-01T02:09:32.596730",
          "1970-01-01T02:09:42.596730",
          "1970-01-01T02:09:42.596730",
          "1970-01-01T02:09:42.596730",
          "1970-01-01T02:41:48.245913",
          "1970-01-01T02:41:48.245913",
          "1970-01-01T02:41:58.245913",
          "1970-01-01T02:41:58.245913",
          "1970-01-01T02:41:58.245913",
          "1970-01-01T03:14:03.895095",
          "1970-01-01T03:14:03.895095",
          "1970-01-01T03:14:13.895095",
          "1970-01-01T03:14:13.895095",
          "1970-01-01T03:14:13.895095",
          "1970-01-01T03:46:19.544278",
          "1970-01-01T03:46:19.544278",
          "1970-01-01T03:46:29.544278",
          "1970-01-01T03:46:29.544278",
          "1970-01-01T03:46:29.544278",
          "1970-01-01T00:00:20",
          "1970-01-01T00:00:20",
          "1970-01-01T00:00:30",
          "1970-01-01T00:00:30",
          "1970-01-01T00:00:30",
          "1970-01-01T00:32:45.649183",
          "1970-01-01T00:32:45.649183",
          "1970-01-01T00:32:55.649183",
          "1970-01-01T00:32:55.649183",
          "1970-01-01T00:32:55.649183",
          "1970-01-01T01:05:01.298365",
          "1970-01-01T01:05:01.298365",
          "1970-01-01T01:05:11.298365",
          "1970-01-01T01:05:11.298365",
          "1970-01-01T01:05:11.298365",
          "1970-01-01T01:37:16.947548",
          "1970-01-01T01:37:16.947548",
          "1970-01-01T01:37:26.947548",
          "1970-01-01T01:37:26.947548",
          "1970-01-01T01:37:26.947548",
          "1970-01-01T02:09:32.596730",
          "1970-01-01T02:09:32.596730",
          "1970-01-01T02:09:42.596730",
          "1970-01-01T02:09:42.596730",
          "1970-01-01T02:09:42.596730",
          "1970-01-01T02:41:48.245913",
          "1970-01-01T02:41:48.245913",
          "1970-01-01T02:41:58.245913",
          "1970-01-01T02:41:58.245913",
          "1970-01-01T02:41:58.245913",
          "1970-01-01T03:14:03.895095",
          "1970-01-01T03:14:03.895095",
          "1970-01-01T03:14:13.895095",
          "1970-01-01T03:14:13.895095",
          "1970-01-01T03:14:13.895095",
          "1970-01-01T03:46:19.544278",
          "1970-01-01T03:46:19.544278",
          "1970-01-01T03:46:29.544278",
          "1970-01-01T03:46:29.544278",
          "1970-01-01T03:46:29.544278"
         ],
         "y": [
          "Cutter1",
          "Cutter1",
          "Cutter1",
          "Cutter1",
          null,
          "Cutter1",
          "Cutter1",
          "Cutter1",
          "Cutter1",
          null,
          "Cutter1",
          "Cutter1",
          "Cutter1",
          "Cutter1",
          null,
          "Cutter1",
          "Cutter1",
          "Cutter1",
          "Cutter1",
          null,
          "Cutter1",
          "Cutter1",
          "Cutter1",
          "Cutter1",
          null,
          "Cutter1",
          "Cutter1",
          "Cutter1",
          "Cutter1",
          null,
          "Cutter1",
          "Cutter1",
          "Cutter1",
          "Cutter1",
          null,
          "Cutter1",
          "Cutter1",
          "Cutter1",
          "Cutter1",
          null,
          "Hopper2",
          "Hopper2",
          "Hopper2",
          "Hopper2",
          null,
          "Hopper2",
          "Hopper2",
          "Hopper2",
          "Hopper2",
          null,
          "Hopper2",
          "Hopper2",
          "Hopper2",
          "Hopper2",
          null,
          "Hopper2",
          "Hopper2",
          "Hopper2",
          "Hopper2",
          null,
          "Hopper2",
          "Hopper2",
          "Hopper2",
          "Hopper2",
          null,
          "Hopper2",
          "Hopper2",
          "Hopper2",
          "Hopper2",
          null,
          "Hopper2",
          "Hopper2",
          "Hopper2",
          "Hopper2",
          null,
          "Hopper2",
          "Hopper2",
          "Hopper2",
          "Hopper2",
          null
         ]
        },
        {
         "connectgaps": false,
         "hoverinfo": "y+name",
         "line": {
          "color": "rgb(205,184,253)",
          "width": 10
         },
         "mode": "lines",
         "name": "d4acf843-e2e3-4aa4-bff3-66abb06747ff",
         "type": "scatter",
         "x": [
          "1970-01-01T00:00:10",
          "1970-01-01T00:00:10",
          "1970-01-01T00:00:20",
          "1970-01-01T00:00:20",
          "1970-01-01T00:00:20",
          "1970-01-01T00:32:35.649183",
          "1970-01-01T00:32:35.649183",
          "1970-01-01T00:32:45.649183",
          "1970-01-01T00:32:45.649183",
          "1970-01-01T00:32:45.649183",
          "1970-01-01T01:04:51.298365",
          "1970-01-01T01:04:51.298365",
          "1970-01-01T01:05:01.298365",
          "1970-01-01T01:05:01.298365",
          "1970-01-01T01:05:01.298365",
          "1970-01-01T01:37:06.947548",
          "1970-01-01T01:37:06.947548",
          "1970-01-01T01:37:16.947548",
          "1970-01-01T01:37:16.947548",
          "1970-01-01T01:37:16.947548",
          "1970-01-01T02:09:22.596730",
          "1970-01-01T02:09:22.596730",
          "1970-01-01T02:09:32.596730",
          "1970-01-01T02:09:32.596730",
          "1970-01-01T02:09:32.596730",
          "1970-01-01T02:41:38.245913",
          "1970-01-01T02:41:38.245913",
          "1970-01-01T02:41:48.245913",
          "1970-01-01T02:41:48.245913",
          "1970-01-01T02:41:48.245913",
          "1970-01-01T03:13:53.895095",
          "1970-01-01T03:13:53.895095",
          "1970-01-01T03:14:03.895095",
          "1970-01-01T03:14:03.895095",
          "1970-01-01T03:14:03.895095",
          "1970-01-01T03:46:09.544278",
          "1970-01-01T03:46:09.544278",
          "1970-01-01T03:46:19.544278",
          "1970-01-01T03:46:19.544278",
          "1970-01-01T03:46:19.544278",
          "1970-01-01T00:00:10",
          "1970-01-01T00:00:10",
          "1970-01-01T00:00:20",
          "1970-01-01T00:00:20",
          "1970-01-01T00:00:20",
          "1970-01-01T00:32:35.649183",
          "1970-01-01T00:32:35.649183",
          "1970-01-01T00:32:45.649183",
          "1970-01-01T00:32:45.649183",
          "1970-01-01T00:32:45.649183",
          "1970-01-01T01:04:51.298365",
          "1970-01-01T01:04:51.298365",
          "1970-01-01T01:05:01.298365",
          "1970-01-01T01:05:01.298365",
          "1970-01-01T01:05:01.298365",
          "1970-01-01T01:37:06.947548",
          "1970-01-01T01:37:06.947548",
          "1970-01-01T01:37:16.947548",
          "1970-01-01T01:37:16.947548",
          "1970-01-01T01:37:16.947548",
          "1970-01-01T02:09:22.596730",
          "1970-01-01T02:09:22.596730",
          "1970-01-01T02:09:32.596730",
          "1970-01-01T02:09:32.596730",
          "1970-01-01T02:09:32.596730",
          "1970-01-01T02:41:38.245913",
          "1970-01-01T02:41:38.245913",
          "1970-01-01T02:41:48.245913",
          "1970-01-01T02:41:48.245913",
          "1970-01-01T02:41:48.245913",
          "1970-01-01T03:13:53.895095",
          "1970-01-01T03:13:53.895095",
          "1970-01-01T03:14:03.895095",
          "1970-01-01T03:14:03.895095",
          "1970-01-01T03:14:03.895095",
          "1970-01-01T03:46:09.544278",
          "1970-01-01T03:46:09.544278",
          "1970-01-01T03:46:19.544278",
          "1970-01-01T03:46:19.544278",
          "1970-01-01T03:46:19.544278"
         ],
         "y": [
          "Cutter1",
          "Cutter1",
          "Cutter1",
          "Cutter1",
          null,
          "Cutter1",
          "Cutter1",
          "Cutter1",
          "Cutter1",
          null,
          "Cutter1",
          "Cutter1",
          "Cutter1",
          "Cutter1",
          null,
          "Cutter1",
          "Cutter1",
          "Cutter1",
          "Cutter1",
          null,
          "Cutter1",
          "Cutter1",
          "Cutter1",
          "Cutter1",
          null,
          "Cutter1",
          "Cutter1",
          "Cutter1",
          "Cutter1",
          null,
          "Cutter1",
          "Cutter1",
          "Cutter1",
          "Cutter1",
          null,
          "Cutter1",
          "Cutter1",
          "Cutter1",
          "Cutter1",
          null,
          "Hopper1",
          "Hopper1",
          "Hopper1",
          "Hopper1",
          null,
          "Hopper1",
          "Hopper1",
          "Hopper1",
          "Hopper1",
          null,
          "Hopper1",
          "Hopper1",
          "Hopper1",
          "Hopper1",
          null,
          "Hopper1",
          "Hopper1",
          "Hopper1",
          "Hopper1",
          null,
          "Hopper1",
          "Hopper1",
          "Hopper1",
          "Hopper1",
          null,
          "Hopper1",
          "Hopper1",
          "Hopper1",
          "Hopper1",
          null,
          "Hopper1",
          "Hopper1",
          "Hopper1",
          "Hopper1",
          null,
          "Hopper1",
          "Hopper1",
          "Hopper1",
          "Hopper1",
          null
         ]
        },
        {
         "connectgaps": false,
         "hoverinfo": "y+name",
         "line": {
          "color": "rgb(222,201,14)",
          "width": 10
         },
         "mode": "lines",
         "name": "8e43d627-d75b-4d7f-895f-96573f7629c3",
         "type": "scatter",
         "x": [
          "1970-01-01T00:00:00",
          "1970-01-01T00:00:00",
          "1970-01-01T00:00:10",
          "1970-01-01T00:00:10",
          "1970-01-01T00:00:10",
          "1970-01-01T00:32:25.649183",
          "1970-01-01T00:32:25.649183",
          "1970-01-01T00:32:35.649183",
          "1970-01-01T00:32:35.649183",
          "1970-01-01T00:32:35.649183",
          "1970-01-01T01:04:41.298365",
          "1970-01-01T01:04:41.298365",
          "1970-01-01T01:04:51.298365",
          "1970-01-01T01:04:51.298365",
          "1970-01-01T01:04:51.298365",
          "1970-01-01T01:36:56.947548",
          "1970-01-01T01:36:56.947548",
          "1970-01-01T01:37:06.947548",
          "1970-01-01T01:37:06.947548",
          "1970-01-01T01:37:06.947548",
          "1970-01-01T02:09:12.596730",
          "1970-01-01T02:09:12.596730",
          "1970-01-01T02:09:22.596730",
          "1970-01-01T02:09:22.596730",
          "1970-01-01T02:09:22.596730",
          "1970-01-01T02:41:28.245913",
          "1970-01-01T02:41:28.245913",
          "1970-01-01T02:41:38.245913",
          "1970-01-01T02:41:38.245913",
          "1970-01-01T02:41:38.245913",
          "1970-01-01T03:13:43.895095",
          "1970-01-01T03:13:43.895095",
          "1970-01-01T03:13:53.895095",
          "1970-01-01T03:13:53.895095",
          "1970-01-01T03:13:53.895095",
          "1970-01-01T03:45:59.544278",
          "1970-01-01T03:45:59.544278",
          "1970-01-01T03:46:09.544278",
          "1970-01-01T03:46:09.544278",
          "1970-01-01T03:46:09.544278",
          "1970-01-01T00:00:00",
          "1970-01-01T00:00:00",
          "1970-01-01T00:00:10",
          "1970-01-01T00:00:10",
          "1970-01-01T00:00:10",
          "1970-01-01T00:32:25.649183",
          "1970-01-01T00:32:25.649183",
          "1970-01-01T00:32:35.649183",
          "1970-01-01T00:32:35.649183",
          "1970-01-01T00:32:35.649183",
          "1970-01-01T01:04:41.298365",
          "1970-01-01T01:04:41.298365",
          "1970-01-01T01:04:51.298365",
          "1970-01-01T01:04:51.298365",
          "1970-01-01T01:04:51.298365",
          "1970-01-01T01:36:56.947548",
          "1970-01-01T01:36:56.947548",
          "1970-01-01T01:37:06.947548",
          "1970-01-01T01:37:06.947548",
          "1970-01-01T01:37:06.947548",
          "1970-01-01T02:09:12.596730",
          "1970-01-01T02:09:12.596730",
          "1970-01-01T02:09:22.596730",
          "1970-01-01T02:09:22.596730",
          "1970-01-01T02:09:22.596730",
          "1970-01-01T02:41:28.245913",
          "1970-01-01T02:41:28.245913",
          "1970-01-01T02:41:38.245913",
          "1970-01-01T02:41:38.245913",
          "1970-01-01T02:41:38.245913",
          "1970-01-01T03:13:43.895095",
          "1970-01-01T03:13:43.895095",
          "1970-01-01T03:13:53.895095",
          "1970-01-01T03:13:53.895095",
          "1970-01-01T03:13:53.895095",
          "1970-01-01T03:45:59.544278",
          "1970-01-01T03:45:59.544278",
          "1970-01-01T03:46:09.544278",
          "1970-01-01T03:46:09.544278",
          "1970-01-01T03:46:09.544278"
         ],
         "y": [
          "Cutter1",
          "Cutter1",
          "Cutter1",
          "Cutter1",
          null,
          "Cutter1",
          "Cutter1",
          "Cutter1",
          "Cutter1",
          null,
          "Cutter1",
          "Cutter1",
          "Cutter1",
          "Cutter1",
          null,
          "Cutter1",
          "Cutter1",
          "Cutter1",
          "Cutter1",
          null,
          "Cutter1",
          "Cutter1",
          "Cutter1",
          "Cutter1",
          null,
          "Cutter1",
          "Cutter1",
          "Cutter1",
          "Cutter1",
          null,
          "Cutter1",
          "Cutter1",
          "Cutter1",
          "Cutter1",
          null,
          "Cutter1",
          "Cutter1",
          "Cutter1",
          "Cutter1",
          null,
          "Hopper3",
          "Hopper3",
          "Hopper3",
          "Hopper3",
          null,
          "Hopper3",
          "Hopper3",
          "Hopper3",
          "Hopper3",
          null,
          "Hopper3",
          "Hopper3",
          "Hopper3",
          "Hopper3",
          null,
          "Hopper3",
          "Hopper3",
          "Hopper3",
          "Hopper3",
          null,
          "Hopper3",
          "Hopper3",
          "Hopper3",
          "Hopper3",
          null,
          "Hopper3",
          "Hopper3",
          "Hopper3",
          "Hopper3",
          null,
          "Hopper3",
          "Hopper3",
          "Hopper3",
          "Hopper3",
          null,
          "Hopper3",
          "Hopper3",
          "Hopper3",
          "Hopper3",
          null
         ]
        },
        {
         "connectgaps": false,
         "hoverinfo": "y+name",
         "line": {
          "color": "rgb(239,218,31)",
          "width": 10
         },
         "mode": "lines",
         "name": "dd618e8f-4e40-4356-9c15-8c92eca7bdd8",
         "type": "scatter",
         "x": [
          "1970-01-01T00:00:30",
          "1970-01-01T00:00:30",
          "1970-01-01T00:16:12.824591",
          "1970-01-01T00:16:12.824591",
          "1970-01-01T00:16:12.824591",
          "1970-01-01T00:32:45.649183",
          "1970-01-01T00:32:45.649183",
          "1970-01-01T00:48:28.473774",
          "1970-01-01T00:48:28.473774",
          "1970-01-01T00:48:28.473774",
          "1970-01-01T01:05:01.298365",
          "1970-01-01T01:05:01.298365",
          "1970-01-01T01:20:44.122956",
          "1970-01-01T01:20:44.122956",
          "1970-01-01T01:20:44.122956",
          "1970-01-01T01:37:16.947548",
          "1970-01-01T01:37:16.947548",
          "1970-01-01T01:52:59.772139",
          "1970-01-01T01:52:59.772139",
          "1970-01-01T01:52:59.772139",
          "1970-01-01T02:09:32.596730",
          "1970-01-01T02:09:32.596730",
          "1970-01-01T02:25:15.421321",
          "1970-01-01T02:25:15.421321",
          "1970-01-01T02:25:15.421321",
          "1970-01-01T02:41:48.245913",
          "1970-01-01T02:41:48.245913",
          "1970-01-01T02:57:31.070504",
          "1970-01-01T02:57:31.070504",
          "1970-01-01T02:57:31.070504",
          "1970-01-01T03:14:03.895095",
          "1970-01-01T03:14:03.895095",
          "1970-01-01T03:29:46.719687",
          "1970-01-01T03:29:46.719687",
          "1970-01-01T03:29:46.719687",
          "1970-01-01T03:46:19.544278",
          "1970-01-01T03:46:19.544278",
          "1970-01-01T04:02:02.368869",
          "1970-01-01T04:02:02.368869",
          "1970-01-01T04:02:02.368869"
         ],
         "y": [
          "Hopper1",
          "Hopper1",
          "Hopper1",
          "Hopper1",
          null,
          "Hopper1",
          "Hopper1",
          "Hopper1",
          "Hopper1",
          null,
          "Hopper1",
          "Hopper1",
          "Hopper1",
          "Hopper1",
          null,
          "Hopper1",
          "Hopper1",
          "Hopper1",
          "Hopper1",
          null,
          "Hopper1",
          "Hopper1",
          "Hopper1",
          "Hopper1",
          null,
          "Hopper1",
          "Hopper1",
          "Hopper1",
          "Hopper1",
          null,
          "Hopper1",
          "Hopper1",
          "Hopper1",
          "Hopper1",
          null,
          "Hopper1",
          "Hopper1",
          "Hopper1",
          "Hopper1",
          null
         ]
        },
        {
         "connectgaps": false,
         "hoverinfo": "y+name",
         "line": {
          "color": "rgb(0,235,48)",
          "width": 10
         },
         "mode": "lines",
         "name": "d4acf843-e2e3-4aa4-bff3-66abb06747ff",
         "type": "scatter",
         "x": [
          "1970-01-01T00:00:10",
          "1970-01-01T00:00:10",
          "1970-01-01T00:00:20",
          "1970-01-01T00:00:20",
          "1970-01-01T00:00:20",
          "1970-01-01T00:32:35.649183",
          "1970-01-01T00:32:35.649183",
          "1970-01-01T00:32:45.649183",
          "1970-01-01T00:32:45.649183",
          "1970-01-01T00:32:45.649183",
          "1970-01-01T01:04:51.298365",
          "1970-01-01T01:04:51.298365",
          "1970-01-01T01:05:01.298365",
          "1970-01-01T01:05:01.298365",
          "1970-01-01T01:05:01.298365",
          "1970-01-01T01:37:06.947548",
          "1970-01-01T01:37:06.947548",
          "1970-01-01T01:37:16.947548",
          "1970-01-01T01:37:16.947548",
          "1970-01-01T01:37:16.947548",
          "1970-01-01T02:09:22.596730",
          "1970-01-01T02:09:22.596730",
          "1970-01-01T02:09:32.596730",
          "1970-01-01T02:09:32.596730",
          "1970-01-01T02:09:32.596730",
          "1970-01-01T02:41:38.245913",
          "1970-01-01T02:41:38.245913",
          "1970-01-01T02:41:48.245913",
          "1970-01-01T02:41:48.245913",
          "1970-01-01T02:41:48.245913",
          "1970-01-01T03:13:53.895095",
          "1970-01-01T03:13:53.895095",
          "1970-01-01T03:14:03.895095",
          "1970-01-01T03:14:03.895095",
          "1970-01-01T03:14:03.895095",
          "1970-01-01T03:46:09.544278",
          "1970-01-01T03:46:09.544278",
          "1970-01-01T03:46:19.544278",
          "1970-01-01T03:46:19.544278",
          "1970-01-01T03:46:19.544278",
          "1970-01-01T00:00:10",
          "1970-01-01T00:00:10",
          "1970-01-01T00:00:20",
          "1970-01-01T00:00:20",
          "1970-01-01T00:00:20",
          "1970-01-01T00:32:35.649183",
          "1970-01-01T00:32:35.649183",
          "1970-01-01T00:32:45.649183",
          "1970-01-01T00:32:45.649183",
          "1970-01-01T00:32:45.649183",
          "1970-01-01T01:04:51.298365",
          "1970-01-01T01:04:51.298365",
          "1970-01-01T01:05:01.298365",
          "1970-01-01T01:05:01.298365",
          "1970-01-01T01:05:01.298365",
          "1970-01-01T01:37:06.947548",
          "1970-01-01T01:37:06.947548",
          "1970-01-01T01:37:16.947548",
          "1970-01-01T01:37:16.947548",
          "1970-01-01T01:37:16.947548",
          "1970-01-01T02:09:22.596730",
          "1970-01-01T02:09:22.596730",
          "1970-01-01T02:09:32.596730",
          "1970-01-01T02:09:32.596730",
          "1970-01-01T02:09:32.596730",
          "1970-01-01T02:41:38.245913",
          "1970-01-01T02:41:38.245913",
          "1970-01-01T02:41:48.245913",
          "1970-01-01T02:41:48.245913",
          "1970-01-01T02:41:48.245913",
          "1970-01-01T03:13:53.895095",
          "1970-01-01T03:13:53.895095",
          "1970-01-01T03:14:03.895095",
          "1970-01-01T03:14:03.895095",
          "1970-01-01T03:14:03.895095",
          "1970-01-01T03:46:09.544278",
          "1970-01-01T03:46:09.544278",
          "1970-01-01T03:46:19.544278",
          "1970-01-01T03:46:19.544278",
          "1970-01-01T03:46:19.544278"
         ],
         "y": [
          "Cutter1",
          "Cutter1",
          "Cutter1",
          "Cutter1",
          null,
          "Cutter1",
          "Cutter1",
          "Cutter1",
          "Cutter1",
          null,
          "Cutter1",
          "Cutter1",
          "Cutter1",
          "Cutter1",
          null,
          "Cutter1",
          "Cutter1",
          "Cutter1",
          "Cutter1",
          null,
          "Cutter1",
          "Cutter1",
          "Cutter1",
          "Cutter1",
          null,
          "Cutter1",
          "Cutter1",
          "Cutter1",
          "Cutter1",
          null,
          "Cutter1",
          "Cutter1",
          "Cutter1",
          "Cutter1",
          null,
          "Cutter1",
          "Cutter1",
          "Cutter1",
          "Cutter1",
          null,
          "Hopper1",
          "Hopper1",
          "Hopper1",
          "Hopper1",
          null,
          "Hopper1",
          "Hopper1",
          "Hopper1",
          "Hopper1",
          null,
          "Hopper1",
          "Hopper1",
          "Hopper1",
          "Hopper1",
          null,
          "Hopper1",
          "Hopper1",
          "Hopper1",
          "Hopper1",
          null,
          "Hopper1",
          "Hopper1",
          "Hopper1",
          "Hopper1",
          null,
          "Hopper1",
          "Hopper1",
          "Hopper1",
          "Hopper1",
          null,
          "Hopper1",
          "Hopper1",
          "Hopper1",
          "Hopper1",
          null,
          "Hopper1",
          "Hopper1",
          "Hopper1",
          "Hopper1",
          null
         ]
        },
        {
         "connectgaps": false,
         "hoverinfo": "y+name",
         "line": {
          "color": "rgb(17,252,65)",
          "width": 10
         },
         "mode": "lines",
         "name": "6443c662-e692-4fac-a27a-60dc6fd9e559",
         "type": "scatter",
         "x": [
          "1970-01-01T00:16:22.824591",
          "1970-01-01T00:16:22.824591",
          "1970-01-01T00:16:32.824591",
          "1970-01-01T00:16:32.824591",
          "1970-01-01T00:16:32.824591",
          "1970-01-01T00:48:28.473774",
          "1970-01-01T00:48:28.473774",
          "1970-01-01T00:48:38.473774",
          "1970-01-01T00:48:38.473774",
          "1970-01-01T00:48:38.473774",
          "1970-01-01T01:20:44.122956",
          "1970-01-01T01:20:44.122956",
          "1970-01-01T01:20:54.122956",
          "1970-01-01T01:20:54.122956",
          "1970-01-01T01:20:54.122956",
          "1970-01-01T01:52:59.772139",
          "1970-01-01T01:52:59.772139",
          "1970-01-01T01:53:09.772139",
          "1970-01-01T01:53:09.772139",
          "1970-01-01T01:53:09.772139",
          "1970-01-01T02:25:15.421321",
          "1970-01-01T02:25:15.421321",
          "1970-01-01T02:25:25.421321",
          "1970-01-01T02:25:25.421321",
          "1970-01-01T02:25:25.421321",
          "1970-01-01T02:57:31.070504",
          "1970-01-01T02:57:31.070504",
          "1970-01-01T02:57:41.070504",
          "1970-01-01T02:57:41.070504",
          "1970-01-01T02:57:41.070504",
          "1970-01-01T03:29:46.719687",
          "1970-01-01T03:29:46.719687",
          "1970-01-01T03:29:56.719687",
          "1970-01-01T03:29:56.719687",
          "1970-01-01T03:29:56.719687",
          "1970-01-01T04:02:02.368869",
          "1970-01-01T04:02:02.368869",
          "1970-01-01T04:02:12.368869",
          "1970-01-01T04:02:12.368869",
          "1970-01-01T04:02:12.368869"
         ],
         "y": [
          "Hopper1",
          "Hopper1",
          "Hopper1",
          "Hopper1",
          null,
          "Hopper1",
          "Hopper1",
          "Hopper1",
          "Hopper1",
          null,
          "Hopper1",
          "Hopper1",
          "Hopper1",
          "Hopper1",
          null,
          "Hopper1",
          "Hopper1",
          "Hopper1",
          "Hopper1",
          null,
          "Hopper1",
          "Hopper1",
          "Hopper1",
          "Hopper1",
          null,
          "Hopper1",
          "Hopper1",
          "Hopper1",
          "Hopper1",
          null,
          "Hopper1",
          "Hopper1",
          "Hopper1",
          "Hopper1",
          null,
          "Hopper1",
          "Hopper1",
          "Hopper1",
          "Hopper1",
          null
         ]
        },
        {
         "connectgaps": false,
         "hoverinfo": "y+name",
         "line": {
          "color": "rgb(34,13,82)",
          "width": 10
         },
         "mode": "lines",
         "name": "f743dba4-83d7-48f2-ad76-19596802b3e7",
         "type": "scatter",
         "x": [
          "1970-01-01T00:16:42.824591",
          "1970-01-01T00:16:42.824591",
          "1970-01-01T00:32:25.649183",
          "1970-01-01T00:32:25.649183",
          "1970-01-01T00:32:25.649183",
          "1970-01-01T00:48:38.473774",
          "1970-01-01T00:48:38.473774",
          "1970-01-01T01:04:21.298365",
          "1970-01-01T01:04:21.298365",
          "1970-01-01T01:04:21.298365",
          "1970-01-01T01:20:54.122956",
          "1970-01-01T01:20:54.122956",
          "1970-01-01T01:36:36.947548",
          "1970-01-01T01:36:36.947548",
          "1970-01-01T01:36:36.947548",
          "1970-01-01T01:53:09.772139",
          "1970-01-01T01:53:09.772139",
          "1970-01-01T02:08:52.596730",
          "1970-01-01T02:08:52.596730",
          "1970-01-01T02:08:52.596730",
          "1970-01-01T02:25:25.421321",
          "1970-01-01T02:25:25.421321",
          "1970-01-01T02:41:08.245913",
          "1970-01-01T02:41:08.245913",
          "1970-01-01T02:41:08.245913",
          "1970-01-01T02:57:41.070504",
          "1970-01-01T02:57:41.070504",
          "1970-01-01T03:13:23.895095",
          "1970-01-01T03:13:23.895095",
          "1970-01-01T03:13:23.895095",
          "1970-01-01T03:29:56.719687",
          "1970-01-01T03:29:56.719687",
          "1970-01-01T03:45:39.544278",
          "1970-01-01T03:45:39.544278",
          "1970-01-01T03:45:39.544278",
          "1970-01-01T04:02:12.368869",
          "1970-01-01T04:02:12.368869",
          "1970-01-01T04:17:55.193460",
          "1970-01-01T04:17:55.193460",
          "1970-01-01T04:17:55.193460"
         ],
         "y": [
          "Hopper1",
          "Hopper1",
          "Hopper1",
          "Hopper1",
          null,
          "Hopper1",
          "Hopper1",
          "Hopper1",
          "Hopper1",
          null,
          "Hopper1",
          "Hopper1",
          "Hopper1",
          "Hopper1",
          null,
          "Hopper1",
          "Hopper1",
          "Hopper1",
          "Hopper1",
          null,
          "Hopper1",
          "Hopper1",
          "Hopper1",
          "Hopper1",
          null,
          "Hopper1",
          "Hopper1",
          "Hopper1",
          "Hopper1",
          null,
          "Hopper1",
          "Hopper1",
          "Hopper1",
          "Hopper1",
          null,
          "Hopper1",
          "Hopper1",
          "Hopper1",
          "Hopper1",
          null
         ]
        },
        {
         "connectgaps": false,
         "hoverinfo": "y+name",
         "line": {
          "color": "rgb(51,30,99)",
          "width": 10
         },
         "mode": "lines",
         "name": "d4655698-dbf9-41fa-9ab4-0ac2819c8b22",
         "type": "scatter",
         "x": [
          "1970-01-01T00:00:20",
          "1970-01-01T00:00:20",
          "1970-01-01T00:00:30",
          "1970-01-01T00:00:30",
          "1970-01-01T00:00:30",
          "1970-01-01T00:32:45.649183",
          "1970-01-01T00:32:45.649183",
          "1970-01-01T00:32:55.649183",
          "1970-01-01T00:32:55.649183",
          "1970-01-01T00:32:55.649183",
          "1970-01-01T01:05:01.298365",
          "1970-01-01T01:05:01.298365",
          "1970-01-01T01:05:11.298365",
          "1970-01-01T01:05:11.298365",
          "1970-01-01T01:05:11.298365",
          "1970-01-01T01:37:16.947548",
          "1970-01-01T01:37:16.947548",
          "1970-01-01T01:37:26.947548",
          "1970-01-01T01:37:26.947548",
          "1970-01-01T01:37:26.947548",
          "1970-01-01T02:09:32.596730",
          "1970-01-01T02:09:32.596730",
          "1970-01-01T02:09:42.596730",
          "1970-01-01T02:09:42.596730",
          "1970-01-01T02:09:42.596730",
          "1970-01-01T02:41:48.245913",
          "1970-01-01T02:41:48.245913",
          "1970-01-01T02:41:58.245913",
          "1970-01-01T02:41:58.245913",
          "1970-01-01T02:41:58.245913",
          "1970-01-01T03:14:03.895095",
          "1970-01-01T03:14:03.895095",
          "1970-01-01T03:14:13.895095",
          "1970-01-01T03:14:13.895095",
          "1970-01-01T03:14:13.895095",
          "1970-01-01T03:46:19.544278",
          "1970-01-01T03:46:19.544278",
          "1970-01-01T03:46:29.544278",
          "1970-01-01T03:46:29.544278",
          "1970-01-01T03:46:29.544278",
          "1970-01-01T00:00:20",
          "1970-01-01T00:00:20",
          "1970-01-01T00:00:30",
          "1970-01-01T00:00:30",
          "1970-01-01T00:00:30",
          "1970-01-01T00:32:45.649183",
          "1970-01-01T00:32:45.649183",
          "1970-01-01T00:32:55.649183",
          "1970-01-01T00:32:55.649183",
          "1970-01-01T00:32:55.649183",
          "1970-01-01T01:05:01.298365",
          "1970-01-01T01:05:01.298365",
          "1970-01-01T01:05:11.298365",
          "1970-01-01T01:05:11.298365",
          "1970-01-01T01:05:11.298365",
          "1970-01-01T01:37:16.947548",
          "1970-01-01T01:37:16.947548",
          "1970-01-01T01:37:26.947548",
          "1970-01-01T01:37:26.947548",
          "1970-01-01T01:37:26.947548",
          "1970-01-01T02:09:32.596730",
          "1970-01-01T02:09:32.596730",
          "1970-01-01T02:09:42.596730",
          "1970-01-01T02:09:42.596730",
          "1970-01-01T02:09:42.596730",
          "1970-01-01T02:41:48.245913",
          "1970-01-01T02:41:48.245913",
          "1970-01-01T02:41:58.245913",
          "1970-01-01T02:41:58.245913",
          "1970-01-01T02:41:58.245913",
          "1970-01-01T03:14:03.895095",
          "1970-01-01T03:14:03.895095",
          "1970-01-01T03:14:13.895095",
          "1970-01-01T03:14:13.895095",
          "1970-01-01T03:14:13.895095",
          "1970-01-01T03:46:19.544278",
          "1970-01-01T03:46:19.544278",
          "1970-01-01T03:46:29.544278",
          "1970-01-01T03:46:29.544278",
          "1970-01-01T03:46:29.544278"
         ],
         "y": [
          "Cutter1",
          "Cutter1",
          "Cutter1",
          "Cutter1",
          null,
          "Cutter1",
          "Cutter1",
          "Cutter1",
          "Cutter1",
          null,
          "Cutter1",
          "Cutter1",
          "Cutter1",
          "Cutter1",
          null,
          "Cutter1",
          "Cutter1",
          "Cutter1",
          "Cutter1",
          null,
          "Cutter1",
          "Cutter1",
          "Cutter1",
          "Cutter1",
          null,
          "Cutter1",
          "Cutter1",
          "Cutter1",
          "Cutter1",
          null,
          "Cutter1",
          "Cutter1",
          "Cutter1",
          "Cutter1",
          null,
          "Cutter1",
          "Cutter1",
          "Cutter1",
          "Cutter1",
          null,
          "Hopper2",
          "Hopper2",
          "Hopper2",
          "Hopper2",
          null,
          "Hopper2",
          "Hopper2",
          "Hopper2",
          "Hopper2",
          null,
          "Hopper2",
          "Hopper2",
          "Hopper2",
          "Hopper2",
          null,
          "Hopper2",
          "Hopper2",
          "Hopper2",
          "Hopper2",
          null,
          "Hopper2",
          "Hopper2",
          "Hopper2",
          "Hopper2",
          null,
          "Hopper2",
          "Hopper2",
          "Hopper2",
          "Hopper2",
          null,
          "Hopper2",
          "Hopper2",
          "Hopper2",
          "Hopper2",
          null,
          "Hopper2",
          "Hopper2",
          "Hopper2",
          "Hopper2",
          null
         ]
        },
        {
         "connectgaps": false,
         "hoverinfo": "y+name",
         "line": {
          "color": "rgb(68,47,116)",
          "width": 10
         },
         "mode": "lines",
         "name": "99340945-e7df-448f-b7d2-a81cc849cf85",
         "type": "scatter",
         "x": [
          "1970-01-01T00:16:42.824591",
          "1970-01-01T00:16:42.824591",
          "1970-01-01T00:32:25.649183",
          "1970-01-01T00:32:25.649183",
          "1970-01-01T00:32:25.649183",
          "1970-01-01T00:48:58.473774",
          "1970-01-01T00:48:58.473774",
          "1970-01-01T01:04:41.298365",
          "1970-01-01T01:04:41.298365",
          "1970-01-01T01:04:41.298365",
          "1970-01-01T01:21:14.122956",
          "1970-01-01T01:21:14.122956",
          "1970-01-01T01:36:56.947548",
          "1970-01-01T01:36:56.947548",
          "1970-01-01T01:36:56.947548",
          "1970-01-01T01:53:29.772139",
          "1970-01-01T01:53:29.772139",
          "1970-01-01T02:09:12.596730",
          "1970-01-01T02:09:12.596730",
          "1970-01-01T02:09:12.596730",
          "1970-01-01T02:25:45.421321",
          "1970-01-01T02:25:45.421321",
          "1970-01-01T02:41:28.245913",
          "1970-01-01T02:41:28.245913",
          "1970-01-01T02:41:28.245913",
          "1970-01-01T02:58:01.070504",
          "1970-01-01T02:58:01.070504",
          "1970-01-01T03:13:43.895095",
          "1970-01-01T03:13:43.895095",
          "1970-01-01T03:13:43.895095",
          "1970-01-01T03:30:16.719687",
          "1970-01-01T03:30:16.719687",
          "1970-01-01T03:45:59.544278",
          "1970-01-01T03:45:59.544278",
          "1970-01-01T03:45:59.544278",
          "1970-01-01T04:02:32.368869",
          "1970-01-01T04:02:32.368869",
          "1970-01-01T04:18:15.193460",
          "1970-01-01T04:18:15.193460",
          "1970-01-01T04:18:15.193460"
         ],
         "y": [
          "Hopper2",
          "Hopper2",
          "Hopper2",
          "Hopper2",
          null,
          "Hopper2",
          "Hopper2",
          "Hopper2",
          "Hopper2",
          null,
          "Hopper2",
          "Hopper2",
          "Hopper2",
          "Hopper2",
          null,
          "Hopper2",
          "Hopper2",
          "Hopper2",
          "Hopper2",
          null,
          "Hopper2",
          "Hopper2",
          "Hopper2",
          "Hopper2",
          null,
          "Hopper2",
          "Hopper2",
          "Hopper2",
          "Hopper2",
          null,
          "Hopper2",
          "Hopper2",
          "Hopper2",
          "Hopper2",
          null,
          "Hopper2",
          "Hopper2",
          "Hopper2",
          "Hopper2",
          null
         ]
        },
        {
         "connectgaps": false,
         "hoverinfo": "y+name",
         "line": {
          "color": "rgb(85,64,133)",
          "width": 10
         },
         "mode": "lines",
         "name": "5d08861f-cdef-4952-9922-5bc1acddb59d",
         "type": "scatter",
         "x": [
          "1970-01-01T00:00:30",
          "1970-01-01T00:00:30",
          "1970-01-01T00:16:12.824591",
          "1970-01-01T00:16:12.824591",
          "1970-01-01T00:16:12.824591",
          "1970-01-01T00:32:55.649183",
          "1970-01-01T00:32:55.649183",
          "1970-01-01T00:48:38.473774",
          "1970-01-01T00:48:38.473774",
          "1970-01-01T00:48:38.473774",
          "1970-01-01T01:05:11.298365",
          "1970-01-01T01:05:11.298365",
          "1970-01-01T01:20:54.122956",
          "1970-01-01T01:20:54.122956",
          "1970-01-01T01:20:54.122956",
          "1970-01-01T01:37:26.947548",
          "1970-01-01T01:37:26.947548",
          "1970-01-01T01:53:09.772139",
          "1970-01-01T01:53:09.772139",
          "1970-01-01T01:53:09.772139",
          "1970-01-01T02:09:42.596730",
          "1970-01-01T02:09:42.596730",
          "1970-01-01T02:25:25.421321",
          "1970-01-01T02:25:25.421321",
          "1970-01-01T02:25:25.421321",
          "1970-01-01T02:41:58.245913",
          "1970-01-01T02:41:58.245913",
          "1970-01-01T02:57:41.070504",
          "1970-01-01T02:57:41.070504",
          "1970-01-01T02:57:41.070504",
          "1970-01-01T03:14:13.895095",
          "1970-01-01T03:14:13.895095",
          "1970-01-01T03:29:56.719687",
          "1970-01-01T03:29:56.719687",
          "1970-01-01T03:29:56.719687",
          "1970-01-01T03:46:29.544278",
          "1970-01-01T03:46:29.544278",
          "1970-01-01T04:02:12.368869",
          "1970-01-01T04:02:12.368869",
          "1970-01-01T04:02:12.368869"
         ],
         "y": [
          "Hopper2",
          "Hopper2",
          "Hopper2",
          "Hopper2",
          null,
          "Hopper2",
          "Hopper2",
          "Hopper2",
          "Hopper2",
          null,
          "Hopper2",
          "Hopper2",
          "Hopper2",
          "Hopper2",
          null,
          "Hopper2",
          "Hopper2",
          "Hopper2",
          "Hopper2",
          null,
          "Hopper2",
          "Hopper2",
          "Hopper2",
          "Hopper2",
          null,
          "Hopper2",
          "Hopper2",
          "Hopper2",
          "Hopper2",
          null,
          "Hopper2",
          "Hopper2",
          "Hopper2",
          "Hopper2",
          null,
          "Hopper2",
          "Hopper2",
          "Hopper2",
          "Hopper2",
          null
         ]
        },
        {
         "connectgaps": false,
         "hoverinfo": "y+name",
         "line": {
          "color": "rgb(102,81,150)",
          "width": 10
         },
         "mode": "lines",
         "name": "5b12250f-6dc7-41d2-ac50-3aa80521c5fb",
         "type": "scatter",
         "x": [
          "1970-01-01T00:16:32.824591",
          "1970-01-01T00:16:32.824591",
          "1970-01-01T00:16:42.824591",
          "1970-01-01T00:16:42.824591",
          "1970-01-01T00:16:42.824591",
          "1970-01-01T00:48:48.473774",
          "1970-01-01T00:48:48.473774",
          "1970-01-01T00:48:58.473774",
          "1970-01-01T00:48:58.473774",
          "1970-01-01T00:48:58.473774",
          "1970-01-01T01:21:04.122956",
          "1970-01-01T01:21:04.122956",
          "1970-01-01T01:21:14.122956",
          "1970-01-01T01:21:14.122956",
          "1970-01-01T01:21:14.122956",
          "1970-01-01T01:53:19.772139",
          "1970-01-01T01:53:19.772139",
          "1970-01-01T01:53:29.772139",
          "1970-01-01T01:53:29.772139",
          "1970-01-01T01:53:29.772139",
          "1970-01-01T02:25:35.421321",
          "1970-01-01T02:25:35.421321",
          "1970-01-01T02:25:45.421321",
          "1970-01-01T02:25:45.421321",
          "1970-01-01T02:25:45.421321",
          "1970-01-01T02:57:51.070504",
          "1970-01-01T02:57:51.070504",
          "1970-01-01T02:58:01.070504",
          "1970-01-01T02:58:01.070504",
          "1970-01-01T02:58:01.070504",
          "1970-01-01T03:30:06.719687",
          "1970-01-01T03:30:06.719687",
          "1970-01-01T03:30:16.719687",
          "1970-01-01T03:30:16.719687",
          "1970-01-01T03:30:16.719687",
          "1970-01-01T04:02:22.368869",
          "1970-01-01T04:02:22.368869",
          "1970-01-01T04:02:32.368869",
          "1970-01-01T04:02:32.368869",
          "1970-01-01T04:02:32.368869"
         ],
         "y": [
          "Hopper2",
          "Hopper2",
          "Hopper2",
          "Hopper2",
          null,
          "Hopper2",
          "Hopper2",
          "Hopper2",
          "Hopper2",
          null,
          "Hopper2",
          "Hopper2",
          "Hopper2",
          "Hopper2",
          null,
          "Hopper2",
          "Hopper2",
          "Hopper2",
          "Hopper2",
          null,
          "Hopper2",
          "Hopper2",
          "Hopper2",
          "Hopper2",
          null,
          "Hopper2",
          "Hopper2",
          "Hopper2",
          "Hopper2",
          null,
          "Hopper2",
          "Hopper2",
          "Hopper2",
          "Hopper2",
          null,
          "Hopper2",
          "Hopper2",
          "Hopper2",
          "Hopper2",
          null
         ]
        },
        {
         "connectgaps": false,
         "hoverinfo": "y+name",
         "line": {
          "color": "rgb(119,98,167)",
          "width": 10
         },
         "mode": "lines",
         "name": "b802ebd6-d78e-41aa-924d-a88c9f8328b4",
         "type": "scatter",
         "x": [
          "1970-01-01T00:16:12.824591",
          "1970-01-01T00:16:12.824591",
          "1970-01-01T00:16:22.824591",
          "1970-01-01T00:16:22.824591",
          "1970-01-01T00:16:22.824591",
          "1970-01-01T00:48:38.473774",
          "1970-01-01T00:48:38.473774",
          "1970-01-01T00:48:48.473774",
          "1970-01-01T00:48:48.473774",
          "1970-01-01T00:48:48.473774",
          "1970-01-01T01:20:54.122956",
          "1970-01-01T01:20:54.122956",
          "1970-01-01T01:21:04.122956",
          "1970-01-01T01:21:04.122956",
          "1970-01-01T01:21:04.122956",
          "1970-01-01T01:53:09.772139",
          "1970-01-01T01:53:09.772139",
          "1970-01-01T01:53:19.772139",
          "1970-01-01T01:53:19.772139",
          "1970-01-01T01:53:19.772139",
          "1970-01-01T02:25:25.421321",
          "1970-01-01T02:25:25.421321",
          "1970-01-01T02:25:35.421321",
          "1970-01-01T02:25:35.421321",
          "1970-01-01T02:25:35.421321",
          "1970-01-01T02:57:41.070504",
          "1970-01-01T02:57:41.070504",
          "1970-01-01T02:57:51.070504",
          "1970-01-01T02:57:51.070504",
          "1970-01-01T02:57:51.070504",
          "1970-01-01T03:29:56.719687",
          "1970-01-01T03:29:56.719687",
          "1970-01-01T03:30:06.719687",
          "1970-01-01T03:30:06.719687",
          "1970-01-01T03:30:06.719687",
          "1970-01-01T04:02:12.368869",
          "1970-01-01T04:02:12.368869",
          "1970-01-01T04:02:22.368869",
          "1970-01-01T04:02:22.368869",
          "1970-01-01T04:02:22.368869"
         ],
         "y": [
          "Hopper3",
          "Hopper3",
          "Hopper3",
          "Hopper3",
          null,
          "Hopper3",
          "Hopper3",
          "Hopper3",
          "Hopper3",
          null,
          "Hopper3",
          "Hopper3",
          "Hopper3",
          "Hopper3",
          null,
          "Hopper3",
          "Hopper3",
          "Hopper3",
          "Hopper3",
          null,
          "Hopper3",
          "Hopper3",
          "Hopper3",
          "Hopper3",
          null,
          "Hopper3",
          "Hopper3",
          "Hopper3",
          "Hopper3",
          null,
          "Hopper3",
          "Hopper3",
          "Hopper3",
          "Hopper3",
          null,
          "Hopper3",
          "Hopper3",
          "Hopper3",
          "Hopper3",
          null
         ]
        },
        {
         "connectgaps": false,
         "hoverinfo": "y+name",
         "line": {
          "color": "rgb(136,115,184)",
          "width": 10
         },
         "mode": "lines",
         "name": "0374c4f3-d02c-43fc-a490-e294d58418fa",
         "type": "scatter",
         "x": [
          "1970-01-01T00:16:42.824591",
          "1970-01-01T00:16:42.824591",
          "1970-01-01T00:32:25.649183",
          "1970-01-01T00:32:25.649183",
          "1970-01-01T00:32:25.649183",
          "1970-01-01T00:48:48.473774",
          "1970-01-01T00:48:48.473774",
          "1970-01-01T01:04:31.298365",
          "1970-01-01T01:04:31.298365",
          "1970-01-01T01:04:31.298365",
          "1970-01-01T01:21:04.122956",
          "1970-01-01T01:21:04.122956",
          "1970-01-01T01:36:46.947548",
          "1970-01-01T01:36:46.947548",
          "1970-01-01T01:36:46.947548",
          "1970-01-01T01:53:19.772139",
          "1970-01-01T01:53:19.772139",
          "1970-01-01T02:09:02.596730",
          "1970-01-01T02:09:02.596730",
          "1970-01-01T02:09:02.596730",
          "1970-01-01T02:25:35.421321",
          "1970-01-01T02:25:35.421321",
          "1970-01-01T02:41:18.245913",
          "1970-01-01T02:41:18.245913",
          "1970-01-01T02:41:18.245913",
          "1970-01-01T02:57:51.070504",
          "1970-01-01T02:57:51.070504",
          "1970-01-01T03:13:33.895095",
          "1970-01-01T03:13:33.895095",
          "1970-01-01T03:13:33.895095",
          "1970-01-01T03:30:06.719687",
          "1970-01-01T03:30:06.719687",
          "1970-01-01T03:45:49.544278",
          "1970-01-01T03:45:49.544278",
          "1970-01-01T03:45:49.544278",
          "1970-01-01T04:02:22.368869",
          "1970-01-01T04:02:22.368869",
          "1970-01-01T04:18:05.193460",
          "1970-01-01T04:18:05.193460",
          "1970-01-01T04:18:05.193460"
         ],
         "y": [
          "Hopper3",
          "Hopper3",
          "Hopper3",
          "Hopper3",
          null,
          "Hopper3",
          "Hopper3",
          "Hopper3",
          "Hopper3",
          null,
          "Hopper3",
          "Hopper3",
          "Hopper3",
          "Hopper3",
          null,
          "Hopper3",
          "Hopper3",
          "Hopper3",
          "Hopper3",
          null,
          "Hopper3",
          "Hopper3",
          "Hopper3",
          "Hopper3",
          null,
          "Hopper3",
          "Hopper3",
          "Hopper3",
          "Hopper3",
          null,
          "Hopper3",
          "Hopper3",
          "Hopper3",
          "Hopper3",
          null,
          "Hopper3",
          "Hopper3",
          "Hopper3",
          "Hopper3",
          null
         ]
        },
        {
         "connectgaps": false,
         "hoverinfo": "y+name",
         "line": {
          "color": "rgb(153,132,201)",
          "width": 10
         },
         "mode": "lines",
         "name": "5216c1cb-c93b-491a-b355-b3afd8df7c8a",
         "type": "scatter",
         "x": [
          "1970-01-01T00:00:30",
          "1970-01-01T00:00:30",
          "1970-01-01T00:16:12.824591",
          "1970-01-01T00:16:12.824591",
          "1970-01-01T00:16:12.824591",
          "1970-01-01T00:32:45.649183",
          "1970-01-01T00:32:45.649183",
          "1970-01-01T00:48:28.473774",
          "1970-01-01T00:48:28.473774",
          "1970-01-01T00:48:28.473774",
          "1970-01-01T01:05:01.298365",
          "1970-01-01T01:05:01.298365",
          "1970-01-01T01:20:44.122956",
          "1970-01-01T01:20:44.122956",
          "1970-01-01T01:20:44.122956",
          "1970-01-01T01:37:16.947548",
          "1970-01-01T01:37:16.947548",
          "1970-01-01T01:52:59.772139",
          "1970-01-01T01:52:59.772139",
          "1970-01-01T01:52:59.772139",
          "1970-01-01T02:09:32.596730",
          "1970-01-01T02:09:32.596730",
          "1970-01-01T02:25:15.421321",
          "1970-01-01T02:25:15.421321",
          "1970-01-01T02:25:15.421321",
          "1970-01-01T02:41:48.245913",
          "1970-01-01T02:41:48.245913",
          "1970-01-01T02:57:31.070504",
          "1970-01-01T02:57:31.070504",
          "1970-01-01T02:57:31.070504",
          "1970-01-01T03:14:03.895095",
          "1970-01-01T03:14:03.895095",
          "1970-01-01T03:29:46.719687",
          "1970-01-01T03:29:46.719687",
          "1970-01-01T03:29:46.719687",
          "1970-01-01T03:46:19.544278",
          "1970-01-01T03:46:19.544278",
          "1970-01-01T04:02:02.368869",
          "1970-01-01T04:02:02.368869",
          "1970-01-01T04:02:02.368869"
         ],
         "y": [
          "Hopper3",
          "Hopper3",
          "Hopper3",
          "Hopper3",
          null,
          "Hopper3",
          "Hopper3",
          "Hopper3",
          "Hopper3",
          null,
          "Hopper3",
          "Hopper3",
          "Hopper3",
          "Hopper3",
          null,
          "Hopper3",
          "Hopper3",
          "Hopper3",
          "Hopper3",
          null,
          "Hopper3",
          "Hopper3",
          "Hopper3",
          "Hopper3",
          null,
          "Hopper3",
          "Hopper3",
          "Hopper3",
          "Hopper3",
          null,
          "Hopper3",
          "Hopper3",
          "Hopper3",
          "Hopper3",
          null,
          "Hopper3",
          "Hopper3",
          "Hopper3",
          "Hopper3",
          null
         ]
        },
        {
         "connectgaps": false,
         "hoverinfo": "y+name",
         "line": {
          "color": "rgb(170,149,218)",
          "width": 10
         },
         "mode": "lines",
         "name": "8e43d627-d75b-4d7f-895f-96573f7629c3",
         "type": "scatter",
         "x": [
          "1970-01-01T00:00:00",
          "1970-01-01T00:00:00",
          "1970-01-01T00:00:10",
          "1970-01-01T00:00:10",
          "1970-01-01T00:00:10",
          "1970-01-01T00:32:25.649183",
          "1970-01-01T00:32:25.649183",
          "1970-01-01T00:32:35.649183",
          "1970-01-01T00:32:35.649183",
          "1970-01-01T00:32:35.649183",
          "1970-01-01T01:04:41.298365",
          "1970-01-01T01:04:41.298365",
          "1970-01-01T01:04:51.298365",
          "1970-01-01T01:04:51.298365",
          "1970-01-01T01:04:51.298365",
          "1970-01-01T01:36:56.947548",
          "1970-01-01T01:36:56.947548",
          "1970-01-01T01:37:06.947548",
          "1970-01-01T01:37:06.947548",
          "1970-01-01T01:37:06.947548",
          "1970-01-01T02:09:12.596730",
          "1970-01-01T02:09:12.596730",
          "1970-01-01T02:09:22.596730",
          "1970-01-01T02:09:22.596730",
          "1970-01-01T02:09:22.596730",
          "1970-01-01T02:41:28.245913",
          "1970-01-01T02:41:28.245913",
          "1970-01-01T02:41:38.245913",
          "1970-01-01T02:41:38.245913",
          "1970-01-01T02:41:38.245913",
          "1970-01-01T03:13:43.895095",
          "1970-01-01T03:13:43.895095",
          "1970-01-01T03:13:53.895095",
          "1970-01-01T03:13:53.895095",
          "1970-01-01T03:13:53.895095",
          "1970-01-01T03:45:59.544278",
          "1970-01-01T03:45:59.544278",
          "1970-01-01T03:46:09.544278",
          "1970-01-01T03:46:09.544278",
          "1970-01-01T03:46:09.544278",
          "1970-01-01T00:00:00",
          "1970-01-01T00:00:00",
          "1970-01-01T00:00:10",
          "1970-01-01T00:00:10",
          "1970-01-01T00:00:10",
          "1970-01-01T00:32:25.649183",
          "1970-01-01T00:32:25.649183",
          "1970-01-01T00:32:35.649183",
          "1970-01-01T00:32:35.649183",
          "1970-01-01T00:32:35.649183",
          "1970-01-01T01:04:41.298365",
          "1970-01-01T01:04:41.298365",
          "1970-01-01T01:04:51.298365",
          "1970-01-01T01:04:51.298365",
          "1970-01-01T01:04:51.298365",
          "1970-01-01T01:36:56.947548",
          "1970-01-01T01:36:56.947548",
          "1970-01-01T01:37:06.947548",
          "1970-01-01T01:37:06.947548",
          "1970-01-01T01:37:06.947548",
          "1970-01-01T02:09:12.596730",
          "1970-01-01T02:09:12.596730",
          "1970-01-01T02:09:22.596730",
          "1970-01-01T02:09:22.596730",
          "1970-01-01T02:09:22.596730",
          "1970-01-01T02:41:28.245913",
          "1970-01-01T02:41:28.245913",
          "1970-01-01T02:41:38.245913",
          "1970-01-01T02:41:38.245913",
          "1970-01-01T02:41:38.245913",
          "1970-01-01T03:13:43.895095",
          "1970-01-01T03:13:43.895095",
          "1970-01-01T03:13:53.895095",
          "1970-01-01T03:13:53.895095",
          "1970-01-01T03:13:53.895095",
          "1970-01-01T03:45:59.544278",
          "1970-01-01T03:45:59.544278",
          "1970-01-01T03:46:09.544278",
          "1970-01-01T03:46:09.544278",
          "1970-01-01T03:46:09.544278"
         ],
         "y": [
          "Cutter1",
          "Cutter1",
          "Cutter1",
          "Cutter1",
          null,
          "Cutter1",
          "Cutter1",
          "Cutter1",
          "Cutter1",
          null,
          "Cutter1",
          "Cutter1",
          "Cutter1",
          "Cutter1",
          null,
          "Cutter1",
          "Cutter1",
          "Cutter1",
          "Cutter1",
          null,
          "Cutter1",
          "Cutter1",
          "Cutter1",
          "Cutter1",
          null,
          "Cutter1",
          "Cutter1",
          "Cutter1",
          "Cutter1",
          null,
          "Cutter1",
          "Cutter1",
          "Cutter1",
          "Cutter1",
          null,
          "Cutter1",
          "Cutter1",
          "Cutter1",
          "Cutter1",
          null,
          "Hopper3",
          "Hopper3",
          "Hopper3",
          "Hopper3",
          null,
          "Hopper3",
          "Hopper3",
          "Hopper3",
          "Hopper3",
          null,
          "Hopper3",
          "Hopper3",
          "Hopper3",
          "Hopper3",
          null,
          "Hopper3",
          "Hopper3",
          "Hopper3",
          "Hopper3",
          null,
          "Hopper3",
          "Hopper3",
          "Hopper3",
          "Hopper3",
          null,
          "Hopper3",
          "Hopper3",
          "Hopper3",
          "Hopper3",
          null,
          "Hopper3",
          "Hopper3",
          "Hopper3",
          "Hopper3",
          null,
          "Hopper3",
          "Hopper3",
          "Hopper3",
          "Hopper3",
          null
         ]
        }
       ],
       "layout": {
        "hovermode": "closest",
        "legend": {
         "orientation": "h",
         "x": 0,
         "y": -0.2
        },
        "template": {
         "data": {
          "bar": [
           {
            "error_x": {
             "color": "#2a3f5f"
            },
            "error_y": {
             "color": "#2a3f5f"
            },
            "marker": {
             "line": {
              "color": "#E5ECF6",
              "width": 0.5
             }
            },
            "type": "bar"
           }
          ],
          "barpolar": [
           {
            "marker": {
             "line": {
              "color": "#E5ECF6",
              "width": 0.5
             }
            },
            "type": "barpolar"
           }
          ],
          "carpet": [
           {
            "aaxis": {
             "endlinecolor": "#2a3f5f",
             "gridcolor": "white",
             "linecolor": "white",
             "minorgridcolor": "white",
             "startlinecolor": "#2a3f5f"
            },
            "baxis": {
             "endlinecolor": "#2a3f5f",
             "gridcolor": "white",
             "linecolor": "white",
             "minorgridcolor": "white",
             "startlinecolor": "#2a3f5f"
            },
            "type": "carpet"
           }
          ],
          "choropleth": [
           {
            "colorbar": {
             "outlinewidth": 0,
             "ticks": ""
            },
            "type": "choropleth"
           }
          ],
          "contour": [
           {
            "colorbar": {
             "outlinewidth": 0,
             "ticks": ""
            },
            "colorscale": [
             [
              0,
              "#0d0887"
             ],
             [
              0.1111111111111111,
              "#46039f"
             ],
             [
              0.2222222222222222,
              "#7201a8"
             ],
             [
              0.3333333333333333,
              "#9c179e"
             ],
             [
              0.4444444444444444,
              "#bd3786"
             ],
             [
              0.5555555555555556,
              "#d8576b"
             ],
             [
              0.6666666666666666,
              "#ed7953"
             ],
             [
              0.7777777777777778,
              "#fb9f3a"
             ],
             [
              0.8888888888888888,
              "#fdca26"
             ],
             [
              1,
              "#f0f921"
             ]
            ],
            "type": "contour"
           }
          ],
          "contourcarpet": [
           {
            "colorbar": {
             "outlinewidth": 0,
             "ticks": ""
            },
            "type": "contourcarpet"
           }
          ],
          "heatmap": [
           {
            "colorbar": {
             "outlinewidth": 0,
             "ticks": ""
            },
            "colorscale": [
             [
              0,
              "#0d0887"
             ],
             [
              0.1111111111111111,
              "#46039f"
             ],
             [
              0.2222222222222222,
              "#7201a8"
             ],
             [
              0.3333333333333333,
              "#9c179e"
             ],
             [
              0.4444444444444444,
              "#bd3786"
             ],
             [
              0.5555555555555556,
              "#d8576b"
             ],
             [
              0.6666666666666666,
              "#ed7953"
             ],
             [
              0.7777777777777778,
              "#fb9f3a"
             ],
             [
              0.8888888888888888,
              "#fdca26"
             ],
             [
              1,
              "#f0f921"
             ]
            ],
            "type": "heatmap"
           }
          ],
          "heatmapgl": [
           {
            "colorbar": {
             "outlinewidth": 0,
             "ticks": ""
            },
            "colorscale": [
             [
              0,
              "#0d0887"
             ],
             [
              0.1111111111111111,
              "#46039f"
             ],
             [
              0.2222222222222222,
              "#7201a8"
             ],
             [
              0.3333333333333333,
              "#9c179e"
             ],
             [
              0.4444444444444444,
              "#bd3786"
             ],
             [
              0.5555555555555556,
              "#d8576b"
             ],
             [
              0.6666666666666666,
              "#ed7953"
             ],
             [
              0.7777777777777778,
              "#fb9f3a"
             ],
             [
              0.8888888888888888,
              "#fdca26"
             ],
             [
              1,
              "#f0f921"
             ]
            ],
            "type": "heatmapgl"
           }
          ],
          "histogram": [
           {
            "marker": {
             "colorbar": {
              "outlinewidth": 0,
              "ticks": ""
             }
            },
            "type": "histogram"
           }
          ],
          "histogram2d": [
           {
            "colorbar": {
             "outlinewidth": 0,
             "ticks": ""
            },
            "colorscale": [
             [
              0,
              "#0d0887"
             ],
             [
              0.1111111111111111,
              "#46039f"
             ],
             [
              0.2222222222222222,
              "#7201a8"
             ],
             [
              0.3333333333333333,
              "#9c179e"
             ],
             [
              0.4444444444444444,
              "#bd3786"
             ],
             [
              0.5555555555555556,
              "#d8576b"
             ],
             [
              0.6666666666666666,
              "#ed7953"
             ],
             [
              0.7777777777777778,
              "#fb9f3a"
             ],
             [
              0.8888888888888888,
              "#fdca26"
             ],
             [
              1,
              "#f0f921"
             ]
            ],
            "type": "histogram2d"
           }
          ],
          "histogram2dcontour": [
           {
            "colorbar": {
             "outlinewidth": 0,
             "ticks": ""
            },
            "colorscale": [
             [
              0,
              "#0d0887"
             ],
             [
              0.1111111111111111,
              "#46039f"
             ],
             [
              0.2222222222222222,
              "#7201a8"
             ],
             [
              0.3333333333333333,
              "#9c179e"
             ],
             [
              0.4444444444444444,
              "#bd3786"
             ],
             [
              0.5555555555555556,
              "#d8576b"
             ],
             [
              0.6666666666666666,
              "#ed7953"
             ],
             [
              0.7777777777777778,
              "#fb9f3a"
             ],
             [
              0.8888888888888888,
              "#fdca26"
             ],
             [
              1,
              "#f0f921"
             ]
            ],
            "type": "histogram2dcontour"
           }
          ],
          "mesh3d": [
           {
            "colorbar": {
             "outlinewidth": 0,
             "ticks": ""
            },
            "type": "mesh3d"
           }
          ],
          "parcoords": [
           {
            "line": {
             "colorbar": {
              "outlinewidth": 0,
              "ticks": ""
             }
            },
            "type": "parcoords"
           }
          ],
          "pie": [
           {
            "automargin": true,
            "type": "pie"
           }
          ],
          "scatter": [
           {
            "marker": {
             "colorbar": {
              "outlinewidth": 0,
              "ticks": ""
             }
            },
            "type": "scatter"
           }
          ],
          "scatter3d": [
           {
            "line": {
             "colorbar": {
              "outlinewidth": 0,
              "ticks": ""
             }
            },
            "marker": {
             "colorbar": {
              "outlinewidth": 0,
              "ticks": ""
             }
            },
            "type": "scatter3d"
           }
          ],
          "scattercarpet": [
           {
            "marker": {
             "colorbar": {
              "outlinewidth": 0,
              "ticks": ""
             }
            },
            "type": "scattercarpet"
           }
          ],
          "scattergeo": [
           {
            "marker": {
             "colorbar": {
              "outlinewidth": 0,
              "ticks": ""
             }
            },
            "type": "scattergeo"
           }
          ],
          "scattergl": [
           {
            "marker": {
             "colorbar": {
              "outlinewidth": 0,
              "ticks": ""
             }
            },
            "type": "scattergl"
           }
          ],
          "scattermapbox": [
           {
            "marker": {
             "colorbar": {
              "outlinewidth": 0,
              "ticks": ""
             }
            },
            "type": "scattermapbox"
           }
          ],
          "scatterpolar": [
           {
            "marker": {
             "colorbar": {
              "outlinewidth": 0,
              "ticks": ""
             }
            },
            "type": "scatterpolar"
           }
          ],
          "scatterpolargl": [
           {
            "marker": {
             "colorbar": {
              "outlinewidth": 0,
              "ticks": ""
             }
            },
            "type": "scatterpolargl"
           }
          ],
          "scatterternary": [
           {
            "marker": {
             "colorbar": {
              "outlinewidth": 0,
              "ticks": ""
             }
            },
            "type": "scatterternary"
           }
          ],
          "surface": [
           {
            "colorbar": {
             "outlinewidth": 0,
             "ticks": ""
            },
            "colorscale": [
             [
              0,
              "#0d0887"
             ],
             [
              0.1111111111111111,
              "#46039f"
             ],
             [
              0.2222222222222222,
              "#7201a8"
             ],
             [
              0.3333333333333333,
              "#9c179e"
             ],
             [
              0.4444444444444444,
              "#bd3786"
             ],
             [
              0.5555555555555556,
              "#d8576b"
             ],
             [
              0.6666666666666666,
              "#ed7953"
             ],
             [
              0.7777777777777778,
              "#fb9f3a"
             ],
             [
              0.8888888888888888,
              "#fdca26"
             ],
             [
              1,
              "#f0f921"
             ]
            ],
            "type": "surface"
           }
          ],
          "table": [
           {
            "cells": {
             "fill": {
              "color": "#EBF0F8"
             },
             "line": {
              "color": "white"
             }
            },
            "header": {
             "fill": {
              "color": "#C8D4E3"
             },
             "line": {
              "color": "white"
             }
            },
            "type": "table"
           }
          ]
         },
         "layout": {
          "annotationdefaults": {
           "arrowcolor": "#2a3f5f",
           "arrowhead": 0,
           "arrowwidth": 1
          },
          "autotypenumbers": "strict",
          "coloraxis": {
           "colorbar": {
            "outlinewidth": 0,
            "ticks": ""
           }
          },
          "colorscale": {
           "diverging": [
            [
             0,
             "#8e0152"
            ],
            [
             0.1,
             "#c51b7d"
            ],
            [
             0.2,
             "#de77ae"
            ],
            [
             0.3,
             "#f1b6da"
            ],
            [
             0.4,
             "#fde0ef"
            ],
            [
             0.5,
             "#f7f7f7"
            ],
            [
             0.6,
             "#e6f5d0"
            ],
            [
             0.7,
             "#b8e186"
            ],
            [
             0.8,
             "#7fbc41"
            ],
            [
             0.9,
             "#4d9221"
            ],
            [
             1,
             "#276419"
            ]
           ],
           "sequential": [
            [
             0,
             "#0d0887"
            ],
            [
             0.1111111111111111,
             "#46039f"
            ],
            [
             0.2222222222222222,
             "#7201a8"
            ],
            [
             0.3333333333333333,
             "#9c179e"
            ],
            [
             0.4444444444444444,
             "#bd3786"
            ],
            [
             0.5555555555555556,
             "#d8576b"
            ],
            [
             0.6666666666666666,
             "#ed7953"
            ],
            [
             0.7777777777777778,
             "#fb9f3a"
            ],
            [
             0.8888888888888888,
             "#fdca26"
            ],
            [
             1,
             "#f0f921"
            ]
           ],
           "sequentialminus": [
            [
             0,
             "#0d0887"
            ],
            [
             0.1111111111111111,
             "#46039f"
            ],
            [
             0.2222222222222222,
             "#7201a8"
            ],
            [
             0.3333333333333333,
             "#9c179e"
            ],
            [
             0.4444444444444444,
             "#bd3786"
            ],
            [
             0.5555555555555556,
             "#d8576b"
            ],
            [
             0.6666666666666666,
             "#ed7953"
            ],
            [
             0.7777777777777778,
             "#fb9f3a"
            ],
            [
             0.8888888888888888,
             "#fdca26"
            ],
            [
             1,
             "#f0f921"
            ]
           ]
          },
          "colorway": [
           "#636efa",
           "#EF553B",
           "#00cc96",
           "#ab63fa",
           "#FFA15A",
           "#19d3f3",
           "#FF6692",
           "#B6E880",
           "#FF97FF",
           "#FECB52"
          ],
          "font": {
           "color": "#2a3f5f"
          },
          "geo": {
           "bgcolor": "white",
           "lakecolor": "white",
           "landcolor": "#E5ECF6",
           "showlakes": true,
           "showland": true,
           "subunitcolor": "white"
          },
          "hoverlabel": {
           "align": "left"
          },
          "hovermode": "closest",
          "mapbox": {
           "style": "light"
          },
          "paper_bgcolor": "white",
          "plot_bgcolor": "#E5ECF6",
          "polar": {
           "angularaxis": {
            "gridcolor": "white",
            "linecolor": "white",
            "ticks": ""
           },
           "bgcolor": "#E5ECF6",
           "radialaxis": {
            "gridcolor": "white",
            "linecolor": "white",
            "ticks": ""
           }
          },
          "scene": {
           "xaxis": {
            "backgroundcolor": "#E5ECF6",
            "gridcolor": "white",
            "gridwidth": 2,
            "linecolor": "white",
            "showbackground": true,
            "ticks": "",
            "zerolinecolor": "white"
           },
           "yaxis": {
            "backgroundcolor": "#E5ECF6",
            "gridcolor": "white",
            "gridwidth": 2,
            "linecolor": "white",
            "showbackground": true,
            "ticks": "",
            "zerolinecolor": "white"
           },
           "zaxis": {
            "backgroundcolor": "#E5ECF6",
            "gridcolor": "white",
            "gridwidth": 2,
            "linecolor": "white",
            "showbackground": true,
            "ticks": "",
            "zerolinecolor": "white"
           }
          },
          "shapedefaults": {
           "line": {
            "color": "#2a3f5f"
           }
          },
          "ternary": {
           "aaxis": {
            "gridcolor": "white",
            "linecolor": "white",
            "ticks": ""
           },
           "baxis": {
            "gridcolor": "white",
            "linecolor": "white",
            "ticks": ""
           },
           "bgcolor": "#E5ECF6",
           "caxis": {
            "gridcolor": "white",
            "linecolor": "white",
            "ticks": ""
           }
          },
          "title": {
           "x": 0.05
          },
          "xaxis": {
           "automargin": true,
           "gridcolor": "white",
           "linecolor": "white",
           "ticks": "",
           "title": {
            "standoff": 15
           },
           "zerolinecolor": "white",
           "zerolinewidth": 2
          },
          "yaxis": {
           "automargin": true,
           "gridcolor": "white",
           "linecolor": "white",
           "ticks": "",
           "title": {
            "standoff": 15
           },
           "zerolinecolor": "white",
           "zerolinewidth": 2
          }
         }
        },
        "title": {
         "text": "Vessel planning"
        },
        "xaxis": {
         "range": [
          "1970-01-01T00:00:00",
          "1970-01-01T04:18:15.193460"
         ],
         "title": {
          "font": {
           "color": "#7f7f7f",
           "family": "Courier New, monospace",
           "size": 18
          },
          "text": "Time"
         }
        },
        "yaxis": {
         "title": {
          "font": {
           "color": "#7f7f7f",
           "family": "Courier New, monospace",
           "size": 18
          },
          "text": "Vessels"
         }
        }
       }
      },
      "text/html": [
       "<div>                            <div id=\"4f036f89-d428-4efb-a18c-c03fdf9aaea7\" class=\"plotly-graph-div\" style=\"height:525px; width:100%;\"></div>            <script type=\"text/javascript\">                require([\"plotly\"], function(Plotly) {                    window.PLOTLYENV=window.PLOTLYENV || {};                                    if (document.getElementById(\"4f036f89-d428-4efb-a18c-c03fdf9aaea7\")) {                    Plotly.newPlot(                        \"4f036f89-d428-4efb-a18c-c03fdf9aaea7\",                        [{\"connectgaps\": false, \"hoverinfo\": \"y+name\", \"line\": {\"color\": \"rgb(188,167,236)\", \"width\": 10}, \"mode\": \"lines\", \"name\": \"d4655698-dbf9-41fa-9ab4-0ac2819c8b22\", \"type\": \"scatter\", \"x\": [\"1970-01-01T00:00:20\", \"1970-01-01T00:00:20\", \"1970-01-01T00:00:30\", \"1970-01-01T00:00:30\", \"1970-01-01T00:00:30\", \"1970-01-01T00:32:45.649183\", \"1970-01-01T00:32:45.649183\", \"1970-01-01T00:32:55.649183\", \"1970-01-01T00:32:55.649183\", \"1970-01-01T00:32:55.649183\", \"1970-01-01T01:05:01.298365\", \"1970-01-01T01:05:01.298365\", \"1970-01-01T01:05:11.298365\", \"1970-01-01T01:05:11.298365\", \"1970-01-01T01:05:11.298365\", \"1970-01-01T01:37:16.947548\", \"1970-01-01T01:37:16.947548\", \"1970-01-01T01:37:26.947548\", \"1970-01-01T01:37:26.947548\", \"1970-01-01T01:37:26.947548\", \"1970-01-01T02:09:32.596730\", \"1970-01-01T02:09:32.596730\", \"1970-01-01T02:09:42.596730\", \"1970-01-01T02:09:42.596730\", \"1970-01-01T02:09:42.596730\", \"1970-01-01T02:41:48.245913\", \"1970-01-01T02:41:48.245913\", \"1970-01-01T02:41:58.245913\", \"1970-01-01T02:41:58.245913\", \"1970-01-01T02:41:58.245913\", \"1970-01-01T03:14:03.895095\", \"1970-01-01T03:14:03.895095\", \"1970-01-01T03:14:13.895095\", \"1970-01-01T03:14:13.895095\", \"1970-01-01T03:14:13.895095\", \"1970-01-01T03:46:19.544278\", \"1970-01-01T03:46:19.544278\", \"1970-01-01T03:46:29.544278\", \"1970-01-01T03:46:29.544278\", \"1970-01-01T03:46:29.544278\", \"1970-01-01T00:00:20\", \"1970-01-01T00:00:20\", \"1970-01-01T00:00:30\", \"1970-01-01T00:00:30\", \"1970-01-01T00:00:30\", \"1970-01-01T00:32:45.649183\", \"1970-01-01T00:32:45.649183\", \"1970-01-01T00:32:55.649183\", \"1970-01-01T00:32:55.649183\", \"1970-01-01T00:32:55.649183\", \"1970-01-01T01:05:01.298365\", \"1970-01-01T01:05:01.298365\", \"1970-01-01T01:05:11.298365\", \"1970-01-01T01:05:11.298365\", \"1970-01-01T01:05:11.298365\", \"1970-01-01T01:37:16.947548\", \"1970-01-01T01:37:16.947548\", \"1970-01-01T01:37:26.947548\", \"1970-01-01T01:37:26.947548\", \"1970-01-01T01:37:26.947548\", \"1970-01-01T02:09:32.596730\", \"1970-01-01T02:09:32.596730\", \"1970-01-01T02:09:42.596730\", \"1970-01-01T02:09:42.596730\", \"1970-01-01T02:09:42.596730\", \"1970-01-01T02:41:48.245913\", \"1970-01-01T02:41:48.245913\", \"1970-01-01T02:41:58.245913\", \"1970-01-01T02:41:58.245913\", \"1970-01-01T02:41:58.245913\", \"1970-01-01T03:14:03.895095\", \"1970-01-01T03:14:03.895095\", \"1970-01-01T03:14:13.895095\", \"1970-01-01T03:14:13.895095\", \"1970-01-01T03:14:13.895095\", \"1970-01-01T03:46:19.544278\", \"1970-01-01T03:46:19.544278\", \"1970-01-01T03:46:29.544278\", \"1970-01-01T03:46:29.544278\", \"1970-01-01T03:46:29.544278\"], \"y\": [\"Cutter1\", \"Cutter1\", \"Cutter1\", \"Cutter1\", null, \"Cutter1\", \"Cutter1\", \"Cutter1\", \"Cutter1\", null, \"Cutter1\", \"Cutter1\", \"Cutter1\", \"Cutter1\", null, \"Cutter1\", \"Cutter1\", \"Cutter1\", \"Cutter1\", null, \"Cutter1\", \"Cutter1\", \"Cutter1\", \"Cutter1\", null, \"Cutter1\", \"Cutter1\", \"Cutter1\", \"Cutter1\", null, \"Cutter1\", \"Cutter1\", \"Cutter1\", \"Cutter1\", null, \"Cutter1\", \"Cutter1\", \"Cutter1\", \"Cutter1\", null, \"Hopper2\", \"Hopper2\", \"Hopper2\", \"Hopper2\", null, \"Hopper2\", \"Hopper2\", \"Hopper2\", \"Hopper2\", null, \"Hopper2\", \"Hopper2\", \"Hopper2\", \"Hopper2\", null, \"Hopper2\", \"Hopper2\", \"Hopper2\", \"Hopper2\", null, \"Hopper2\", \"Hopper2\", \"Hopper2\", \"Hopper2\", null, \"Hopper2\", \"Hopper2\", \"Hopper2\", \"Hopper2\", null, \"Hopper2\", \"Hopper2\", \"Hopper2\", \"Hopper2\", null, \"Hopper2\", \"Hopper2\", \"Hopper2\", \"Hopper2\", null]}, {\"connectgaps\": false, \"hoverinfo\": \"y+name\", \"line\": {\"color\": \"rgb(205,184,253)\", \"width\": 10}, \"mode\": \"lines\", \"name\": \"d4acf843-e2e3-4aa4-bff3-66abb06747ff\", \"type\": \"scatter\", \"x\": [\"1970-01-01T00:00:10\", \"1970-01-01T00:00:10\", \"1970-01-01T00:00:20\", \"1970-01-01T00:00:20\", \"1970-01-01T00:00:20\", \"1970-01-01T00:32:35.649183\", \"1970-01-01T00:32:35.649183\", \"1970-01-01T00:32:45.649183\", \"1970-01-01T00:32:45.649183\", \"1970-01-01T00:32:45.649183\", \"1970-01-01T01:04:51.298365\", \"1970-01-01T01:04:51.298365\", \"1970-01-01T01:05:01.298365\", \"1970-01-01T01:05:01.298365\", \"1970-01-01T01:05:01.298365\", \"1970-01-01T01:37:06.947548\", \"1970-01-01T01:37:06.947548\", \"1970-01-01T01:37:16.947548\", \"1970-01-01T01:37:16.947548\", \"1970-01-01T01:37:16.947548\", \"1970-01-01T02:09:22.596730\", \"1970-01-01T02:09:22.596730\", \"1970-01-01T02:09:32.596730\", \"1970-01-01T02:09:32.596730\", \"1970-01-01T02:09:32.596730\", \"1970-01-01T02:41:38.245913\", \"1970-01-01T02:41:38.245913\", \"1970-01-01T02:41:48.245913\", \"1970-01-01T02:41:48.245913\", \"1970-01-01T02:41:48.245913\", \"1970-01-01T03:13:53.895095\", \"1970-01-01T03:13:53.895095\", \"1970-01-01T03:14:03.895095\", \"1970-01-01T03:14:03.895095\", \"1970-01-01T03:14:03.895095\", \"1970-01-01T03:46:09.544278\", \"1970-01-01T03:46:09.544278\", \"1970-01-01T03:46:19.544278\", \"1970-01-01T03:46:19.544278\", \"1970-01-01T03:46:19.544278\", \"1970-01-01T00:00:10\", \"1970-01-01T00:00:10\", \"1970-01-01T00:00:20\", \"1970-01-01T00:00:20\", \"1970-01-01T00:00:20\", \"1970-01-01T00:32:35.649183\", \"1970-01-01T00:32:35.649183\", \"1970-01-01T00:32:45.649183\", \"1970-01-01T00:32:45.649183\", \"1970-01-01T00:32:45.649183\", \"1970-01-01T01:04:51.298365\", \"1970-01-01T01:04:51.298365\", \"1970-01-01T01:05:01.298365\", \"1970-01-01T01:05:01.298365\", \"1970-01-01T01:05:01.298365\", \"1970-01-01T01:37:06.947548\", \"1970-01-01T01:37:06.947548\", \"1970-01-01T01:37:16.947548\", \"1970-01-01T01:37:16.947548\", \"1970-01-01T01:37:16.947548\", \"1970-01-01T02:09:22.596730\", \"1970-01-01T02:09:22.596730\", \"1970-01-01T02:09:32.596730\", \"1970-01-01T02:09:32.596730\", \"1970-01-01T02:09:32.596730\", \"1970-01-01T02:41:38.245913\", \"1970-01-01T02:41:38.245913\", \"1970-01-01T02:41:48.245913\", \"1970-01-01T02:41:48.245913\", \"1970-01-01T02:41:48.245913\", \"1970-01-01T03:13:53.895095\", \"1970-01-01T03:13:53.895095\", \"1970-01-01T03:14:03.895095\", \"1970-01-01T03:14:03.895095\", \"1970-01-01T03:14:03.895095\", \"1970-01-01T03:46:09.544278\", \"1970-01-01T03:46:09.544278\", \"1970-01-01T03:46:19.544278\", \"1970-01-01T03:46:19.544278\", \"1970-01-01T03:46:19.544278\"], \"y\": [\"Cutter1\", \"Cutter1\", \"Cutter1\", \"Cutter1\", null, \"Cutter1\", \"Cutter1\", \"Cutter1\", \"Cutter1\", null, \"Cutter1\", \"Cutter1\", \"Cutter1\", \"Cutter1\", null, \"Cutter1\", \"Cutter1\", \"Cutter1\", \"Cutter1\", null, \"Cutter1\", \"Cutter1\", \"Cutter1\", \"Cutter1\", null, \"Cutter1\", \"Cutter1\", \"Cutter1\", \"Cutter1\", null, \"Cutter1\", \"Cutter1\", \"Cutter1\", \"Cutter1\", null, \"Cutter1\", \"Cutter1\", \"Cutter1\", \"Cutter1\", null, \"Hopper1\", \"Hopper1\", \"Hopper1\", \"Hopper1\", null, \"Hopper1\", \"Hopper1\", \"Hopper1\", \"Hopper1\", null, \"Hopper1\", \"Hopper1\", \"Hopper1\", \"Hopper1\", null, \"Hopper1\", \"Hopper1\", \"Hopper1\", \"Hopper1\", null, \"Hopper1\", \"Hopper1\", \"Hopper1\", \"Hopper1\", null, \"Hopper1\", \"Hopper1\", \"Hopper1\", \"Hopper1\", null, \"Hopper1\", \"Hopper1\", \"Hopper1\", \"Hopper1\", null, \"Hopper1\", \"Hopper1\", \"Hopper1\", \"Hopper1\", null]}, {\"connectgaps\": false, \"hoverinfo\": \"y+name\", \"line\": {\"color\": \"rgb(222,201,14)\", \"width\": 10}, \"mode\": \"lines\", \"name\": \"8e43d627-d75b-4d7f-895f-96573f7629c3\", \"type\": \"scatter\", \"x\": [\"1970-01-01T00:00:00\", \"1970-01-01T00:00:00\", \"1970-01-01T00:00:10\", \"1970-01-01T00:00:10\", \"1970-01-01T00:00:10\", \"1970-01-01T00:32:25.649183\", \"1970-01-01T00:32:25.649183\", \"1970-01-01T00:32:35.649183\", \"1970-01-01T00:32:35.649183\", \"1970-01-01T00:32:35.649183\", \"1970-01-01T01:04:41.298365\", \"1970-01-01T01:04:41.298365\", \"1970-01-01T01:04:51.298365\", \"1970-01-01T01:04:51.298365\", \"1970-01-01T01:04:51.298365\", \"1970-01-01T01:36:56.947548\", \"1970-01-01T01:36:56.947548\", \"1970-01-01T01:37:06.947548\", \"1970-01-01T01:37:06.947548\", \"1970-01-01T01:37:06.947548\", \"1970-01-01T02:09:12.596730\", \"1970-01-01T02:09:12.596730\", \"1970-01-01T02:09:22.596730\", \"1970-01-01T02:09:22.596730\", \"1970-01-01T02:09:22.596730\", \"1970-01-01T02:41:28.245913\", \"1970-01-01T02:41:28.245913\", \"1970-01-01T02:41:38.245913\", \"1970-01-01T02:41:38.245913\", \"1970-01-01T02:41:38.245913\", \"1970-01-01T03:13:43.895095\", \"1970-01-01T03:13:43.895095\", \"1970-01-01T03:13:53.895095\", \"1970-01-01T03:13:53.895095\", \"1970-01-01T03:13:53.895095\", \"1970-01-01T03:45:59.544278\", \"1970-01-01T03:45:59.544278\", \"1970-01-01T03:46:09.544278\", \"1970-01-01T03:46:09.544278\", \"1970-01-01T03:46:09.544278\", \"1970-01-01T00:00:00\", \"1970-01-01T00:00:00\", \"1970-01-01T00:00:10\", \"1970-01-01T00:00:10\", \"1970-01-01T00:00:10\", \"1970-01-01T00:32:25.649183\", \"1970-01-01T00:32:25.649183\", \"1970-01-01T00:32:35.649183\", \"1970-01-01T00:32:35.649183\", \"1970-01-01T00:32:35.649183\", \"1970-01-01T01:04:41.298365\", \"1970-01-01T01:04:41.298365\", \"1970-01-01T01:04:51.298365\", \"1970-01-01T01:04:51.298365\", \"1970-01-01T01:04:51.298365\", \"1970-01-01T01:36:56.947548\", \"1970-01-01T01:36:56.947548\", \"1970-01-01T01:37:06.947548\", \"1970-01-01T01:37:06.947548\", \"1970-01-01T01:37:06.947548\", \"1970-01-01T02:09:12.596730\", \"1970-01-01T02:09:12.596730\", \"1970-01-01T02:09:22.596730\", \"1970-01-01T02:09:22.596730\", \"1970-01-01T02:09:22.596730\", \"1970-01-01T02:41:28.245913\", \"1970-01-01T02:41:28.245913\", \"1970-01-01T02:41:38.245913\", \"1970-01-01T02:41:38.245913\", \"1970-01-01T02:41:38.245913\", \"1970-01-01T03:13:43.895095\", \"1970-01-01T03:13:43.895095\", \"1970-01-01T03:13:53.895095\", \"1970-01-01T03:13:53.895095\", \"1970-01-01T03:13:53.895095\", \"1970-01-01T03:45:59.544278\", \"1970-01-01T03:45:59.544278\", \"1970-01-01T03:46:09.544278\", \"1970-01-01T03:46:09.544278\", \"1970-01-01T03:46:09.544278\"], \"y\": [\"Cutter1\", \"Cutter1\", \"Cutter1\", \"Cutter1\", null, \"Cutter1\", \"Cutter1\", \"Cutter1\", \"Cutter1\", null, \"Cutter1\", \"Cutter1\", \"Cutter1\", \"Cutter1\", null, \"Cutter1\", \"Cutter1\", \"Cutter1\", \"Cutter1\", null, \"Cutter1\", \"Cutter1\", \"Cutter1\", \"Cutter1\", null, \"Cutter1\", \"Cutter1\", \"Cutter1\", \"Cutter1\", null, \"Cutter1\", \"Cutter1\", \"Cutter1\", \"Cutter1\", null, \"Cutter1\", \"Cutter1\", \"Cutter1\", \"Cutter1\", null, \"Hopper3\", \"Hopper3\", \"Hopper3\", \"Hopper3\", null, \"Hopper3\", \"Hopper3\", \"Hopper3\", \"Hopper3\", null, \"Hopper3\", \"Hopper3\", \"Hopper3\", \"Hopper3\", null, \"Hopper3\", \"Hopper3\", \"Hopper3\", \"Hopper3\", null, \"Hopper3\", \"Hopper3\", \"Hopper3\", \"Hopper3\", null, \"Hopper3\", \"Hopper3\", \"Hopper3\", \"Hopper3\", null, \"Hopper3\", \"Hopper3\", \"Hopper3\", \"Hopper3\", null, \"Hopper3\", \"Hopper3\", \"Hopper3\", \"Hopper3\", null]}, {\"connectgaps\": false, \"hoverinfo\": \"y+name\", \"line\": {\"color\": \"rgb(239,218,31)\", \"width\": 10}, \"mode\": \"lines\", \"name\": \"dd618e8f-4e40-4356-9c15-8c92eca7bdd8\", \"type\": \"scatter\", \"x\": [\"1970-01-01T00:00:30\", \"1970-01-01T00:00:30\", \"1970-01-01T00:16:12.824591\", \"1970-01-01T00:16:12.824591\", \"1970-01-01T00:16:12.824591\", \"1970-01-01T00:32:45.649183\", \"1970-01-01T00:32:45.649183\", \"1970-01-01T00:48:28.473774\", \"1970-01-01T00:48:28.473774\", \"1970-01-01T00:48:28.473774\", \"1970-01-01T01:05:01.298365\", \"1970-01-01T01:05:01.298365\", \"1970-01-01T01:20:44.122956\", \"1970-01-01T01:20:44.122956\", \"1970-01-01T01:20:44.122956\", \"1970-01-01T01:37:16.947548\", \"1970-01-01T01:37:16.947548\", \"1970-01-01T01:52:59.772139\", \"1970-01-01T01:52:59.772139\", \"1970-01-01T01:52:59.772139\", \"1970-01-01T02:09:32.596730\", \"1970-01-01T02:09:32.596730\", \"1970-01-01T02:25:15.421321\", \"1970-01-01T02:25:15.421321\", \"1970-01-01T02:25:15.421321\", \"1970-01-01T02:41:48.245913\", \"1970-01-01T02:41:48.245913\", \"1970-01-01T02:57:31.070504\", \"1970-01-01T02:57:31.070504\", \"1970-01-01T02:57:31.070504\", \"1970-01-01T03:14:03.895095\", \"1970-01-01T03:14:03.895095\", \"1970-01-01T03:29:46.719687\", \"1970-01-01T03:29:46.719687\", \"1970-01-01T03:29:46.719687\", \"1970-01-01T03:46:19.544278\", \"1970-01-01T03:46:19.544278\", \"1970-01-01T04:02:02.368869\", \"1970-01-01T04:02:02.368869\", \"1970-01-01T04:02:02.368869\"], \"y\": [\"Hopper1\", \"Hopper1\", \"Hopper1\", \"Hopper1\", null, \"Hopper1\", \"Hopper1\", \"Hopper1\", \"Hopper1\", null, \"Hopper1\", \"Hopper1\", \"Hopper1\", \"Hopper1\", null, \"Hopper1\", \"Hopper1\", \"Hopper1\", \"Hopper1\", null, \"Hopper1\", \"Hopper1\", \"Hopper1\", \"Hopper1\", null, \"Hopper1\", \"Hopper1\", \"Hopper1\", \"Hopper1\", null, \"Hopper1\", \"Hopper1\", \"Hopper1\", \"Hopper1\", null, \"Hopper1\", \"Hopper1\", \"Hopper1\", \"Hopper1\", null]}, {\"connectgaps\": false, \"hoverinfo\": \"y+name\", \"line\": {\"color\": \"rgb(0,235,48)\", \"width\": 10}, \"mode\": \"lines\", \"name\": \"d4acf843-e2e3-4aa4-bff3-66abb06747ff\", \"type\": \"scatter\", \"x\": [\"1970-01-01T00:00:10\", \"1970-01-01T00:00:10\", \"1970-01-01T00:00:20\", \"1970-01-01T00:00:20\", \"1970-01-01T00:00:20\", \"1970-01-01T00:32:35.649183\", \"1970-01-01T00:32:35.649183\", \"1970-01-01T00:32:45.649183\", \"1970-01-01T00:32:45.649183\", \"1970-01-01T00:32:45.649183\", \"1970-01-01T01:04:51.298365\", \"1970-01-01T01:04:51.298365\", \"1970-01-01T01:05:01.298365\", \"1970-01-01T01:05:01.298365\", \"1970-01-01T01:05:01.298365\", \"1970-01-01T01:37:06.947548\", \"1970-01-01T01:37:06.947548\", \"1970-01-01T01:37:16.947548\", \"1970-01-01T01:37:16.947548\", \"1970-01-01T01:37:16.947548\", \"1970-01-01T02:09:22.596730\", \"1970-01-01T02:09:22.596730\", \"1970-01-01T02:09:32.596730\", \"1970-01-01T02:09:32.596730\", \"1970-01-01T02:09:32.596730\", \"1970-01-01T02:41:38.245913\", \"1970-01-01T02:41:38.245913\", \"1970-01-01T02:41:48.245913\", \"1970-01-01T02:41:48.245913\", \"1970-01-01T02:41:48.245913\", \"1970-01-01T03:13:53.895095\", \"1970-01-01T03:13:53.895095\", \"1970-01-01T03:14:03.895095\", \"1970-01-01T03:14:03.895095\", \"1970-01-01T03:14:03.895095\", \"1970-01-01T03:46:09.544278\", \"1970-01-01T03:46:09.544278\", \"1970-01-01T03:46:19.544278\", \"1970-01-01T03:46:19.544278\", \"1970-01-01T03:46:19.544278\", \"1970-01-01T00:00:10\", \"1970-01-01T00:00:10\", \"1970-01-01T00:00:20\", \"1970-01-01T00:00:20\", \"1970-01-01T00:00:20\", \"1970-01-01T00:32:35.649183\", \"1970-01-01T00:32:35.649183\", \"1970-01-01T00:32:45.649183\", \"1970-01-01T00:32:45.649183\", \"1970-01-01T00:32:45.649183\", \"1970-01-01T01:04:51.298365\", \"1970-01-01T01:04:51.298365\", \"1970-01-01T01:05:01.298365\", \"1970-01-01T01:05:01.298365\", \"1970-01-01T01:05:01.298365\", \"1970-01-01T01:37:06.947548\", \"1970-01-01T01:37:06.947548\", \"1970-01-01T01:37:16.947548\", \"1970-01-01T01:37:16.947548\", \"1970-01-01T01:37:16.947548\", \"1970-01-01T02:09:22.596730\", \"1970-01-01T02:09:22.596730\", \"1970-01-01T02:09:32.596730\", \"1970-01-01T02:09:32.596730\", \"1970-01-01T02:09:32.596730\", \"1970-01-01T02:41:38.245913\", \"1970-01-01T02:41:38.245913\", \"1970-01-01T02:41:48.245913\", \"1970-01-01T02:41:48.245913\", \"1970-01-01T02:41:48.245913\", \"1970-01-01T03:13:53.895095\", \"1970-01-01T03:13:53.895095\", \"1970-01-01T03:14:03.895095\", \"1970-01-01T03:14:03.895095\", \"1970-01-01T03:14:03.895095\", \"1970-01-01T03:46:09.544278\", \"1970-01-01T03:46:09.544278\", \"1970-01-01T03:46:19.544278\", \"1970-01-01T03:46:19.544278\", \"1970-01-01T03:46:19.544278\"], \"y\": [\"Cutter1\", \"Cutter1\", \"Cutter1\", \"Cutter1\", null, \"Cutter1\", \"Cutter1\", \"Cutter1\", \"Cutter1\", null, \"Cutter1\", \"Cutter1\", \"Cutter1\", \"Cutter1\", null, \"Cutter1\", \"Cutter1\", \"Cutter1\", \"Cutter1\", null, \"Cutter1\", \"Cutter1\", \"Cutter1\", \"Cutter1\", null, \"Cutter1\", \"Cutter1\", \"Cutter1\", \"Cutter1\", null, \"Cutter1\", \"Cutter1\", \"Cutter1\", \"Cutter1\", null, \"Cutter1\", \"Cutter1\", \"Cutter1\", \"Cutter1\", null, \"Hopper1\", \"Hopper1\", \"Hopper1\", \"Hopper1\", null, \"Hopper1\", \"Hopper1\", \"Hopper1\", \"Hopper1\", null, \"Hopper1\", \"Hopper1\", \"Hopper1\", \"Hopper1\", null, \"Hopper1\", \"Hopper1\", \"Hopper1\", \"Hopper1\", null, \"Hopper1\", \"Hopper1\", \"Hopper1\", \"Hopper1\", null, \"Hopper1\", \"Hopper1\", \"Hopper1\", \"Hopper1\", null, \"Hopper1\", \"Hopper1\", \"Hopper1\", \"Hopper1\", null, \"Hopper1\", \"Hopper1\", \"Hopper1\", \"Hopper1\", null]}, {\"connectgaps\": false, \"hoverinfo\": \"y+name\", \"line\": {\"color\": \"rgb(17,252,65)\", \"width\": 10}, \"mode\": \"lines\", \"name\": \"6443c662-e692-4fac-a27a-60dc6fd9e559\", \"type\": \"scatter\", \"x\": [\"1970-01-01T00:16:22.824591\", \"1970-01-01T00:16:22.824591\", \"1970-01-01T00:16:32.824591\", \"1970-01-01T00:16:32.824591\", \"1970-01-01T00:16:32.824591\", \"1970-01-01T00:48:28.473774\", \"1970-01-01T00:48:28.473774\", \"1970-01-01T00:48:38.473774\", \"1970-01-01T00:48:38.473774\", \"1970-01-01T00:48:38.473774\", \"1970-01-01T01:20:44.122956\", \"1970-01-01T01:20:44.122956\", \"1970-01-01T01:20:54.122956\", \"1970-01-01T01:20:54.122956\", \"1970-01-01T01:20:54.122956\", \"1970-01-01T01:52:59.772139\", \"1970-01-01T01:52:59.772139\", \"1970-01-01T01:53:09.772139\", \"1970-01-01T01:53:09.772139\", \"1970-01-01T01:53:09.772139\", \"1970-01-01T02:25:15.421321\", \"1970-01-01T02:25:15.421321\", \"1970-01-01T02:25:25.421321\", \"1970-01-01T02:25:25.421321\", \"1970-01-01T02:25:25.421321\", \"1970-01-01T02:57:31.070504\", \"1970-01-01T02:57:31.070504\", \"1970-01-01T02:57:41.070504\", \"1970-01-01T02:57:41.070504\", \"1970-01-01T02:57:41.070504\", \"1970-01-01T03:29:46.719687\", \"1970-01-01T03:29:46.719687\", \"1970-01-01T03:29:56.719687\", \"1970-01-01T03:29:56.719687\", \"1970-01-01T03:29:56.719687\", \"1970-01-01T04:02:02.368869\", \"1970-01-01T04:02:02.368869\", \"1970-01-01T04:02:12.368869\", \"1970-01-01T04:02:12.368869\", \"1970-01-01T04:02:12.368869\"], \"y\": [\"Hopper1\", \"Hopper1\", \"Hopper1\", \"Hopper1\", null, \"Hopper1\", \"Hopper1\", \"Hopper1\", \"Hopper1\", null, \"Hopper1\", \"Hopper1\", \"Hopper1\", \"Hopper1\", null, \"Hopper1\", \"Hopper1\", \"Hopper1\", \"Hopper1\", null, \"Hopper1\", \"Hopper1\", \"Hopper1\", \"Hopper1\", null, \"Hopper1\", \"Hopper1\", \"Hopper1\", \"Hopper1\", null, \"Hopper1\", \"Hopper1\", \"Hopper1\", \"Hopper1\", null, \"Hopper1\", \"Hopper1\", \"Hopper1\", \"Hopper1\", null]}, {\"connectgaps\": false, \"hoverinfo\": \"y+name\", \"line\": {\"color\": \"rgb(34,13,82)\", \"width\": 10}, \"mode\": \"lines\", \"name\": \"f743dba4-83d7-48f2-ad76-19596802b3e7\", \"type\": \"scatter\", \"x\": [\"1970-01-01T00:16:42.824591\", \"1970-01-01T00:16:42.824591\", \"1970-01-01T00:32:25.649183\", \"1970-01-01T00:32:25.649183\", \"1970-01-01T00:32:25.649183\", \"1970-01-01T00:48:38.473774\", \"1970-01-01T00:48:38.473774\", \"1970-01-01T01:04:21.298365\", \"1970-01-01T01:04:21.298365\", \"1970-01-01T01:04:21.298365\", \"1970-01-01T01:20:54.122956\", \"1970-01-01T01:20:54.122956\", \"1970-01-01T01:36:36.947548\", \"1970-01-01T01:36:36.947548\", \"1970-01-01T01:36:36.947548\", \"1970-01-01T01:53:09.772139\", \"1970-01-01T01:53:09.772139\", \"1970-01-01T02:08:52.596730\", \"1970-01-01T02:08:52.596730\", \"1970-01-01T02:08:52.596730\", \"1970-01-01T02:25:25.421321\", \"1970-01-01T02:25:25.421321\", \"1970-01-01T02:41:08.245913\", \"1970-01-01T02:41:08.245913\", \"1970-01-01T02:41:08.245913\", \"1970-01-01T02:57:41.070504\", \"1970-01-01T02:57:41.070504\", \"1970-01-01T03:13:23.895095\", \"1970-01-01T03:13:23.895095\", \"1970-01-01T03:13:23.895095\", \"1970-01-01T03:29:56.719687\", \"1970-01-01T03:29:56.719687\", \"1970-01-01T03:45:39.544278\", \"1970-01-01T03:45:39.544278\", \"1970-01-01T03:45:39.544278\", \"1970-01-01T04:02:12.368869\", \"1970-01-01T04:02:12.368869\", \"1970-01-01T04:17:55.193460\", \"1970-01-01T04:17:55.193460\", \"1970-01-01T04:17:55.193460\"], \"y\": [\"Hopper1\", \"Hopper1\", \"Hopper1\", \"Hopper1\", null, \"Hopper1\", \"Hopper1\", \"Hopper1\", \"Hopper1\", null, \"Hopper1\", \"Hopper1\", \"Hopper1\", \"Hopper1\", null, \"Hopper1\", \"Hopper1\", \"Hopper1\", \"Hopper1\", null, \"Hopper1\", \"Hopper1\", \"Hopper1\", \"Hopper1\", null, \"Hopper1\", \"Hopper1\", \"Hopper1\", \"Hopper1\", null, \"Hopper1\", \"Hopper1\", \"Hopper1\", \"Hopper1\", null, \"Hopper1\", \"Hopper1\", \"Hopper1\", \"Hopper1\", null]}, {\"connectgaps\": false, \"hoverinfo\": \"y+name\", \"line\": {\"color\": \"rgb(51,30,99)\", \"width\": 10}, \"mode\": \"lines\", \"name\": \"d4655698-dbf9-41fa-9ab4-0ac2819c8b22\", \"type\": \"scatter\", \"x\": [\"1970-01-01T00:00:20\", \"1970-01-01T00:00:20\", \"1970-01-01T00:00:30\", \"1970-01-01T00:00:30\", \"1970-01-01T00:00:30\", \"1970-01-01T00:32:45.649183\", \"1970-01-01T00:32:45.649183\", \"1970-01-01T00:32:55.649183\", \"1970-01-01T00:32:55.649183\", \"1970-01-01T00:32:55.649183\", \"1970-01-01T01:05:01.298365\", \"1970-01-01T01:05:01.298365\", \"1970-01-01T01:05:11.298365\", \"1970-01-01T01:05:11.298365\", \"1970-01-01T01:05:11.298365\", \"1970-01-01T01:37:16.947548\", \"1970-01-01T01:37:16.947548\", \"1970-01-01T01:37:26.947548\", \"1970-01-01T01:37:26.947548\", \"1970-01-01T01:37:26.947548\", \"1970-01-01T02:09:32.596730\", \"1970-01-01T02:09:32.596730\", \"1970-01-01T02:09:42.596730\", \"1970-01-01T02:09:42.596730\", \"1970-01-01T02:09:42.596730\", \"1970-01-01T02:41:48.245913\", \"1970-01-01T02:41:48.245913\", \"1970-01-01T02:41:58.245913\", \"1970-01-01T02:41:58.245913\", \"1970-01-01T02:41:58.245913\", \"1970-01-01T03:14:03.895095\", \"1970-01-01T03:14:03.895095\", \"1970-01-01T03:14:13.895095\", \"1970-01-01T03:14:13.895095\", \"1970-01-01T03:14:13.895095\", \"1970-01-01T03:46:19.544278\", \"1970-01-01T03:46:19.544278\", \"1970-01-01T03:46:29.544278\", \"1970-01-01T03:46:29.544278\", \"1970-01-01T03:46:29.544278\", \"1970-01-01T00:00:20\", \"1970-01-01T00:00:20\", \"1970-01-01T00:00:30\", \"1970-01-01T00:00:30\", \"1970-01-01T00:00:30\", \"1970-01-01T00:32:45.649183\", \"1970-01-01T00:32:45.649183\", \"1970-01-01T00:32:55.649183\", \"1970-01-01T00:32:55.649183\", \"1970-01-01T00:32:55.649183\", \"1970-01-01T01:05:01.298365\", \"1970-01-01T01:05:01.298365\", \"1970-01-01T01:05:11.298365\", \"1970-01-01T01:05:11.298365\", \"1970-01-01T01:05:11.298365\", \"1970-01-01T01:37:16.947548\", \"1970-01-01T01:37:16.947548\", \"1970-01-01T01:37:26.947548\", \"1970-01-01T01:37:26.947548\", \"1970-01-01T01:37:26.947548\", \"1970-01-01T02:09:32.596730\", \"1970-01-01T02:09:32.596730\", \"1970-01-01T02:09:42.596730\", \"1970-01-01T02:09:42.596730\", \"1970-01-01T02:09:42.596730\", \"1970-01-01T02:41:48.245913\", \"1970-01-01T02:41:48.245913\", \"1970-01-01T02:41:58.245913\", \"1970-01-01T02:41:58.245913\", \"1970-01-01T02:41:58.245913\", \"1970-01-01T03:14:03.895095\", \"1970-01-01T03:14:03.895095\", \"1970-01-01T03:14:13.895095\", \"1970-01-01T03:14:13.895095\", \"1970-01-01T03:14:13.895095\", \"1970-01-01T03:46:19.544278\", \"1970-01-01T03:46:19.544278\", \"1970-01-01T03:46:29.544278\", \"1970-01-01T03:46:29.544278\", \"1970-01-01T03:46:29.544278\"], \"y\": [\"Cutter1\", \"Cutter1\", \"Cutter1\", \"Cutter1\", null, \"Cutter1\", \"Cutter1\", \"Cutter1\", \"Cutter1\", null, \"Cutter1\", \"Cutter1\", \"Cutter1\", \"Cutter1\", null, \"Cutter1\", \"Cutter1\", \"Cutter1\", \"Cutter1\", null, \"Cutter1\", \"Cutter1\", \"Cutter1\", \"Cutter1\", null, \"Cutter1\", \"Cutter1\", \"Cutter1\", \"Cutter1\", null, \"Cutter1\", \"Cutter1\", \"Cutter1\", \"Cutter1\", null, \"Cutter1\", \"Cutter1\", \"Cutter1\", \"Cutter1\", null, \"Hopper2\", \"Hopper2\", \"Hopper2\", \"Hopper2\", null, \"Hopper2\", \"Hopper2\", \"Hopper2\", \"Hopper2\", null, \"Hopper2\", \"Hopper2\", \"Hopper2\", \"Hopper2\", null, \"Hopper2\", \"Hopper2\", \"Hopper2\", \"Hopper2\", null, \"Hopper2\", \"Hopper2\", \"Hopper2\", \"Hopper2\", null, \"Hopper2\", \"Hopper2\", \"Hopper2\", \"Hopper2\", null, \"Hopper2\", \"Hopper2\", \"Hopper2\", \"Hopper2\", null, \"Hopper2\", \"Hopper2\", \"Hopper2\", \"Hopper2\", null]}, {\"connectgaps\": false, \"hoverinfo\": \"y+name\", \"line\": {\"color\": \"rgb(68,47,116)\", \"width\": 10}, \"mode\": \"lines\", \"name\": \"99340945-e7df-448f-b7d2-a81cc849cf85\", \"type\": \"scatter\", \"x\": [\"1970-01-01T00:16:42.824591\", \"1970-01-01T00:16:42.824591\", \"1970-01-01T00:32:25.649183\", \"1970-01-01T00:32:25.649183\", \"1970-01-01T00:32:25.649183\", \"1970-01-01T00:48:58.473774\", \"1970-01-01T00:48:58.473774\", \"1970-01-01T01:04:41.298365\", \"1970-01-01T01:04:41.298365\", \"1970-01-01T01:04:41.298365\", \"1970-01-01T01:21:14.122956\", \"1970-01-01T01:21:14.122956\", \"1970-01-01T01:36:56.947548\", \"1970-01-01T01:36:56.947548\", \"1970-01-01T01:36:56.947548\", \"1970-01-01T01:53:29.772139\", \"1970-01-01T01:53:29.772139\", \"1970-01-01T02:09:12.596730\", \"1970-01-01T02:09:12.596730\", \"1970-01-01T02:09:12.596730\", \"1970-01-01T02:25:45.421321\", \"1970-01-01T02:25:45.421321\", \"1970-01-01T02:41:28.245913\", \"1970-01-01T02:41:28.245913\", \"1970-01-01T02:41:28.245913\", \"1970-01-01T02:58:01.070504\", \"1970-01-01T02:58:01.070504\", \"1970-01-01T03:13:43.895095\", \"1970-01-01T03:13:43.895095\", \"1970-01-01T03:13:43.895095\", \"1970-01-01T03:30:16.719687\", \"1970-01-01T03:30:16.719687\", \"1970-01-01T03:45:59.544278\", \"1970-01-01T03:45:59.544278\", \"1970-01-01T03:45:59.544278\", \"1970-01-01T04:02:32.368869\", \"1970-01-01T04:02:32.368869\", \"1970-01-01T04:18:15.193460\", \"1970-01-01T04:18:15.193460\", \"1970-01-01T04:18:15.193460\"], \"y\": [\"Hopper2\", \"Hopper2\", \"Hopper2\", \"Hopper2\", null, \"Hopper2\", \"Hopper2\", \"Hopper2\", \"Hopper2\", null, \"Hopper2\", \"Hopper2\", \"Hopper2\", \"Hopper2\", null, \"Hopper2\", \"Hopper2\", \"Hopper2\", \"Hopper2\", null, \"Hopper2\", \"Hopper2\", \"Hopper2\", \"Hopper2\", null, \"Hopper2\", \"Hopper2\", \"Hopper2\", \"Hopper2\", null, \"Hopper2\", \"Hopper2\", \"Hopper2\", \"Hopper2\", null, \"Hopper2\", \"Hopper2\", \"Hopper2\", \"Hopper2\", null]}, {\"connectgaps\": false, \"hoverinfo\": \"y+name\", \"line\": {\"color\": \"rgb(85,64,133)\", \"width\": 10}, \"mode\": \"lines\", \"name\": \"5d08861f-cdef-4952-9922-5bc1acddb59d\", \"type\": \"scatter\", \"x\": [\"1970-01-01T00:00:30\", \"1970-01-01T00:00:30\", \"1970-01-01T00:16:12.824591\", \"1970-01-01T00:16:12.824591\", \"1970-01-01T00:16:12.824591\", \"1970-01-01T00:32:55.649183\", \"1970-01-01T00:32:55.649183\", \"1970-01-01T00:48:38.473774\", \"1970-01-01T00:48:38.473774\", \"1970-01-01T00:48:38.473774\", \"1970-01-01T01:05:11.298365\", \"1970-01-01T01:05:11.298365\", \"1970-01-01T01:20:54.122956\", \"1970-01-01T01:20:54.122956\", \"1970-01-01T01:20:54.122956\", \"1970-01-01T01:37:26.947548\", \"1970-01-01T01:37:26.947548\", \"1970-01-01T01:53:09.772139\", \"1970-01-01T01:53:09.772139\", \"1970-01-01T01:53:09.772139\", \"1970-01-01T02:09:42.596730\", \"1970-01-01T02:09:42.596730\", \"1970-01-01T02:25:25.421321\", \"1970-01-01T02:25:25.421321\", \"1970-01-01T02:25:25.421321\", \"1970-01-01T02:41:58.245913\", \"1970-01-01T02:41:58.245913\", \"1970-01-01T02:57:41.070504\", \"1970-01-01T02:57:41.070504\", \"1970-01-01T02:57:41.070504\", \"1970-01-01T03:14:13.895095\", \"1970-01-01T03:14:13.895095\", \"1970-01-01T03:29:56.719687\", \"1970-01-01T03:29:56.719687\", \"1970-01-01T03:29:56.719687\", \"1970-01-01T03:46:29.544278\", \"1970-01-01T03:46:29.544278\", \"1970-01-01T04:02:12.368869\", \"1970-01-01T04:02:12.368869\", \"1970-01-01T04:02:12.368869\"], \"y\": [\"Hopper2\", \"Hopper2\", \"Hopper2\", \"Hopper2\", null, \"Hopper2\", \"Hopper2\", \"Hopper2\", \"Hopper2\", null, \"Hopper2\", \"Hopper2\", \"Hopper2\", \"Hopper2\", null, \"Hopper2\", \"Hopper2\", \"Hopper2\", \"Hopper2\", null, \"Hopper2\", \"Hopper2\", \"Hopper2\", \"Hopper2\", null, \"Hopper2\", \"Hopper2\", \"Hopper2\", \"Hopper2\", null, \"Hopper2\", \"Hopper2\", \"Hopper2\", \"Hopper2\", null, \"Hopper2\", \"Hopper2\", \"Hopper2\", \"Hopper2\", null]}, {\"connectgaps\": false, \"hoverinfo\": \"y+name\", \"line\": {\"color\": \"rgb(102,81,150)\", \"width\": 10}, \"mode\": \"lines\", \"name\": \"5b12250f-6dc7-41d2-ac50-3aa80521c5fb\", \"type\": \"scatter\", \"x\": [\"1970-01-01T00:16:32.824591\", \"1970-01-01T00:16:32.824591\", \"1970-01-01T00:16:42.824591\", \"1970-01-01T00:16:42.824591\", \"1970-01-01T00:16:42.824591\", \"1970-01-01T00:48:48.473774\", \"1970-01-01T00:48:48.473774\", \"1970-01-01T00:48:58.473774\", \"1970-01-01T00:48:58.473774\", \"1970-01-01T00:48:58.473774\", \"1970-01-01T01:21:04.122956\", \"1970-01-01T01:21:04.122956\", \"1970-01-01T01:21:14.122956\", \"1970-01-01T01:21:14.122956\", \"1970-01-01T01:21:14.122956\", \"1970-01-01T01:53:19.772139\", \"1970-01-01T01:53:19.772139\", \"1970-01-01T01:53:29.772139\", \"1970-01-01T01:53:29.772139\", \"1970-01-01T01:53:29.772139\", \"1970-01-01T02:25:35.421321\", \"1970-01-01T02:25:35.421321\", \"1970-01-01T02:25:45.421321\", \"1970-01-01T02:25:45.421321\", \"1970-01-01T02:25:45.421321\", \"1970-01-01T02:57:51.070504\", \"1970-01-01T02:57:51.070504\", \"1970-01-01T02:58:01.070504\", \"1970-01-01T02:58:01.070504\", \"1970-01-01T02:58:01.070504\", \"1970-01-01T03:30:06.719687\", \"1970-01-01T03:30:06.719687\", \"1970-01-01T03:30:16.719687\", \"1970-01-01T03:30:16.719687\", \"1970-01-01T03:30:16.719687\", \"1970-01-01T04:02:22.368869\", \"1970-01-01T04:02:22.368869\", \"1970-01-01T04:02:32.368869\", \"1970-01-01T04:02:32.368869\", \"1970-01-01T04:02:32.368869\"], \"y\": [\"Hopper2\", \"Hopper2\", \"Hopper2\", \"Hopper2\", null, \"Hopper2\", \"Hopper2\", \"Hopper2\", \"Hopper2\", null, \"Hopper2\", \"Hopper2\", \"Hopper2\", \"Hopper2\", null, \"Hopper2\", \"Hopper2\", \"Hopper2\", \"Hopper2\", null, \"Hopper2\", \"Hopper2\", \"Hopper2\", \"Hopper2\", null, \"Hopper2\", \"Hopper2\", \"Hopper2\", \"Hopper2\", null, \"Hopper2\", \"Hopper2\", \"Hopper2\", \"Hopper2\", null, \"Hopper2\", \"Hopper2\", \"Hopper2\", \"Hopper2\", null]}, {\"connectgaps\": false, \"hoverinfo\": \"y+name\", \"line\": {\"color\": \"rgb(119,98,167)\", \"width\": 10}, \"mode\": \"lines\", \"name\": \"b802ebd6-d78e-41aa-924d-a88c9f8328b4\", \"type\": \"scatter\", \"x\": [\"1970-01-01T00:16:12.824591\", \"1970-01-01T00:16:12.824591\", \"1970-01-01T00:16:22.824591\", \"1970-01-01T00:16:22.824591\", \"1970-01-01T00:16:22.824591\", \"1970-01-01T00:48:38.473774\", \"1970-01-01T00:48:38.473774\", \"1970-01-01T00:48:48.473774\", \"1970-01-01T00:48:48.473774\", \"1970-01-01T00:48:48.473774\", \"1970-01-01T01:20:54.122956\", \"1970-01-01T01:20:54.122956\", \"1970-01-01T01:21:04.122956\", \"1970-01-01T01:21:04.122956\", \"1970-01-01T01:21:04.122956\", \"1970-01-01T01:53:09.772139\", \"1970-01-01T01:53:09.772139\", \"1970-01-01T01:53:19.772139\", \"1970-01-01T01:53:19.772139\", \"1970-01-01T01:53:19.772139\", \"1970-01-01T02:25:25.421321\", \"1970-01-01T02:25:25.421321\", \"1970-01-01T02:25:35.421321\", \"1970-01-01T02:25:35.421321\", \"1970-01-01T02:25:35.421321\", \"1970-01-01T02:57:41.070504\", \"1970-01-01T02:57:41.070504\", \"1970-01-01T02:57:51.070504\", \"1970-01-01T02:57:51.070504\", \"1970-01-01T02:57:51.070504\", \"1970-01-01T03:29:56.719687\", \"1970-01-01T03:29:56.719687\", \"1970-01-01T03:30:06.719687\", \"1970-01-01T03:30:06.719687\", \"1970-01-01T03:30:06.719687\", \"1970-01-01T04:02:12.368869\", \"1970-01-01T04:02:12.368869\", \"1970-01-01T04:02:22.368869\", \"1970-01-01T04:02:22.368869\", \"1970-01-01T04:02:22.368869\"], \"y\": [\"Hopper3\", \"Hopper3\", \"Hopper3\", \"Hopper3\", null, \"Hopper3\", \"Hopper3\", \"Hopper3\", \"Hopper3\", null, \"Hopper3\", \"Hopper3\", \"Hopper3\", \"Hopper3\", null, \"Hopper3\", \"Hopper3\", \"Hopper3\", \"Hopper3\", null, \"Hopper3\", \"Hopper3\", \"Hopper3\", \"Hopper3\", null, \"Hopper3\", \"Hopper3\", \"Hopper3\", \"Hopper3\", null, \"Hopper3\", \"Hopper3\", \"Hopper3\", \"Hopper3\", null, \"Hopper3\", \"Hopper3\", \"Hopper3\", \"Hopper3\", null]}, {\"connectgaps\": false, \"hoverinfo\": \"y+name\", \"line\": {\"color\": \"rgb(136,115,184)\", \"width\": 10}, \"mode\": \"lines\", \"name\": \"0374c4f3-d02c-43fc-a490-e294d58418fa\", \"type\": \"scatter\", \"x\": [\"1970-01-01T00:16:42.824591\", \"1970-01-01T00:16:42.824591\", \"1970-01-01T00:32:25.649183\", \"1970-01-01T00:32:25.649183\", \"1970-01-01T00:32:25.649183\", \"1970-01-01T00:48:48.473774\", \"1970-01-01T00:48:48.473774\", \"1970-01-01T01:04:31.298365\", \"1970-01-01T01:04:31.298365\", \"1970-01-01T01:04:31.298365\", \"1970-01-01T01:21:04.122956\", \"1970-01-01T01:21:04.122956\", \"1970-01-01T01:36:46.947548\", \"1970-01-01T01:36:46.947548\", \"1970-01-01T01:36:46.947548\", \"1970-01-01T01:53:19.772139\", \"1970-01-01T01:53:19.772139\", \"1970-01-01T02:09:02.596730\", \"1970-01-01T02:09:02.596730\", \"1970-01-01T02:09:02.596730\", \"1970-01-01T02:25:35.421321\", \"1970-01-01T02:25:35.421321\", \"1970-01-01T02:41:18.245913\", \"1970-01-01T02:41:18.245913\", \"1970-01-01T02:41:18.245913\", \"1970-01-01T02:57:51.070504\", \"1970-01-01T02:57:51.070504\", \"1970-01-01T03:13:33.895095\", \"1970-01-01T03:13:33.895095\", \"1970-01-01T03:13:33.895095\", \"1970-01-01T03:30:06.719687\", \"1970-01-01T03:30:06.719687\", \"1970-01-01T03:45:49.544278\", \"1970-01-01T03:45:49.544278\", \"1970-01-01T03:45:49.544278\", \"1970-01-01T04:02:22.368869\", \"1970-01-01T04:02:22.368869\", \"1970-01-01T04:18:05.193460\", \"1970-01-01T04:18:05.193460\", \"1970-01-01T04:18:05.193460\"], \"y\": [\"Hopper3\", \"Hopper3\", \"Hopper3\", \"Hopper3\", null, \"Hopper3\", \"Hopper3\", \"Hopper3\", \"Hopper3\", null, \"Hopper3\", \"Hopper3\", \"Hopper3\", \"Hopper3\", null, \"Hopper3\", \"Hopper3\", \"Hopper3\", \"Hopper3\", null, \"Hopper3\", \"Hopper3\", \"Hopper3\", \"Hopper3\", null, \"Hopper3\", \"Hopper3\", \"Hopper3\", \"Hopper3\", null, \"Hopper3\", \"Hopper3\", \"Hopper3\", \"Hopper3\", null, \"Hopper3\", \"Hopper3\", \"Hopper3\", \"Hopper3\", null]}, {\"connectgaps\": false, \"hoverinfo\": \"y+name\", \"line\": {\"color\": \"rgb(153,132,201)\", \"width\": 10}, \"mode\": \"lines\", \"name\": \"5216c1cb-c93b-491a-b355-b3afd8df7c8a\", \"type\": \"scatter\", \"x\": [\"1970-01-01T00:00:30\", \"1970-01-01T00:00:30\", \"1970-01-01T00:16:12.824591\", \"1970-01-01T00:16:12.824591\", \"1970-01-01T00:16:12.824591\", \"1970-01-01T00:32:45.649183\", \"1970-01-01T00:32:45.649183\", \"1970-01-01T00:48:28.473774\", \"1970-01-01T00:48:28.473774\", \"1970-01-01T00:48:28.473774\", \"1970-01-01T01:05:01.298365\", \"1970-01-01T01:05:01.298365\", \"1970-01-01T01:20:44.122956\", \"1970-01-01T01:20:44.122956\", \"1970-01-01T01:20:44.122956\", \"1970-01-01T01:37:16.947548\", \"1970-01-01T01:37:16.947548\", \"1970-01-01T01:52:59.772139\", \"1970-01-01T01:52:59.772139\", \"1970-01-01T01:52:59.772139\", \"1970-01-01T02:09:32.596730\", \"1970-01-01T02:09:32.596730\", \"1970-01-01T02:25:15.421321\", \"1970-01-01T02:25:15.421321\", \"1970-01-01T02:25:15.421321\", \"1970-01-01T02:41:48.245913\", \"1970-01-01T02:41:48.245913\", \"1970-01-01T02:57:31.070504\", \"1970-01-01T02:57:31.070504\", \"1970-01-01T02:57:31.070504\", \"1970-01-01T03:14:03.895095\", \"1970-01-01T03:14:03.895095\", \"1970-01-01T03:29:46.719687\", \"1970-01-01T03:29:46.719687\", \"1970-01-01T03:29:46.719687\", \"1970-01-01T03:46:19.544278\", \"1970-01-01T03:46:19.544278\", \"1970-01-01T04:02:02.368869\", \"1970-01-01T04:02:02.368869\", \"1970-01-01T04:02:02.368869\"], \"y\": [\"Hopper3\", \"Hopper3\", \"Hopper3\", \"Hopper3\", null, \"Hopper3\", \"Hopper3\", \"Hopper3\", \"Hopper3\", null, \"Hopper3\", \"Hopper3\", \"Hopper3\", \"Hopper3\", null, \"Hopper3\", \"Hopper3\", \"Hopper3\", \"Hopper3\", null, \"Hopper3\", \"Hopper3\", \"Hopper3\", \"Hopper3\", null, \"Hopper3\", \"Hopper3\", \"Hopper3\", \"Hopper3\", null, \"Hopper3\", \"Hopper3\", \"Hopper3\", \"Hopper3\", null, \"Hopper3\", \"Hopper3\", \"Hopper3\", \"Hopper3\", null]}, {\"connectgaps\": false, \"hoverinfo\": \"y+name\", \"line\": {\"color\": \"rgb(170,149,218)\", \"width\": 10}, \"mode\": \"lines\", \"name\": \"8e43d627-d75b-4d7f-895f-96573f7629c3\", \"type\": \"scatter\", \"x\": [\"1970-01-01T00:00:00\", \"1970-01-01T00:00:00\", \"1970-01-01T00:00:10\", \"1970-01-01T00:00:10\", \"1970-01-01T00:00:10\", \"1970-01-01T00:32:25.649183\", \"1970-01-01T00:32:25.649183\", \"1970-01-01T00:32:35.649183\", \"1970-01-01T00:32:35.649183\", \"1970-01-01T00:32:35.649183\", \"1970-01-01T01:04:41.298365\", \"1970-01-01T01:04:41.298365\", \"1970-01-01T01:04:51.298365\", \"1970-01-01T01:04:51.298365\", \"1970-01-01T01:04:51.298365\", \"1970-01-01T01:36:56.947548\", \"1970-01-01T01:36:56.947548\", \"1970-01-01T01:37:06.947548\", \"1970-01-01T01:37:06.947548\", \"1970-01-01T01:37:06.947548\", \"1970-01-01T02:09:12.596730\", \"1970-01-01T02:09:12.596730\", \"1970-01-01T02:09:22.596730\", \"1970-01-01T02:09:22.596730\", \"1970-01-01T02:09:22.596730\", \"1970-01-01T02:41:28.245913\", \"1970-01-01T02:41:28.245913\", \"1970-01-01T02:41:38.245913\", \"1970-01-01T02:41:38.245913\", \"1970-01-01T02:41:38.245913\", \"1970-01-01T03:13:43.895095\", \"1970-01-01T03:13:43.895095\", \"1970-01-01T03:13:53.895095\", \"1970-01-01T03:13:53.895095\", \"1970-01-01T03:13:53.895095\", \"1970-01-01T03:45:59.544278\", \"1970-01-01T03:45:59.544278\", \"1970-01-01T03:46:09.544278\", \"1970-01-01T03:46:09.544278\", \"1970-01-01T03:46:09.544278\", \"1970-01-01T00:00:00\", \"1970-01-01T00:00:00\", \"1970-01-01T00:00:10\", \"1970-01-01T00:00:10\", \"1970-01-01T00:00:10\", \"1970-01-01T00:32:25.649183\", \"1970-01-01T00:32:25.649183\", \"1970-01-01T00:32:35.649183\", \"1970-01-01T00:32:35.649183\", \"1970-01-01T00:32:35.649183\", \"1970-01-01T01:04:41.298365\", \"1970-01-01T01:04:41.298365\", \"1970-01-01T01:04:51.298365\", \"1970-01-01T01:04:51.298365\", \"1970-01-01T01:04:51.298365\", \"1970-01-01T01:36:56.947548\", \"1970-01-01T01:36:56.947548\", \"1970-01-01T01:37:06.947548\", \"1970-01-01T01:37:06.947548\", \"1970-01-01T01:37:06.947548\", \"1970-01-01T02:09:12.596730\", \"1970-01-01T02:09:12.596730\", \"1970-01-01T02:09:22.596730\", \"1970-01-01T02:09:22.596730\", \"1970-01-01T02:09:22.596730\", \"1970-01-01T02:41:28.245913\", \"1970-01-01T02:41:28.245913\", \"1970-01-01T02:41:38.245913\", \"1970-01-01T02:41:38.245913\", \"1970-01-01T02:41:38.245913\", \"1970-01-01T03:13:43.895095\", \"1970-01-01T03:13:43.895095\", \"1970-01-01T03:13:53.895095\", \"1970-01-01T03:13:53.895095\", \"1970-01-01T03:13:53.895095\", \"1970-01-01T03:45:59.544278\", \"1970-01-01T03:45:59.544278\", \"1970-01-01T03:46:09.544278\", \"1970-01-01T03:46:09.544278\", \"1970-01-01T03:46:09.544278\"], \"y\": [\"Cutter1\", \"Cutter1\", \"Cutter1\", \"Cutter1\", null, \"Cutter1\", \"Cutter1\", \"Cutter1\", \"Cutter1\", null, \"Cutter1\", \"Cutter1\", \"Cutter1\", \"Cutter1\", null, \"Cutter1\", \"Cutter1\", \"Cutter1\", \"Cutter1\", null, \"Cutter1\", \"Cutter1\", \"Cutter1\", \"Cutter1\", null, \"Cutter1\", \"Cutter1\", \"Cutter1\", \"Cutter1\", null, \"Cutter1\", \"Cutter1\", \"Cutter1\", \"Cutter1\", null, \"Cutter1\", \"Cutter1\", \"Cutter1\", \"Cutter1\", null, \"Hopper3\", \"Hopper3\", \"Hopper3\", \"Hopper3\", null, \"Hopper3\", \"Hopper3\", \"Hopper3\", \"Hopper3\", null, \"Hopper3\", \"Hopper3\", \"Hopper3\", \"Hopper3\", null, \"Hopper3\", \"Hopper3\", \"Hopper3\", \"Hopper3\", null, \"Hopper3\", \"Hopper3\", \"Hopper3\", \"Hopper3\", null, \"Hopper3\", \"Hopper3\", \"Hopper3\", \"Hopper3\", null, \"Hopper3\", \"Hopper3\", \"Hopper3\", \"Hopper3\", null, \"Hopper3\", \"Hopper3\", \"Hopper3\", \"Hopper3\", null]}],                        {\"hovermode\": \"closest\", \"legend\": {\"orientation\": \"h\", \"x\": 0, \"y\": -0.2}, \"template\": {\"data\": {\"bar\": [{\"error_x\": {\"color\": \"#2a3f5f\"}, \"error_y\": {\"color\": \"#2a3f5f\"}, \"marker\": {\"line\": {\"color\": \"#E5ECF6\", \"width\": 0.5}}, \"type\": \"bar\"}], \"barpolar\": [{\"marker\": {\"line\": {\"color\": \"#E5ECF6\", \"width\": 0.5}}, \"type\": \"barpolar\"}], \"carpet\": [{\"aaxis\": {\"endlinecolor\": \"#2a3f5f\", \"gridcolor\": \"white\", \"linecolor\": \"white\", \"minorgridcolor\": \"white\", \"startlinecolor\": \"#2a3f5f\"}, \"baxis\": {\"endlinecolor\": \"#2a3f5f\", \"gridcolor\": \"white\", \"linecolor\": \"white\", \"minorgridcolor\": \"white\", \"startlinecolor\": \"#2a3f5f\"}, \"type\": \"carpet\"}], \"choropleth\": [{\"colorbar\": {\"outlinewidth\": 0, \"ticks\": \"\"}, \"type\": \"choropleth\"}], \"contour\": [{\"colorbar\": {\"outlinewidth\": 0, \"ticks\": \"\"}, \"colorscale\": [[0.0, \"#0d0887\"], [0.1111111111111111, \"#46039f\"], [0.2222222222222222, \"#7201a8\"], [0.3333333333333333, \"#9c179e\"], [0.4444444444444444, \"#bd3786\"], [0.5555555555555556, \"#d8576b\"], [0.6666666666666666, \"#ed7953\"], [0.7777777777777778, \"#fb9f3a\"], [0.8888888888888888, \"#fdca26\"], [1.0, \"#f0f921\"]], \"type\": \"contour\"}], \"contourcarpet\": [{\"colorbar\": {\"outlinewidth\": 0, \"ticks\": \"\"}, \"type\": \"contourcarpet\"}], \"heatmap\": [{\"colorbar\": {\"outlinewidth\": 0, \"ticks\": \"\"}, \"colorscale\": [[0.0, \"#0d0887\"], [0.1111111111111111, \"#46039f\"], [0.2222222222222222, \"#7201a8\"], [0.3333333333333333, \"#9c179e\"], [0.4444444444444444, \"#bd3786\"], [0.5555555555555556, \"#d8576b\"], [0.6666666666666666, \"#ed7953\"], [0.7777777777777778, \"#fb9f3a\"], [0.8888888888888888, \"#fdca26\"], [1.0, \"#f0f921\"]], \"type\": \"heatmap\"}], \"heatmapgl\": [{\"colorbar\": {\"outlinewidth\": 0, \"ticks\": \"\"}, \"colorscale\": [[0.0, \"#0d0887\"], [0.1111111111111111, \"#46039f\"], [0.2222222222222222, \"#7201a8\"], [0.3333333333333333, \"#9c179e\"], [0.4444444444444444, \"#bd3786\"], [0.5555555555555556, \"#d8576b\"], [0.6666666666666666, \"#ed7953\"], [0.7777777777777778, \"#fb9f3a\"], [0.8888888888888888, \"#fdca26\"], [1.0, \"#f0f921\"]], \"type\": \"heatmapgl\"}], \"histogram\": [{\"marker\": {\"colorbar\": {\"outlinewidth\": 0, \"ticks\": \"\"}}, \"type\": \"histogram\"}], \"histogram2d\": [{\"colorbar\": {\"outlinewidth\": 0, \"ticks\": \"\"}, \"colorscale\": [[0.0, \"#0d0887\"], [0.1111111111111111, \"#46039f\"], [0.2222222222222222, \"#7201a8\"], [0.3333333333333333, \"#9c179e\"], [0.4444444444444444, \"#bd3786\"], [0.5555555555555556, \"#d8576b\"], [0.6666666666666666, \"#ed7953\"], [0.7777777777777778, \"#fb9f3a\"], [0.8888888888888888, \"#fdca26\"], [1.0, \"#f0f921\"]], \"type\": \"histogram2d\"}], \"histogram2dcontour\": [{\"colorbar\": {\"outlinewidth\": 0, \"ticks\": \"\"}, \"colorscale\": [[0.0, \"#0d0887\"], [0.1111111111111111, \"#46039f\"], [0.2222222222222222, \"#7201a8\"], [0.3333333333333333, \"#9c179e\"], [0.4444444444444444, \"#bd3786\"], [0.5555555555555556, \"#d8576b\"], [0.6666666666666666, \"#ed7953\"], [0.7777777777777778, \"#fb9f3a\"], [0.8888888888888888, \"#fdca26\"], [1.0, \"#f0f921\"]], \"type\": \"histogram2dcontour\"}], \"mesh3d\": [{\"colorbar\": {\"outlinewidth\": 0, \"ticks\": \"\"}, \"type\": \"mesh3d\"}], \"parcoords\": [{\"line\": {\"colorbar\": {\"outlinewidth\": 0, \"ticks\": \"\"}}, \"type\": \"parcoords\"}], \"pie\": [{\"automargin\": true, \"type\": \"pie\"}], \"scatter\": [{\"marker\": {\"colorbar\": {\"outlinewidth\": 0, \"ticks\": \"\"}}, \"type\": \"scatter\"}], \"scatter3d\": [{\"line\": {\"colorbar\": {\"outlinewidth\": 0, \"ticks\": \"\"}}, \"marker\": {\"colorbar\": {\"outlinewidth\": 0, \"ticks\": \"\"}}, \"type\": \"scatter3d\"}], \"scattercarpet\": [{\"marker\": {\"colorbar\": {\"outlinewidth\": 0, \"ticks\": \"\"}}, \"type\": \"scattercarpet\"}], \"scattergeo\": [{\"marker\": {\"colorbar\": {\"outlinewidth\": 0, \"ticks\": \"\"}}, \"type\": \"scattergeo\"}], \"scattergl\": [{\"marker\": {\"colorbar\": {\"outlinewidth\": 0, \"ticks\": \"\"}}, \"type\": \"scattergl\"}], \"scattermapbox\": [{\"marker\": {\"colorbar\": {\"outlinewidth\": 0, \"ticks\": \"\"}}, \"type\": \"scattermapbox\"}], \"scatterpolar\": [{\"marker\": {\"colorbar\": {\"outlinewidth\": 0, \"ticks\": \"\"}}, \"type\": \"scatterpolar\"}], \"scatterpolargl\": [{\"marker\": {\"colorbar\": {\"outlinewidth\": 0, \"ticks\": \"\"}}, \"type\": \"scatterpolargl\"}], \"scatterternary\": [{\"marker\": {\"colorbar\": {\"outlinewidth\": 0, \"ticks\": \"\"}}, \"type\": \"scatterternary\"}], \"surface\": [{\"colorbar\": {\"outlinewidth\": 0, \"ticks\": \"\"}, \"colorscale\": [[0.0, \"#0d0887\"], [0.1111111111111111, \"#46039f\"], [0.2222222222222222, \"#7201a8\"], [0.3333333333333333, \"#9c179e\"], [0.4444444444444444, \"#bd3786\"], [0.5555555555555556, \"#d8576b\"], [0.6666666666666666, \"#ed7953\"], [0.7777777777777778, \"#fb9f3a\"], [0.8888888888888888, \"#fdca26\"], [1.0, \"#f0f921\"]], \"type\": \"surface\"}], \"table\": [{\"cells\": {\"fill\": {\"color\": \"#EBF0F8\"}, \"line\": {\"color\": \"white\"}}, \"header\": {\"fill\": {\"color\": \"#C8D4E3\"}, \"line\": {\"color\": \"white\"}}, \"type\": \"table\"}]}, \"layout\": {\"annotationdefaults\": {\"arrowcolor\": \"#2a3f5f\", \"arrowhead\": 0, \"arrowwidth\": 1}, \"autotypenumbers\": \"strict\", \"coloraxis\": {\"colorbar\": {\"outlinewidth\": 0, \"ticks\": \"\"}}, \"colorscale\": {\"diverging\": [[0, \"#8e0152\"], [0.1, \"#c51b7d\"], [0.2, \"#de77ae\"], [0.3, \"#f1b6da\"], [0.4, \"#fde0ef\"], [0.5, \"#f7f7f7\"], [0.6, \"#e6f5d0\"], [0.7, \"#b8e186\"], [0.8, \"#7fbc41\"], [0.9, \"#4d9221\"], [1, \"#276419\"]], \"sequential\": [[0.0, \"#0d0887\"], [0.1111111111111111, \"#46039f\"], [0.2222222222222222, \"#7201a8\"], [0.3333333333333333, \"#9c179e\"], [0.4444444444444444, \"#bd3786\"], [0.5555555555555556, \"#d8576b\"], [0.6666666666666666, \"#ed7953\"], [0.7777777777777778, \"#fb9f3a\"], [0.8888888888888888, \"#fdca26\"], [1.0, \"#f0f921\"]], \"sequentialminus\": [[0.0, \"#0d0887\"], [0.1111111111111111, \"#46039f\"], [0.2222222222222222, \"#7201a8\"], [0.3333333333333333, \"#9c179e\"], [0.4444444444444444, \"#bd3786\"], [0.5555555555555556, \"#d8576b\"], [0.6666666666666666, \"#ed7953\"], [0.7777777777777778, \"#fb9f3a\"], [0.8888888888888888, \"#fdca26\"], [1.0, \"#f0f921\"]]}, \"colorway\": [\"#636efa\", \"#EF553B\", \"#00cc96\", \"#ab63fa\", \"#FFA15A\", \"#19d3f3\", \"#FF6692\", \"#B6E880\", \"#FF97FF\", \"#FECB52\"], \"font\": {\"color\": \"#2a3f5f\"}, \"geo\": {\"bgcolor\": \"white\", \"lakecolor\": \"white\", \"landcolor\": \"#E5ECF6\", \"showlakes\": true, \"showland\": true, \"subunitcolor\": \"white\"}, \"hoverlabel\": {\"align\": \"left\"}, \"hovermode\": \"closest\", \"mapbox\": {\"style\": \"light\"}, \"paper_bgcolor\": \"white\", \"plot_bgcolor\": \"#E5ECF6\", \"polar\": {\"angularaxis\": {\"gridcolor\": \"white\", \"linecolor\": \"white\", \"ticks\": \"\"}, \"bgcolor\": \"#E5ECF6\", \"radialaxis\": {\"gridcolor\": \"white\", \"linecolor\": \"white\", \"ticks\": \"\"}}, \"scene\": {\"xaxis\": {\"backgroundcolor\": \"#E5ECF6\", \"gridcolor\": \"white\", \"gridwidth\": 2, \"linecolor\": \"white\", \"showbackground\": true, \"ticks\": \"\", \"zerolinecolor\": \"white\"}, \"yaxis\": {\"backgroundcolor\": \"#E5ECF6\", \"gridcolor\": \"white\", \"gridwidth\": 2, \"linecolor\": \"white\", \"showbackground\": true, \"ticks\": \"\", \"zerolinecolor\": \"white\"}, \"zaxis\": {\"backgroundcolor\": \"#E5ECF6\", \"gridcolor\": \"white\", \"gridwidth\": 2, \"linecolor\": \"white\", \"showbackground\": true, \"ticks\": \"\", \"zerolinecolor\": \"white\"}}, \"shapedefaults\": {\"line\": {\"color\": \"#2a3f5f\"}}, \"ternary\": {\"aaxis\": {\"gridcolor\": \"white\", \"linecolor\": \"white\", \"ticks\": \"\"}, \"baxis\": {\"gridcolor\": \"white\", \"linecolor\": \"white\", \"ticks\": \"\"}, \"bgcolor\": \"#E5ECF6\", \"caxis\": {\"gridcolor\": \"white\", \"linecolor\": \"white\", \"ticks\": \"\"}}, \"title\": {\"x\": 0.05}, \"xaxis\": {\"automargin\": true, \"gridcolor\": \"white\", \"linecolor\": \"white\", \"ticks\": \"\", \"title\": {\"standoff\": 15}, \"zerolinecolor\": \"white\", \"zerolinewidth\": 2}, \"yaxis\": {\"automargin\": true, \"gridcolor\": \"white\", \"linecolor\": \"white\", \"ticks\": \"\", \"title\": {\"standoff\": 15}, \"zerolinecolor\": \"white\", \"zerolinewidth\": 2}}}, \"title\": {\"text\": \"Vessel planning\"}, \"xaxis\": {\"range\": [\"1970-01-01T00:00:00\", \"1970-01-01T04:18:15.193460\"], \"title\": {\"font\": {\"color\": \"#7f7f7f\", \"family\": \"Courier New, monospace\", \"size\": 18}, \"text\": \"Time\"}}, \"yaxis\": {\"title\": {\"font\": {\"color\": \"#7f7f7f\", \"family\": \"Courier New, monospace\", \"size\": 18}, \"text\": \"Vessels\"}}},                        {\"responsive\": true}                    ).then(function(){\n",
       "                            \n",
       "var gd = document.getElementById('4f036f89-d428-4efb-a18c-c03fdf9aaea7');\n",
       "var x = new MutationObserver(function (mutations, observer) {{\n",
       "        var display = window.getComputedStyle(gd).display;\n",
       "        if (!display || display === 'none') {{\n",
       "            console.log([gd, 'removed!']);\n",
       "            Plotly.purge(gd);\n",
       "            observer.disconnect();\n",
       "        }}\n",
       "}});\n",
       "\n",
       "// Listen for the removal of the full notebook cells\n",
       "var notebookContainer = gd.closest('#notebook-container');\n",
       "if (notebookContainer) {{\n",
       "    x.observe(notebookContainer, {childList: true});\n",
       "}}\n",
       "\n",
       "// Listen for the clearing of the current output cell\n",
       "var outputEl = gd.closest('.output');\n",
       "if (outputEl) {{\n",
       "    x.observe(outputEl, {childList: true});\n",
       "}}\n",
       "\n",
       "                        })                };                });            </script>        </div>"
      ]
     },
     "metadata": {},
     "output_type": "display_data"
    }
   ],
   "source": [
    "\n",
    "plot.vessel_planning([cutter1, cutter2,hopper1, hopper2, hopper3])"
   ]
  },
  {
   "cell_type": "code",
   "execution_count": null,
   "metadata": {},
   "outputs": [],
   "source": []
  }
 ],
 "metadata": {
  "kernelspec": {
   "display_name": "Python 3",
   "language": "python",
   "name": "python3"
  },
  "language_info": {
   "codemirror_mode": {
    "name": "ipython",
    "version": 3
   },
   "file_extension": ".py",
   "mimetype": "text/x-python",
   "name": "python",
   "nbconvert_exporter": "python",
   "pygments_lexer": "ipython3",
   "version": "3.7.3"
  }
 },
 "nbformat": 4,
 "nbformat_minor": 2
}
