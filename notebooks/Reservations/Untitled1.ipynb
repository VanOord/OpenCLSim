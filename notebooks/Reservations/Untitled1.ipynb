{
 "cells": [
  {
   "cell_type": "code",
   "execution_count": 1,
   "id": "regulation-knock",
   "metadata": {},
   "outputs": [],
   "source": [
    "import datetime\n",
    "import time\n",
    "import uuid\n",
    "\n",
    "import numpy as np\n",
    "# package(s) for data handling\n",
    "import pandas as pd\n",
    "import shapely.geometry\n",
    "import simpy\n",
    "\n",
    "import openclsim.core as core\n",
    "import openclsim.model as model\n",
    "import openclsim.plot as plot\n",
    "\n",
    "# setup environment\n",
    "simulation_start = 0\n",
    "my_env = simpy.Environment(initial_time=simulation_start)\n",
    "registry = {}"
   ]
  },
  {
   "cell_type": "code",
   "execution_count": 2,
   "id": "champion-astronomy",
   "metadata": {},
   "outputs": [],
   "source": [
    "Site = type(\n",
    "    \"Site\",\n",
    "    (\n",
    "        core.Identifiable,\n",
    "        core.Log,\n",
    "        core.Locatable,\n",
    "        core.HasMultiContainer,\n",
    "        core.HasResource,\n",
    "    ),\n",
    "    {},\n",
    ")\n",
    "\n",
    "TransportProcessingResource = type(\n",
    "    \"TransportProcessingResource\",\n",
    "    (\n",
    "        core.Identifiable,\n",
    "        core.Log,\n",
    "        core.MultiContainerDependentMovable,\n",
    "        core.Processor,\n",
    "        core.HasResource,\n",
    "    ),\n",
    "    {\"key\": \"MultiStoreHopper\"},\n",
    ")"
   ]
  },
  {
   "cell_type": "code",
   "execution_count": 3,
   "id": "nominated-ozone",
   "metadata": {},
   "outputs": [],
   "source": [
    "location_from_site = shapely.geometry.Point(4.18055556, 52.18664444)\n",
    "location_to_site = shapely.geometry.Point(4.25222222, 52.11428333)\n",
    "\n",
    "from_site = Site(\n",
    "    env=my_env,\n",
    "    name=\"Winlocatie\",\n",
    "    ID=str(uuid.uuid4()),\n",
    "    geometry=location_from_site,\n",
    "    store_capacity=4,\n",
    "    nr_resources=1,\n",
    "    initials=[\n",
    "        {\"id\": \"MP\", \"level\": 10, \"capacity\": 10},\n",
    "    ],\n",
    ")\n",
    "to_site = Site(\n",
    "    env=my_env,\n",
    "    name=\"Dumplocatie\",\n",
    "    ID=str(uuid.uuid4()),\n",
    "    geometry=location_to_site,\n",
    "    store_capacity=4,\n",
    "    nr_resources=1,\n",
    "    initials=[\n",
    "        {\"id\": \"MP\", \"level\": 0, \"capacity\": 10},\n",
    "    ],\n",
    ")"
   ]
  },
  {
   "cell_type": "code",
   "execution_count": 4,
   "id": "micro-legend",
   "metadata": {},
   "outputs": [],
   "source": [
    "vessel_1 = TransportProcessingResource(\n",
    "    env=my_env,\n",
    "    name=\"Vessel 01\",\n",
    "    ID=str(uuid.uuid4()),\n",
    "    geometry=location_from_site,\n",
    "    store_capacity=4,\n",
    "    nr_resources=1,\n",
    "    compute_v=lambda x: 10,\n",
    "    initials=[\n",
    "        {\"id\": \"MP\", \"level\": 0, \"capacity\": 1},\n",
    "    ],\n",
    ")\n",
    "vessel_2 = TransportProcessingResource(\n",
    "    env=my_env,\n",
    "    name=\"Vessel 02\",\n",
    "    ID=str(uuid.uuid4()),\n",
    "    geometry=location_from_site,\n",
    "    store_capacity=4,\n",
    "    nr_resources=1,\n",
    "    compute_v=lambda x: 10,\n",
    "    initials=[\n",
    "        {\"id\": \"MP\", \"level\": 0, \"capacity\": 1},\n",
    "    ],\n",
    ")"
   ]
  },
  {
   "cell_type": "code",
   "execution_count": 5,
   "id": "upper-regular",
   "metadata": {},
   "outputs": [],
   "source": [
    "processes = []\n",
    "for i, vessel in enumerate([vessel_1,vessel_2]):\n",
    "    requested_resources1 = {}\n",
    "    processes.append(\n",
    "        model.WhileActivity(\n",
    "            env=my_env,\n",
    "            name=f\"while {vessel.name}\",\n",
    "            ID=str(uuid.uuid4()),\n",
    "            registry=registry,\n",
    "            sub_processes=[\n",
    "                model.SequentialActivity(\n",
    "                    env=my_env,\n",
    "                    name=f\"sequence {vessel.name}\",\n",
    "                    ID=str(uuid.uuid4()),\n",
    "                    registry=registry,\n",
    "                    sub_processes=[\n",
    "                        model.MoveActivity(\n",
    "                            env=my_env,\n",
    "                            name=f\"sailing empty {vessel.name}\",\n",
    "                            ID=str(uuid.uuid4()),\n",
    "                            registry=registry,\n",
    "                            mover=vessel,\n",
    "                            destination=from_site,\n",
    "                            duration=10,\n",
    "                            requested_resources=requested_resources1,\n",
    "                        ),\n",
    "                        model.ShiftAmountActivity(\n",
    "                            env=my_env,\n",
    "                            name=f\"Load MP {vessel.name}\",\n",
    "                            ID=str(uuid.uuid4()),\n",
    "                            registry=registry,\n",
    "                            processor=vessel,\n",
    "                            origin=from_site,\n",
    "                            destination=vessel,\n",
    "                            amount=1,\n",
    "                            duration=10,\n",
    "                            id_=\"MP\",\n",
    "                            requested_resources=requested_resources1,\n",
    "                        ),\n",
    "                        model.MoveActivity(\n",
    "                            env=my_env,\n",
    "                            name=f\"sailing filled {vessel.name}\",\n",
    "                            ID=str(uuid.uuid4()),\n",
    "                            registry=registry,\n",
    "                            mover=vessel,\n",
    "                            destination=to_site,\n",
    "                            duration=10,\n",
    "                            requested_resources=requested_resources1,\n",
    "                        ),\n",
    "                        model.ShiftAmountActivity(\n",
    "                            env=my_env,\n",
    "                            name=f\"Transfer MP {vessel.name}\",\n",
    "                            ID=str(uuid.uuid4()),\n",
    "                            registry=registry,\n",
    "                            processor=vessel,\n",
    "                            origin=vessel,\n",
    "                            destination=to_site,\n",
    "                            amount=1,\n",
    "                            duration=10,\n",
    "                            id_=\"MP\",\n",
    "                            requested_resources=requested_resources1,\n",
    "                        ),\n",
    "                    ],\n",
    "                )\n",
    "            ],\n",
    "            condition_event={\"type\": \"container\",\"concept\": from_site,\"state\": \"empty\", \"id_\":\"MP\"},\n",
    "        )\n",
    "    )"
   ]
  },
  {
   "cell_type": "code",
   "execution_count": 6,
   "id": "involved-routine",
   "metadata": {},
   "outputs": [
    {
     "name": "stdout",
     "output_type": "stream",
     "text": [
      "Winlocatie 8\n",
      "Winlocatie 7\n",
      "Winlocatie 6\n",
      "Winlocatie 5\n",
      "Winlocatie 4\n",
      "Winlocatie 3\n",
      "Winlocatie 2\n",
      "Winlocatie 1\n",
      "Winlocatie 0\n",
      "Winlocatie 0\n"
     ]
    }
   ],
   "source": [
    "model.register_processes([\n",
    "    *processes\n",
    "])\n",
    "my_env.run()"
   ]
  },
  {
   "cell_type": "code",
   "execution_count": 7,
   "id": "straight-forge",
   "metadata": {},
   "outputs": [
    {
     "data": {
      "text/html": [
       "        <script type=\"text/javascript\">\n",
       "        window.PlotlyConfig = {MathJaxConfig: 'local'};\n",
       "        if (window.MathJax) {MathJax.Hub.Config({SVG: {font: \"STIX-Web\"}});}\n",
       "        if (typeof require !== 'undefined') {\n",
       "        require.undef(\"plotly\");\n",
       "        requirejs.config({\n",
       "            paths: {\n",
       "                'plotly': ['https://cdn.plot.ly/plotly-latest.min']\n",
       "            }\n",
       "        });\n",
       "        require(['plotly'], function(Plotly) {\n",
       "            window._Plotly = Plotly;\n",
       "        });\n",
       "        }\n",
       "        </script>\n",
       "        "
      ]
     },
     "metadata": {},
     "output_type": "display_data"
    },
    {
     "data": {
      "application/vnd.plotly.v1+json": {
       "config": {
        "linkText": "Export to plot.ly",
        "plotlyServerURL": "https://plot.ly",
        "showLink": false
       },
       "data": [
        {
         "connectgaps": false,
         "hoverinfo": "y+name",
         "line": {
          "color": "rgb(153,217,128)",
          "width": 10
         },
         "mode": "lines",
         "name": "sailing empty Vessel 01",
         "type": "scatter",
         "x": [
          "1970-01-01T00:00:00",
          "1970-01-01T00:00:00",
          "1970-01-01T00:00:10",
          "1970-01-01T00:00:10",
          "1970-01-01T00:00:10",
          "1970-01-01T00:00:50",
          "1970-01-01T00:00:50",
          "1970-01-01T00:01:00",
          "1970-01-01T00:01:00",
          "1970-01-01T00:01:00",
          "1970-01-01T00:01:30",
          "1970-01-01T00:01:30",
          "1970-01-01T00:01:40",
          "1970-01-01T00:01:40",
          "1970-01-01T00:01:40",
          "1970-01-01T00:02:10",
          "1970-01-01T00:02:10",
          "1970-01-01T00:02:20",
          "1970-01-01T00:02:20",
          "1970-01-01T00:02:20",
          "1970-01-01T00:02:50",
          "1970-01-01T00:02:50",
          "1970-01-01T00:03:00",
          "1970-01-01T00:03:00",
          "1970-01-01T00:03:00"
         ],
         "y": [
          "sailing empty Vessel 01",
          "sailing empty Vessel 01",
          "sailing empty Vessel 01",
          "sailing empty Vessel 01",
          null,
          "sailing empty Vessel 01",
          "sailing empty Vessel 01",
          "sailing empty Vessel 01",
          "sailing empty Vessel 01",
          null,
          "sailing empty Vessel 01",
          "sailing empty Vessel 01",
          "sailing empty Vessel 01",
          "sailing empty Vessel 01",
          null,
          "sailing empty Vessel 01",
          "sailing empty Vessel 01",
          "sailing empty Vessel 01",
          "sailing empty Vessel 01",
          null,
          "sailing empty Vessel 01",
          "sailing empty Vessel 01",
          "sailing empty Vessel 01",
          "sailing empty Vessel 01",
          null
         ]
        },
        {
         "connectgaps": false,
         "hoverinfo": "y+name",
         "line": {
          "color": "rgb(185,249,160)",
          "width": 10
         },
         "mode": "lines",
         "name": "Load MP Vessel 01",
         "type": "scatter",
         "x": [
          "1970-01-01T00:00:20",
          "1970-01-01T00:00:20",
          "1970-01-01T00:00:30",
          "1970-01-01T00:00:30",
          "1970-01-01T00:00:30",
          "1970-01-01T00:01:00",
          "1970-01-01T00:01:00",
          "1970-01-01T00:01:10",
          "1970-01-01T00:01:10",
          "1970-01-01T00:01:10",
          "1970-01-01T00:01:40",
          "1970-01-01T00:01:40",
          "1970-01-01T00:01:50",
          "1970-01-01T00:01:50",
          "1970-01-01T00:01:50",
          "1970-01-01T00:02:20",
          "1970-01-01T00:02:20",
          "1970-01-01T00:02:30",
          "1970-01-01T00:02:30",
          "1970-01-01T00:02:30",
          "1970-01-01T00:03:00",
          "1970-01-01T00:03:00",
          "1970-01-01T00:03:10",
          "1970-01-01T00:03:10",
          "1970-01-01T00:03:10"
         ],
         "y": [
          "Load MP Vessel 01",
          "Load MP Vessel 01",
          "Load MP Vessel 01",
          "Load MP Vessel 01",
          null,
          "Load MP Vessel 01",
          "Load MP Vessel 01",
          "Load MP Vessel 01",
          "Load MP Vessel 01",
          null,
          "Load MP Vessel 01",
          "Load MP Vessel 01",
          "Load MP Vessel 01",
          "Load MP Vessel 01",
          null,
          "Load MP Vessel 01",
          "Load MP Vessel 01",
          "Load MP Vessel 01",
          "Load MP Vessel 01",
          null,
          "Load MP Vessel 01",
          "Load MP Vessel 01",
          "Load MP Vessel 01",
          "Load MP Vessel 01",
          null
         ]
        },
        {
         "connectgaps": false,
         "hoverinfo": "y+name",
         "line": {
          "color": "rgb(217,25,192)",
          "width": 10
         },
         "mode": "lines",
         "name": "sailing filled Vessel 01",
         "type": "scatter",
         "x": [
          "1970-01-01T00:00:30",
          "1970-01-01T00:00:30",
          "1970-01-01T00:00:40",
          "1970-01-01T00:00:40",
          "1970-01-01T00:00:40",
          "1970-01-01T00:01:10",
          "1970-01-01T00:01:10",
          "1970-01-01T00:01:20",
          "1970-01-01T00:01:20",
          "1970-01-01T00:01:20",
          "1970-01-01T00:01:50",
          "1970-01-01T00:01:50",
          "1970-01-01T00:02:00",
          "1970-01-01T00:02:00",
          "1970-01-01T00:02:00",
          "1970-01-01T00:02:30",
          "1970-01-01T00:02:30",
          "1970-01-01T00:02:40",
          "1970-01-01T00:02:40",
          "1970-01-01T00:02:40",
          "1970-01-01T00:03:10",
          "1970-01-01T00:03:10",
          "1970-01-01T00:03:20",
          "1970-01-01T00:03:20",
          "1970-01-01T00:03:20"
         ],
         "y": [
          "sailing filled Vessel 01",
          "sailing filled Vessel 01",
          "sailing filled Vessel 01",
          "sailing filled Vessel 01",
          null,
          "sailing filled Vessel 01",
          "sailing filled Vessel 01",
          "sailing filled Vessel 01",
          "sailing filled Vessel 01",
          null,
          "sailing filled Vessel 01",
          "sailing filled Vessel 01",
          "sailing filled Vessel 01",
          "sailing filled Vessel 01",
          null,
          "sailing filled Vessel 01",
          "sailing filled Vessel 01",
          "sailing filled Vessel 01",
          "sailing filled Vessel 01",
          null,
          "sailing filled Vessel 01",
          "sailing filled Vessel 01",
          "sailing filled Vessel 01",
          "sailing filled Vessel 01",
          null
         ]
        },
        {
         "connectgaps": false,
         "hoverinfo": "y+name",
         "line": {
          "color": "rgb(249,57,224)",
          "width": 10
         },
         "mode": "lines",
         "name": "Transfer MP Vessel 01",
         "type": "scatter",
         "x": [
          "1970-01-01T00:00:40",
          "1970-01-01T00:00:40",
          "1970-01-01T00:00:50",
          "1970-01-01T00:00:50",
          "1970-01-01T00:00:50",
          "1970-01-01T00:01:20",
          "1970-01-01T00:01:20",
          "1970-01-01T00:01:30",
          "1970-01-01T00:01:30",
          "1970-01-01T00:01:30",
          "1970-01-01T00:02:00",
          "1970-01-01T00:02:00",
          "1970-01-01T00:02:10",
          "1970-01-01T00:02:10",
          "1970-01-01T00:02:10",
          "1970-01-01T00:02:40",
          "1970-01-01T00:02:40",
          "1970-01-01T00:02:50",
          "1970-01-01T00:02:50",
          "1970-01-01T00:02:50",
          "1970-01-01T00:03:20",
          "1970-01-01T00:03:20",
          "1970-01-01T00:03:30",
          "1970-01-01T00:03:30",
          "1970-01-01T00:03:30"
         ],
         "y": [
          "Transfer MP Vessel 01",
          "Transfer MP Vessel 01",
          "Transfer MP Vessel 01",
          "Transfer MP Vessel 01",
          null,
          "Transfer MP Vessel 01",
          "Transfer MP Vessel 01",
          "Transfer MP Vessel 01",
          "Transfer MP Vessel 01",
          null,
          "Transfer MP Vessel 01",
          "Transfer MP Vessel 01",
          "Transfer MP Vessel 01",
          "Transfer MP Vessel 01",
          null,
          "Transfer MP Vessel 01",
          "Transfer MP Vessel 01",
          "Transfer MP Vessel 01",
          "Transfer MP Vessel 01",
          null,
          "Transfer MP Vessel 01",
          "Transfer MP Vessel 01",
          "Transfer MP Vessel 01",
          "Transfer MP Vessel 01",
          null
         ]
        },
        {
         "connectgaps": false,
         "hoverinfo": "y+name",
         "line": {
          "color": "rgb(25,89,0)",
          "width": 10
         },
         "mode": "lines",
         "name": "sailing empty Vessel 02",
         "type": "scatter",
         "x": [
          "1970-01-01T00:00:00",
          "1970-01-01T00:00:00",
          "1970-01-01T00:00:10",
          "1970-01-01T00:00:10",
          "1970-01-01T00:00:10",
          "1970-01-01T00:00:40",
          "1970-01-01T00:00:40",
          "1970-01-01T00:00:50",
          "1970-01-01T00:00:50",
          "1970-01-01T00:00:50",
          "1970-01-01T00:01:20",
          "1970-01-01T00:01:20",
          "1970-01-01T00:01:30",
          "1970-01-01T00:01:30",
          "1970-01-01T00:01:30",
          "1970-01-01T00:02:00",
          "1970-01-01T00:02:00",
          "1970-01-01T00:02:10",
          "1970-01-01T00:02:10",
          "1970-01-01T00:02:10",
          "1970-01-01T00:02:40",
          "1970-01-01T00:02:40",
          "1970-01-01T00:02:50",
          "1970-01-01T00:02:50",
          "1970-01-01T00:02:50"
         ],
         "y": [
          "sailing empty Vessel 02",
          "sailing empty Vessel 02",
          "sailing empty Vessel 02",
          "sailing empty Vessel 02",
          null,
          "sailing empty Vessel 02",
          "sailing empty Vessel 02",
          "sailing empty Vessel 02",
          "sailing empty Vessel 02",
          null,
          "sailing empty Vessel 02",
          "sailing empty Vessel 02",
          "sailing empty Vessel 02",
          "sailing empty Vessel 02",
          null,
          "sailing empty Vessel 02",
          "sailing empty Vessel 02",
          "sailing empty Vessel 02",
          "sailing empty Vessel 02",
          null,
          "sailing empty Vessel 02",
          "sailing empty Vessel 02",
          "sailing empty Vessel 02",
          "sailing empty Vessel 02",
          null
         ]
        },
        {
         "connectgaps": false,
         "hoverinfo": "y+name",
         "line": {
          "color": "rgb(57,121,32)",
          "width": 10
         },
         "mode": "lines",
         "name": "Load MP Vessel 02",
         "type": "scatter",
         "x": [
          "1970-01-01T00:00:10",
          "1970-01-01T00:00:10",
          "1970-01-01T00:00:20",
          "1970-01-01T00:00:20",
          "1970-01-01T00:00:20",
          "1970-01-01T00:00:50",
          "1970-01-01T00:00:50",
          "1970-01-01T00:01:00",
          "1970-01-01T00:01:00",
          "1970-01-01T00:01:00",
          "1970-01-01T00:01:30",
          "1970-01-01T00:01:30",
          "1970-01-01T00:01:40",
          "1970-01-01T00:01:40",
          "1970-01-01T00:01:40",
          "1970-01-01T00:02:10",
          "1970-01-01T00:02:10",
          "1970-01-01T00:02:20",
          "1970-01-01T00:02:20",
          "1970-01-01T00:02:20",
          "1970-01-01T00:02:50",
          "1970-01-01T00:02:50",
          "1970-01-01T00:03:00",
          "1970-01-01T00:03:00",
          "1970-01-01T00:03:00"
         ],
         "y": [
          "Load MP Vessel 02",
          "Load MP Vessel 02",
          "Load MP Vessel 02",
          "Load MP Vessel 02",
          null,
          "Load MP Vessel 02",
          "Load MP Vessel 02",
          "Load MP Vessel 02",
          "Load MP Vessel 02",
          null,
          "Load MP Vessel 02",
          "Load MP Vessel 02",
          "Load MP Vessel 02",
          "Load MP Vessel 02",
          null,
          "Load MP Vessel 02",
          "Load MP Vessel 02",
          "Load MP Vessel 02",
          "Load MP Vessel 02",
          null,
          "Load MP Vessel 02",
          "Load MP Vessel 02",
          "Load MP Vessel 02",
          "Load MP Vessel 02",
          null
         ]
        },
        {
         "connectgaps": false,
         "hoverinfo": "y+name",
         "line": {
          "color": "rgb(89,153,64)",
          "width": 10
         },
         "mode": "lines",
         "name": "sailing filled Vessel 02",
         "type": "scatter",
         "x": [
          "1970-01-01T00:00:20",
          "1970-01-01T00:00:20",
          "1970-01-01T00:00:30",
          "1970-01-01T00:00:30",
          "1970-01-01T00:00:30",
          "1970-01-01T00:01:00",
          "1970-01-01T00:01:00",
          "1970-01-01T00:01:10",
          "1970-01-01T00:01:10",
          "1970-01-01T00:01:10",
          "1970-01-01T00:01:40",
          "1970-01-01T00:01:40",
          "1970-01-01T00:01:50",
          "1970-01-01T00:01:50",
          "1970-01-01T00:01:50",
          "1970-01-01T00:02:20",
          "1970-01-01T00:02:20",
          "1970-01-01T00:02:30",
          "1970-01-01T00:02:30",
          "1970-01-01T00:02:30",
          "1970-01-01T00:03:00",
          "1970-01-01T00:03:00",
          "1970-01-01T00:03:10",
          "1970-01-01T00:03:10",
          "1970-01-01T00:03:10"
         ],
         "y": [
          "sailing filled Vessel 02",
          "sailing filled Vessel 02",
          "sailing filled Vessel 02",
          "sailing filled Vessel 02",
          null,
          "sailing filled Vessel 02",
          "sailing filled Vessel 02",
          "sailing filled Vessel 02",
          "sailing filled Vessel 02",
          null,
          "sailing filled Vessel 02",
          "sailing filled Vessel 02",
          "sailing filled Vessel 02",
          "sailing filled Vessel 02",
          null,
          "sailing filled Vessel 02",
          "sailing filled Vessel 02",
          "sailing filled Vessel 02",
          "sailing filled Vessel 02",
          null,
          "sailing filled Vessel 02",
          "sailing filled Vessel 02",
          "sailing filled Vessel 02",
          "sailing filled Vessel 02",
          null
         ]
        },
        {
         "connectgaps": false,
         "hoverinfo": "y+name",
         "line": {
          "color": "rgb(121,185,96)",
          "width": 10
         },
         "mode": "lines",
         "name": "Transfer MP Vessel 02",
         "type": "scatter",
         "x": [
          "1970-01-01T00:00:30",
          "1970-01-01T00:00:30",
          "1970-01-01T00:00:40",
          "1970-01-01T00:00:40",
          "1970-01-01T00:00:40",
          "1970-01-01T00:01:10",
          "1970-01-01T00:01:10",
          "1970-01-01T00:01:20",
          "1970-01-01T00:01:20",
          "1970-01-01T00:01:20",
          "1970-01-01T00:01:50",
          "1970-01-01T00:01:50",
          "1970-01-01T00:02:00",
          "1970-01-01T00:02:00",
          "1970-01-01T00:02:00",
          "1970-01-01T00:02:30",
          "1970-01-01T00:02:30",
          "1970-01-01T00:02:40",
          "1970-01-01T00:02:40",
          "1970-01-01T00:02:40",
          "1970-01-01T00:03:10",
          "1970-01-01T00:03:10",
          "1970-01-01T00:03:20",
          "1970-01-01T00:03:20",
          "1970-01-01T00:03:20"
         ],
         "y": [
          "Transfer MP Vessel 02",
          "Transfer MP Vessel 02",
          "Transfer MP Vessel 02",
          "Transfer MP Vessel 02",
          null,
          "Transfer MP Vessel 02",
          "Transfer MP Vessel 02",
          "Transfer MP Vessel 02",
          "Transfer MP Vessel 02",
          null,
          "Transfer MP Vessel 02",
          "Transfer MP Vessel 02",
          "Transfer MP Vessel 02",
          "Transfer MP Vessel 02",
          null,
          "Transfer MP Vessel 02",
          "Transfer MP Vessel 02",
          "Transfer MP Vessel 02",
          "Transfer MP Vessel 02",
          null,
          "Transfer MP Vessel 02",
          "Transfer MP Vessel 02",
          "Transfer MP Vessel 02",
          "Transfer MP Vessel 02",
          null
         ]
        }
       ],
       "layout": {
        "hovermode": "closest",
        "legend": {
         "orientation": "h",
         "x": 0,
         "y": -0.2
        },
        "template": {
         "data": {
          "bar": [
           {
            "error_x": {
             "color": "#2a3f5f"
            },
            "error_y": {
             "color": "#2a3f5f"
            },
            "marker": {
             "line": {
              "color": "#E5ECF6",
              "width": 0.5
             }
            },
            "type": "bar"
           }
          ],
          "barpolar": [
           {
            "marker": {
             "line": {
              "color": "#E5ECF6",
              "width": 0.5
             }
            },
            "type": "barpolar"
           }
          ],
          "carpet": [
           {
            "aaxis": {
             "endlinecolor": "#2a3f5f",
             "gridcolor": "white",
             "linecolor": "white",
             "minorgridcolor": "white",
             "startlinecolor": "#2a3f5f"
            },
            "baxis": {
             "endlinecolor": "#2a3f5f",
             "gridcolor": "white",
             "linecolor": "white",
             "minorgridcolor": "white",
             "startlinecolor": "#2a3f5f"
            },
            "type": "carpet"
           }
          ],
          "choropleth": [
           {
            "colorbar": {
             "outlinewidth": 0,
             "ticks": ""
            },
            "type": "choropleth"
           }
          ],
          "contour": [
           {
            "colorbar": {
             "outlinewidth": 0,
             "ticks": ""
            },
            "colorscale": [
             [
              0,
              "#0d0887"
             ],
             [
              0.1111111111111111,
              "#46039f"
             ],
             [
              0.2222222222222222,
              "#7201a8"
             ],
             [
              0.3333333333333333,
              "#9c179e"
             ],
             [
              0.4444444444444444,
              "#bd3786"
             ],
             [
              0.5555555555555556,
              "#d8576b"
             ],
             [
              0.6666666666666666,
              "#ed7953"
             ],
             [
              0.7777777777777778,
              "#fb9f3a"
             ],
             [
              0.8888888888888888,
              "#fdca26"
             ],
             [
              1,
              "#f0f921"
             ]
            ],
            "type": "contour"
           }
          ],
          "contourcarpet": [
           {
            "colorbar": {
             "outlinewidth": 0,
             "ticks": ""
            },
            "type": "contourcarpet"
           }
          ],
          "heatmap": [
           {
            "colorbar": {
             "outlinewidth": 0,
             "ticks": ""
            },
            "colorscale": [
             [
              0,
              "#0d0887"
             ],
             [
              0.1111111111111111,
              "#46039f"
             ],
             [
              0.2222222222222222,
              "#7201a8"
             ],
             [
              0.3333333333333333,
              "#9c179e"
             ],
             [
              0.4444444444444444,
              "#bd3786"
             ],
             [
              0.5555555555555556,
              "#d8576b"
             ],
             [
              0.6666666666666666,
              "#ed7953"
             ],
             [
              0.7777777777777778,
              "#fb9f3a"
             ],
             [
              0.8888888888888888,
              "#fdca26"
             ],
             [
              1,
              "#f0f921"
             ]
            ],
            "type": "heatmap"
           }
          ],
          "heatmapgl": [
           {
            "colorbar": {
             "outlinewidth": 0,
             "ticks": ""
            },
            "colorscale": [
             [
              0,
              "#0d0887"
             ],
             [
              0.1111111111111111,
              "#46039f"
             ],
             [
              0.2222222222222222,
              "#7201a8"
             ],
             [
              0.3333333333333333,
              "#9c179e"
             ],
             [
              0.4444444444444444,
              "#bd3786"
             ],
             [
              0.5555555555555556,
              "#d8576b"
             ],
             [
              0.6666666666666666,
              "#ed7953"
             ],
             [
              0.7777777777777778,
              "#fb9f3a"
             ],
             [
              0.8888888888888888,
              "#fdca26"
             ],
             [
              1,
              "#f0f921"
             ]
            ],
            "type": "heatmapgl"
           }
          ],
          "histogram": [
           {
            "marker": {
             "colorbar": {
              "outlinewidth": 0,
              "ticks": ""
             }
            },
            "type": "histogram"
           }
          ],
          "histogram2d": [
           {
            "colorbar": {
             "outlinewidth": 0,
             "ticks": ""
            },
            "colorscale": [
             [
              0,
              "#0d0887"
             ],
             [
              0.1111111111111111,
              "#46039f"
             ],
             [
              0.2222222222222222,
              "#7201a8"
             ],
             [
              0.3333333333333333,
              "#9c179e"
             ],
             [
              0.4444444444444444,
              "#bd3786"
             ],
             [
              0.5555555555555556,
              "#d8576b"
             ],
             [
              0.6666666666666666,
              "#ed7953"
             ],
             [
              0.7777777777777778,
              "#fb9f3a"
             ],
             [
              0.8888888888888888,
              "#fdca26"
             ],
             [
              1,
              "#f0f921"
             ]
            ],
            "type": "histogram2d"
           }
          ],
          "histogram2dcontour": [
           {
            "colorbar": {
             "outlinewidth": 0,
             "ticks": ""
            },
            "colorscale": [
             [
              0,
              "#0d0887"
             ],
             [
              0.1111111111111111,
              "#46039f"
             ],
             [
              0.2222222222222222,
              "#7201a8"
             ],
             [
              0.3333333333333333,
              "#9c179e"
             ],
             [
              0.4444444444444444,
              "#bd3786"
             ],
             [
              0.5555555555555556,
              "#d8576b"
             ],
             [
              0.6666666666666666,
              "#ed7953"
             ],
             [
              0.7777777777777778,
              "#fb9f3a"
             ],
             [
              0.8888888888888888,
              "#fdca26"
             ],
             [
              1,
              "#f0f921"
             ]
            ],
            "type": "histogram2dcontour"
           }
          ],
          "mesh3d": [
           {
            "colorbar": {
             "outlinewidth": 0,
             "ticks": ""
            },
            "type": "mesh3d"
           }
          ],
          "parcoords": [
           {
            "line": {
             "colorbar": {
              "outlinewidth": 0,
              "ticks": ""
             }
            },
            "type": "parcoords"
           }
          ],
          "pie": [
           {
            "automargin": true,
            "type": "pie"
           }
          ],
          "scatter": [
           {
            "marker": {
             "colorbar": {
              "outlinewidth": 0,
              "ticks": ""
             }
            },
            "type": "scatter"
           }
          ],
          "scatter3d": [
           {
            "line": {
             "colorbar": {
              "outlinewidth": 0,
              "ticks": ""
             }
            },
            "marker": {
             "colorbar": {
              "outlinewidth": 0,
              "ticks": ""
             }
            },
            "type": "scatter3d"
           }
          ],
          "scattercarpet": [
           {
            "marker": {
             "colorbar": {
              "outlinewidth": 0,
              "ticks": ""
             }
            },
            "type": "scattercarpet"
           }
          ],
          "scattergeo": [
           {
            "marker": {
             "colorbar": {
              "outlinewidth": 0,
              "ticks": ""
             }
            },
            "type": "scattergeo"
           }
          ],
          "scattergl": [
           {
            "marker": {
             "colorbar": {
              "outlinewidth": 0,
              "ticks": ""
             }
            },
            "type": "scattergl"
           }
          ],
          "scattermapbox": [
           {
            "marker": {
             "colorbar": {
              "outlinewidth": 0,
              "ticks": ""
             }
            },
            "type": "scattermapbox"
           }
          ],
          "scatterpolar": [
           {
            "marker": {
             "colorbar": {
              "outlinewidth": 0,
              "ticks": ""
             }
            },
            "type": "scatterpolar"
           }
          ],
          "scatterpolargl": [
           {
            "marker": {
             "colorbar": {
              "outlinewidth": 0,
              "ticks": ""
             }
            },
            "type": "scatterpolargl"
           }
          ],
          "scatterternary": [
           {
            "marker": {
             "colorbar": {
              "outlinewidth": 0,
              "ticks": ""
             }
            },
            "type": "scatterternary"
           }
          ],
          "surface": [
           {
            "colorbar": {
             "outlinewidth": 0,
             "ticks": ""
            },
            "colorscale": [
             [
              0,
              "#0d0887"
             ],
             [
              0.1111111111111111,
              "#46039f"
             ],
             [
              0.2222222222222222,
              "#7201a8"
             ],
             [
              0.3333333333333333,
              "#9c179e"
             ],
             [
              0.4444444444444444,
              "#bd3786"
             ],
             [
              0.5555555555555556,
              "#d8576b"
             ],
             [
              0.6666666666666666,
              "#ed7953"
             ],
             [
              0.7777777777777778,
              "#fb9f3a"
             ],
             [
              0.8888888888888888,
              "#fdca26"
             ],
             [
              1,
              "#f0f921"
             ]
            ],
            "type": "surface"
           }
          ],
          "table": [
           {
            "cells": {
             "fill": {
              "color": "#EBF0F8"
             },
             "line": {
              "color": "white"
             }
            },
            "header": {
             "fill": {
              "color": "#C8D4E3"
             },
             "line": {
              "color": "white"
             }
            },
            "type": "table"
           }
          ]
         },
         "layout": {
          "annotationdefaults": {
           "arrowcolor": "#2a3f5f",
           "arrowhead": 0,
           "arrowwidth": 1
          },
          "autotypenumbers": "strict",
          "coloraxis": {
           "colorbar": {
            "outlinewidth": 0,
            "ticks": ""
           }
          },
          "colorscale": {
           "diverging": [
            [
             0,
             "#8e0152"
            ],
            [
             0.1,
             "#c51b7d"
            ],
            [
             0.2,
             "#de77ae"
            ],
            [
             0.3,
             "#f1b6da"
            ],
            [
             0.4,
             "#fde0ef"
            ],
            [
             0.5,
             "#f7f7f7"
            ],
            [
             0.6,
             "#e6f5d0"
            ],
            [
             0.7,
             "#b8e186"
            ],
            [
             0.8,
             "#7fbc41"
            ],
            [
             0.9,
             "#4d9221"
            ],
            [
             1,
             "#276419"
            ]
           ],
           "sequential": [
            [
             0,
             "#0d0887"
            ],
            [
             0.1111111111111111,
             "#46039f"
            ],
            [
             0.2222222222222222,
             "#7201a8"
            ],
            [
             0.3333333333333333,
             "#9c179e"
            ],
            [
             0.4444444444444444,
             "#bd3786"
            ],
            [
             0.5555555555555556,
             "#d8576b"
            ],
            [
             0.6666666666666666,
             "#ed7953"
            ],
            [
             0.7777777777777778,
             "#fb9f3a"
            ],
            [
             0.8888888888888888,
             "#fdca26"
            ],
            [
             1,
             "#f0f921"
            ]
           ],
           "sequentialminus": [
            [
             0,
             "#0d0887"
            ],
            [
             0.1111111111111111,
             "#46039f"
            ],
            [
             0.2222222222222222,
             "#7201a8"
            ],
            [
             0.3333333333333333,
             "#9c179e"
            ],
            [
             0.4444444444444444,
             "#bd3786"
            ],
            [
             0.5555555555555556,
             "#d8576b"
            ],
            [
             0.6666666666666666,
             "#ed7953"
            ],
            [
             0.7777777777777778,
             "#fb9f3a"
            ],
            [
             0.8888888888888888,
             "#fdca26"
            ],
            [
             1,
             "#f0f921"
            ]
           ]
          },
          "colorway": [
           "#636efa",
           "#EF553B",
           "#00cc96",
           "#ab63fa",
           "#FFA15A",
           "#19d3f3",
           "#FF6692",
           "#B6E880",
           "#FF97FF",
           "#FECB52"
          ],
          "font": {
           "color": "#2a3f5f"
          },
          "geo": {
           "bgcolor": "white",
           "lakecolor": "white",
           "landcolor": "#E5ECF6",
           "showlakes": true,
           "showland": true,
           "subunitcolor": "white"
          },
          "hoverlabel": {
           "align": "left"
          },
          "hovermode": "closest",
          "mapbox": {
           "style": "light"
          },
          "paper_bgcolor": "white",
          "plot_bgcolor": "#E5ECF6",
          "polar": {
           "angularaxis": {
            "gridcolor": "white",
            "linecolor": "white",
            "ticks": ""
           },
           "bgcolor": "#E5ECF6",
           "radialaxis": {
            "gridcolor": "white",
            "linecolor": "white",
            "ticks": ""
           }
          },
          "scene": {
           "xaxis": {
            "backgroundcolor": "#E5ECF6",
            "gridcolor": "white",
            "gridwidth": 2,
            "linecolor": "white",
            "showbackground": true,
            "ticks": "",
            "zerolinecolor": "white"
           },
           "yaxis": {
            "backgroundcolor": "#E5ECF6",
            "gridcolor": "white",
            "gridwidth": 2,
            "linecolor": "white",
            "showbackground": true,
            "ticks": "",
            "zerolinecolor": "white"
           },
           "zaxis": {
            "backgroundcolor": "#E5ECF6",
            "gridcolor": "white",
            "gridwidth": 2,
            "linecolor": "white",
            "showbackground": true,
            "ticks": "",
            "zerolinecolor": "white"
           }
          },
          "shapedefaults": {
           "line": {
            "color": "#2a3f5f"
           }
          },
          "ternary": {
           "aaxis": {
            "gridcolor": "white",
            "linecolor": "white",
            "ticks": ""
           },
           "baxis": {
            "gridcolor": "white",
            "linecolor": "white",
            "ticks": ""
           },
           "bgcolor": "#E5ECF6",
           "caxis": {
            "gridcolor": "white",
            "linecolor": "white",
            "ticks": ""
           }
          },
          "title": {
           "x": 0.05
          },
          "xaxis": {
           "automargin": true,
           "gridcolor": "white",
           "linecolor": "white",
           "ticks": "",
           "title": {
            "standoff": 15
           },
           "zerolinecolor": "white",
           "zerolinewidth": 2
          },
          "yaxis": {
           "automargin": true,
           "gridcolor": "white",
           "linecolor": "white",
           "ticks": "",
           "title": {
            "standoff": 15
           },
           "zerolinecolor": "white",
           "zerolinewidth": 2
          }
         }
        },
        "title": {
         "text": "Vessel planning"
        },
        "xaxis": {
         "range": [
          "1970-01-01T00:00:00",
          "1970-01-01T00:03:30"
         ],
         "title": {
          "font": {
           "color": "#7f7f7f",
           "family": "Courier New, monospace",
           "size": 18
          },
          "text": "Time"
         }
        },
        "yaxis": {
         "title": {
          "font": {
           "color": "#7f7f7f",
           "family": "Courier New, monospace",
           "size": 18
          },
          "text": "Vessels"
         }
        }
       }
      },
      "text/html": [
       "<div>                            <div id=\"4372d230-4c87-4726-a92f-a4eeea5b54b6\" class=\"plotly-graph-div\" style=\"height:525px; width:100%;\"></div>            <script type=\"text/javascript\">                require([\"plotly\"], function(Plotly) {                    window.PLOTLYENV=window.PLOTLYENV || {};                                    if (document.getElementById(\"4372d230-4c87-4726-a92f-a4eeea5b54b6\")) {                    Plotly.newPlot(                        \"4372d230-4c87-4726-a92f-a4eeea5b54b6\",                        [{\"connectgaps\": false, \"hoverinfo\": \"y+name\", \"line\": {\"color\": \"rgb(153,217,128)\", \"width\": 10}, \"mode\": \"lines\", \"name\": \"sailing empty Vessel 01\", \"type\": \"scatter\", \"x\": [\"1970-01-01T00:00:00\", \"1970-01-01T00:00:00\", \"1970-01-01T00:00:10\", \"1970-01-01T00:00:10\", \"1970-01-01T00:00:10\", \"1970-01-01T00:00:50\", \"1970-01-01T00:00:50\", \"1970-01-01T00:01:00\", \"1970-01-01T00:01:00\", \"1970-01-01T00:01:00\", \"1970-01-01T00:01:30\", \"1970-01-01T00:01:30\", \"1970-01-01T00:01:40\", \"1970-01-01T00:01:40\", \"1970-01-01T00:01:40\", \"1970-01-01T00:02:10\", \"1970-01-01T00:02:10\", \"1970-01-01T00:02:20\", \"1970-01-01T00:02:20\", \"1970-01-01T00:02:20\", \"1970-01-01T00:02:50\", \"1970-01-01T00:02:50\", \"1970-01-01T00:03:00\", \"1970-01-01T00:03:00\", \"1970-01-01T00:03:00\"], \"y\": [\"sailing empty Vessel 01\", \"sailing empty Vessel 01\", \"sailing empty Vessel 01\", \"sailing empty Vessel 01\", null, \"sailing empty Vessel 01\", \"sailing empty Vessel 01\", \"sailing empty Vessel 01\", \"sailing empty Vessel 01\", null, \"sailing empty Vessel 01\", \"sailing empty Vessel 01\", \"sailing empty Vessel 01\", \"sailing empty Vessel 01\", null, \"sailing empty Vessel 01\", \"sailing empty Vessel 01\", \"sailing empty Vessel 01\", \"sailing empty Vessel 01\", null, \"sailing empty Vessel 01\", \"sailing empty Vessel 01\", \"sailing empty Vessel 01\", \"sailing empty Vessel 01\", null]}, {\"connectgaps\": false, \"hoverinfo\": \"y+name\", \"line\": {\"color\": \"rgb(185,249,160)\", \"width\": 10}, \"mode\": \"lines\", \"name\": \"Load MP Vessel 01\", \"type\": \"scatter\", \"x\": [\"1970-01-01T00:00:20\", \"1970-01-01T00:00:20\", \"1970-01-01T00:00:30\", \"1970-01-01T00:00:30\", \"1970-01-01T00:00:30\", \"1970-01-01T00:01:00\", \"1970-01-01T00:01:00\", \"1970-01-01T00:01:10\", \"1970-01-01T00:01:10\", \"1970-01-01T00:01:10\", \"1970-01-01T00:01:40\", \"1970-01-01T00:01:40\", \"1970-01-01T00:01:50\", \"1970-01-01T00:01:50\", \"1970-01-01T00:01:50\", \"1970-01-01T00:02:20\", \"1970-01-01T00:02:20\", \"1970-01-01T00:02:30\", \"1970-01-01T00:02:30\", \"1970-01-01T00:02:30\", \"1970-01-01T00:03:00\", \"1970-01-01T00:03:00\", \"1970-01-01T00:03:10\", \"1970-01-01T00:03:10\", \"1970-01-01T00:03:10\"], \"y\": [\"Load MP Vessel 01\", \"Load MP Vessel 01\", \"Load MP Vessel 01\", \"Load MP Vessel 01\", null, \"Load MP Vessel 01\", \"Load MP Vessel 01\", \"Load MP Vessel 01\", \"Load MP Vessel 01\", null, \"Load MP Vessel 01\", \"Load MP Vessel 01\", \"Load MP Vessel 01\", \"Load MP Vessel 01\", null, \"Load MP Vessel 01\", \"Load MP Vessel 01\", \"Load MP Vessel 01\", \"Load MP Vessel 01\", null, \"Load MP Vessel 01\", \"Load MP Vessel 01\", \"Load MP Vessel 01\", \"Load MP Vessel 01\", null]}, {\"connectgaps\": false, \"hoverinfo\": \"y+name\", \"line\": {\"color\": \"rgb(217,25,192)\", \"width\": 10}, \"mode\": \"lines\", \"name\": \"sailing filled Vessel 01\", \"type\": \"scatter\", \"x\": [\"1970-01-01T00:00:30\", \"1970-01-01T00:00:30\", \"1970-01-01T00:00:40\", \"1970-01-01T00:00:40\", \"1970-01-01T00:00:40\", \"1970-01-01T00:01:10\", \"1970-01-01T00:01:10\", \"1970-01-01T00:01:20\", \"1970-01-01T00:01:20\", \"1970-01-01T00:01:20\", \"1970-01-01T00:01:50\", \"1970-01-01T00:01:50\", \"1970-01-01T00:02:00\", \"1970-01-01T00:02:00\", \"1970-01-01T00:02:00\", \"1970-01-01T00:02:30\", \"1970-01-01T00:02:30\", \"1970-01-01T00:02:40\", \"1970-01-01T00:02:40\", \"1970-01-01T00:02:40\", \"1970-01-01T00:03:10\", \"1970-01-01T00:03:10\", \"1970-01-01T00:03:20\", \"1970-01-01T00:03:20\", \"1970-01-01T00:03:20\"], \"y\": [\"sailing filled Vessel 01\", \"sailing filled Vessel 01\", \"sailing filled Vessel 01\", \"sailing filled Vessel 01\", null, \"sailing filled Vessel 01\", \"sailing filled Vessel 01\", \"sailing filled Vessel 01\", \"sailing filled Vessel 01\", null, \"sailing filled Vessel 01\", \"sailing filled Vessel 01\", \"sailing filled Vessel 01\", \"sailing filled Vessel 01\", null, \"sailing filled Vessel 01\", \"sailing filled Vessel 01\", \"sailing filled Vessel 01\", \"sailing filled Vessel 01\", null, \"sailing filled Vessel 01\", \"sailing filled Vessel 01\", \"sailing filled Vessel 01\", \"sailing filled Vessel 01\", null]}, {\"connectgaps\": false, \"hoverinfo\": \"y+name\", \"line\": {\"color\": \"rgb(249,57,224)\", \"width\": 10}, \"mode\": \"lines\", \"name\": \"Transfer MP Vessel 01\", \"type\": \"scatter\", \"x\": [\"1970-01-01T00:00:40\", \"1970-01-01T00:00:40\", \"1970-01-01T00:00:50\", \"1970-01-01T00:00:50\", \"1970-01-01T00:00:50\", \"1970-01-01T00:01:20\", \"1970-01-01T00:01:20\", \"1970-01-01T00:01:30\", \"1970-01-01T00:01:30\", \"1970-01-01T00:01:30\", \"1970-01-01T00:02:00\", \"1970-01-01T00:02:00\", \"1970-01-01T00:02:10\", \"1970-01-01T00:02:10\", \"1970-01-01T00:02:10\", \"1970-01-01T00:02:40\", \"1970-01-01T00:02:40\", \"1970-01-01T00:02:50\", \"1970-01-01T00:02:50\", \"1970-01-01T00:02:50\", \"1970-01-01T00:03:20\", \"1970-01-01T00:03:20\", \"1970-01-01T00:03:30\", \"1970-01-01T00:03:30\", \"1970-01-01T00:03:30\"], \"y\": [\"Transfer MP Vessel 01\", \"Transfer MP Vessel 01\", \"Transfer MP Vessel 01\", \"Transfer MP Vessel 01\", null, \"Transfer MP Vessel 01\", \"Transfer MP Vessel 01\", \"Transfer MP Vessel 01\", \"Transfer MP Vessel 01\", null, \"Transfer MP Vessel 01\", \"Transfer MP Vessel 01\", \"Transfer MP Vessel 01\", \"Transfer MP Vessel 01\", null, \"Transfer MP Vessel 01\", \"Transfer MP Vessel 01\", \"Transfer MP Vessel 01\", \"Transfer MP Vessel 01\", null, \"Transfer MP Vessel 01\", \"Transfer MP Vessel 01\", \"Transfer MP Vessel 01\", \"Transfer MP Vessel 01\", null]}, {\"connectgaps\": false, \"hoverinfo\": \"y+name\", \"line\": {\"color\": \"rgb(25,89,0)\", \"width\": 10}, \"mode\": \"lines\", \"name\": \"sailing empty Vessel 02\", \"type\": \"scatter\", \"x\": [\"1970-01-01T00:00:00\", \"1970-01-01T00:00:00\", \"1970-01-01T00:00:10\", \"1970-01-01T00:00:10\", \"1970-01-01T00:00:10\", \"1970-01-01T00:00:40\", \"1970-01-01T00:00:40\", \"1970-01-01T00:00:50\", \"1970-01-01T00:00:50\", \"1970-01-01T00:00:50\", \"1970-01-01T00:01:20\", \"1970-01-01T00:01:20\", \"1970-01-01T00:01:30\", \"1970-01-01T00:01:30\", \"1970-01-01T00:01:30\", \"1970-01-01T00:02:00\", \"1970-01-01T00:02:00\", \"1970-01-01T00:02:10\", \"1970-01-01T00:02:10\", \"1970-01-01T00:02:10\", \"1970-01-01T00:02:40\", \"1970-01-01T00:02:40\", \"1970-01-01T00:02:50\", \"1970-01-01T00:02:50\", \"1970-01-01T00:02:50\"], \"y\": [\"sailing empty Vessel 02\", \"sailing empty Vessel 02\", \"sailing empty Vessel 02\", \"sailing empty Vessel 02\", null, \"sailing empty Vessel 02\", \"sailing empty Vessel 02\", \"sailing empty Vessel 02\", \"sailing empty Vessel 02\", null, \"sailing empty Vessel 02\", \"sailing empty Vessel 02\", \"sailing empty Vessel 02\", \"sailing empty Vessel 02\", null, \"sailing empty Vessel 02\", \"sailing empty Vessel 02\", \"sailing empty Vessel 02\", \"sailing empty Vessel 02\", null, \"sailing empty Vessel 02\", \"sailing empty Vessel 02\", \"sailing empty Vessel 02\", \"sailing empty Vessel 02\", null]}, {\"connectgaps\": false, \"hoverinfo\": \"y+name\", \"line\": {\"color\": \"rgb(57,121,32)\", \"width\": 10}, \"mode\": \"lines\", \"name\": \"Load MP Vessel 02\", \"type\": \"scatter\", \"x\": [\"1970-01-01T00:00:10\", \"1970-01-01T00:00:10\", \"1970-01-01T00:00:20\", \"1970-01-01T00:00:20\", \"1970-01-01T00:00:20\", \"1970-01-01T00:00:50\", \"1970-01-01T00:00:50\", \"1970-01-01T00:01:00\", \"1970-01-01T00:01:00\", \"1970-01-01T00:01:00\", \"1970-01-01T00:01:30\", \"1970-01-01T00:01:30\", \"1970-01-01T00:01:40\", \"1970-01-01T00:01:40\", \"1970-01-01T00:01:40\", \"1970-01-01T00:02:10\", \"1970-01-01T00:02:10\", \"1970-01-01T00:02:20\", \"1970-01-01T00:02:20\", \"1970-01-01T00:02:20\", \"1970-01-01T00:02:50\", \"1970-01-01T00:02:50\", \"1970-01-01T00:03:00\", \"1970-01-01T00:03:00\", \"1970-01-01T00:03:00\"], \"y\": [\"Load MP Vessel 02\", \"Load MP Vessel 02\", \"Load MP Vessel 02\", \"Load MP Vessel 02\", null, \"Load MP Vessel 02\", \"Load MP Vessel 02\", \"Load MP Vessel 02\", \"Load MP Vessel 02\", null, \"Load MP Vessel 02\", \"Load MP Vessel 02\", \"Load MP Vessel 02\", \"Load MP Vessel 02\", null, \"Load MP Vessel 02\", \"Load MP Vessel 02\", \"Load MP Vessel 02\", \"Load MP Vessel 02\", null, \"Load MP Vessel 02\", \"Load MP Vessel 02\", \"Load MP Vessel 02\", \"Load MP Vessel 02\", null]}, {\"connectgaps\": false, \"hoverinfo\": \"y+name\", \"line\": {\"color\": \"rgb(89,153,64)\", \"width\": 10}, \"mode\": \"lines\", \"name\": \"sailing filled Vessel 02\", \"type\": \"scatter\", \"x\": [\"1970-01-01T00:00:20\", \"1970-01-01T00:00:20\", \"1970-01-01T00:00:30\", \"1970-01-01T00:00:30\", \"1970-01-01T00:00:30\", \"1970-01-01T00:01:00\", \"1970-01-01T00:01:00\", \"1970-01-01T00:01:10\", \"1970-01-01T00:01:10\", \"1970-01-01T00:01:10\", \"1970-01-01T00:01:40\", \"1970-01-01T00:01:40\", \"1970-01-01T00:01:50\", \"1970-01-01T00:01:50\", \"1970-01-01T00:01:50\", \"1970-01-01T00:02:20\", \"1970-01-01T00:02:20\", \"1970-01-01T00:02:30\", \"1970-01-01T00:02:30\", \"1970-01-01T00:02:30\", \"1970-01-01T00:03:00\", \"1970-01-01T00:03:00\", \"1970-01-01T00:03:10\", \"1970-01-01T00:03:10\", \"1970-01-01T00:03:10\"], \"y\": [\"sailing filled Vessel 02\", \"sailing filled Vessel 02\", \"sailing filled Vessel 02\", \"sailing filled Vessel 02\", null, \"sailing filled Vessel 02\", \"sailing filled Vessel 02\", \"sailing filled Vessel 02\", \"sailing filled Vessel 02\", null, \"sailing filled Vessel 02\", \"sailing filled Vessel 02\", \"sailing filled Vessel 02\", \"sailing filled Vessel 02\", null, \"sailing filled Vessel 02\", \"sailing filled Vessel 02\", \"sailing filled Vessel 02\", \"sailing filled Vessel 02\", null, \"sailing filled Vessel 02\", \"sailing filled Vessel 02\", \"sailing filled Vessel 02\", \"sailing filled Vessel 02\", null]}, {\"connectgaps\": false, \"hoverinfo\": \"y+name\", \"line\": {\"color\": \"rgb(121,185,96)\", \"width\": 10}, \"mode\": \"lines\", \"name\": \"Transfer MP Vessel 02\", \"type\": \"scatter\", \"x\": [\"1970-01-01T00:00:30\", \"1970-01-01T00:00:30\", \"1970-01-01T00:00:40\", \"1970-01-01T00:00:40\", \"1970-01-01T00:00:40\", \"1970-01-01T00:01:10\", \"1970-01-01T00:01:10\", \"1970-01-01T00:01:20\", \"1970-01-01T00:01:20\", \"1970-01-01T00:01:20\", \"1970-01-01T00:01:50\", \"1970-01-01T00:01:50\", \"1970-01-01T00:02:00\", \"1970-01-01T00:02:00\", \"1970-01-01T00:02:00\", \"1970-01-01T00:02:30\", \"1970-01-01T00:02:30\", \"1970-01-01T00:02:40\", \"1970-01-01T00:02:40\", \"1970-01-01T00:02:40\", \"1970-01-01T00:03:10\", \"1970-01-01T00:03:10\", \"1970-01-01T00:03:20\", \"1970-01-01T00:03:20\", \"1970-01-01T00:03:20\"], \"y\": [\"Transfer MP Vessel 02\", \"Transfer MP Vessel 02\", \"Transfer MP Vessel 02\", \"Transfer MP Vessel 02\", null, \"Transfer MP Vessel 02\", \"Transfer MP Vessel 02\", \"Transfer MP Vessel 02\", \"Transfer MP Vessel 02\", null, \"Transfer MP Vessel 02\", \"Transfer MP Vessel 02\", \"Transfer MP Vessel 02\", \"Transfer MP Vessel 02\", null, \"Transfer MP Vessel 02\", \"Transfer MP Vessel 02\", \"Transfer MP Vessel 02\", \"Transfer MP Vessel 02\", null, \"Transfer MP Vessel 02\", \"Transfer MP Vessel 02\", \"Transfer MP Vessel 02\", \"Transfer MP Vessel 02\", null]}],                        {\"hovermode\": \"closest\", \"legend\": {\"orientation\": \"h\", \"x\": 0, \"y\": -0.2}, \"template\": {\"data\": {\"bar\": [{\"error_x\": {\"color\": \"#2a3f5f\"}, \"error_y\": {\"color\": \"#2a3f5f\"}, \"marker\": {\"line\": {\"color\": \"#E5ECF6\", \"width\": 0.5}}, \"type\": \"bar\"}], \"barpolar\": [{\"marker\": {\"line\": {\"color\": \"#E5ECF6\", \"width\": 0.5}}, \"type\": \"barpolar\"}], \"carpet\": [{\"aaxis\": {\"endlinecolor\": \"#2a3f5f\", \"gridcolor\": \"white\", \"linecolor\": \"white\", \"minorgridcolor\": \"white\", \"startlinecolor\": \"#2a3f5f\"}, \"baxis\": {\"endlinecolor\": \"#2a3f5f\", \"gridcolor\": \"white\", \"linecolor\": \"white\", \"minorgridcolor\": \"white\", \"startlinecolor\": \"#2a3f5f\"}, \"type\": \"carpet\"}], \"choropleth\": [{\"colorbar\": {\"outlinewidth\": 0, \"ticks\": \"\"}, \"type\": \"choropleth\"}], \"contour\": [{\"colorbar\": {\"outlinewidth\": 0, \"ticks\": \"\"}, \"colorscale\": [[0.0, \"#0d0887\"], [0.1111111111111111, \"#46039f\"], [0.2222222222222222, \"#7201a8\"], [0.3333333333333333, \"#9c179e\"], [0.4444444444444444, \"#bd3786\"], [0.5555555555555556, \"#d8576b\"], [0.6666666666666666, \"#ed7953\"], [0.7777777777777778, \"#fb9f3a\"], [0.8888888888888888, \"#fdca26\"], [1.0, \"#f0f921\"]], \"type\": \"contour\"}], \"contourcarpet\": [{\"colorbar\": {\"outlinewidth\": 0, \"ticks\": \"\"}, \"type\": \"contourcarpet\"}], \"heatmap\": [{\"colorbar\": {\"outlinewidth\": 0, \"ticks\": \"\"}, \"colorscale\": [[0.0, \"#0d0887\"], [0.1111111111111111, \"#46039f\"], [0.2222222222222222, \"#7201a8\"], [0.3333333333333333, \"#9c179e\"], [0.4444444444444444, \"#bd3786\"], [0.5555555555555556, \"#d8576b\"], [0.6666666666666666, \"#ed7953\"], [0.7777777777777778, \"#fb9f3a\"], [0.8888888888888888, \"#fdca26\"], [1.0, \"#f0f921\"]], \"type\": \"heatmap\"}], \"heatmapgl\": [{\"colorbar\": {\"outlinewidth\": 0, \"ticks\": \"\"}, \"colorscale\": [[0.0, \"#0d0887\"], [0.1111111111111111, \"#46039f\"], [0.2222222222222222, \"#7201a8\"], [0.3333333333333333, \"#9c179e\"], [0.4444444444444444, \"#bd3786\"], [0.5555555555555556, \"#d8576b\"], [0.6666666666666666, \"#ed7953\"], [0.7777777777777778, \"#fb9f3a\"], [0.8888888888888888, \"#fdca26\"], [1.0, \"#f0f921\"]], \"type\": \"heatmapgl\"}], \"histogram\": [{\"marker\": {\"colorbar\": {\"outlinewidth\": 0, \"ticks\": \"\"}}, \"type\": \"histogram\"}], \"histogram2d\": [{\"colorbar\": {\"outlinewidth\": 0, \"ticks\": \"\"}, \"colorscale\": [[0.0, \"#0d0887\"], [0.1111111111111111, \"#46039f\"], [0.2222222222222222, \"#7201a8\"], [0.3333333333333333, \"#9c179e\"], [0.4444444444444444, \"#bd3786\"], [0.5555555555555556, \"#d8576b\"], [0.6666666666666666, \"#ed7953\"], [0.7777777777777778, \"#fb9f3a\"], [0.8888888888888888, \"#fdca26\"], [1.0, \"#f0f921\"]], \"type\": \"histogram2d\"}], \"histogram2dcontour\": [{\"colorbar\": {\"outlinewidth\": 0, \"ticks\": \"\"}, \"colorscale\": [[0.0, \"#0d0887\"], [0.1111111111111111, \"#46039f\"], [0.2222222222222222, \"#7201a8\"], [0.3333333333333333, \"#9c179e\"], [0.4444444444444444, \"#bd3786\"], [0.5555555555555556, \"#d8576b\"], [0.6666666666666666, \"#ed7953\"], [0.7777777777777778, \"#fb9f3a\"], [0.8888888888888888, \"#fdca26\"], [1.0, \"#f0f921\"]], \"type\": \"histogram2dcontour\"}], \"mesh3d\": [{\"colorbar\": {\"outlinewidth\": 0, \"ticks\": \"\"}, \"type\": \"mesh3d\"}], \"parcoords\": [{\"line\": {\"colorbar\": {\"outlinewidth\": 0, \"ticks\": \"\"}}, \"type\": \"parcoords\"}], \"pie\": [{\"automargin\": true, \"type\": \"pie\"}], \"scatter\": [{\"marker\": {\"colorbar\": {\"outlinewidth\": 0, \"ticks\": \"\"}}, \"type\": \"scatter\"}], \"scatter3d\": [{\"line\": {\"colorbar\": {\"outlinewidth\": 0, \"ticks\": \"\"}}, \"marker\": {\"colorbar\": {\"outlinewidth\": 0, \"ticks\": \"\"}}, \"type\": \"scatter3d\"}], \"scattercarpet\": [{\"marker\": {\"colorbar\": {\"outlinewidth\": 0, \"ticks\": \"\"}}, \"type\": \"scattercarpet\"}], \"scattergeo\": [{\"marker\": {\"colorbar\": {\"outlinewidth\": 0, \"ticks\": \"\"}}, \"type\": \"scattergeo\"}], \"scattergl\": [{\"marker\": {\"colorbar\": {\"outlinewidth\": 0, \"ticks\": \"\"}}, \"type\": \"scattergl\"}], \"scattermapbox\": [{\"marker\": {\"colorbar\": {\"outlinewidth\": 0, \"ticks\": \"\"}}, \"type\": \"scattermapbox\"}], \"scatterpolar\": [{\"marker\": {\"colorbar\": {\"outlinewidth\": 0, \"ticks\": \"\"}}, \"type\": \"scatterpolar\"}], \"scatterpolargl\": [{\"marker\": {\"colorbar\": {\"outlinewidth\": 0, \"ticks\": \"\"}}, \"type\": \"scatterpolargl\"}], \"scatterternary\": [{\"marker\": {\"colorbar\": {\"outlinewidth\": 0, \"ticks\": \"\"}}, \"type\": \"scatterternary\"}], \"surface\": [{\"colorbar\": {\"outlinewidth\": 0, \"ticks\": \"\"}, \"colorscale\": [[0.0, \"#0d0887\"], [0.1111111111111111, \"#46039f\"], [0.2222222222222222, \"#7201a8\"], [0.3333333333333333, \"#9c179e\"], [0.4444444444444444, \"#bd3786\"], [0.5555555555555556, \"#d8576b\"], [0.6666666666666666, \"#ed7953\"], [0.7777777777777778, \"#fb9f3a\"], [0.8888888888888888, \"#fdca26\"], [1.0, \"#f0f921\"]], \"type\": \"surface\"}], \"table\": [{\"cells\": {\"fill\": {\"color\": \"#EBF0F8\"}, \"line\": {\"color\": \"white\"}}, \"header\": {\"fill\": {\"color\": \"#C8D4E3\"}, \"line\": {\"color\": \"white\"}}, \"type\": \"table\"}]}, \"layout\": {\"annotationdefaults\": {\"arrowcolor\": \"#2a3f5f\", \"arrowhead\": 0, \"arrowwidth\": 1}, \"autotypenumbers\": \"strict\", \"coloraxis\": {\"colorbar\": {\"outlinewidth\": 0, \"ticks\": \"\"}}, \"colorscale\": {\"diverging\": [[0, \"#8e0152\"], [0.1, \"#c51b7d\"], [0.2, \"#de77ae\"], [0.3, \"#f1b6da\"], [0.4, \"#fde0ef\"], [0.5, \"#f7f7f7\"], [0.6, \"#e6f5d0\"], [0.7, \"#b8e186\"], [0.8, \"#7fbc41\"], [0.9, \"#4d9221\"], [1, \"#276419\"]], \"sequential\": [[0.0, \"#0d0887\"], [0.1111111111111111, \"#46039f\"], [0.2222222222222222, \"#7201a8\"], [0.3333333333333333, \"#9c179e\"], [0.4444444444444444, \"#bd3786\"], [0.5555555555555556, \"#d8576b\"], [0.6666666666666666, \"#ed7953\"], [0.7777777777777778, \"#fb9f3a\"], [0.8888888888888888, \"#fdca26\"], [1.0, \"#f0f921\"]], \"sequentialminus\": [[0.0, \"#0d0887\"], [0.1111111111111111, \"#46039f\"], [0.2222222222222222, \"#7201a8\"], [0.3333333333333333, \"#9c179e\"], [0.4444444444444444, \"#bd3786\"], [0.5555555555555556, \"#d8576b\"], [0.6666666666666666, \"#ed7953\"], [0.7777777777777778, \"#fb9f3a\"], [0.8888888888888888, \"#fdca26\"], [1.0, \"#f0f921\"]]}, \"colorway\": [\"#636efa\", \"#EF553B\", \"#00cc96\", \"#ab63fa\", \"#FFA15A\", \"#19d3f3\", \"#FF6692\", \"#B6E880\", \"#FF97FF\", \"#FECB52\"], \"font\": {\"color\": \"#2a3f5f\"}, \"geo\": {\"bgcolor\": \"white\", \"lakecolor\": \"white\", \"landcolor\": \"#E5ECF6\", \"showlakes\": true, \"showland\": true, \"subunitcolor\": \"white\"}, \"hoverlabel\": {\"align\": \"left\"}, \"hovermode\": \"closest\", \"mapbox\": {\"style\": \"light\"}, \"paper_bgcolor\": \"white\", \"plot_bgcolor\": \"#E5ECF6\", \"polar\": {\"angularaxis\": {\"gridcolor\": \"white\", \"linecolor\": \"white\", \"ticks\": \"\"}, \"bgcolor\": \"#E5ECF6\", \"radialaxis\": {\"gridcolor\": \"white\", \"linecolor\": \"white\", \"ticks\": \"\"}}, \"scene\": {\"xaxis\": {\"backgroundcolor\": \"#E5ECF6\", \"gridcolor\": \"white\", \"gridwidth\": 2, \"linecolor\": \"white\", \"showbackground\": true, \"ticks\": \"\", \"zerolinecolor\": \"white\"}, \"yaxis\": {\"backgroundcolor\": \"#E5ECF6\", \"gridcolor\": \"white\", \"gridwidth\": 2, \"linecolor\": \"white\", \"showbackground\": true, \"ticks\": \"\", \"zerolinecolor\": \"white\"}, \"zaxis\": {\"backgroundcolor\": \"#E5ECF6\", \"gridcolor\": \"white\", \"gridwidth\": 2, \"linecolor\": \"white\", \"showbackground\": true, \"ticks\": \"\", \"zerolinecolor\": \"white\"}}, \"shapedefaults\": {\"line\": {\"color\": \"#2a3f5f\"}}, \"ternary\": {\"aaxis\": {\"gridcolor\": \"white\", \"linecolor\": \"white\", \"ticks\": \"\"}, \"baxis\": {\"gridcolor\": \"white\", \"linecolor\": \"white\", \"ticks\": \"\"}, \"bgcolor\": \"#E5ECF6\", \"caxis\": {\"gridcolor\": \"white\", \"linecolor\": \"white\", \"ticks\": \"\"}}, \"title\": {\"x\": 0.05}, \"xaxis\": {\"automargin\": true, \"gridcolor\": \"white\", \"linecolor\": \"white\", \"ticks\": \"\", \"title\": {\"standoff\": 15}, \"zerolinecolor\": \"white\", \"zerolinewidth\": 2}, \"yaxis\": {\"automargin\": true, \"gridcolor\": \"white\", \"linecolor\": \"white\", \"ticks\": \"\", \"title\": {\"standoff\": 15}, \"zerolinecolor\": \"white\", \"zerolinewidth\": 2}}}, \"title\": {\"text\": \"Vessel planning\"}, \"xaxis\": {\"range\": [\"1970-01-01T00:00:00\", \"1970-01-01T00:03:30\"], \"title\": {\"font\": {\"color\": \"#7f7f7f\", \"family\": \"Courier New, monospace\", \"size\": 18}, \"text\": \"Time\"}}, \"yaxis\": {\"title\": {\"font\": {\"color\": \"#7f7f7f\", \"family\": \"Courier New, monospace\", \"size\": 18}, \"text\": \"Vessels\"}}},                        {\"responsive\": true}                    ).then(function(){\n",
       "                            \n",
       "var gd = document.getElementById('4372d230-4c87-4726-a92f-a4eeea5b54b6');\n",
       "var x = new MutationObserver(function (mutations, observer) {{\n",
       "        var display = window.getComputedStyle(gd).display;\n",
       "        if (!display || display === 'none') {{\n",
       "            console.log([gd, 'removed!']);\n",
       "            Plotly.purge(gd);\n",
       "            observer.disconnect();\n",
       "        }}\n",
       "}});\n",
       "\n",
       "// Listen for the removal of the full notebook cells\n",
       "var notebookContainer = gd.closest('#notebook-container');\n",
       "if (notebookContainer) {{\n",
       "    x.observe(notebookContainer, {childList: true});\n",
       "}}\n",
       "\n",
       "// Listen for the clearing of the current output cell\n",
       "var outputEl = gd.closest('.output');\n",
       "if (outputEl) {{\n",
       "    x.observe(outputEl, {childList: true});\n",
       "}}\n",
       "\n",
       "                        })                };                });            </script>        </div>"
      ]
     },
     "metadata": {},
     "output_type": "display_data"
    }
   ],
   "source": [
    "acts = []\n",
    "for proc in processes:\n",
    "    acts.extend(proc.sub_processes[0].sub_processes)\n",
    "    \n",
    "plot.vessel_planning([\n",
    "    *acts\n",
    "])"
   ]
  },
  {
   "cell_type": "code",
   "execution_count": null,
   "id": "signed-nomination",
   "metadata": {},
   "outputs": [],
   "source": []
  },
  {
   "cell_type": "code",
   "execution_count": null,
   "id": "australian-lincoln",
   "metadata": {},
   "outputs": [],
   "source": []
  },
  {
   "cell_type": "code",
   "execution_count": null,
   "id": "integral-terminology",
   "metadata": {},
   "outputs": [],
   "source": []
  },
  {
   "cell_type": "code",
   "execution_count": null,
   "id": "instrumental-telephone",
   "metadata": {},
   "outputs": [],
   "source": []
  }
 ],
 "metadata": {
  "kernelspec": {
   "display_name": "Python 3",
   "language": "python",
   "name": "python3"
  },
  "language_info": {
   "codemirror_mode": {
    "name": "ipython",
    "version": 3
   },
   "file_extension": ".py",
   "mimetype": "text/x-python",
   "name": "python",
   "nbconvert_exporter": "python",
   "pygments_lexer": "ipython3",
   "version": "3.7.3"
  }
 },
 "nbformat": 4,
 "nbformat_minor": 5
}
