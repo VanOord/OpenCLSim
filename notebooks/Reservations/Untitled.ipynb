{
 "cells": [
  {
   "cell_type": "code",
   "execution_count": 1,
   "id": "south-slovak",
   "metadata": {},
   "outputs": [],
   "source": [
    "import datetime\n",
    "import time\n",
    "import uuid\n",
    "\n",
    "import numpy as np\n",
    "# package(s) for data handling\n",
    "import pandas as pd\n",
    "import shapely.geometry\n",
    "import simpy\n",
    "\n",
    "import openclsim.core as core\n",
    "import openclsim.model as model\n",
    "import openclsim.plot as plot"
   ]
  },
  {
   "cell_type": "code",
   "execution_count": 4,
   "id": "helpful-laugh",
   "metadata": {},
   "outputs": [],
   "source": [
    "ContainerObject = type(\"Producer\", (core.HasMultiContainer,), {})\n",
    "\n",
    "def produceren(env, container_object):\n",
    "    while True:\n",
    "        start = container_object.container.get_level()\n",
    "        start_time = env.now\n",
    "        \n",
    "        yield env.timeout(5)\n",
    "        yield container_object.container.put(1, id_= \"default\")\n",
    "        \n",
    "        stop = container_object.container.get_level()\n",
    "        print(f\"Put amount {start} at {start_time} to {stop} at {env.now}\")\n",
    "        \n",
    "        \n",
    "def determine_amount(origin, amount):\n",
    "    org_cont = origin.container\n",
    "    origin_max_amount = org_cont.get_level(id_)\n",
    "    return min(origin_max_amount, amout)\n",
    "        \n",
    "def ontvangen(env, container_object):\n",
    "#     while True:\n",
    "\n",
    "    amount = 5\n",
    "    start_wait = env.now\n",
    "    succeeded = False\n",
    "    \n",
    "    while not succeeded:\n",
    "        try:\n",
    "            yield container_object.container.get_available(5)\n",
    "            start = container_object.container.get_level()\n",
    "            start_time = env.now\n",
    "            yield container_object.container.get(5, id_= \"default\")\n",
    "\n",
    "            stop = container_object.container.get_level()\n",
    "            print(f\"Get amount {start} at {start_time} to {stop} at {env.now}, (wait start {start_wait})\")\n",
    "            succeeded = True\n",
    "            \n",
    "        except:\n",
    "            print(f\"\"\"Tried to move but failed \"\"\")      \n",
    "                \n",
    "                        \n",
    "        \n",
    "        \n"
   ]
  },
  {
   "cell_type": "code",
   "execution_count": 5,
   "id": "intensive-peninsula",
   "metadata": {
    "scrolled": false
   },
   "outputs": [
    {
     "name": "stdout",
     "output_type": "stream",
     "text": [
      "Put amount 0 at 0 to 1 at 5\n",
      "Put amount 1 at 5 to 2 at 10\n",
      "Put amount 2 at 10 to 3 at 15\n",
      "Put amount 3 at 15 to 4 at 20\n",
      "Put amount 4 at 20 to 5 at 25\n",
      "Tried to move but failed \n",
      "Tried to move but failed \n",
      "Get amount 5 at 25 to 0 at 25, (wait start 0)\n",
      "Put amount 5 at 25 to 1 at 30\n",
      "Put amount 1 at 30 to 2 at 35\n",
      "Put amount 2 at 35 to 3 at 40\n",
      "Put amount 3 at 40 to 4 at 45\n",
      "Put amount 4 at 45 to 5 at 50\n",
      "Tried to move but failed \n",
      "Get amount 5 at 50 to 0 at 50, (wait start 0)\n",
      "Put amount 5 at 50 to 1 at 55\n",
      "Put amount 1 at 55 to 2 at 60\n",
      "Put amount 2 at 60 to 3 at 65\n",
      "Put amount 3 at 65 to 4 at 70\n",
      "Put amount 4 at 70 to 5 at 75\n",
      "Get amount 5 at 75 to 0 at 75, (wait start 0)\n",
      "Put amount 5 at 75 to 1 at 80\n",
      "Put amount 1 at 80 to 2 at 85\n",
      "Put amount 2 at 85 to 3 at 90\n",
      "Put amount 3 at 90 to 4 at 95\n"
     ]
    }
   ],
   "source": [
    "# setup environment\n",
    "simulation_start = 0\n",
    "env = simpy.Environment(initial_time=simulation_start)\n",
    "\n",
    "container_object = ContainerObject(\n",
    "    env=env,\n",
    "    initials=[{\"id\": \"default\", \"capacity\": 100, \"level\": 0}]\n",
    ")\n",
    "\n",
    "\n",
    "env.process(produceren(env, container_object))\n",
    "for _ in range(3):\n",
    "    env.process(ontvangen(env, container_object))\n",
    "\n",
    "env.run(until=100)"
   ]
  },
  {
   "cell_type": "code",
   "execution_count": null,
   "id": "careful-gilbert",
   "metadata": {},
   "outputs": [],
   "source": []
  },
  {
   "cell_type": "code",
   "execution_count": null,
   "id": "coral-advertising",
   "metadata": {},
   "outputs": [],
   "source": []
  },
  {
   "cell_type": "code",
   "execution_count": 10,
   "id": "intended-produce",
   "metadata": {},
   "outputs": [
    {
     "data": {
      "text/plain": [
       "<bound method AllOf of <simpy.core.Environment object at 0x7f947ae5d080>>"
      ]
     },
     "execution_count": 10,
     "metadata": {},
     "output_type": "execute_result"
    }
   ],
   "source": [
    "env.all_of"
   ]
  },
  {
   "cell_type": "code",
   "execution_count": null,
   "id": "prospective-james",
   "metadata": {},
   "outputs": [],
   "source": []
  }
 ],
 "metadata": {
  "kernelspec": {
   "display_name": "Python 3",
   "language": "python",
   "name": "python3"
  },
  "language_info": {
   "codemirror_mode": {
    "name": "ipython",
    "version": 3
   },
   "file_extension": ".py",
   "mimetype": "text/x-python",
   "name": "python",
   "nbconvert_exporter": "python",
   "pygments_lexer": "ipython3",
   "version": "3.7.3"
  }
 },
 "nbformat": 4,
 "nbformat_minor": 5
}
