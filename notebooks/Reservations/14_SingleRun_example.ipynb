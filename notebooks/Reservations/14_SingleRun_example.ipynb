{
 "cells": [
  {
   "cell_type": "markdown",
   "metadata": {},
   "source": [
    "# Demo SingleRun\n",
    "This notebook shows a single run consisting of the following four phases:\n",
    "* sail empty\n",
    "* loading\n",
    "* sail full\n",
    "* unloading"
   ]
  },
  {
   "cell_type": "code",
   "execution_count": 1,
   "metadata": {},
   "outputs": [],
   "source": [
    "import datetime, time\n",
    "import simpy\n",
    "\n",
    "import shapely.geometry\n",
    "\n",
    "\n",
    "import pandas as pd\n",
    "import openclsim.core as core\n",
    "import openclsim.model as model\n",
    "import openclsim.plot as plot\n",
    "\n",
    "# setup environment\n",
    "simulation_start = 0\n",
    "my_env = simpy.Environment(initial_time=simulation_start)\n",
    "registry = {}\n",
    "keep_resources = {}"
   ]
  },
  {
   "cell_type": "code",
   "execution_count": 2,
   "metadata": {},
   "outputs": [],
   "source": [
    "Site = type(\n",
    "    \"Site\",\n",
    "    (\n",
    "        core.Identifiable,\n",
    "        core.Log,\n",
    "        core.Locatable,\n",
    "        core.HasContainer,\n",
    "        core.HasResource,\n",
    "    ),\n",
    "    {},\n",
    ")\n",
    "\n",
    "TransportProcessingResource = type(\n",
    "    \"TransportProcessingResource\",\n",
    "    (\n",
    "        core.Identifiable,\n",
    "        core.Log,\n",
    "        core.ContainerDependentMovable,\n",
    "        core.Processor,\n",
    "        core.HasResource,\n",
    "        core.LoadingFunction,\n",
    "        core.UnloadingFunction,\n",
    "    ),\n",
    "    {},\n",
    ")\n",
    "location_from_site = shapely.geometry.Point(4.18055556, 52.18664444)\n",
    "location_to_site = shapely.geometry.Point(4.25222222, 52.11428333)\n"
   ]
  },
  {
   "cell_type": "markdown",
   "metadata": {},
   "source": [
    "## Definition of Site"
   ]
  },
  {
   "cell_type": "code",
   "execution_count": 3,
   "metadata": {},
   "outputs": [],
   "source": [
    "from_site = Site(\n",
    "    env=my_env,\n",
    "    name=\"Winlocatie\",\n",
    "    geometry=location_from_site,\n",
    "    capacity=100,\n",
    "    level=95,\n",
    ")\n",
    "\n",
    "\n",
    "to_site = Site(\n",
    "    env=my_env,\n",
    "    name=\"Dumplocatie\",\n",
    "    geometry=location_to_site,\n",
    "    capacity=100,\n",
    "    level=0,\n",
    ")"
   ]
  },
  {
   "cell_type": "markdown",
   "metadata": {},
   "source": [
    "## Definition of Vessels"
   ]
  },
  {
   "cell_type": "code",
   "execution_count": 4,
   "metadata": {},
   "outputs": [],
   "source": [
    "hopper = TransportProcessingResource(\n",
    "    env=my_env,\n",
    "    name=\"Hopper 01\",\n",
    "    geometry=location_from_site,\n",
    "    loading_rate=0.00001,\n",
    "    unloading_rate=0.00001,\n",
    "    capacity=10,\n",
    "    compute_v=lambda x: 10,\n",
    ")"
   ]
  },
  {
   "cell_type": "markdown",
   "metadata": {},
   "source": [
    "## Defenition of the activities"
   ]
  },
  {
   "cell_type": "code",
   "execution_count": 5,
   "metadata": {},
   "outputs": [],
   "source": [
    "single_run = [\n",
    "    model.MoveActivity(\n",
    "        env=my_env,\n",
    "        name=\"sailing empty\",\n",
    "        registry=registry,\n",
    "        mover=hopper,\n",
    "        destination=from_site,\n",
    "    ),\n",
    "    model.ShiftAmountActivity(\n",
    "        env=my_env,\n",
    "        name=\"Transfer MP\",\n",
    "        registry=registry,\n",
    "        processor=hopper,\n",
    "        origin=from_site,\n",
    "        destination=hopper,\n",
    "        amount=10,\n",
    "        duration=1000,\n",
    "    ),\n",
    "    model.MoveActivity(\n",
    "        env=my_env,\n",
    "        name=\"sailing filler\",\n",
    "        registry=registry,\n",
    "        mover=hopper,\n",
    "        destination=to_site,\n",
    "    ),\n",
    "    model.ShiftAmountActivity(\n",
    "        env=my_env,\n",
    "        name=\"Transfer TP\",\n",
    "        registry=registry,\n",
    "        processor=hopper,\n",
    "        origin=hopper,\n",
    "        destination=to_site,\n",
    "        amount=10,\n",
    "        duration=1000,\n",
    "    ),\n",
    "    model.BasicActivity(\n",
    "        env=my_env,\n",
    "        name=\"Basic activity\",\n",
    "        registry=registry,\n",
    "        duration=0,\n",
    "        additional_logs=[hopper],\n",
    "    ),\n",
    "]\n",
    "\n",
    "\n",
    "activity = model.SequentialActivity(\n",
    "    env=my_env,\n",
    "    name=\"Single run process\",\n",
    "    registry=registry,\n",
    "    sub_processes=single_run,\n",
    ")\n",
    "\n",
    "\n",
    "while_activity = model.WhileActivity(\n",
    "    env=my_env,\n",
    "    name=\"while\",\n",
    "    registry=registry,\n",
    "    sub_processes=[activity],\n",
    "    condition_event=[{\"type\": \"container\", \"concept\": to_site, \"state\": \"full\"}],\n",
    ")"
   ]
  },
  {
   "cell_type": "code",
   "execution_count": 6,
   "metadata": {},
   "outputs": [
    {
     "name": "stdout",
     "output_type": "stream",
     "text": [
      "get 10 10\n",
      "put 10 10\n",
      "get 10 10\n",
      "put 10 10\n",
      "get 10 10\n",
      "put 10 10\n",
      "get 10 10\n",
      "put 10 10\n",
      "get 10 10\n",
      "put 10 10\n",
      "get 10 10\n",
      "put 10 10\n",
      "get 10 10\n",
      "put 10 10\n",
      "get 10 10\n",
      "put 10 10\n",
      "get 10 10\n",
      "put 10 10\n",
      "get 10 10\n",
      "put 10 10\n",
      "get 10 10\n",
      "put 10 10\n",
      "get 10 10\n",
      "put 10 10\n",
      "get 10 10\n",
      "put 10 10\n",
      "get 10 10\n",
      "put 10 10\n",
      "get 10 10\n",
      "put 10 10\n",
      "get 10 10\n",
      "put 10 10\n",
      "get 10 10\n",
      "put 10 10\n",
      "get 10 10\n",
      "put 10 10\n",
      "get 10 10\n",
      "put 10 10\n",
      "get 10 10\n",
      "put 10 10\n",
      "get 10 10\n",
      "put 10 10\n",
      "get 10 10\n",
      "put 10 10\n",
      "get 10 10\n",
      "put 10 10\n",
      "get 10 10\n",
      "put 10 10\n",
      "get 10 10\n",
      "put 10 10\n",
      "get 10 10\n",
      "put 10 10\n",
      "get 10 10\n",
      "put 10 10\n",
      "get 10 10\n",
      "put 10 10\n",
      "get 10 10\n",
      "put 10 10\n",
      "get 10 10\n",
      "put 10 10\n",
      "get 10 10\n",
      "put 10 10\n",
      "get 10 10\n",
      "put 10 10\n",
      "get 10 10\n",
      "put 10 10\n",
      "get 10 10\n",
      "put 10 10\n",
      "get 10 10\n",
      "put 10 10\n",
      "get 10 10\n",
      "put 10 10\n",
      "get 10 5\n",
      "put 10 10\n",
      "get 10 10\n",
      "put 10 10\n",
      "get 10 5\n",
      "put 10 10\n",
      "get 10 10\n",
      "put 10 10\n",
      "get 10 0\n"
     ]
    }
   ],
   "source": [
    "model.register_processes([while_activity])\n",
    "my_env.run()"
   ]
  },
  {
   "cell_type": "code",
   "execution_count": 7,
   "metadata": {},
   "outputs": [
    {
     "data": {
      "text/html": [
       "<div>\n",
       "<style scoped>\n",
       "    .dataframe tbody tr th:only-of-type {\n",
       "        vertical-align: middle;\n",
       "    }\n",
       "\n",
       "    .dataframe tbody tr th {\n",
       "        vertical-align: top;\n",
       "    }\n",
       "\n",
       "    .dataframe thead th {\n",
       "        text-align: right;\n",
       "    }\n",
       "</style>\n",
       "<table border=\"1\" class=\"dataframe\">\n",
       "  <thead>\n",
       "    <tr style=\"text-align: right;\">\n",
       "      <th></th>\n",
       "      <th>Activity</th>\n",
       "      <th>Timestamp</th>\n",
       "      <th>ActivityState</th>\n",
       "      <th>geometry</th>\n",
       "      <th>container level</th>\n",
       "      <th>type</th>\n",
       "      <th>ref</th>\n",
       "    </tr>\n",
       "  </thead>\n",
       "  <tbody>\n",
       "    <tr>\n",
       "      <th>0</th>\n",
       "      <td>sailing empty</td>\n",
       "      <td>1970-01-01 00:00:00.000000</td>\n",
       "      <td>START</td>\n",
       "      <td>POINT (4.18055556 52.18664444)</td>\n",
       "      <td>0.0</td>\n",
       "      <td>NaN</td>\n",
       "      <td>NaN</td>\n",
       "    </tr>\n",
       "    <tr>\n",
       "      <th>1</th>\n",
       "      <td>sailing empty</td>\n",
       "      <td>1970-01-01 00:00:00.000000</td>\n",
       "      <td>STOP</td>\n",
       "      <td>POINT (4.18055556 52.18664444)</td>\n",
       "      <td>0.0</td>\n",
       "      <td>NaN</td>\n",
       "      <td>NaN</td>\n",
       "    </tr>\n",
       "    <tr>\n",
       "      <th>2</th>\n",
       "      <td>Transfer MP</td>\n",
       "      <td>1970-01-01 00:00:00.000000</td>\n",
       "      <td>START</td>\n",
       "      <td>POINT (4.18055556 52.18664444)</td>\n",
       "      <td>0.0</td>\n",
       "      <td>NaN</td>\n",
       "      <td>NaN</td>\n",
       "    </tr>\n",
       "    <tr>\n",
       "      <th>3</th>\n",
       "      <td>Transfer MP</td>\n",
       "      <td>1970-01-01 00:16:40.000000</td>\n",
       "      <td>STOP</td>\n",
       "      <td>POINT (4.18055556 52.18664444)</td>\n",
       "      <td>10.0</td>\n",
       "      <td>NaN</td>\n",
       "      <td>NaN</td>\n",
       "    </tr>\n",
       "    <tr>\n",
       "      <th>4</th>\n",
       "      <td>sailing filler</td>\n",
       "      <td>1970-01-01 00:16:40.000000</td>\n",
       "      <td>START</td>\n",
       "      <td>POINT (4.18055556 52.18664444)</td>\n",
       "      <td>10.0</td>\n",
       "      <td>NaN</td>\n",
       "      <td>NaN</td>\n",
       "    </tr>\n",
       "    <tr>\n",
       "      <th>...</th>\n",
       "      <td>...</td>\n",
       "      <td>...</td>\n",
       "      <td>...</td>\n",
       "      <td>...</td>\n",
       "      <td>...</td>\n",
       "      <td>...</td>\n",
       "      <td>...</td>\n",
       "    </tr>\n",
       "    <tr>\n",
       "      <th>95</th>\n",
       "      <td>sailing filler</td>\n",
       "      <td>1970-01-01 10:15:13.667234</td>\n",
       "      <td>STOP</td>\n",
       "      <td>POINT (4.25222222 52.11428333)</td>\n",
       "      <td>5.0</td>\n",
       "      <td>NaN</td>\n",
       "      <td>NaN</td>\n",
       "    </tr>\n",
       "    <tr>\n",
       "      <th>96</th>\n",
       "      <td>Transfer TP</td>\n",
       "      <td>1970-01-01 10:15:13.667234</td>\n",
       "      <td>START</td>\n",
       "      <td>POINT (4.25222222 52.11428333)</td>\n",
       "      <td>5.0</td>\n",
       "      <td>NaN</td>\n",
       "      <td>NaN</td>\n",
       "    </tr>\n",
       "    <tr>\n",
       "      <th>97</th>\n",
       "      <td>Transfer TP</td>\n",
       "      <td>1970-01-01 10:31:53.667234</td>\n",
       "      <td>STOP</td>\n",
       "      <td>POINT (4.25222222 52.11428333)</td>\n",
       "      <td>0.0</td>\n",
       "      <td>NaN</td>\n",
       "      <td>NaN</td>\n",
       "    </tr>\n",
       "    <tr>\n",
       "      <th>98</th>\n",
       "      <td>Basic activity</td>\n",
       "      <td>1970-01-01 10:31:53.667234</td>\n",
       "      <td>START</td>\n",
       "      <td>POINT (4.25222222 52.11428333)</td>\n",
       "      <td>0.0</td>\n",
       "      <td>additional log</td>\n",
       "      <td>01757787-e180-4d96-90d0-22b19cd0ae70</td>\n",
       "    </tr>\n",
       "    <tr>\n",
       "      <th>99</th>\n",
       "      <td>Basic activity</td>\n",
       "      <td>1970-01-01 10:31:53.667234</td>\n",
       "      <td>STOP</td>\n",
       "      <td>POINT (4.25222222 52.11428333)</td>\n",
       "      <td>0.0</td>\n",
       "      <td>additional log</td>\n",
       "      <td>01757787-e180-4d96-90d0-22b19cd0ae70</td>\n",
       "    </tr>\n",
       "  </tbody>\n",
       "</table>\n",
       "<p>100 rows × 7 columns</p>\n",
       "</div>"
      ],
      "text/plain": [
       "          Activity                  Timestamp ActivityState  \\\n",
       "0    sailing empty 1970-01-01 00:00:00.000000         START   \n",
       "1    sailing empty 1970-01-01 00:00:00.000000          STOP   \n",
       "2      Transfer MP 1970-01-01 00:00:00.000000         START   \n",
       "3      Transfer MP 1970-01-01 00:16:40.000000          STOP   \n",
       "4   sailing filler 1970-01-01 00:16:40.000000         START   \n",
       "..             ...                        ...           ...   \n",
       "95  sailing filler 1970-01-01 10:15:13.667234          STOP   \n",
       "96     Transfer TP 1970-01-01 10:15:13.667234         START   \n",
       "97     Transfer TP 1970-01-01 10:31:53.667234          STOP   \n",
       "98  Basic activity 1970-01-01 10:31:53.667234         START   \n",
       "99  Basic activity 1970-01-01 10:31:53.667234          STOP   \n",
       "\n",
       "                          geometry  container level            type  \\\n",
       "0   POINT (4.18055556 52.18664444)              0.0             NaN   \n",
       "1   POINT (4.18055556 52.18664444)              0.0             NaN   \n",
       "2   POINT (4.18055556 52.18664444)              0.0             NaN   \n",
       "3   POINT (4.18055556 52.18664444)             10.0             NaN   \n",
       "4   POINT (4.18055556 52.18664444)             10.0             NaN   \n",
       "..                             ...              ...             ...   \n",
       "95  POINT (4.25222222 52.11428333)              5.0             NaN   \n",
       "96  POINT (4.25222222 52.11428333)              5.0             NaN   \n",
       "97  POINT (4.25222222 52.11428333)              0.0             NaN   \n",
       "98  POINT (4.25222222 52.11428333)              0.0  additional log   \n",
       "99  POINT (4.25222222 52.11428333)              0.0  additional log   \n",
       "\n",
       "                                     ref  \n",
       "0                                    NaN  \n",
       "1                                    NaN  \n",
       "2                                    NaN  \n",
       "3                                    NaN  \n",
       "4                                    NaN  \n",
       "..                                   ...  \n",
       "95                                   NaN  \n",
       "96                                   NaN  \n",
       "97                                   NaN  \n",
       "98  01757787-e180-4d96-90d0-22b19cd0ae70  \n",
       "99  01757787-e180-4d96-90d0-22b19cd0ae70  \n",
       "\n",
       "[100 rows x 7 columns]"
      ]
     },
     "execution_count": 7,
     "metadata": {},
     "output_type": "execute_result"
    }
   ],
   "source": [
    "plot.get_log_dataframe(hopper, [while_activity, *single_run, activity])"
   ]
  },
  {
   "cell_type": "code",
   "execution_count": 8,
   "metadata": {},
   "outputs": [
    {
     "data": {
      "text/html": [
       "        <script type=\"text/javascript\">\n",
       "        window.PlotlyConfig = {MathJaxConfig: 'local'};\n",
       "        if (window.MathJax) {MathJax.Hub.Config({SVG: {font: \"STIX-Web\"}});}\n",
       "        if (typeof require !== 'undefined') {\n",
       "        require.undef(\"plotly\");\n",
       "        requirejs.config({\n",
       "            paths: {\n",
       "                'plotly': ['https://cdn.plot.ly/plotly-latest.min']\n",
       "            }\n",
       "        });\n",
       "        require(['plotly'], function(Plotly) {\n",
       "            window._Plotly = Plotly;\n",
       "        });\n",
       "        }\n",
       "        </script>\n",
       "        "
      ]
     },
     "metadata": {},
     "output_type": "display_data"
    },
    {
     "data": {
      "application/vnd.plotly.v1+json": {
       "config": {
        "linkText": "Export to plot.ly",
        "plotlyServerURL": "https://plot.ly",
        "showLink": false
       },
       "data": [
        {
         "connectgaps": false,
         "hoverinfo": "y+name",
         "line": {
          "color": "rgb(202,132,225)",
          "width": 10
         },
         "mode": "lines",
         "name": "6465c37f-4854-46fd-8d67-b8671714171e",
         "type": "scatter",
         "x": [
          "1970-01-01T00:32:22.824591",
          "1970-01-01T00:32:22.824591",
          "1970-01-01T00:49:02.824591",
          "1970-01-01T00:49:02.824591",
          "1970-01-01T00:49:02.824591",
          "1970-01-01T01:37:08.473774",
          "1970-01-01T01:37:08.473774",
          "1970-01-01T01:53:48.473774",
          "1970-01-01T01:53:48.473774",
          "1970-01-01T01:53:48.473774",
          "1970-01-01T02:41:54.122956",
          "1970-01-01T02:41:54.122956",
          "1970-01-01T02:58:34.122956",
          "1970-01-01T02:58:34.122956",
          "1970-01-01T02:58:34.122956",
          "1970-01-01T03:46:39.772139",
          "1970-01-01T03:46:39.772139",
          "1970-01-01T04:03:19.772139",
          "1970-01-01T04:03:19.772139",
          "1970-01-01T04:03:19.772139",
          "1970-01-01T04:51:25.421321",
          "1970-01-01T04:51:25.421321",
          "1970-01-01T05:08:05.421321",
          "1970-01-01T05:08:05.421321",
          "1970-01-01T05:08:05.421321",
          "1970-01-01T05:56:11.070504",
          "1970-01-01T05:56:11.070504",
          "1970-01-01T06:12:51.070504",
          "1970-01-01T06:12:51.070504",
          "1970-01-01T06:12:51.070504",
          "1970-01-01T07:00:56.719687",
          "1970-01-01T07:00:56.719687",
          "1970-01-01T07:17:36.719687",
          "1970-01-01T07:17:36.719687",
          "1970-01-01T07:17:36.719687",
          "1970-01-01T08:05:42.368869",
          "1970-01-01T08:05:42.368869",
          "1970-01-01T08:22:22.368869",
          "1970-01-01T08:22:22.368869",
          "1970-01-01T08:22:22.368869",
          "1970-01-01T09:10:28.018052",
          "1970-01-01T09:10:28.018052",
          "1970-01-01T09:27:08.018052",
          "1970-01-01T09:27:08.018052",
          "1970-01-01T09:27:08.018052",
          "1970-01-01T10:15:13.667234",
          "1970-01-01T10:15:13.667234",
          "1970-01-01T10:31:53.667234",
          "1970-01-01T10:31:53.667234",
          "1970-01-01T10:31:53.667234",
          "1970-01-01T00:32:22.824591",
          "1970-01-01T00:32:22.824591",
          "1970-01-01T00:49:02.824591",
          "1970-01-01T00:49:02.824591",
          "1970-01-01T00:49:02.824591",
          "1970-01-01T01:37:08.473774",
          "1970-01-01T01:37:08.473774",
          "1970-01-01T01:53:48.473774",
          "1970-01-01T01:53:48.473774",
          "1970-01-01T01:53:48.473774",
          "1970-01-01T02:41:54.122956",
          "1970-01-01T02:41:54.122956",
          "1970-01-01T02:58:34.122956",
          "1970-01-01T02:58:34.122956",
          "1970-01-01T02:58:34.122956",
          "1970-01-01T03:46:39.772139",
          "1970-01-01T03:46:39.772139",
          "1970-01-01T04:03:19.772139",
          "1970-01-01T04:03:19.772139",
          "1970-01-01T04:03:19.772139",
          "1970-01-01T04:51:25.421321",
          "1970-01-01T04:51:25.421321",
          "1970-01-01T05:08:05.421321",
          "1970-01-01T05:08:05.421321",
          "1970-01-01T05:08:05.421321",
          "1970-01-01T05:56:11.070504",
          "1970-01-01T05:56:11.070504",
          "1970-01-01T06:12:51.070504",
          "1970-01-01T06:12:51.070504",
          "1970-01-01T06:12:51.070504",
          "1970-01-01T07:00:56.719687",
          "1970-01-01T07:00:56.719687",
          "1970-01-01T07:17:36.719687",
          "1970-01-01T07:17:36.719687",
          "1970-01-01T07:17:36.719687",
          "1970-01-01T08:05:42.368869",
          "1970-01-01T08:05:42.368869",
          "1970-01-01T08:22:22.368869",
          "1970-01-01T08:22:22.368869",
          "1970-01-01T08:22:22.368869",
          "1970-01-01T09:10:28.018052",
          "1970-01-01T09:10:28.018052",
          "1970-01-01T09:27:08.018052",
          "1970-01-01T09:27:08.018052",
          "1970-01-01T09:27:08.018052",
          "1970-01-01T10:15:13.667234",
          "1970-01-01T10:15:13.667234",
          "1970-01-01T10:31:53.667234",
          "1970-01-01T10:31:53.667234",
          "1970-01-01T10:31:53.667234"
         ],
         "y": [
          "Hopper 01",
          "Hopper 01",
          "Hopper 01",
          "Hopper 01",
          null,
          "Hopper 01",
          "Hopper 01",
          "Hopper 01",
          "Hopper 01",
          null,
          "Hopper 01",
          "Hopper 01",
          "Hopper 01",
          "Hopper 01",
          null,
          "Hopper 01",
          "Hopper 01",
          "Hopper 01",
          "Hopper 01",
          null,
          "Hopper 01",
          "Hopper 01",
          "Hopper 01",
          "Hopper 01",
          null,
          "Hopper 01",
          "Hopper 01",
          "Hopper 01",
          "Hopper 01",
          null,
          "Hopper 01",
          "Hopper 01",
          "Hopper 01",
          "Hopper 01",
          null,
          "Hopper 01",
          "Hopper 01",
          "Hopper 01",
          "Hopper 01",
          null,
          "Hopper 01",
          "Hopper 01",
          "Hopper 01",
          "Hopper 01",
          null,
          "Hopper 01",
          "Hopper 01",
          "Hopper 01",
          "Hopper 01",
          null,
          "Dumplocatie",
          "Dumplocatie",
          "Dumplocatie",
          "Dumplocatie",
          null,
          "Dumplocatie",
          "Dumplocatie",
          "Dumplocatie",
          "Dumplocatie",
          null,
          "Dumplocatie",
          "Dumplocatie",
          "Dumplocatie",
          "Dumplocatie",
          null,
          "Dumplocatie",
          "Dumplocatie",
          "Dumplocatie",
          "Dumplocatie",
          null,
          "Dumplocatie",
          "Dumplocatie",
          "Dumplocatie",
          "Dumplocatie",
          null,
          "Dumplocatie",
          "Dumplocatie",
          "Dumplocatie",
          "Dumplocatie",
          null,
          "Dumplocatie",
          "Dumplocatie",
          "Dumplocatie",
          "Dumplocatie",
          null,
          "Dumplocatie",
          "Dumplocatie",
          "Dumplocatie",
          "Dumplocatie",
          null,
          "Dumplocatie",
          "Dumplocatie",
          "Dumplocatie",
          "Dumplocatie",
          null,
          "Dumplocatie",
          "Dumplocatie",
          "Dumplocatie",
          "Dumplocatie",
          null
         ]
        },
        {
         "connectgaps": false,
         "hoverinfo": "y+name",
         "line": {
          "color": "rgb(238,168,5)",
          "width": 10
         },
         "mode": "lines",
         "name": "01757787-e180-4d96-90d0-22b19cd0ae70",
         "type": "scatter",
         "x": [
          "1970-01-01T00:49:02.824591",
          "1970-01-01T00:49:02.824591",
          "1970-01-01T00:49:02.824591",
          "1970-01-01T00:49:02.824591",
          "1970-01-01T00:49:02.824591",
          "1970-01-01T01:53:48.473774",
          "1970-01-01T01:53:48.473774",
          "1970-01-01T01:53:48.473774",
          "1970-01-01T01:53:48.473774",
          "1970-01-01T01:53:48.473774",
          "1970-01-01T02:58:34.122956",
          "1970-01-01T02:58:34.122956",
          "1970-01-01T02:58:34.122956",
          "1970-01-01T02:58:34.122956",
          "1970-01-01T02:58:34.122956",
          "1970-01-01T04:03:19.772139",
          "1970-01-01T04:03:19.772139",
          "1970-01-01T04:03:19.772139",
          "1970-01-01T04:03:19.772139",
          "1970-01-01T04:03:19.772139",
          "1970-01-01T05:08:05.421321",
          "1970-01-01T05:08:05.421321",
          "1970-01-01T05:08:05.421321",
          "1970-01-01T05:08:05.421321",
          "1970-01-01T05:08:05.421321",
          "1970-01-01T06:12:51.070504",
          "1970-01-01T06:12:51.070504",
          "1970-01-01T06:12:51.070504",
          "1970-01-01T06:12:51.070504",
          "1970-01-01T06:12:51.070504",
          "1970-01-01T07:17:36.719687",
          "1970-01-01T07:17:36.719687",
          "1970-01-01T07:17:36.719687",
          "1970-01-01T07:17:36.719687",
          "1970-01-01T07:17:36.719687",
          "1970-01-01T08:22:22.368869",
          "1970-01-01T08:22:22.368869",
          "1970-01-01T08:22:22.368869",
          "1970-01-01T08:22:22.368869",
          "1970-01-01T08:22:22.368869",
          "1970-01-01T09:27:08.018052",
          "1970-01-01T09:27:08.018052",
          "1970-01-01T09:27:08.018052",
          "1970-01-01T09:27:08.018052",
          "1970-01-01T09:27:08.018052",
          "1970-01-01T10:31:53.667234",
          "1970-01-01T10:31:53.667234",
          "1970-01-01T10:31:53.667234",
          "1970-01-01T10:31:53.667234",
          "1970-01-01T10:31:53.667234"
         ],
         "y": [
          "Hopper 01",
          "Hopper 01",
          "Hopper 01",
          "Hopper 01",
          null,
          "Hopper 01",
          "Hopper 01",
          "Hopper 01",
          "Hopper 01",
          null,
          "Hopper 01",
          "Hopper 01",
          "Hopper 01",
          "Hopper 01",
          null,
          "Hopper 01",
          "Hopper 01",
          "Hopper 01",
          "Hopper 01",
          null,
          "Hopper 01",
          "Hopper 01",
          "Hopper 01",
          "Hopper 01",
          null,
          "Hopper 01",
          "Hopper 01",
          "Hopper 01",
          "Hopper 01",
          null,
          "Hopper 01",
          "Hopper 01",
          "Hopper 01",
          "Hopper 01",
          null,
          "Hopper 01",
          "Hopper 01",
          "Hopper 01",
          "Hopper 01",
          null,
          "Hopper 01",
          "Hopper 01",
          "Hopper 01",
          "Hopper 01",
          null,
          "Hopper 01",
          "Hopper 01",
          "Hopper 01",
          "Hopper 01",
          null
         ]
        },
        {
         "connectgaps": false,
         "hoverinfo": "y+name",
         "line": {
          "color": "rgb(18,204,41)",
          "width": 10
         },
         "mode": "lines",
         "name": "b34cb415-f48e-40c4-a8d8-f51051df9864",
         "type": "scatter",
         "x": [
          "1970-01-01T00:00:00",
          "1970-01-01T00:00:00",
          "1970-01-01T00:00:00",
          "1970-01-01T00:00:00",
          "1970-01-01T00:00:00",
          "1970-01-01T00:49:02.824591",
          "1970-01-01T00:49:02.824591",
          "1970-01-01T01:04:45.649183",
          "1970-01-01T01:04:45.649183",
          "1970-01-01T01:04:45.649183",
          "1970-01-01T01:53:48.473774",
          "1970-01-01T01:53:48.473774",
          "1970-01-01T02:09:31.298365",
          "1970-01-01T02:09:31.298365",
          "1970-01-01T02:09:31.298365",
          "1970-01-01T02:58:34.122956",
          "1970-01-01T02:58:34.122956",
          "1970-01-01T03:14:16.947548",
          "1970-01-01T03:14:16.947548",
          "1970-01-01T03:14:16.947548",
          "1970-01-01T04:03:19.772139",
          "1970-01-01T04:03:19.772139",
          "1970-01-01T04:19:02.596730",
          "1970-01-01T04:19:02.596730",
          "1970-01-01T04:19:02.596730",
          "1970-01-01T05:08:05.421321",
          "1970-01-01T05:08:05.421321",
          "1970-01-01T05:23:48.245913",
          "1970-01-01T05:23:48.245913",
          "1970-01-01T05:23:48.245913",
          "1970-01-01T06:12:51.070504",
          "1970-01-01T06:12:51.070504",
          "1970-01-01T06:28:33.895095",
          "1970-01-01T06:28:33.895095",
          "1970-01-01T06:28:33.895095",
          "1970-01-01T07:17:36.719687",
          "1970-01-01T07:17:36.719687",
          "1970-01-01T07:33:19.544278",
          "1970-01-01T07:33:19.544278",
          "1970-01-01T07:33:19.544278",
          "1970-01-01T08:22:22.368869",
          "1970-01-01T08:22:22.368869",
          "1970-01-01T08:38:05.193460",
          "1970-01-01T08:38:05.193460",
          "1970-01-01T08:38:05.193460",
          "1970-01-01T09:27:08.018052",
          "1970-01-01T09:27:08.018052",
          "1970-01-01T09:42:50.842643",
          "1970-01-01T09:42:50.842643",
          "1970-01-01T09:42:50.842643"
         ],
         "y": [
          "Hopper 01",
          "Hopper 01",
          "Hopper 01",
          "Hopper 01",
          null,
          "Hopper 01",
          "Hopper 01",
          "Hopper 01",
          "Hopper 01",
          null,
          "Hopper 01",
          "Hopper 01",
          "Hopper 01",
          "Hopper 01",
          null,
          "Hopper 01",
          "Hopper 01",
          "Hopper 01",
          "Hopper 01",
          null,
          "Hopper 01",
          "Hopper 01",
          "Hopper 01",
          "Hopper 01",
          null,
          "Hopper 01",
          "Hopper 01",
          "Hopper 01",
          "Hopper 01",
          null,
          "Hopper 01",
          "Hopper 01",
          "Hopper 01",
          "Hopper 01",
          null,
          "Hopper 01",
          "Hopper 01",
          "Hopper 01",
          "Hopper 01",
          null,
          "Hopper 01",
          "Hopper 01",
          "Hopper 01",
          "Hopper 01",
          null,
          "Hopper 01",
          "Hopper 01",
          "Hopper 01",
          "Hopper 01",
          null
         ]
        },
        {
         "connectgaps": false,
         "hoverinfo": "y+name",
         "line": {
          "color": "rgb(54,240,77)",
          "width": 10
         },
         "mode": "lines",
         "name": "5ad47323-7577-421c-a1b3-37f7743ba093",
         "type": "scatter",
         "x": [
          "1970-01-01T00:00:00",
          "1970-01-01T00:00:00",
          "1970-01-01T00:16:40",
          "1970-01-01T00:16:40",
          "1970-01-01T00:16:40",
          "1970-01-01T01:04:45.649183",
          "1970-01-01T01:04:45.649183",
          "1970-01-01T01:21:25.649183",
          "1970-01-01T01:21:25.649183",
          "1970-01-01T01:21:25.649183",
          "1970-01-01T02:09:31.298365",
          "1970-01-01T02:09:31.298365",
          "1970-01-01T02:26:11.298365",
          "1970-01-01T02:26:11.298365",
          "1970-01-01T02:26:11.298365",
          "1970-01-01T03:14:16.947548",
          "1970-01-01T03:14:16.947548",
          "1970-01-01T03:30:56.947548",
          "1970-01-01T03:30:56.947548",
          "1970-01-01T03:30:56.947548",
          "1970-01-01T04:19:02.596730",
          "1970-01-01T04:19:02.596730",
          "1970-01-01T04:35:42.596730",
          "1970-01-01T04:35:42.596730",
          "1970-01-01T04:35:42.596730",
          "1970-01-01T05:23:48.245913",
          "1970-01-01T05:23:48.245913",
          "1970-01-01T05:40:28.245913",
          "1970-01-01T05:40:28.245913",
          "1970-01-01T05:40:28.245913",
          "1970-01-01T06:28:33.895095",
          "1970-01-01T06:28:33.895095",
          "1970-01-01T06:45:13.895095",
          "1970-01-01T06:45:13.895095",
          "1970-01-01T06:45:13.895095",
          "1970-01-01T07:33:19.544278",
          "1970-01-01T07:33:19.544278",
          "1970-01-01T07:49:59.544278",
          "1970-01-01T07:49:59.544278",
          "1970-01-01T07:49:59.544278",
          "1970-01-01T08:38:05.193460",
          "1970-01-01T08:38:05.193460",
          "1970-01-01T08:54:45.193460",
          "1970-01-01T08:54:45.193460",
          "1970-01-01T08:54:45.193460",
          "1970-01-01T09:42:50.842643",
          "1970-01-01T09:42:50.842643",
          "1970-01-01T09:59:30.842643",
          "1970-01-01T09:59:30.842643",
          "1970-01-01T09:59:30.842643",
          "1970-01-01T00:00:00",
          "1970-01-01T00:00:00",
          "1970-01-01T00:16:40",
          "1970-01-01T00:16:40",
          "1970-01-01T00:16:40",
          "1970-01-01T01:04:45.649183",
          "1970-01-01T01:04:45.649183",
          "1970-01-01T01:21:25.649183",
          "1970-01-01T01:21:25.649183",
          "1970-01-01T01:21:25.649183",
          "1970-01-01T02:09:31.298365",
          "1970-01-01T02:09:31.298365",
          "1970-01-01T02:26:11.298365",
          "1970-01-01T02:26:11.298365",
          "1970-01-01T02:26:11.298365",
          "1970-01-01T03:14:16.947548",
          "1970-01-01T03:14:16.947548",
          "1970-01-01T03:30:56.947548",
          "1970-01-01T03:30:56.947548",
          "1970-01-01T03:30:56.947548",
          "1970-01-01T04:19:02.596730",
          "1970-01-01T04:19:02.596730",
          "1970-01-01T04:35:42.596730",
          "1970-01-01T04:35:42.596730",
          "1970-01-01T04:35:42.596730",
          "1970-01-01T05:23:48.245913",
          "1970-01-01T05:23:48.245913",
          "1970-01-01T05:40:28.245913",
          "1970-01-01T05:40:28.245913",
          "1970-01-01T05:40:28.245913",
          "1970-01-01T06:28:33.895095",
          "1970-01-01T06:28:33.895095",
          "1970-01-01T06:45:13.895095",
          "1970-01-01T06:45:13.895095",
          "1970-01-01T06:45:13.895095",
          "1970-01-01T07:33:19.544278",
          "1970-01-01T07:33:19.544278",
          "1970-01-01T07:49:59.544278",
          "1970-01-01T07:49:59.544278",
          "1970-01-01T07:49:59.544278",
          "1970-01-01T08:38:05.193460",
          "1970-01-01T08:38:05.193460",
          "1970-01-01T08:54:45.193460",
          "1970-01-01T08:54:45.193460",
          "1970-01-01T08:54:45.193460",
          "1970-01-01T09:42:50.842643",
          "1970-01-01T09:42:50.842643",
          "1970-01-01T09:59:30.842643",
          "1970-01-01T09:59:30.842643",
          "1970-01-01T09:59:30.842643"
         ],
         "y": [
          "Hopper 01",
          "Hopper 01",
          "Hopper 01",
          "Hopper 01",
          null,
          "Hopper 01",
          "Hopper 01",
          "Hopper 01",
          "Hopper 01",
          null,
          "Hopper 01",
          "Hopper 01",
          "Hopper 01",
          "Hopper 01",
          null,
          "Hopper 01",
          "Hopper 01",
          "Hopper 01",
          "Hopper 01",
          null,
          "Hopper 01",
          "Hopper 01",
          "Hopper 01",
          "Hopper 01",
          null,
          "Hopper 01",
          "Hopper 01",
          "Hopper 01",
          "Hopper 01",
          null,
          "Hopper 01",
          "Hopper 01",
          "Hopper 01",
          "Hopper 01",
          null,
          "Hopper 01",
          "Hopper 01",
          "Hopper 01",
          "Hopper 01",
          null,
          "Hopper 01",
          "Hopper 01",
          "Hopper 01",
          "Hopper 01",
          null,
          "Hopper 01",
          "Hopper 01",
          "Hopper 01",
          "Hopper 01",
          null,
          "Winlocatie",
          "Winlocatie",
          "Winlocatie",
          "Winlocatie",
          null,
          "Winlocatie",
          "Winlocatie",
          "Winlocatie",
          "Winlocatie",
          null,
          "Winlocatie",
          "Winlocatie",
          "Winlocatie",
          "Winlocatie",
          null,
          "Winlocatie",
          "Winlocatie",
          "Winlocatie",
          "Winlocatie",
          null,
          "Winlocatie",
          "Winlocatie",
          "Winlocatie",
          "Winlocatie",
          null,
          "Winlocatie",
          "Winlocatie",
          "Winlocatie",
          "Winlocatie",
          null,
          "Winlocatie",
          "Winlocatie",
          "Winlocatie",
          "Winlocatie",
          null,
          "Winlocatie",
          "Winlocatie",
          "Winlocatie",
          "Winlocatie",
          null,
          "Winlocatie",
          "Winlocatie",
          "Winlocatie",
          "Winlocatie",
          null,
          "Winlocatie",
          "Winlocatie",
          "Winlocatie",
          "Winlocatie",
          null
         ]
        },
        {
         "connectgaps": false,
         "hoverinfo": "y+name",
         "line": {
          "color": "rgb(90,20,113)",
          "width": 10
         },
         "mode": "lines",
         "name": "dcd43889-20a8-4371-81c0-ca2de625fe7b",
         "type": "scatter",
         "x": [
          "1970-01-01T00:16:40",
          "1970-01-01T00:16:40",
          "1970-01-01T00:32:22.824591",
          "1970-01-01T00:32:22.824591",
          "1970-01-01T00:32:22.824591",
          "1970-01-01T01:21:25.649183",
          "1970-01-01T01:21:25.649183",
          "1970-01-01T01:37:08.473774",
          "1970-01-01T01:37:08.473774",
          "1970-01-01T01:37:08.473774",
          "1970-01-01T02:26:11.298365",
          "1970-01-01T02:26:11.298365",
          "1970-01-01T02:41:54.122956",
          "1970-01-01T02:41:54.122956",
          "1970-01-01T02:41:54.122956",
          "1970-01-01T03:30:56.947548",
          "1970-01-01T03:30:56.947548",
          "1970-01-01T03:46:39.772139",
          "1970-01-01T03:46:39.772139",
          "1970-01-01T03:46:39.772139",
          "1970-01-01T04:35:42.596730",
          "1970-01-01T04:35:42.596730",
          "1970-01-01T04:51:25.421321",
          "1970-01-01T04:51:25.421321",
          "1970-01-01T04:51:25.421321",
          "1970-01-01T05:40:28.245913",
          "1970-01-01T05:40:28.245913",
          "1970-01-01T05:56:11.070504",
          "1970-01-01T05:56:11.070504",
          "1970-01-01T05:56:11.070504",
          "1970-01-01T06:45:13.895095",
          "1970-01-01T06:45:13.895095",
          "1970-01-01T07:00:56.719687",
          "1970-01-01T07:00:56.719687",
          "1970-01-01T07:00:56.719687",
          "1970-01-01T07:49:59.544278",
          "1970-01-01T07:49:59.544278",
          "1970-01-01T08:05:42.368869",
          "1970-01-01T08:05:42.368869",
          "1970-01-01T08:05:42.368869",
          "1970-01-01T08:54:45.193460",
          "1970-01-01T08:54:45.193460",
          "1970-01-01T09:10:28.018052",
          "1970-01-01T09:10:28.018052",
          "1970-01-01T09:10:28.018052",
          "1970-01-01T09:59:30.842643",
          "1970-01-01T09:59:30.842643",
          "1970-01-01T10:15:13.667234",
          "1970-01-01T10:15:13.667234",
          "1970-01-01T10:15:13.667234"
         ],
         "y": [
          "Hopper 01",
          "Hopper 01",
          "Hopper 01",
          "Hopper 01",
          null,
          "Hopper 01",
          "Hopper 01",
          "Hopper 01",
          "Hopper 01",
          null,
          "Hopper 01",
          "Hopper 01",
          "Hopper 01",
          "Hopper 01",
          null,
          "Hopper 01",
          "Hopper 01",
          "Hopper 01",
          "Hopper 01",
          null,
          "Hopper 01",
          "Hopper 01",
          "Hopper 01",
          "Hopper 01",
          null,
          "Hopper 01",
          "Hopper 01",
          "Hopper 01",
          "Hopper 01",
          null,
          "Hopper 01",
          "Hopper 01",
          "Hopper 01",
          "Hopper 01",
          null,
          "Hopper 01",
          "Hopper 01",
          "Hopper 01",
          "Hopper 01",
          null,
          "Hopper 01",
          "Hopper 01",
          "Hopper 01",
          "Hopper 01",
          null,
          "Hopper 01",
          "Hopper 01",
          "Hopper 01",
          "Hopper 01",
          null
         ]
        },
        {
         "connectgaps": false,
         "hoverinfo": "y+name",
         "line": {
          "color": "rgb(126,56,149)",
          "width": 10
         },
         "mode": "lines",
         "name": "5ad47323-7577-421c-a1b3-37f7743ba093",
         "type": "scatter",
         "x": [
          "1970-01-01T00:00:00",
          "1970-01-01T00:00:00",
          "1970-01-01T00:16:40",
          "1970-01-01T00:16:40",
          "1970-01-01T00:16:40",
          "1970-01-01T01:04:45.649183",
          "1970-01-01T01:04:45.649183",
          "1970-01-01T01:21:25.649183",
          "1970-01-01T01:21:25.649183",
          "1970-01-01T01:21:25.649183",
          "1970-01-01T02:09:31.298365",
          "1970-01-01T02:09:31.298365",
          "1970-01-01T02:26:11.298365",
          "1970-01-01T02:26:11.298365",
          "1970-01-01T02:26:11.298365",
          "1970-01-01T03:14:16.947548",
          "1970-01-01T03:14:16.947548",
          "1970-01-01T03:30:56.947548",
          "1970-01-01T03:30:56.947548",
          "1970-01-01T03:30:56.947548",
          "1970-01-01T04:19:02.596730",
          "1970-01-01T04:19:02.596730",
          "1970-01-01T04:35:42.596730",
          "1970-01-01T04:35:42.596730",
          "1970-01-01T04:35:42.596730",
          "1970-01-01T05:23:48.245913",
          "1970-01-01T05:23:48.245913",
          "1970-01-01T05:40:28.245913",
          "1970-01-01T05:40:28.245913",
          "1970-01-01T05:40:28.245913",
          "1970-01-01T06:28:33.895095",
          "1970-01-01T06:28:33.895095",
          "1970-01-01T06:45:13.895095",
          "1970-01-01T06:45:13.895095",
          "1970-01-01T06:45:13.895095",
          "1970-01-01T07:33:19.544278",
          "1970-01-01T07:33:19.544278",
          "1970-01-01T07:49:59.544278",
          "1970-01-01T07:49:59.544278",
          "1970-01-01T07:49:59.544278",
          "1970-01-01T08:38:05.193460",
          "1970-01-01T08:38:05.193460",
          "1970-01-01T08:54:45.193460",
          "1970-01-01T08:54:45.193460",
          "1970-01-01T08:54:45.193460",
          "1970-01-01T09:42:50.842643",
          "1970-01-01T09:42:50.842643",
          "1970-01-01T09:59:30.842643",
          "1970-01-01T09:59:30.842643",
          "1970-01-01T09:59:30.842643",
          "1970-01-01T00:00:00",
          "1970-01-01T00:00:00",
          "1970-01-01T00:16:40",
          "1970-01-01T00:16:40",
          "1970-01-01T00:16:40",
          "1970-01-01T01:04:45.649183",
          "1970-01-01T01:04:45.649183",
          "1970-01-01T01:21:25.649183",
          "1970-01-01T01:21:25.649183",
          "1970-01-01T01:21:25.649183",
          "1970-01-01T02:09:31.298365",
          "1970-01-01T02:09:31.298365",
          "1970-01-01T02:26:11.298365",
          "1970-01-01T02:26:11.298365",
          "1970-01-01T02:26:11.298365",
          "1970-01-01T03:14:16.947548",
          "1970-01-01T03:14:16.947548",
          "1970-01-01T03:30:56.947548",
          "1970-01-01T03:30:56.947548",
          "1970-01-01T03:30:56.947548",
          "1970-01-01T04:19:02.596730",
          "1970-01-01T04:19:02.596730",
          "1970-01-01T04:35:42.596730",
          "1970-01-01T04:35:42.596730",
          "1970-01-01T04:35:42.596730",
          "1970-01-01T05:23:48.245913",
          "1970-01-01T05:23:48.245913",
          "1970-01-01T05:40:28.245913",
          "1970-01-01T05:40:28.245913",
          "1970-01-01T05:40:28.245913",
          "1970-01-01T06:28:33.895095",
          "1970-01-01T06:28:33.895095",
          "1970-01-01T06:45:13.895095",
          "1970-01-01T06:45:13.895095",
          "1970-01-01T06:45:13.895095",
          "1970-01-01T07:33:19.544278",
          "1970-01-01T07:33:19.544278",
          "1970-01-01T07:49:59.544278",
          "1970-01-01T07:49:59.544278",
          "1970-01-01T07:49:59.544278",
          "1970-01-01T08:38:05.193460",
          "1970-01-01T08:38:05.193460",
          "1970-01-01T08:54:45.193460",
          "1970-01-01T08:54:45.193460",
          "1970-01-01T08:54:45.193460",
          "1970-01-01T09:42:50.842643",
          "1970-01-01T09:42:50.842643",
          "1970-01-01T09:59:30.842643",
          "1970-01-01T09:59:30.842643",
          "1970-01-01T09:59:30.842643"
         ],
         "y": [
          "Hopper 01",
          "Hopper 01",
          "Hopper 01",
          "Hopper 01",
          null,
          "Hopper 01",
          "Hopper 01",
          "Hopper 01",
          "Hopper 01",
          null,
          "Hopper 01",
          "Hopper 01",
          "Hopper 01",
          "Hopper 01",
          null,
          "Hopper 01",
          "Hopper 01",
          "Hopper 01",
          "Hopper 01",
          null,
          "Hopper 01",
          "Hopper 01",
          "Hopper 01",
          "Hopper 01",
          null,
          "Hopper 01",
          "Hopper 01",
          "Hopper 01",
          "Hopper 01",
          null,
          "Hopper 01",
          "Hopper 01",
          "Hopper 01",
          "Hopper 01",
          null,
          "Hopper 01",
          "Hopper 01",
          "Hopper 01",
          "Hopper 01",
          null,
          "Hopper 01",
          "Hopper 01",
          "Hopper 01",
          "Hopper 01",
          null,
          "Hopper 01",
          "Hopper 01",
          "Hopper 01",
          "Hopper 01",
          null,
          "Winlocatie",
          "Winlocatie",
          "Winlocatie",
          "Winlocatie",
          null,
          "Winlocatie",
          "Winlocatie",
          "Winlocatie",
          "Winlocatie",
          null,
          "Winlocatie",
          "Winlocatie",
          "Winlocatie",
          "Winlocatie",
          null,
          "Winlocatie",
          "Winlocatie",
          "Winlocatie",
          "Winlocatie",
          null,
          "Winlocatie",
          "Winlocatie",
          "Winlocatie",
          "Winlocatie",
          null,
          "Winlocatie",
          "Winlocatie",
          "Winlocatie",
          "Winlocatie",
          null,
          "Winlocatie",
          "Winlocatie",
          "Winlocatie",
          "Winlocatie",
          null,
          "Winlocatie",
          "Winlocatie",
          "Winlocatie",
          "Winlocatie",
          null,
          "Winlocatie",
          "Winlocatie",
          "Winlocatie",
          "Winlocatie",
          null,
          "Winlocatie",
          "Winlocatie",
          "Winlocatie",
          "Winlocatie",
          null
         ]
        },
        {
         "connectgaps": false,
         "hoverinfo": "y+name",
         "line": {
          "color": "rgb(162,92,185)",
          "width": 10
         },
         "mode": "lines",
         "name": "6465c37f-4854-46fd-8d67-b8671714171e",
         "type": "scatter",
         "x": [
          "1970-01-01T00:32:22.824591",
          "1970-01-01T00:32:22.824591",
          "1970-01-01T00:49:02.824591",
          "1970-01-01T00:49:02.824591",
          "1970-01-01T00:49:02.824591",
          "1970-01-01T01:37:08.473774",
          "1970-01-01T01:37:08.473774",
          "1970-01-01T01:53:48.473774",
          "1970-01-01T01:53:48.473774",
          "1970-01-01T01:53:48.473774",
          "1970-01-01T02:41:54.122956",
          "1970-01-01T02:41:54.122956",
          "1970-01-01T02:58:34.122956",
          "1970-01-01T02:58:34.122956",
          "1970-01-01T02:58:34.122956",
          "1970-01-01T03:46:39.772139",
          "1970-01-01T03:46:39.772139",
          "1970-01-01T04:03:19.772139",
          "1970-01-01T04:03:19.772139",
          "1970-01-01T04:03:19.772139",
          "1970-01-01T04:51:25.421321",
          "1970-01-01T04:51:25.421321",
          "1970-01-01T05:08:05.421321",
          "1970-01-01T05:08:05.421321",
          "1970-01-01T05:08:05.421321",
          "1970-01-01T05:56:11.070504",
          "1970-01-01T05:56:11.070504",
          "1970-01-01T06:12:51.070504",
          "1970-01-01T06:12:51.070504",
          "1970-01-01T06:12:51.070504",
          "1970-01-01T07:00:56.719687",
          "1970-01-01T07:00:56.719687",
          "1970-01-01T07:17:36.719687",
          "1970-01-01T07:17:36.719687",
          "1970-01-01T07:17:36.719687",
          "1970-01-01T08:05:42.368869",
          "1970-01-01T08:05:42.368869",
          "1970-01-01T08:22:22.368869",
          "1970-01-01T08:22:22.368869",
          "1970-01-01T08:22:22.368869",
          "1970-01-01T09:10:28.018052",
          "1970-01-01T09:10:28.018052",
          "1970-01-01T09:27:08.018052",
          "1970-01-01T09:27:08.018052",
          "1970-01-01T09:27:08.018052",
          "1970-01-01T10:15:13.667234",
          "1970-01-01T10:15:13.667234",
          "1970-01-01T10:31:53.667234",
          "1970-01-01T10:31:53.667234",
          "1970-01-01T10:31:53.667234",
          "1970-01-01T00:32:22.824591",
          "1970-01-01T00:32:22.824591",
          "1970-01-01T00:49:02.824591",
          "1970-01-01T00:49:02.824591",
          "1970-01-01T00:49:02.824591",
          "1970-01-01T01:37:08.473774",
          "1970-01-01T01:37:08.473774",
          "1970-01-01T01:53:48.473774",
          "1970-01-01T01:53:48.473774",
          "1970-01-01T01:53:48.473774",
          "1970-01-01T02:41:54.122956",
          "1970-01-01T02:41:54.122956",
          "1970-01-01T02:58:34.122956",
          "1970-01-01T02:58:34.122956",
          "1970-01-01T02:58:34.122956",
          "1970-01-01T03:46:39.772139",
          "1970-01-01T03:46:39.772139",
          "1970-01-01T04:03:19.772139",
          "1970-01-01T04:03:19.772139",
          "1970-01-01T04:03:19.772139",
          "1970-01-01T04:51:25.421321",
          "1970-01-01T04:51:25.421321",
          "1970-01-01T05:08:05.421321",
          "1970-01-01T05:08:05.421321",
          "1970-01-01T05:08:05.421321",
          "1970-01-01T05:56:11.070504",
          "1970-01-01T05:56:11.070504",
          "1970-01-01T06:12:51.070504",
          "1970-01-01T06:12:51.070504",
          "1970-01-01T06:12:51.070504",
          "1970-01-01T07:00:56.719687",
          "1970-01-01T07:00:56.719687",
          "1970-01-01T07:17:36.719687",
          "1970-01-01T07:17:36.719687",
          "1970-01-01T07:17:36.719687",
          "1970-01-01T08:05:42.368869",
          "1970-01-01T08:05:42.368869",
          "1970-01-01T08:22:22.368869",
          "1970-01-01T08:22:22.368869",
          "1970-01-01T08:22:22.368869",
          "1970-01-01T09:10:28.018052",
          "1970-01-01T09:10:28.018052",
          "1970-01-01T09:27:08.018052",
          "1970-01-01T09:27:08.018052",
          "1970-01-01T09:27:08.018052",
          "1970-01-01T10:15:13.667234",
          "1970-01-01T10:15:13.667234",
          "1970-01-01T10:31:53.667234",
          "1970-01-01T10:31:53.667234",
          "1970-01-01T10:31:53.667234"
         ],
         "y": [
          "Hopper 01",
          "Hopper 01",
          "Hopper 01",
          "Hopper 01",
          null,
          "Hopper 01",
          "Hopper 01",
          "Hopper 01",
          "Hopper 01",
          null,
          "Hopper 01",
          "Hopper 01",
          "Hopper 01",
          "Hopper 01",
          null,
          "Hopper 01",
          "Hopper 01",
          "Hopper 01",
          "Hopper 01",
          null,
          "Hopper 01",
          "Hopper 01",
          "Hopper 01",
          "Hopper 01",
          null,
          "Hopper 01",
          "Hopper 01",
          "Hopper 01",
          "Hopper 01",
          null,
          "Hopper 01",
          "Hopper 01",
          "Hopper 01",
          "Hopper 01",
          null,
          "Hopper 01",
          "Hopper 01",
          "Hopper 01",
          "Hopper 01",
          null,
          "Hopper 01",
          "Hopper 01",
          "Hopper 01",
          "Hopper 01",
          null,
          "Hopper 01",
          "Hopper 01",
          "Hopper 01",
          "Hopper 01",
          null,
          "Dumplocatie",
          "Dumplocatie",
          "Dumplocatie",
          "Dumplocatie",
          null,
          "Dumplocatie",
          "Dumplocatie",
          "Dumplocatie",
          "Dumplocatie",
          null,
          "Dumplocatie",
          "Dumplocatie",
          "Dumplocatie",
          "Dumplocatie",
          null,
          "Dumplocatie",
          "Dumplocatie",
          "Dumplocatie",
          "Dumplocatie",
          null,
          "Dumplocatie",
          "Dumplocatie",
          "Dumplocatie",
          "Dumplocatie",
          null,
          "Dumplocatie",
          "Dumplocatie",
          "Dumplocatie",
          "Dumplocatie",
          null,
          "Dumplocatie",
          "Dumplocatie",
          "Dumplocatie",
          "Dumplocatie",
          null,
          "Dumplocatie",
          "Dumplocatie",
          "Dumplocatie",
          "Dumplocatie",
          null,
          "Dumplocatie",
          "Dumplocatie",
          "Dumplocatie",
          "Dumplocatie",
          null,
          "Dumplocatie",
          "Dumplocatie",
          "Dumplocatie",
          "Dumplocatie",
          null
         ]
        }
       ],
       "layout": {
        "hovermode": "closest",
        "legend": {
         "orientation": "h",
         "x": 0,
         "y": -0.2
        },
        "template": {
         "data": {
          "bar": [
           {
            "error_x": {
             "color": "#2a3f5f"
            },
            "error_y": {
             "color": "#2a3f5f"
            },
            "marker": {
             "line": {
              "color": "#E5ECF6",
              "width": 0.5
             }
            },
            "type": "bar"
           }
          ],
          "barpolar": [
           {
            "marker": {
             "line": {
              "color": "#E5ECF6",
              "width": 0.5
             }
            },
            "type": "barpolar"
           }
          ],
          "carpet": [
           {
            "aaxis": {
             "endlinecolor": "#2a3f5f",
             "gridcolor": "white",
             "linecolor": "white",
             "minorgridcolor": "white",
             "startlinecolor": "#2a3f5f"
            },
            "baxis": {
             "endlinecolor": "#2a3f5f",
             "gridcolor": "white",
             "linecolor": "white",
             "minorgridcolor": "white",
             "startlinecolor": "#2a3f5f"
            },
            "type": "carpet"
           }
          ],
          "choropleth": [
           {
            "colorbar": {
             "outlinewidth": 0,
             "ticks": ""
            },
            "type": "choropleth"
           }
          ],
          "contour": [
           {
            "colorbar": {
             "outlinewidth": 0,
             "ticks": ""
            },
            "colorscale": [
             [
              0,
              "#0d0887"
             ],
             [
              0.1111111111111111,
              "#46039f"
             ],
             [
              0.2222222222222222,
              "#7201a8"
             ],
             [
              0.3333333333333333,
              "#9c179e"
             ],
             [
              0.4444444444444444,
              "#bd3786"
             ],
             [
              0.5555555555555556,
              "#d8576b"
             ],
             [
              0.6666666666666666,
              "#ed7953"
             ],
             [
              0.7777777777777778,
              "#fb9f3a"
             ],
             [
              0.8888888888888888,
              "#fdca26"
             ],
             [
              1,
              "#f0f921"
             ]
            ],
            "type": "contour"
           }
          ],
          "contourcarpet": [
           {
            "colorbar": {
             "outlinewidth": 0,
             "ticks": ""
            },
            "type": "contourcarpet"
           }
          ],
          "heatmap": [
           {
            "colorbar": {
             "outlinewidth": 0,
             "ticks": ""
            },
            "colorscale": [
             [
              0,
              "#0d0887"
             ],
             [
              0.1111111111111111,
              "#46039f"
             ],
             [
              0.2222222222222222,
              "#7201a8"
             ],
             [
              0.3333333333333333,
              "#9c179e"
             ],
             [
              0.4444444444444444,
              "#bd3786"
             ],
             [
              0.5555555555555556,
              "#d8576b"
             ],
             [
              0.6666666666666666,
              "#ed7953"
             ],
             [
              0.7777777777777778,
              "#fb9f3a"
             ],
             [
              0.8888888888888888,
              "#fdca26"
             ],
             [
              1,
              "#f0f921"
             ]
            ],
            "type": "heatmap"
           }
          ],
          "heatmapgl": [
           {
            "colorbar": {
             "outlinewidth": 0,
             "ticks": ""
            },
            "colorscale": [
             [
              0,
              "#0d0887"
             ],
             [
              0.1111111111111111,
              "#46039f"
             ],
             [
              0.2222222222222222,
              "#7201a8"
             ],
             [
              0.3333333333333333,
              "#9c179e"
             ],
             [
              0.4444444444444444,
              "#bd3786"
             ],
             [
              0.5555555555555556,
              "#d8576b"
             ],
             [
              0.6666666666666666,
              "#ed7953"
             ],
             [
              0.7777777777777778,
              "#fb9f3a"
             ],
             [
              0.8888888888888888,
              "#fdca26"
             ],
             [
              1,
              "#f0f921"
             ]
            ],
            "type": "heatmapgl"
           }
          ],
          "histogram": [
           {
            "marker": {
             "colorbar": {
              "outlinewidth": 0,
              "ticks": ""
             }
            },
            "type": "histogram"
           }
          ],
          "histogram2d": [
           {
            "colorbar": {
             "outlinewidth": 0,
             "ticks": ""
            },
            "colorscale": [
             [
              0,
              "#0d0887"
             ],
             [
              0.1111111111111111,
              "#46039f"
             ],
             [
              0.2222222222222222,
              "#7201a8"
             ],
             [
              0.3333333333333333,
              "#9c179e"
             ],
             [
              0.4444444444444444,
              "#bd3786"
             ],
             [
              0.5555555555555556,
              "#d8576b"
             ],
             [
              0.6666666666666666,
              "#ed7953"
             ],
             [
              0.7777777777777778,
              "#fb9f3a"
             ],
             [
              0.8888888888888888,
              "#fdca26"
             ],
             [
              1,
              "#f0f921"
             ]
            ],
            "type": "histogram2d"
           }
          ],
          "histogram2dcontour": [
           {
            "colorbar": {
             "outlinewidth": 0,
             "ticks": ""
            },
            "colorscale": [
             [
              0,
              "#0d0887"
             ],
             [
              0.1111111111111111,
              "#46039f"
             ],
             [
              0.2222222222222222,
              "#7201a8"
             ],
             [
              0.3333333333333333,
              "#9c179e"
             ],
             [
              0.4444444444444444,
              "#bd3786"
             ],
             [
              0.5555555555555556,
              "#d8576b"
             ],
             [
              0.6666666666666666,
              "#ed7953"
             ],
             [
              0.7777777777777778,
              "#fb9f3a"
             ],
             [
              0.8888888888888888,
              "#fdca26"
             ],
             [
              1,
              "#f0f921"
             ]
            ],
            "type": "histogram2dcontour"
           }
          ],
          "mesh3d": [
           {
            "colorbar": {
             "outlinewidth": 0,
             "ticks": ""
            },
            "type": "mesh3d"
           }
          ],
          "parcoords": [
           {
            "line": {
             "colorbar": {
              "outlinewidth": 0,
              "ticks": ""
             }
            },
            "type": "parcoords"
           }
          ],
          "pie": [
           {
            "automargin": true,
            "type": "pie"
           }
          ],
          "scatter": [
           {
            "marker": {
             "colorbar": {
              "outlinewidth": 0,
              "ticks": ""
             }
            },
            "type": "scatter"
           }
          ],
          "scatter3d": [
           {
            "line": {
             "colorbar": {
              "outlinewidth": 0,
              "ticks": ""
             }
            },
            "marker": {
             "colorbar": {
              "outlinewidth": 0,
              "ticks": ""
             }
            },
            "type": "scatter3d"
           }
          ],
          "scattercarpet": [
           {
            "marker": {
             "colorbar": {
              "outlinewidth": 0,
              "ticks": ""
             }
            },
            "type": "scattercarpet"
           }
          ],
          "scattergeo": [
           {
            "marker": {
             "colorbar": {
              "outlinewidth": 0,
              "ticks": ""
             }
            },
            "type": "scattergeo"
           }
          ],
          "scattergl": [
           {
            "marker": {
             "colorbar": {
              "outlinewidth": 0,
              "ticks": ""
             }
            },
            "type": "scattergl"
           }
          ],
          "scattermapbox": [
           {
            "marker": {
             "colorbar": {
              "outlinewidth": 0,
              "ticks": ""
             }
            },
            "type": "scattermapbox"
           }
          ],
          "scatterpolar": [
           {
            "marker": {
             "colorbar": {
              "outlinewidth": 0,
              "ticks": ""
             }
            },
            "type": "scatterpolar"
           }
          ],
          "scatterpolargl": [
           {
            "marker": {
             "colorbar": {
              "outlinewidth": 0,
              "ticks": ""
             }
            },
            "type": "scatterpolargl"
           }
          ],
          "scatterternary": [
           {
            "marker": {
             "colorbar": {
              "outlinewidth": 0,
              "ticks": ""
             }
            },
            "type": "scatterternary"
           }
          ],
          "surface": [
           {
            "colorbar": {
             "outlinewidth": 0,
             "ticks": ""
            },
            "colorscale": [
             [
              0,
              "#0d0887"
             ],
             [
              0.1111111111111111,
              "#46039f"
             ],
             [
              0.2222222222222222,
              "#7201a8"
             ],
             [
              0.3333333333333333,
              "#9c179e"
             ],
             [
              0.4444444444444444,
              "#bd3786"
             ],
             [
              0.5555555555555556,
              "#d8576b"
             ],
             [
              0.6666666666666666,
              "#ed7953"
             ],
             [
              0.7777777777777778,
              "#fb9f3a"
             ],
             [
              0.8888888888888888,
              "#fdca26"
             ],
             [
              1,
              "#f0f921"
             ]
            ],
            "type": "surface"
           }
          ],
          "table": [
           {
            "cells": {
             "fill": {
              "color": "#EBF0F8"
             },
             "line": {
              "color": "white"
             }
            },
            "header": {
             "fill": {
              "color": "#C8D4E3"
             },
             "line": {
              "color": "white"
             }
            },
            "type": "table"
           }
          ]
         },
         "layout": {
          "annotationdefaults": {
           "arrowcolor": "#2a3f5f",
           "arrowhead": 0,
           "arrowwidth": 1
          },
          "autotypenumbers": "strict",
          "coloraxis": {
           "colorbar": {
            "outlinewidth": 0,
            "ticks": ""
           }
          },
          "colorscale": {
           "diverging": [
            [
             0,
             "#8e0152"
            ],
            [
             0.1,
             "#c51b7d"
            ],
            [
             0.2,
             "#de77ae"
            ],
            [
             0.3,
             "#f1b6da"
            ],
            [
             0.4,
             "#fde0ef"
            ],
            [
             0.5,
             "#f7f7f7"
            ],
            [
             0.6,
             "#e6f5d0"
            ],
            [
             0.7,
             "#b8e186"
            ],
            [
             0.8,
             "#7fbc41"
            ],
            [
             0.9,
             "#4d9221"
            ],
            [
             1,
             "#276419"
            ]
           ],
           "sequential": [
            [
             0,
             "#0d0887"
            ],
            [
             0.1111111111111111,
             "#46039f"
            ],
            [
             0.2222222222222222,
             "#7201a8"
            ],
            [
             0.3333333333333333,
             "#9c179e"
            ],
            [
             0.4444444444444444,
             "#bd3786"
            ],
            [
             0.5555555555555556,
             "#d8576b"
            ],
            [
             0.6666666666666666,
             "#ed7953"
            ],
            [
             0.7777777777777778,
             "#fb9f3a"
            ],
            [
             0.8888888888888888,
             "#fdca26"
            ],
            [
             1,
             "#f0f921"
            ]
           ],
           "sequentialminus": [
            [
             0,
             "#0d0887"
            ],
            [
             0.1111111111111111,
             "#46039f"
            ],
            [
             0.2222222222222222,
             "#7201a8"
            ],
            [
             0.3333333333333333,
             "#9c179e"
            ],
            [
             0.4444444444444444,
             "#bd3786"
            ],
            [
             0.5555555555555556,
             "#d8576b"
            ],
            [
             0.6666666666666666,
             "#ed7953"
            ],
            [
             0.7777777777777778,
             "#fb9f3a"
            ],
            [
             0.8888888888888888,
             "#fdca26"
            ],
            [
             1,
             "#f0f921"
            ]
           ]
          },
          "colorway": [
           "#636efa",
           "#EF553B",
           "#00cc96",
           "#ab63fa",
           "#FFA15A",
           "#19d3f3",
           "#FF6692",
           "#B6E880",
           "#FF97FF",
           "#FECB52"
          ],
          "font": {
           "color": "#2a3f5f"
          },
          "geo": {
           "bgcolor": "white",
           "lakecolor": "white",
           "landcolor": "#E5ECF6",
           "showlakes": true,
           "showland": true,
           "subunitcolor": "white"
          },
          "hoverlabel": {
           "align": "left"
          },
          "hovermode": "closest",
          "mapbox": {
           "style": "light"
          },
          "paper_bgcolor": "white",
          "plot_bgcolor": "#E5ECF6",
          "polar": {
           "angularaxis": {
            "gridcolor": "white",
            "linecolor": "white",
            "ticks": ""
           },
           "bgcolor": "#E5ECF6",
           "radialaxis": {
            "gridcolor": "white",
            "linecolor": "white",
            "ticks": ""
           }
          },
          "scene": {
           "xaxis": {
            "backgroundcolor": "#E5ECF6",
            "gridcolor": "white",
            "gridwidth": 2,
            "linecolor": "white",
            "showbackground": true,
            "ticks": "",
            "zerolinecolor": "white"
           },
           "yaxis": {
            "backgroundcolor": "#E5ECF6",
            "gridcolor": "white",
            "gridwidth": 2,
            "linecolor": "white",
            "showbackground": true,
            "ticks": "",
            "zerolinecolor": "white"
           },
           "zaxis": {
            "backgroundcolor": "#E5ECF6",
            "gridcolor": "white",
            "gridwidth": 2,
            "linecolor": "white",
            "showbackground": true,
            "ticks": "",
            "zerolinecolor": "white"
           }
          },
          "shapedefaults": {
           "line": {
            "color": "#2a3f5f"
           }
          },
          "ternary": {
           "aaxis": {
            "gridcolor": "white",
            "linecolor": "white",
            "ticks": ""
           },
           "baxis": {
            "gridcolor": "white",
            "linecolor": "white",
            "ticks": ""
           },
           "bgcolor": "#E5ECF6",
           "caxis": {
            "gridcolor": "white",
            "linecolor": "white",
            "ticks": ""
           }
          },
          "title": {
           "x": 0.05
          },
          "xaxis": {
           "automargin": true,
           "gridcolor": "white",
           "linecolor": "white",
           "ticks": "",
           "title": {
            "standoff": 15
           },
           "zerolinecolor": "white",
           "zerolinewidth": 2
          },
          "yaxis": {
           "automargin": true,
           "gridcolor": "white",
           "linecolor": "white",
           "ticks": "",
           "title": {
            "standoff": 15
           },
           "zerolinecolor": "white",
           "zerolinewidth": 2
          }
         }
        },
        "title": {
         "text": "Vessel planning"
        },
        "xaxis": {
         "range": [
          "1970-01-01T00:00:00",
          "1970-01-01T10:31:53.667234"
         ],
         "title": {
          "font": {
           "color": "#7f7f7f",
           "family": "Courier New, monospace",
           "size": 18
          },
          "text": "Time"
         }
        },
        "yaxis": {
         "title": {
          "font": {
           "color": "#7f7f7f",
           "family": "Courier New, monospace",
           "size": 18
          },
          "text": "Vessels"
         }
        }
       }
      },
      "text/html": [
       "<div>                            <div id=\"060fa9da-5d24-46d1-8688-a360210c5c58\" class=\"plotly-graph-div\" style=\"height:525px; width:100%;\"></div>            <script type=\"text/javascript\">                require([\"plotly\"], function(Plotly) {                    window.PLOTLYENV=window.PLOTLYENV || {};                                    if (document.getElementById(\"060fa9da-5d24-46d1-8688-a360210c5c58\")) {                    Plotly.newPlot(                        \"060fa9da-5d24-46d1-8688-a360210c5c58\",                        [{\"connectgaps\": false, \"hoverinfo\": \"y+name\", \"line\": {\"color\": \"rgb(202,132,225)\", \"width\": 10}, \"mode\": \"lines\", \"name\": \"6465c37f-4854-46fd-8d67-b8671714171e\", \"type\": \"scatter\", \"x\": [\"1970-01-01T00:32:22.824591\", \"1970-01-01T00:32:22.824591\", \"1970-01-01T00:49:02.824591\", \"1970-01-01T00:49:02.824591\", \"1970-01-01T00:49:02.824591\", \"1970-01-01T01:37:08.473774\", \"1970-01-01T01:37:08.473774\", \"1970-01-01T01:53:48.473774\", \"1970-01-01T01:53:48.473774\", \"1970-01-01T01:53:48.473774\", \"1970-01-01T02:41:54.122956\", \"1970-01-01T02:41:54.122956\", \"1970-01-01T02:58:34.122956\", \"1970-01-01T02:58:34.122956\", \"1970-01-01T02:58:34.122956\", \"1970-01-01T03:46:39.772139\", \"1970-01-01T03:46:39.772139\", \"1970-01-01T04:03:19.772139\", \"1970-01-01T04:03:19.772139\", \"1970-01-01T04:03:19.772139\", \"1970-01-01T04:51:25.421321\", \"1970-01-01T04:51:25.421321\", \"1970-01-01T05:08:05.421321\", \"1970-01-01T05:08:05.421321\", \"1970-01-01T05:08:05.421321\", \"1970-01-01T05:56:11.070504\", \"1970-01-01T05:56:11.070504\", \"1970-01-01T06:12:51.070504\", \"1970-01-01T06:12:51.070504\", \"1970-01-01T06:12:51.070504\", \"1970-01-01T07:00:56.719687\", \"1970-01-01T07:00:56.719687\", \"1970-01-01T07:17:36.719687\", \"1970-01-01T07:17:36.719687\", \"1970-01-01T07:17:36.719687\", \"1970-01-01T08:05:42.368869\", \"1970-01-01T08:05:42.368869\", \"1970-01-01T08:22:22.368869\", \"1970-01-01T08:22:22.368869\", \"1970-01-01T08:22:22.368869\", \"1970-01-01T09:10:28.018052\", \"1970-01-01T09:10:28.018052\", \"1970-01-01T09:27:08.018052\", \"1970-01-01T09:27:08.018052\", \"1970-01-01T09:27:08.018052\", \"1970-01-01T10:15:13.667234\", \"1970-01-01T10:15:13.667234\", \"1970-01-01T10:31:53.667234\", \"1970-01-01T10:31:53.667234\", \"1970-01-01T10:31:53.667234\", \"1970-01-01T00:32:22.824591\", \"1970-01-01T00:32:22.824591\", \"1970-01-01T00:49:02.824591\", \"1970-01-01T00:49:02.824591\", \"1970-01-01T00:49:02.824591\", \"1970-01-01T01:37:08.473774\", \"1970-01-01T01:37:08.473774\", \"1970-01-01T01:53:48.473774\", \"1970-01-01T01:53:48.473774\", \"1970-01-01T01:53:48.473774\", \"1970-01-01T02:41:54.122956\", \"1970-01-01T02:41:54.122956\", \"1970-01-01T02:58:34.122956\", \"1970-01-01T02:58:34.122956\", \"1970-01-01T02:58:34.122956\", \"1970-01-01T03:46:39.772139\", \"1970-01-01T03:46:39.772139\", \"1970-01-01T04:03:19.772139\", \"1970-01-01T04:03:19.772139\", \"1970-01-01T04:03:19.772139\", \"1970-01-01T04:51:25.421321\", \"1970-01-01T04:51:25.421321\", \"1970-01-01T05:08:05.421321\", \"1970-01-01T05:08:05.421321\", \"1970-01-01T05:08:05.421321\", \"1970-01-01T05:56:11.070504\", \"1970-01-01T05:56:11.070504\", \"1970-01-01T06:12:51.070504\", \"1970-01-01T06:12:51.070504\", \"1970-01-01T06:12:51.070504\", \"1970-01-01T07:00:56.719687\", \"1970-01-01T07:00:56.719687\", \"1970-01-01T07:17:36.719687\", \"1970-01-01T07:17:36.719687\", \"1970-01-01T07:17:36.719687\", \"1970-01-01T08:05:42.368869\", \"1970-01-01T08:05:42.368869\", \"1970-01-01T08:22:22.368869\", \"1970-01-01T08:22:22.368869\", \"1970-01-01T08:22:22.368869\", \"1970-01-01T09:10:28.018052\", \"1970-01-01T09:10:28.018052\", \"1970-01-01T09:27:08.018052\", \"1970-01-01T09:27:08.018052\", \"1970-01-01T09:27:08.018052\", \"1970-01-01T10:15:13.667234\", \"1970-01-01T10:15:13.667234\", \"1970-01-01T10:31:53.667234\", \"1970-01-01T10:31:53.667234\", \"1970-01-01T10:31:53.667234\"], \"y\": [\"Hopper 01\", \"Hopper 01\", \"Hopper 01\", \"Hopper 01\", null, \"Hopper 01\", \"Hopper 01\", \"Hopper 01\", \"Hopper 01\", null, \"Hopper 01\", \"Hopper 01\", \"Hopper 01\", \"Hopper 01\", null, \"Hopper 01\", \"Hopper 01\", \"Hopper 01\", \"Hopper 01\", null, \"Hopper 01\", \"Hopper 01\", \"Hopper 01\", \"Hopper 01\", null, \"Hopper 01\", \"Hopper 01\", \"Hopper 01\", \"Hopper 01\", null, \"Hopper 01\", \"Hopper 01\", \"Hopper 01\", \"Hopper 01\", null, \"Hopper 01\", \"Hopper 01\", \"Hopper 01\", \"Hopper 01\", null, \"Hopper 01\", \"Hopper 01\", \"Hopper 01\", \"Hopper 01\", null, \"Hopper 01\", \"Hopper 01\", \"Hopper 01\", \"Hopper 01\", null, \"Dumplocatie\", \"Dumplocatie\", \"Dumplocatie\", \"Dumplocatie\", null, \"Dumplocatie\", \"Dumplocatie\", \"Dumplocatie\", \"Dumplocatie\", null, \"Dumplocatie\", \"Dumplocatie\", \"Dumplocatie\", \"Dumplocatie\", null, \"Dumplocatie\", \"Dumplocatie\", \"Dumplocatie\", \"Dumplocatie\", null, \"Dumplocatie\", \"Dumplocatie\", \"Dumplocatie\", \"Dumplocatie\", null, \"Dumplocatie\", \"Dumplocatie\", \"Dumplocatie\", \"Dumplocatie\", null, \"Dumplocatie\", \"Dumplocatie\", \"Dumplocatie\", \"Dumplocatie\", null, \"Dumplocatie\", \"Dumplocatie\", \"Dumplocatie\", \"Dumplocatie\", null, \"Dumplocatie\", \"Dumplocatie\", \"Dumplocatie\", \"Dumplocatie\", null, \"Dumplocatie\", \"Dumplocatie\", \"Dumplocatie\", \"Dumplocatie\", null]}, {\"connectgaps\": false, \"hoverinfo\": \"y+name\", \"line\": {\"color\": \"rgb(238,168,5)\", \"width\": 10}, \"mode\": \"lines\", \"name\": \"01757787-e180-4d96-90d0-22b19cd0ae70\", \"type\": \"scatter\", \"x\": [\"1970-01-01T00:49:02.824591\", \"1970-01-01T00:49:02.824591\", \"1970-01-01T00:49:02.824591\", \"1970-01-01T00:49:02.824591\", \"1970-01-01T00:49:02.824591\", \"1970-01-01T01:53:48.473774\", \"1970-01-01T01:53:48.473774\", \"1970-01-01T01:53:48.473774\", \"1970-01-01T01:53:48.473774\", \"1970-01-01T01:53:48.473774\", \"1970-01-01T02:58:34.122956\", \"1970-01-01T02:58:34.122956\", \"1970-01-01T02:58:34.122956\", \"1970-01-01T02:58:34.122956\", \"1970-01-01T02:58:34.122956\", \"1970-01-01T04:03:19.772139\", \"1970-01-01T04:03:19.772139\", \"1970-01-01T04:03:19.772139\", \"1970-01-01T04:03:19.772139\", \"1970-01-01T04:03:19.772139\", \"1970-01-01T05:08:05.421321\", \"1970-01-01T05:08:05.421321\", \"1970-01-01T05:08:05.421321\", \"1970-01-01T05:08:05.421321\", \"1970-01-01T05:08:05.421321\", \"1970-01-01T06:12:51.070504\", \"1970-01-01T06:12:51.070504\", \"1970-01-01T06:12:51.070504\", \"1970-01-01T06:12:51.070504\", \"1970-01-01T06:12:51.070504\", \"1970-01-01T07:17:36.719687\", \"1970-01-01T07:17:36.719687\", \"1970-01-01T07:17:36.719687\", \"1970-01-01T07:17:36.719687\", \"1970-01-01T07:17:36.719687\", \"1970-01-01T08:22:22.368869\", \"1970-01-01T08:22:22.368869\", \"1970-01-01T08:22:22.368869\", \"1970-01-01T08:22:22.368869\", \"1970-01-01T08:22:22.368869\", \"1970-01-01T09:27:08.018052\", \"1970-01-01T09:27:08.018052\", \"1970-01-01T09:27:08.018052\", \"1970-01-01T09:27:08.018052\", \"1970-01-01T09:27:08.018052\", \"1970-01-01T10:31:53.667234\", \"1970-01-01T10:31:53.667234\", \"1970-01-01T10:31:53.667234\", \"1970-01-01T10:31:53.667234\", \"1970-01-01T10:31:53.667234\"], \"y\": [\"Hopper 01\", \"Hopper 01\", \"Hopper 01\", \"Hopper 01\", null, \"Hopper 01\", \"Hopper 01\", \"Hopper 01\", \"Hopper 01\", null, \"Hopper 01\", \"Hopper 01\", \"Hopper 01\", \"Hopper 01\", null, \"Hopper 01\", \"Hopper 01\", \"Hopper 01\", \"Hopper 01\", null, \"Hopper 01\", \"Hopper 01\", \"Hopper 01\", \"Hopper 01\", null, \"Hopper 01\", \"Hopper 01\", \"Hopper 01\", \"Hopper 01\", null, \"Hopper 01\", \"Hopper 01\", \"Hopper 01\", \"Hopper 01\", null, \"Hopper 01\", \"Hopper 01\", \"Hopper 01\", \"Hopper 01\", null, \"Hopper 01\", \"Hopper 01\", \"Hopper 01\", \"Hopper 01\", null, \"Hopper 01\", \"Hopper 01\", \"Hopper 01\", \"Hopper 01\", null]}, {\"connectgaps\": false, \"hoverinfo\": \"y+name\", \"line\": {\"color\": \"rgb(18,204,41)\", \"width\": 10}, \"mode\": \"lines\", \"name\": \"b34cb415-f48e-40c4-a8d8-f51051df9864\", \"type\": \"scatter\", \"x\": [\"1970-01-01T00:00:00\", \"1970-01-01T00:00:00\", \"1970-01-01T00:00:00\", \"1970-01-01T00:00:00\", \"1970-01-01T00:00:00\", \"1970-01-01T00:49:02.824591\", \"1970-01-01T00:49:02.824591\", \"1970-01-01T01:04:45.649183\", \"1970-01-01T01:04:45.649183\", \"1970-01-01T01:04:45.649183\", \"1970-01-01T01:53:48.473774\", \"1970-01-01T01:53:48.473774\", \"1970-01-01T02:09:31.298365\", \"1970-01-01T02:09:31.298365\", \"1970-01-01T02:09:31.298365\", \"1970-01-01T02:58:34.122956\", \"1970-01-01T02:58:34.122956\", \"1970-01-01T03:14:16.947548\", \"1970-01-01T03:14:16.947548\", \"1970-01-01T03:14:16.947548\", \"1970-01-01T04:03:19.772139\", \"1970-01-01T04:03:19.772139\", \"1970-01-01T04:19:02.596730\", \"1970-01-01T04:19:02.596730\", \"1970-01-01T04:19:02.596730\", \"1970-01-01T05:08:05.421321\", \"1970-01-01T05:08:05.421321\", \"1970-01-01T05:23:48.245913\", \"1970-01-01T05:23:48.245913\", \"1970-01-01T05:23:48.245913\", \"1970-01-01T06:12:51.070504\", \"1970-01-01T06:12:51.070504\", \"1970-01-01T06:28:33.895095\", \"1970-01-01T06:28:33.895095\", \"1970-01-01T06:28:33.895095\", \"1970-01-01T07:17:36.719687\", \"1970-01-01T07:17:36.719687\", \"1970-01-01T07:33:19.544278\", \"1970-01-01T07:33:19.544278\", \"1970-01-01T07:33:19.544278\", \"1970-01-01T08:22:22.368869\", \"1970-01-01T08:22:22.368869\", \"1970-01-01T08:38:05.193460\", \"1970-01-01T08:38:05.193460\", \"1970-01-01T08:38:05.193460\", \"1970-01-01T09:27:08.018052\", \"1970-01-01T09:27:08.018052\", \"1970-01-01T09:42:50.842643\", \"1970-01-01T09:42:50.842643\", \"1970-01-01T09:42:50.842643\"], \"y\": [\"Hopper 01\", \"Hopper 01\", \"Hopper 01\", \"Hopper 01\", null, \"Hopper 01\", \"Hopper 01\", \"Hopper 01\", \"Hopper 01\", null, \"Hopper 01\", \"Hopper 01\", \"Hopper 01\", \"Hopper 01\", null, \"Hopper 01\", \"Hopper 01\", \"Hopper 01\", \"Hopper 01\", null, \"Hopper 01\", \"Hopper 01\", \"Hopper 01\", \"Hopper 01\", null, \"Hopper 01\", \"Hopper 01\", \"Hopper 01\", \"Hopper 01\", null, \"Hopper 01\", \"Hopper 01\", \"Hopper 01\", \"Hopper 01\", null, \"Hopper 01\", \"Hopper 01\", \"Hopper 01\", \"Hopper 01\", null, \"Hopper 01\", \"Hopper 01\", \"Hopper 01\", \"Hopper 01\", null, \"Hopper 01\", \"Hopper 01\", \"Hopper 01\", \"Hopper 01\", null]}, {\"connectgaps\": false, \"hoverinfo\": \"y+name\", \"line\": {\"color\": \"rgb(54,240,77)\", \"width\": 10}, \"mode\": \"lines\", \"name\": \"5ad47323-7577-421c-a1b3-37f7743ba093\", \"type\": \"scatter\", \"x\": [\"1970-01-01T00:00:00\", \"1970-01-01T00:00:00\", \"1970-01-01T00:16:40\", \"1970-01-01T00:16:40\", \"1970-01-01T00:16:40\", \"1970-01-01T01:04:45.649183\", \"1970-01-01T01:04:45.649183\", \"1970-01-01T01:21:25.649183\", \"1970-01-01T01:21:25.649183\", \"1970-01-01T01:21:25.649183\", \"1970-01-01T02:09:31.298365\", \"1970-01-01T02:09:31.298365\", \"1970-01-01T02:26:11.298365\", \"1970-01-01T02:26:11.298365\", \"1970-01-01T02:26:11.298365\", \"1970-01-01T03:14:16.947548\", \"1970-01-01T03:14:16.947548\", \"1970-01-01T03:30:56.947548\", \"1970-01-01T03:30:56.947548\", \"1970-01-01T03:30:56.947548\", \"1970-01-01T04:19:02.596730\", \"1970-01-01T04:19:02.596730\", \"1970-01-01T04:35:42.596730\", \"1970-01-01T04:35:42.596730\", \"1970-01-01T04:35:42.596730\", \"1970-01-01T05:23:48.245913\", \"1970-01-01T05:23:48.245913\", \"1970-01-01T05:40:28.245913\", \"1970-01-01T05:40:28.245913\", \"1970-01-01T05:40:28.245913\", \"1970-01-01T06:28:33.895095\", \"1970-01-01T06:28:33.895095\", \"1970-01-01T06:45:13.895095\", \"1970-01-01T06:45:13.895095\", \"1970-01-01T06:45:13.895095\", \"1970-01-01T07:33:19.544278\", \"1970-01-01T07:33:19.544278\", \"1970-01-01T07:49:59.544278\", \"1970-01-01T07:49:59.544278\", \"1970-01-01T07:49:59.544278\", \"1970-01-01T08:38:05.193460\", \"1970-01-01T08:38:05.193460\", \"1970-01-01T08:54:45.193460\", \"1970-01-01T08:54:45.193460\", \"1970-01-01T08:54:45.193460\", \"1970-01-01T09:42:50.842643\", \"1970-01-01T09:42:50.842643\", \"1970-01-01T09:59:30.842643\", \"1970-01-01T09:59:30.842643\", \"1970-01-01T09:59:30.842643\", \"1970-01-01T00:00:00\", \"1970-01-01T00:00:00\", \"1970-01-01T00:16:40\", \"1970-01-01T00:16:40\", \"1970-01-01T00:16:40\", \"1970-01-01T01:04:45.649183\", \"1970-01-01T01:04:45.649183\", \"1970-01-01T01:21:25.649183\", \"1970-01-01T01:21:25.649183\", \"1970-01-01T01:21:25.649183\", \"1970-01-01T02:09:31.298365\", \"1970-01-01T02:09:31.298365\", \"1970-01-01T02:26:11.298365\", \"1970-01-01T02:26:11.298365\", \"1970-01-01T02:26:11.298365\", \"1970-01-01T03:14:16.947548\", \"1970-01-01T03:14:16.947548\", \"1970-01-01T03:30:56.947548\", \"1970-01-01T03:30:56.947548\", \"1970-01-01T03:30:56.947548\", \"1970-01-01T04:19:02.596730\", \"1970-01-01T04:19:02.596730\", \"1970-01-01T04:35:42.596730\", \"1970-01-01T04:35:42.596730\", \"1970-01-01T04:35:42.596730\", \"1970-01-01T05:23:48.245913\", \"1970-01-01T05:23:48.245913\", \"1970-01-01T05:40:28.245913\", \"1970-01-01T05:40:28.245913\", \"1970-01-01T05:40:28.245913\", \"1970-01-01T06:28:33.895095\", \"1970-01-01T06:28:33.895095\", \"1970-01-01T06:45:13.895095\", \"1970-01-01T06:45:13.895095\", \"1970-01-01T06:45:13.895095\", \"1970-01-01T07:33:19.544278\", \"1970-01-01T07:33:19.544278\", \"1970-01-01T07:49:59.544278\", \"1970-01-01T07:49:59.544278\", \"1970-01-01T07:49:59.544278\", \"1970-01-01T08:38:05.193460\", \"1970-01-01T08:38:05.193460\", \"1970-01-01T08:54:45.193460\", \"1970-01-01T08:54:45.193460\", \"1970-01-01T08:54:45.193460\", \"1970-01-01T09:42:50.842643\", \"1970-01-01T09:42:50.842643\", \"1970-01-01T09:59:30.842643\", \"1970-01-01T09:59:30.842643\", \"1970-01-01T09:59:30.842643\"], \"y\": [\"Hopper 01\", \"Hopper 01\", \"Hopper 01\", \"Hopper 01\", null, \"Hopper 01\", \"Hopper 01\", \"Hopper 01\", \"Hopper 01\", null, \"Hopper 01\", \"Hopper 01\", \"Hopper 01\", \"Hopper 01\", null, \"Hopper 01\", \"Hopper 01\", \"Hopper 01\", \"Hopper 01\", null, \"Hopper 01\", \"Hopper 01\", \"Hopper 01\", \"Hopper 01\", null, \"Hopper 01\", \"Hopper 01\", \"Hopper 01\", \"Hopper 01\", null, \"Hopper 01\", \"Hopper 01\", \"Hopper 01\", \"Hopper 01\", null, \"Hopper 01\", \"Hopper 01\", \"Hopper 01\", \"Hopper 01\", null, \"Hopper 01\", \"Hopper 01\", \"Hopper 01\", \"Hopper 01\", null, \"Hopper 01\", \"Hopper 01\", \"Hopper 01\", \"Hopper 01\", null, \"Winlocatie\", \"Winlocatie\", \"Winlocatie\", \"Winlocatie\", null, \"Winlocatie\", \"Winlocatie\", \"Winlocatie\", \"Winlocatie\", null, \"Winlocatie\", \"Winlocatie\", \"Winlocatie\", \"Winlocatie\", null, \"Winlocatie\", \"Winlocatie\", \"Winlocatie\", \"Winlocatie\", null, \"Winlocatie\", \"Winlocatie\", \"Winlocatie\", \"Winlocatie\", null, \"Winlocatie\", \"Winlocatie\", \"Winlocatie\", \"Winlocatie\", null, \"Winlocatie\", \"Winlocatie\", \"Winlocatie\", \"Winlocatie\", null, \"Winlocatie\", \"Winlocatie\", \"Winlocatie\", \"Winlocatie\", null, \"Winlocatie\", \"Winlocatie\", \"Winlocatie\", \"Winlocatie\", null, \"Winlocatie\", \"Winlocatie\", \"Winlocatie\", \"Winlocatie\", null]}, {\"connectgaps\": false, \"hoverinfo\": \"y+name\", \"line\": {\"color\": \"rgb(90,20,113)\", \"width\": 10}, \"mode\": \"lines\", \"name\": \"dcd43889-20a8-4371-81c0-ca2de625fe7b\", \"type\": \"scatter\", \"x\": [\"1970-01-01T00:16:40\", \"1970-01-01T00:16:40\", \"1970-01-01T00:32:22.824591\", \"1970-01-01T00:32:22.824591\", \"1970-01-01T00:32:22.824591\", \"1970-01-01T01:21:25.649183\", \"1970-01-01T01:21:25.649183\", \"1970-01-01T01:37:08.473774\", \"1970-01-01T01:37:08.473774\", \"1970-01-01T01:37:08.473774\", \"1970-01-01T02:26:11.298365\", \"1970-01-01T02:26:11.298365\", \"1970-01-01T02:41:54.122956\", \"1970-01-01T02:41:54.122956\", \"1970-01-01T02:41:54.122956\", \"1970-01-01T03:30:56.947548\", \"1970-01-01T03:30:56.947548\", \"1970-01-01T03:46:39.772139\", \"1970-01-01T03:46:39.772139\", \"1970-01-01T03:46:39.772139\", \"1970-01-01T04:35:42.596730\", \"1970-01-01T04:35:42.596730\", \"1970-01-01T04:51:25.421321\", \"1970-01-01T04:51:25.421321\", \"1970-01-01T04:51:25.421321\", \"1970-01-01T05:40:28.245913\", \"1970-01-01T05:40:28.245913\", \"1970-01-01T05:56:11.070504\", \"1970-01-01T05:56:11.070504\", \"1970-01-01T05:56:11.070504\", \"1970-01-01T06:45:13.895095\", \"1970-01-01T06:45:13.895095\", \"1970-01-01T07:00:56.719687\", \"1970-01-01T07:00:56.719687\", \"1970-01-01T07:00:56.719687\", \"1970-01-01T07:49:59.544278\", \"1970-01-01T07:49:59.544278\", \"1970-01-01T08:05:42.368869\", \"1970-01-01T08:05:42.368869\", \"1970-01-01T08:05:42.368869\", \"1970-01-01T08:54:45.193460\", \"1970-01-01T08:54:45.193460\", \"1970-01-01T09:10:28.018052\", \"1970-01-01T09:10:28.018052\", \"1970-01-01T09:10:28.018052\", \"1970-01-01T09:59:30.842643\", \"1970-01-01T09:59:30.842643\", \"1970-01-01T10:15:13.667234\", \"1970-01-01T10:15:13.667234\", \"1970-01-01T10:15:13.667234\"], \"y\": [\"Hopper 01\", \"Hopper 01\", \"Hopper 01\", \"Hopper 01\", null, \"Hopper 01\", \"Hopper 01\", \"Hopper 01\", \"Hopper 01\", null, \"Hopper 01\", \"Hopper 01\", \"Hopper 01\", \"Hopper 01\", null, \"Hopper 01\", \"Hopper 01\", \"Hopper 01\", \"Hopper 01\", null, \"Hopper 01\", \"Hopper 01\", \"Hopper 01\", \"Hopper 01\", null, \"Hopper 01\", \"Hopper 01\", \"Hopper 01\", \"Hopper 01\", null, \"Hopper 01\", \"Hopper 01\", \"Hopper 01\", \"Hopper 01\", null, \"Hopper 01\", \"Hopper 01\", \"Hopper 01\", \"Hopper 01\", null, \"Hopper 01\", \"Hopper 01\", \"Hopper 01\", \"Hopper 01\", null, \"Hopper 01\", \"Hopper 01\", \"Hopper 01\", \"Hopper 01\", null]}, {\"connectgaps\": false, \"hoverinfo\": \"y+name\", \"line\": {\"color\": \"rgb(126,56,149)\", \"width\": 10}, \"mode\": \"lines\", \"name\": \"5ad47323-7577-421c-a1b3-37f7743ba093\", \"type\": \"scatter\", \"x\": [\"1970-01-01T00:00:00\", \"1970-01-01T00:00:00\", \"1970-01-01T00:16:40\", \"1970-01-01T00:16:40\", \"1970-01-01T00:16:40\", \"1970-01-01T01:04:45.649183\", \"1970-01-01T01:04:45.649183\", \"1970-01-01T01:21:25.649183\", \"1970-01-01T01:21:25.649183\", \"1970-01-01T01:21:25.649183\", \"1970-01-01T02:09:31.298365\", \"1970-01-01T02:09:31.298365\", \"1970-01-01T02:26:11.298365\", \"1970-01-01T02:26:11.298365\", \"1970-01-01T02:26:11.298365\", \"1970-01-01T03:14:16.947548\", \"1970-01-01T03:14:16.947548\", \"1970-01-01T03:30:56.947548\", \"1970-01-01T03:30:56.947548\", \"1970-01-01T03:30:56.947548\", \"1970-01-01T04:19:02.596730\", \"1970-01-01T04:19:02.596730\", \"1970-01-01T04:35:42.596730\", \"1970-01-01T04:35:42.596730\", \"1970-01-01T04:35:42.596730\", \"1970-01-01T05:23:48.245913\", \"1970-01-01T05:23:48.245913\", \"1970-01-01T05:40:28.245913\", \"1970-01-01T05:40:28.245913\", \"1970-01-01T05:40:28.245913\", \"1970-01-01T06:28:33.895095\", \"1970-01-01T06:28:33.895095\", \"1970-01-01T06:45:13.895095\", \"1970-01-01T06:45:13.895095\", \"1970-01-01T06:45:13.895095\", \"1970-01-01T07:33:19.544278\", \"1970-01-01T07:33:19.544278\", \"1970-01-01T07:49:59.544278\", \"1970-01-01T07:49:59.544278\", \"1970-01-01T07:49:59.544278\", \"1970-01-01T08:38:05.193460\", \"1970-01-01T08:38:05.193460\", \"1970-01-01T08:54:45.193460\", \"1970-01-01T08:54:45.193460\", \"1970-01-01T08:54:45.193460\", \"1970-01-01T09:42:50.842643\", \"1970-01-01T09:42:50.842643\", \"1970-01-01T09:59:30.842643\", \"1970-01-01T09:59:30.842643\", \"1970-01-01T09:59:30.842643\", \"1970-01-01T00:00:00\", \"1970-01-01T00:00:00\", \"1970-01-01T00:16:40\", \"1970-01-01T00:16:40\", \"1970-01-01T00:16:40\", \"1970-01-01T01:04:45.649183\", \"1970-01-01T01:04:45.649183\", \"1970-01-01T01:21:25.649183\", \"1970-01-01T01:21:25.649183\", \"1970-01-01T01:21:25.649183\", \"1970-01-01T02:09:31.298365\", \"1970-01-01T02:09:31.298365\", \"1970-01-01T02:26:11.298365\", \"1970-01-01T02:26:11.298365\", \"1970-01-01T02:26:11.298365\", \"1970-01-01T03:14:16.947548\", \"1970-01-01T03:14:16.947548\", \"1970-01-01T03:30:56.947548\", \"1970-01-01T03:30:56.947548\", \"1970-01-01T03:30:56.947548\", \"1970-01-01T04:19:02.596730\", \"1970-01-01T04:19:02.596730\", \"1970-01-01T04:35:42.596730\", \"1970-01-01T04:35:42.596730\", \"1970-01-01T04:35:42.596730\", \"1970-01-01T05:23:48.245913\", \"1970-01-01T05:23:48.245913\", \"1970-01-01T05:40:28.245913\", \"1970-01-01T05:40:28.245913\", \"1970-01-01T05:40:28.245913\", \"1970-01-01T06:28:33.895095\", \"1970-01-01T06:28:33.895095\", \"1970-01-01T06:45:13.895095\", \"1970-01-01T06:45:13.895095\", \"1970-01-01T06:45:13.895095\", \"1970-01-01T07:33:19.544278\", \"1970-01-01T07:33:19.544278\", \"1970-01-01T07:49:59.544278\", \"1970-01-01T07:49:59.544278\", \"1970-01-01T07:49:59.544278\", \"1970-01-01T08:38:05.193460\", \"1970-01-01T08:38:05.193460\", \"1970-01-01T08:54:45.193460\", \"1970-01-01T08:54:45.193460\", \"1970-01-01T08:54:45.193460\", \"1970-01-01T09:42:50.842643\", \"1970-01-01T09:42:50.842643\", \"1970-01-01T09:59:30.842643\", \"1970-01-01T09:59:30.842643\", \"1970-01-01T09:59:30.842643\"], \"y\": [\"Hopper 01\", \"Hopper 01\", \"Hopper 01\", \"Hopper 01\", null, \"Hopper 01\", \"Hopper 01\", \"Hopper 01\", \"Hopper 01\", null, \"Hopper 01\", \"Hopper 01\", \"Hopper 01\", \"Hopper 01\", null, \"Hopper 01\", \"Hopper 01\", \"Hopper 01\", \"Hopper 01\", null, \"Hopper 01\", \"Hopper 01\", \"Hopper 01\", \"Hopper 01\", null, \"Hopper 01\", \"Hopper 01\", \"Hopper 01\", \"Hopper 01\", null, \"Hopper 01\", \"Hopper 01\", \"Hopper 01\", \"Hopper 01\", null, \"Hopper 01\", \"Hopper 01\", \"Hopper 01\", \"Hopper 01\", null, \"Hopper 01\", \"Hopper 01\", \"Hopper 01\", \"Hopper 01\", null, \"Hopper 01\", \"Hopper 01\", \"Hopper 01\", \"Hopper 01\", null, \"Winlocatie\", \"Winlocatie\", \"Winlocatie\", \"Winlocatie\", null, \"Winlocatie\", \"Winlocatie\", \"Winlocatie\", \"Winlocatie\", null, \"Winlocatie\", \"Winlocatie\", \"Winlocatie\", \"Winlocatie\", null, \"Winlocatie\", \"Winlocatie\", \"Winlocatie\", \"Winlocatie\", null, \"Winlocatie\", \"Winlocatie\", \"Winlocatie\", \"Winlocatie\", null, \"Winlocatie\", \"Winlocatie\", \"Winlocatie\", \"Winlocatie\", null, \"Winlocatie\", \"Winlocatie\", \"Winlocatie\", \"Winlocatie\", null, \"Winlocatie\", \"Winlocatie\", \"Winlocatie\", \"Winlocatie\", null, \"Winlocatie\", \"Winlocatie\", \"Winlocatie\", \"Winlocatie\", null, \"Winlocatie\", \"Winlocatie\", \"Winlocatie\", \"Winlocatie\", null]}, {\"connectgaps\": false, \"hoverinfo\": \"y+name\", \"line\": {\"color\": \"rgb(162,92,185)\", \"width\": 10}, \"mode\": \"lines\", \"name\": \"6465c37f-4854-46fd-8d67-b8671714171e\", \"type\": \"scatter\", \"x\": [\"1970-01-01T00:32:22.824591\", \"1970-01-01T00:32:22.824591\", \"1970-01-01T00:49:02.824591\", \"1970-01-01T00:49:02.824591\", \"1970-01-01T00:49:02.824591\", \"1970-01-01T01:37:08.473774\", \"1970-01-01T01:37:08.473774\", \"1970-01-01T01:53:48.473774\", \"1970-01-01T01:53:48.473774\", \"1970-01-01T01:53:48.473774\", \"1970-01-01T02:41:54.122956\", \"1970-01-01T02:41:54.122956\", \"1970-01-01T02:58:34.122956\", \"1970-01-01T02:58:34.122956\", \"1970-01-01T02:58:34.122956\", \"1970-01-01T03:46:39.772139\", \"1970-01-01T03:46:39.772139\", \"1970-01-01T04:03:19.772139\", \"1970-01-01T04:03:19.772139\", \"1970-01-01T04:03:19.772139\", \"1970-01-01T04:51:25.421321\", \"1970-01-01T04:51:25.421321\", \"1970-01-01T05:08:05.421321\", \"1970-01-01T05:08:05.421321\", \"1970-01-01T05:08:05.421321\", \"1970-01-01T05:56:11.070504\", \"1970-01-01T05:56:11.070504\", \"1970-01-01T06:12:51.070504\", \"1970-01-01T06:12:51.070504\", \"1970-01-01T06:12:51.070504\", \"1970-01-01T07:00:56.719687\", \"1970-01-01T07:00:56.719687\", \"1970-01-01T07:17:36.719687\", \"1970-01-01T07:17:36.719687\", \"1970-01-01T07:17:36.719687\", \"1970-01-01T08:05:42.368869\", \"1970-01-01T08:05:42.368869\", \"1970-01-01T08:22:22.368869\", \"1970-01-01T08:22:22.368869\", \"1970-01-01T08:22:22.368869\", \"1970-01-01T09:10:28.018052\", \"1970-01-01T09:10:28.018052\", \"1970-01-01T09:27:08.018052\", \"1970-01-01T09:27:08.018052\", \"1970-01-01T09:27:08.018052\", \"1970-01-01T10:15:13.667234\", \"1970-01-01T10:15:13.667234\", \"1970-01-01T10:31:53.667234\", \"1970-01-01T10:31:53.667234\", \"1970-01-01T10:31:53.667234\", \"1970-01-01T00:32:22.824591\", \"1970-01-01T00:32:22.824591\", \"1970-01-01T00:49:02.824591\", \"1970-01-01T00:49:02.824591\", \"1970-01-01T00:49:02.824591\", \"1970-01-01T01:37:08.473774\", \"1970-01-01T01:37:08.473774\", \"1970-01-01T01:53:48.473774\", \"1970-01-01T01:53:48.473774\", \"1970-01-01T01:53:48.473774\", \"1970-01-01T02:41:54.122956\", \"1970-01-01T02:41:54.122956\", \"1970-01-01T02:58:34.122956\", \"1970-01-01T02:58:34.122956\", \"1970-01-01T02:58:34.122956\", \"1970-01-01T03:46:39.772139\", \"1970-01-01T03:46:39.772139\", \"1970-01-01T04:03:19.772139\", \"1970-01-01T04:03:19.772139\", \"1970-01-01T04:03:19.772139\", \"1970-01-01T04:51:25.421321\", \"1970-01-01T04:51:25.421321\", \"1970-01-01T05:08:05.421321\", \"1970-01-01T05:08:05.421321\", \"1970-01-01T05:08:05.421321\", \"1970-01-01T05:56:11.070504\", \"1970-01-01T05:56:11.070504\", \"1970-01-01T06:12:51.070504\", \"1970-01-01T06:12:51.070504\", \"1970-01-01T06:12:51.070504\", \"1970-01-01T07:00:56.719687\", \"1970-01-01T07:00:56.719687\", \"1970-01-01T07:17:36.719687\", \"1970-01-01T07:17:36.719687\", \"1970-01-01T07:17:36.719687\", \"1970-01-01T08:05:42.368869\", \"1970-01-01T08:05:42.368869\", \"1970-01-01T08:22:22.368869\", \"1970-01-01T08:22:22.368869\", \"1970-01-01T08:22:22.368869\", \"1970-01-01T09:10:28.018052\", \"1970-01-01T09:10:28.018052\", \"1970-01-01T09:27:08.018052\", \"1970-01-01T09:27:08.018052\", \"1970-01-01T09:27:08.018052\", \"1970-01-01T10:15:13.667234\", \"1970-01-01T10:15:13.667234\", \"1970-01-01T10:31:53.667234\", \"1970-01-01T10:31:53.667234\", \"1970-01-01T10:31:53.667234\"], \"y\": [\"Hopper 01\", \"Hopper 01\", \"Hopper 01\", \"Hopper 01\", null, \"Hopper 01\", \"Hopper 01\", \"Hopper 01\", \"Hopper 01\", null, \"Hopper 01\", \"Hopper 01\", \"Hopper 01\", \"Hopper 01\", null, \"Hopper 01\", \"Hopper 01\", \"Hopper 01\", \"Hopper 01\", null, \"Hopper 01\", \"Hopper 01\", \"Hopper 01\", \"Hopper 01\", null, \"Hopper 01\", \"Hopper 01\", \"Hopper 01\", \"Hopper 01\", null, \"Hopper 01\", \"Hopper 01\", \"Hopper 01\", \"Hopper 01\", null, \"Hopper 01\", \"Hopper 01\", \"Hopper 01\", \"Hopper 01\", null, \"Hopper 01\", \"Hopper 01\", \"Hopper 01\", \"Hopper 01\", null, \"Hopper 01\", \"Hopper 01\", \"Hopper 01\", \"Hopper 01\", null, \"Dumplocatie\", \"Dumplocatie\", \"Dumplocatie\", \"Dumplocatie\", null, \"Dumplocatie\", \"Dumplocatie\", \"Dumplocatie\", \"Dumplocatie\", null, \"Dumplocatie\", \"Dumplocatie\", \"Dumplocatie\", \"Dumplocatie\", null, \"Dumplocatie\", \"Dumplocatie\", \"Dumplocatie\", \"Dumplocatie\", null, \"Dumplocatie\", \"Dumplocatie\", \"Dumplocatie\", \"Dumplocatie\", null, \"Dumplocatie\", \"Dumplocatie\", \"Dumplocatie\", \"Dumplocatie\", null, \"Dumplocatie\", \"Dumplocatie\", \"Dumplocatie\", \"Dumplocatie\", null, \"Dumplocatie\", \"Dumplocatie\", \"Dumplocatie\", \"Dumplocatie\", null, \"Dumplocatie\", \"Dumplocatie\", \"Dumplocatie\", \"Dumplocatie\", null, \"Dumplocatie\", \"Dumplocatie\", \"Dumplocatie\", \"Dumplocatie\", null]}],                        {\"hovermode\": \"closest\", \"legend\": {\"orientation\": \"h\", \"x\": 0, \"y\": -0.2}, \"template\": {\"data\": {\"bar\": [{\"error_x\": {\"color\": \"#2a3f5f\"}, \"error_y\": {\"color\": \"#2a3f5f\"}, \"marker\": {\"line\": {\"color\": \"#E5ECF6\", \"width\": 0.5}}, \"type\": \"bar\"}], \"barpolar\": [{\"marker\": {\"line\": {\"color\": \"#E5ECF6\", \"width\": 0.5}}, \"type\": \"barpolar\"}], \"carpet\": [{\"aaxis\": {\"endlinecolor\": \"#2a3f5f\", \"gridcolor\": \"white\", \"linecolor\": \"white\", \"minorgridcolor\": \"white\", \"startlinecolor\": \"#2a3f5f\"}, \"baxis\": {\"endlinecolor\": \"#2a3f5f\", \"gridcolor\": \"white\", \"linecolor\": \"white\", \"minorgridcolor\": \"white\", \"startlinecolor\": \"#2a3f5f\"}, \"type\": \"carpet\"}], \"choropleth\": [{\"colorbar\": {\"outlinewidth\": 0, \"ticks\": \"\"}, \"type\": \"choropleth\"}], \"contour\": [{\"colorbar\": {\"outlinewidth\": 0, \"ticks\": \"\"}, \"colorscale\": [[0.0, \"#0d0887\"], [0.1111111111111111, \"#46039f\"], [0.2222222222222222, \"#7201a8\"], [0.3333333333333333, \"#9c179e\"], [0.4444444444444444, \"#bd3786\"], [0.5555555555555556, \"#d8576b\"], [0.6666666666666666, \"#ed7953\"], [0.7777777777777778, \"#fb9f3a\"], [0.8888888888888888, \"#fdca26\"], [1.0, \"#f0f921\"]], \"type\": \"contour\"}], \"contourcarpet\": [{\"colorbar\": {\"outlinewidth\": 0, \"ticks\": \"\"}, \"type\": \"contourcarpet\"}], \"heatmap\": [{\"colorbar\": {\"outlinewidth\": 0, \"ticks\": \"\"}, \"colorscale\": [[0.0, \"#0d0887\"], [0.1111111111111111, \"#46039f\"], [0.2222222222222222, \"#7201a8\"], [0.3333333333333333, \"#9c179e\"], [0.4444444444444444, \"#bd3786\"], [0.5555555555555556, \"#d8576b\"], [0.6666666666666666, \"#ed7953\"], [0.7777777777777778, \"#fb9f3a\"], [0.8888888888888888, \"#fdca26\"], [1.0, \"#f0f921\"]], \"type\": \"heatmap\"}], \"heatmapgl\": [{\"colorbar\": {\"outlinewidth\": 0, \"ticks\": \"\"}, \"colorscale\": [[0.0, \"#0d0887\"], [0.1111111111111111, \"#46039f\"], [0.2222222222222222, \"#7201a8\"], [0.3333333333333333, \"#9c179e\"], [0.4444444444444444, \"#bd3786\"], [0.5555555555555556, \"#d8576b\"], [0.6666666666666666, \"#ed7953\"], [0.7777777777777778, \"#fb9f3a\"], [0.8888888888888888, \"#fdca26\"], [1.0, \"#f0f921\"]], \"type\": \"heatmapgl\"}], \"histogram\": [{\"marker\": {\"colorbar\": {\"outlinewidth\": 0, \"ticks\": \"\"}}, \"type\": \"histogram\"}], \"histogram2d\": [{\"colorbar\": {\"outlinewidth\": 0, \"ticks\": \"\"}, \"colorscale\": [[0.0, \"#0d0887\"], [0.1111111111111111, \"#46039f\"], [0.2222222222222222, \"#7201a8\"], [0.3333333333333333, \"#9c179e\"], [0.4444444444444444, \"#bd3786\"], [0.5555555555555556, \"#d8576b\"], [0.6666666666666666, \"#ed7953\"], [0.7777777777777778, \"#fb9f3a\"], [0.8888888888888888, \"#fdca26\"], [1.0, \"#f0f921\"]], \"type\": \"histogram2d\"}], \"histogram2dcontour\": [{\"colorbar\": {\"outlinewidth\": 0, \"ticks\": \"\"}, \"colorscale\": [[0.0, \"#0d0887\"], [0.1111111111111111, \"#46039f\"], [0.2222222222222222, \"#7201a8\"], [0.3333333333333333, \"#9c179e\"], [0.4444444444444444, \"#bd3786\"], [0.5555555555555556, \"#d8576b\"], [0.6666666666666666, \"#ed7953\"], [0.7777777777777778, \"#fb9f3a\"], [0.8888888888888888, \"#fdca26\"], [1.0, \"#f0f921\"]], \"type\": \"histogram2dcontour\"}], \"mesh3d\": [{\"colorbar\": {\"outlinewidth\": 0, \"ticks\": \"\"}, \"type\": \"mesh3d\"}], \"parcoords\": [{\"line\": {\"colorbar\": {\"outlinewidth\": 0, \"ticks\": \"\"}}, \"type\": \"parcoords\"}], \"pie\": [{\"automargin\": true, \"type\": \"pie\"}], \"scatter\": [{\"marker\": {\"colorbar\": {\"outlinewidth\": 0, \"ticks\": \"\"}}, \"type\": \"scatter\"}], \"scatter3d\": [{\"line\": {\"colorbar\": {\"outlinewidth\": 0, \"ticks\": \"\"}}, \"marker\": {\"colorbar\": {\"outlinewidth\": 0, \"ticks\": \"\"}}, \"type\": \"scatter3d\"}], \"scattercarpet\": [{\"marker\": {\"colorbar\": {\"outlinewidth\": 0, \"ticks\": \"\"}}, \"type\": \"scattercarpet\"}], \"scattergeo\": [{\"marker\": {\"colorbar\": {\"outlinewidth\": 0, \"ticks\": \"\"}}, \"type\": \"scattergeo\"}], \"scattergl\": [{\"marker\": {\"colorbar\": {\"outlinewidth\": 0, \"ticks\": \"\"}}, \"type\": \"scattergl\"}], \"scattermapbox\": [{\"marker\": {\"colorbar\": {\"outlinewidth\": 0, \"ticks\": \"\"}}, \"type\": \"scattermapbox\"}], \"scatterpolar\": [{\"marker\": {\"colorbar\": {\"outlinewidth\": 0, \"ticks\": \"\"}}, \"type\": \"scatterpolar\"}], \"scatterpolargl\": [{\"marker\": {\"colorbar\": {\"outlinewidth\": 0, \"ticks\": \"\"}}, \"type\": \"scatterpolargl\"}], \"scatterternary\": [{\"marker\": {\"colorbar\": {\"outlinewidth\": 0, \"ticks\": \"\"}}, \"type\": \"scatterternary\"}], \"surface\": [{\"colorbar\": {\"outlinewidth\": 0, \"ticks\": \"\"}, \"colorscale\": [[0.0, \"#0d0887\"], [0.1111111111111111, \"#46039f\"], [0.2222222222222222, \"#7201a8\"], [0.3333333333333333, \"#9c179e\"], [0.4444444444444444, \"#bd3786\"], [0.5555555555555556, \"#d8576b\"], [0.6666666666666666, \"#ed7953\"], [0.7777777777777778, \"#fb9f3a\"], [0.8888888888888888, \"#fdca26\"], [1.0, \"#f0f921\"]], \"type\": \"surface\"}], \"table\": [{\"cells\": {\"fill\": {\"color\": \"#EBF0F8\"}, \"line\": {\"color\": \"white\"}}, \"header\": {\"fill\": {\"color\": \"#C8D4E3\"}, \"line\": {\"color\": \"white\"}}, \"type\": \"table\"}]}, \"layout\": {\"annotationdefaults\": {\"arrowcolor\": \"#2a3f5f\", \"arrowhead\": 0, \"arrowwidth\": 1}, \"autotypenumbers\": \"strict\", \"coloraxis\": {\"colorbar\": {\"outlinewidth\": 0, \"ticks\": \"\"}}, \"colorscale\": {\"diverging\": [[0, \"#8e0152\"], [0.1, \"#c51b7d\"], [0.2, \"#de77ae\"], [0.3, \"#f1b6da\"], [0.4, \"#fde0ef\"], [0.5, \"#f7f7f7\"], [0.6, \"#e6f5d0\"], [0.7, \"#b8e186\"], [0.8, \"#7fbc41\"], [0.9, \"#4d9221\"], [1, \"#276419\"]], \"sequential\": [[0.0, \"#0d0887\"], [0.1111111111111111, \"#46039f\"], [0.2222222222222222, \"#7201a8\"], [0.3333333333333333, \"#9c179e\"], [0.4444444444444444, \"#bd3786\"], [0.5555555555555556, \"#d8576b\"], [0.6666666666666666, \"#ed7953\"], [0.7777777777777778, \"#fb9f3a\"], [0.8888888888888888, \"#fdca26\"], [1.0, \"#f0f921\"]], \"sequentialminus\": [[0.0, \"#0d0887\"], [0.1111111111111111, \"#46039f\"], [0.2222222222222222, \"#7201a8\"], [0.3333333333333333, \"#9c179e\"], [0.4444444444444444, \"#bd3786\"], [0.5555555555555556, \"#d8576b\"], [0.6666666666666666, \"#ed7953\"], [0.7777777777777778, \"#fb9f3a\"], [0.8888888888888888, \"#fdca26\"], [1.0, \"#f0f921\"]]}, \"colorway\": [\"#636efa\", \"#EF553B\", \"#00cc96\", \"#ab63fa\", \"#FFA15A\", \"#19d3f3\", \"#FF6692\", \"#B6E880\", \"#FF97FF\", \"#FECB52\"], \"font\": {\"color\": \"#2a3f5f\"}, \"geo\": {\"bgcolor\": \"white\", \"lakecolor\": \"white\", \"landcolor\": \"#E5ECF6\", \"showlakes\": true, \"showland\": true, \"subunitcolor\": \"white\"}, \"hoverlabel\": {\"align\": \"left\"}, \"hovermode\": \"closest\", \"mapbox\": {\"style\": \"light\"}, \"paper_bgcolor\": \"white\", \"plot_bgcolor\": \"#E5ECF6\", \"polar\": {\"angularaxis\": {\"gridcolor\": \"white\", \"linecolor\": \"white\", \"ticks\": \"\"}, \"bgcolor\": \"#E5ECF6\", \"radialaxis\": {\"gridcolor\": \"white\", \"linecolor\": \"white\", \"ticks\": \"\"}}, \"scene\": {\"xaxis\": {\"backgroundcolor\": \"#E5ECF6\", \"gridcolor\": \"white\", \"gridwidth\": 2, \"linecolor\": \"white\", \"showbackground\": true, \"ticks\": \"\", \"zerolinecolor\": \"white\"}, \"yaxis\": {\"backgroundcolor\": \"#E5ECF6\", \"gridcolor\": \"white\", \"gridwidth\": 2, \"linecolor\": \"white\", \"showbackground\": true, \"ticks\": \"\", \"zerolinecolor\": \"white\"}, \"zaxis\": {\"backgroundcolor\": \"#E5ECF6\", \"gridcolor\": \"white\", \"gridwidth\": 2, \"linecolor\": \"white\", \"showbackground\": true, \"ticks\": \"\", \"zerolinecolor\": \"white\"}}, \"shapedefaults\": {\"line\": {\"color\": \"#2a3f5f\"}}, \"ternary\": {\"aaxis\": {\"gridcolor\": \"white\", \"linecolor\": \"white\", \"ticks\": \"\"}, \"baxis\": {\"gridcolor\": \"white\", \"linecolor\": \"white\", \"ticks\": \"\"}, \"bgcolor\": \"#E5ECF6\", \"caxis\": {\"gridcolor\": \"white\", \"linecolor\": \"white\", \"ticks\": \"\"}}, \"title\": {\"x\": 0.05}, \"xaxis\": {\"automargin\": true, \"gridcolor\": \"white\", \"linecolor\": \"white\", \"ticks\": \"\", \"title\": {\"standoff\": 15}, \"zerolinecolor\": \"white\", \"zerolinewidth\": 2}, \"yaxis\": {\"automargin\": true, \"gridcolor\": \"white\", \"linecolor\": \"white\", \"ticks\": \"\", \"title\": {\"standoff\": 15}, \"zerolinecolor\": \"white\", \"zerolinewidth\": 2}}}, \"title\": {\"text\": \"Vessel planning\"}, \"xaxis\": {\"range\": [\"1970-01-01T00:00:00\", \"1970-01-01T10:31:53.667234\"], \"title\": {\"font\": {\"color\": \"#7f7f7f\", \"family\": \"Courier New, monospace\", \"size\": 18}, \"text\": \"Time\"}}, \"yaxis\": {\"title\": {\"font\": {\"color\": \"#7f7f7f\", \"family\": \"Courier New, monospace\", \"size\": 18}, \"text\": \"Vessels\"}}},                        {\"responsive\": true}                    ).then(function(){\n",
       "                            \n",
       "var gd = document.getElementById('060fa9da-5d24-46d1-8688-a360210c5c58');\n",
       "var x = new MutationObserver(function (mutations, observer) {{\n",
       "        var display = window.getComputedStyle(gd).display;\n",
       "        if (!display || display === 'none') {{\n",
       "            console.log([gd, 'removed!']);\n",
       "            Plotly.purge(gd);\n",
       "            observer.disconnect();\n",
       "        }}\n",
       "}});\n",
       "\n",
       "// Listen for the removal of the full notebook cells\n",
       "var notebookContainer = gd.closest('#notebook-container');\n",
       "if (notebookContainer) {{\n",
       "    x.observe(notebookContainer, {childList: true});\n",
       "}}\n",
       "\n",
       "// Listen for the clearing of the current output cell\n",
       "var outputEl = gd.closest('.output');\n",
       "if (outputEl) {{\n",
       "    x.observe(outputEl, {childList: true});\n",
       "}}\n",
       "\n",
       "                        })                };                });            </script>        </div>"
      ]
     },
     "metadata": {},
     "output_type": "display_data"
    }
   ],
   "source": [
    " plot.vessel_planning([hopper, from_site, to_site])"
   ]
  },
  {
   "cell_type": "code",
   "execution_count": 9,
   "metadata": {},
   "outputs": [
    {
     "data": {
      "image/png": "[encoded data removed]",
      "text/plain": [
       "<Figure size 432x288 with 1 Axes>"
      ]
     },
     "metadata": {
      "needs_background": "light"
     },
     "output_type": "display_data"
    }
   ],
   "source": [
    "fig = plot.get_step_chart([from_site, hopper, to_site])"
   ]
  },
  {
   "cell_type": "code",
   "execution_count": 10,
   "metadata": {},
   "outputs": [
    {
     "data": {
      "text/plain": [
       "37913.66723419497"
      ]
     },
     "execution_count": 10,
     "metadata": {},
     "output_type": "execute_result"
    }
   ],
   "source": [
    "my_env.now"
   ]
  },
  {
   "cell_type": "code",
   "execution_count": 11,
   "metadata": {},
   "outputs": [
    {
     "data": {
      "text/plain": [
       "1"
      ]
     },
     "execution_count": 11,
     "metadata": {},
     "output_type": "execute_result"
    }
   ],
   "source": [
    "min(1,2,3)"
   ]
  },
  {
   "cell_type": "code",
   "execution_count": null,
   "metadata": {},
   "outputs": [],
   "source": []
  },
  {
   "cell_type": "code",
   "execution_count": null,
   "metadata": {},
   "outputs": [],
   "source": []
  },
  {
   "cell_type": "code",
   "execution_count": null,
   "metadata": {},
   "outputs": [],
   "source": []
  }
 ],
 "metadata": {
  "kernelspec": {
   "display_name": "Python 3",
   "language": "python",
   "name": "python3"
  },
  "language_info": {
   "codemirror_mode": {
    "name": "ipython",
    "version": 3
   },
   "file_extension": ".py",
   "mimetype": "text/x-python",
   "name": "python",
   "nbconvert_exporter": "python",
   "pygments_lexer": "ipython3",
   "version": "3.7.3"
  }
 },
 "nbformat": 4,
 "nbformat_minor": 2
}
