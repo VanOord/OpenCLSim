{
 "cells": [
  {
   "cell_type": "code",
   "execution_count": 1,
   "id": "driven-radiation",
   "metadata": {},
   "outputs": [],
   "source": [
    "import datetime\n",
    "import time\n",
    "import uuid\n",
    "\n",
    "import numpy as np\n",
    "# package(s) for data handling\n",
    "import pandas as pd\n",
    "import shapely.geometry\n",
    "import simpy\n",
    "\n",
    "import openclsim.core as core\n",
    "import openclsim.model as model\n",
    "import openclsim.plot as plot\n",
    "\n",
    "# setup environment\n",
    "simulation_start = 0\n",
    "my_env = simpy.Environment(initial_time=simulation_start)\n",
    "registry = {}"
   ]
  },
  {
   "cell_type": "code",
   "execution_count": 2,
   "id": "circular-research",
   "metadata": {},
   "outputs": [],
   "source": [
    "Site = type(\n",
    "    \"Site\",\n",
    "    (\n",
    "        core.Identifiable,\n",
    "        core.Log,\n",
    "        core.Locatable,\n",
    "        core.HasMultiContainer,\n",
    "        core.HasResource,\n",
    "    ),\n",
    "    {},\n",
    ")\n",
    "\n",
    "TransportProcessingResource = type(\n",
    "    \"TransportProcessingResource\",\n",
    "    (\n",
    "        core.Identifiable,\n",
    "        core.Log,\n",
    "        core.MultiContainerDependentMovable,\n",
    "        core.Processor,\n",
    "        core.HasResource,\n",
    "    ),\n",
    "    {\"key\": \"MultiStoreHopper\"},\n",
    ")"
   ]
  },
  {
   "cell_type": "code",
   "execution_count": 3,
   "id": "second-shoulder",
   "metadata": {},
   "outputs": [],
   "source": [
    "N = 30\n",
    "n = 12\n",
    "\n",
    "location_from_site = shapely.geometry.Point(4.18055556, 52.18664444)\n",
    "location_to_site = shapely.geometry.Point(4.25222222, 52.11428333)\n",
    "\n",
    "from_site = Site(\n",
    "    env=my_env,\n",
    "    name=\"Winlocatie\",\n",
    "    ID=str(uuid.uuid4()),\n",
    "    geometry=location_from_site,\n",
    "    store_capacity=4,\n",
    "    nr_resources=1,\n",
    "    initials=[\n",
    "        {\"id\": \"MP\", \"level\": N-n, \"capacity\": N},\n",
    "    ],\n",
    ")\n",
    "\n",
    "in_between = Site(\n",
    "    env=my_env,\n",
    "    name=\"Overslag\",\n",
    "    ID=str(uuid.uuid4()),\n",
    "    geometry=location_to_site,\n",
    "    store_capacity=4,\n",
    "    nr_resources=1,\n",
    "    initials=[\n",
    "        {\"id\": \"MP\", \"level\": n, \"capacity\": N},\n",
    "    ],\n",
    ")\n",
    "\n",
    "\n",
    "to_site = Site(\n",
    "    env=my_env,\n",
    "    name=\"Dumplocatie\",\n",
    "    ID=str(uuid.uuid4()),\n",
    "    geometry=location_to_site,\n",
    "    store_capacity=4,\n",
    "    nr_resources=1,\n",
    "    initials=[\n",
    "        {\"id\": \"MP\", \"level\": 0, \"capacity\": N},\n",
    "    ],\n",
    ")"
   ]
  },
  {
   "cell_type": "code",
   "execution_count": 4,
   "id": "adult-yahoo",
   "metadata": {},
   "outputs": [],
   "source": [
    "vessel_1 = TransportProcessingResource(\n",
    "    env=my_env,\n",
    "    name=\"Vessel 01\",\n",
    "    ID=str(uuid.uuid4()),\n",
    "    geometry=location_from_site,\n",
    "    store_capacity=4,\n",
    "    nr_resources=1,\n",
    "    compute_v=lambda x: 10,\n",
    "    initials=[\n",
    "        {\"id\": \"MP\", \"level\": 0, \"capacity\": 1},\n",
    "    ],\n",
    ")\n",
    "vessel_2 = TransportProcessingResource(\n",
    "    env=my_env,\n",
    "    name=\"Vessel 02\",\n",
    "    ID=str(uuid.uuid4()),\n",
    "    geometry=location_from_site,\n",
    "    store_capacity=4,\n",
    "    nr_resources=1,\n",
    "    compute_v=lambda x: 10,\n",
    "    initials=[\n",
    "        {\"id\": \"MP\", \"level\": 0, \"capacity\": 1},\n",
    "    ],\n",
    ")\n",
    "\n",
    "processes = []\n",
    "proc_1_vessels = []\n",
    "proc_2_vessels = []\n",
    "i=2\n",
    "j=2"
   ]
  },
  {
   "cell_type": "code",
   "execution_count": 5,
   "id": "broken-brazil",
   "metadata": {},
   "outputs": [],
   "source": [
    "\n",
    "for i in range(i):\n",
    "    vessel = TransportProcessingResource(\n",
    "        env=my_env,\n",
    "        name=f\"proc 1 Vessel {i}\",\n",
    "        ID=str(uuid.uuid4()),\n",
    "        geometry=location_from_site,\n",
    "        store_capacity=4,\n",
    "        nr_resources=1,\n",
    "        compute_v=lambda x: 10,\n",
    "        initials=[\n",
    "            {\"id\": \"MP\", \"level\": 0, \"capacity\": 1},\n",
    "        ],\n",
    "    )\n",
    "    proc_1_vessels.append(vessel)\n",
    "    requested_resources1 = {}\n",
    "    proc_1 = model.WhileActivity(\n",
    "        env=my_env,\n",
    "        name=f\"while {vessel.name}\",\n",
    "        ID=str(uuid.uuid4()),\n",
    "        registry=registry,\n",
    "        sub_processes=[\n",
    "            model.SequentialActivity(\n",
    "                env=my_env,\n",
    "                name=f\"sequence {vessel.name}\",\n",
    "                ID=str(uuid.uuid4()),\n",
    "                registry=registry,\n",
    "                sub_processes=[\n",
    "                    model.MoveActivity(\n",
    "                        env=my_env,\n",
    "                        name=f\"sailing empty {vessel.name}\",\n",
    "                        ID=str(uuid.uuid4()),\n",
    "                        registry=registry,\n",
    "                        mover=vessel,\n",
    "                        destination=from_site,\n",
    "                        duration=10,\n",
    "                        requested_resources=requested_resources1,\n",
    "                    ),\n",
    "                    model.ShiftAmountActivity(\n",
    "                        env=my_env,\n",
    "                        name=f\"Load MP {vessel.name}\",\n",
    "                        ID=str(uuid.uuid4()),\n",
    "                        registry=registry,\n",
    "                        processor=vessel,\n",
    "                        origin=from_site,\n",
    "                        destination=vessel,\n",
    "                        amount=1,\n",
    "                        duration=10,\n",
    "                        id_=\"MP\",\n",
    "                        requested_resources=requested_resources1,\n",
    "                    ),\n",
    "                    model.MoveActivity(\n",
    "                        env=my_env,\n",
    "                        name=f\"sailing filled {vessel.name}\",\n",
    "                        ID=str(uuid.uuid4()),\n",
    "                        registry=registry,\n",
    "                        mover=vessel,\n",
    "                        destination=in_between,\n",
    "                        duration=10,\n",
    "                        requested_resources=requested_resources1,\n",
    "                    ),\n",
    "                    model.ShiftAmountActivity(\n",
    "                        env=my_env,\n",
    "                        name=f\"Transfer MP {vessel.name}\",\n",
    "                        ID=str(uuid.uuid4()),\n",
    "                        registry=registry,\n",
    "                        processor=vessel,\n",
    "                        origin=vessel,\n",
    "                        destination=in_between,\n",
    "                        amount=1,\n",
    "                        duration=10,\n",
    "                        id_=\"MP\",\n",
    "                        requested_resources=requested_resources1,\n",
    "                    ),\n",
    "                ],\n",
    "            )\n",
    "        ],\n",
    "        condition_event={\"type\": \"container\",\"concept\": from_site,\"state\": \"empty\", \"id_\":\"MP\"},\n",
    "    )\n",
    "    processes.append(proc_1)"
   ]
  },
  {
   "cell_type": "code",
   "execution_count": 6,
   "id": "seeing-wheel",
   "metadata": {},
   "outputs": [],
   "source": [
    "\n",
    "for i in range(j):\n",
    "    vessel = TransportProcessingResource(\n",
    "        env=my_env,\n",
    "        name=f\"proc 2 Vessel {i}\",\n",
    "        ID=str(uuid.uuid4()),\n",
    "        geometry=location_from_site,\n",
    "        store_capacity=4,\n",
    "        nr_resources=1,\n",
    "        compute_v=lambda x: 10,\n",
    "        initials=[\n",
    "            {\"id\": \"MP\", \"level\": 0, \"capacity\": 1},\n",
    "        ],\n",
    "    )\n",
    "    proc_2_vessels.append(vessel)\n",
    "    requested_resources1 = {}\n",
    "    proc_2 = model.WhileActivity(\n",
    "        env=my_env,\n",
    "        name=f\"while {vessel.name}\",\n",
    "        ID=str(uuid.uuid4()),\n",
    "        registry=registry,\n",
    "        sub_processes=[\n",
    "            model.SequentialActivity(\n",
    "                env=my_env,\n",
    "                name=f\"sequence {vessel.name}\",\n",
    "                ID=str(uuid.uuid4()),\n",
    "                registry=registry,\n",
    "                sub_processes=[\n",
    "                    model.MoveActivity(\n",
    "                        env=my_env,\n",
    "                        name=f\"sailing empty {vessel.name}\",\n",
    "                        ID=str(uuid.uuid4()),\n",
    "                        registry=registry,\n",
    "                        mover=vessel,\n",
    "                        destination=in_between,\n",
    "                        duration=10,\n",
    "                        requested_resources=requested_resources1,\n",
    "                    ),\n",
    "                    model.ShiftAmountActivity(\n",
    "                        env=my_env,\n",
    "                        name=f\"Load MP {vessel.name}\",\n",
    "                        ID=str(uuid.uuid4()),\n",
    "                        registry=registry,\n",
    "                        processor=vessel,\n",
    "                        origin=in_between,\n",
    "                        destination=vessel,\n",
    "                        amount=1,\n",
    "                        duration=10,\n",
    "                        id_=\"MP\",\n",
    "                        requested_resources=requested_resources1,\n",
    "                    ),\n",
    "                    model.MoveActivity(\n",
    "                        env=my_env,\n",
    "                        name=f\"sailing filled {vessel.name}\",\n",
    "                        ID=str(uuid.uuid4()),\n",
    "                        registry=registry,\n",
    "                        mover=vessel,\n",
    "                        destination=to_site,\n",
    "                        duration=10,\n",
    "                        requested_resources=requested_resources1,\n",
    "                    ),\n",
    "                    model.ShiftAmountActivity(\n",
    "                        env=my_env,\n",
    "                        name=f\"Transfer MP {vessel.name}\",\n",
    "                        ID=str(uuid.uuid4()),\n",
    "                        registry=registry,\n",
    "                        processor=vessel,\n",
    "                        origin=vessel,\n",
    "                        destination=to_site,\n",
    "                        amount=1,\n",
    "                        duration=10,\n",
    "                        id_=\"MP\",\n",
    "                        requested_resources=requested_resources1,\n",
    "                    ),\n",
    "                ],\n",
    "            )\n",
    "        ],\n",
    "        condition_event={\"type\": \"container\",\"concept\": to_site,\"state\": \"full\", \"id_\":\"MP\"},\n",
    "    )\n",
    "    processes.append(proc_2)"
   ]
  },
  {
   "cell_type": "code",
   "execution_count": 7,
   "id": "innovative-economy",
   "metadata": {},
   "outputs": [
    {
     "ename": "ValueError",
     "evalue": "A valid container reservation could not be made. Tried 100 times",
     "output_type": "error",
     "traceback": [
      "\u001b[0;31m---------------------------------------------------------------------------\u001b[0m",
      "\u001b[0;31mValueError\u001b[0m                                Traceback (most recent call last)",
      "\u001b[0;32m/OpenCLSim/openclsim/model/base_activities.py\u001b[0m in \u001b[0;36mdelayed_process\u001b[0;34m(self, activity_log, env)\u001b[0m\n\u001b[1;32m    250\u001b[0m \u001b[0;34m\u001b[0m\u001b[0m\n\u001b[0;32m--> 251\u001b[0;31m         \u001b[0;32myield\u001b[0m \u001b[0;32mfrom\u001b[0m \u001b[0mself\u001b[0m\u001b[0;34m.\u001b[0m\u001b[0mmain_process_function\u001b[0m\u001b[0;34m(\u001b[0m\u001b[0mactivity_log\u001b[0m\u001b[0;34m=\u001b[0m\u001b[0mself\u001b[0m\u001b[0;34m,\u001b[0m \u001b[0menv\u001b[0m\u001b[0;34m=\u001b[0m\u001b[0mself\u001b[0m\u001b[0;34m.\u001b[0m\u001b[0menv\u001b[0m\u001b[0;34m)\u001b[0m\u001b[0;34m\u001b[0m\u001b[0;34m\u001b[0m\u001b[0m\n\u001b[0m\u001b[1;32m    252\u001b[0m \u001b[0;34m\u001b[0m\u001b[0m\n",
      "\u001b[0;32m/OpenCLSim/openclsim/model/shift_amount_activity.py\u001b[0m in \u001b[0;36mmain_process_function\u001b[0;34m(self, activity_log, env)\u001b[0m\n\u001b[1;32m    118\u001b[0m             \u001b[0menv\u001b[0m\u001b[0;34m,\u001b[0m\u001b[0;34m\u001b[0m\u001b[0;34m\u001b[0m\u001b[0m\n\u001b[0;32m--> 119\u001b[0;31m             \u001b[0mactivity_id\u001b[0m\u001b[0;34m=\u001b[0m\u001b[0mactivity_log\u001b[0m\u001b[0;34m.\u001b[0m\u001b[0mid\u001b[0m\u001b[0;34m,\u001b[0m\u001b[0;34m\u001b[0m\u001b[0;34m\u001b[0m\u001b[0m\n\u001b[0m\u001b[1;32m    120\u001b[0m         )\n",
      "\u001b[0;32m/OpenCLSim/openclsim/model/shift_amount_activity.py\u001b[0m in \u001b[0;36m_shift_amount\u001b[0;34m(self, env, activity_id)\u001b[0m\n\u001b[1;32m    150\u001b[0m             \u001b[0mid_\u001b[0m\u001b[0;34m=\u001b[0m\u001b[0mself\u001b[0m\u001b[0;34m.\u001b[0m\u001b[0mid_\u001b[0m\u001b[0;34m,\u001b[0m\u001b[0;34m\u001b[0m\u001b[0;34m\u001b[0m\u001b[0m\n\u001b[0;32m--> 151\u001b[0;31m             \u001b[0mshiftamount_fcn\u001b[0m\u001b[0;34m=\u001b[0m\u001b[0mshiftamount_fcn\u001b[0m\u001b[0;34m,\u001b[0m\u001b[0;34m\u001b[0m\u001b[0;34m\u001b[0m\u001b[0m\n\u001b[0m\u001b[1;32m    152\u001b[0m         )\n",
      "\u001b[0;32m/OpenCLSim/openclsim/core/processor.py\u001b[0m in \u001b[0;36mprocess\u001b[0;34m(self, origin, destination, shiftamount_fcn, id_)\u001b[0m\n\u001b[1;32m     88\u001b[0m             raise ValueError(\n\u001b[0;32m---> 89\u001b[0;31m                 \u001b[0;34mf\"A valid container reservation could not be made. Tried {nr_tries} times\"\u001b[0m\u001b[0;34m\u001b[0m\u001b[0;34m\u001b[0m\u001b[0m\n\u001b[0m\u001b[1;32m     90\u001b[0m             )\n",
      "\u001b[0;31mValueError\u001b[0m: A valid container reservation could not be made. Tried 100 times",
      "\nThe above exception was the direct cause of the following exception:\n",
      "\u001b[0;31mValueError\u001b[0m                                Traceback (most recent call last)",
      "\u001b[0;32m/OpenCLSim/openclsim/model/base_activities.py\u001b[0m in \u001b[0;36mdelayed_process\u001b[0;34m(self, activity_log, env)\u001b[0m\n\u001b[1;32m    209\u001b[0m         \u001b[0;32mif\u001b[0m \u001b[0mhasattr\u001b[0m\u001b[0;34m(\u001b[0m\u001b[0mself\u001b[0m\u001b[0;34m,\u001b[0m \u001b[0;34m\"start_event_parent\"\u001b[0m\u001b[0;34m)\u001b[0m\u001b[0;34m:\u001b[0m\u001b[0;34m\u001b[0m\u001b[0;34m\u001b[0m\u001b[0m\n\u001b[0;32m--> 210\u001b[0;31m             \u001b[0;32myield\u001b[0m \u001b[0mself\u001b[0m\u001b[0;34m.\u001b[0m\u001b[0mparse_expression\u001b[0m\u001b[0;34m(\u001b[0m\u001b[0mself\u001b[0m\u001b[0;34m.\u001b[0m\u001b[0mstart_event_parent\u001b[0m\u001b[0;34m)\u001b[0m\u001b[0;34m\u001b[0m\u001b[0;34m\u001b[0m\u001b[0m\n\u001b[0m\u001b[1;32m    211\u001b[0m \u001b[0;34m\u001b[0m\u001b[0m\n",
      "\u001b[0;31mValueError\u001b[0m: A valid container reservation could not be made. Tried 100 times",
      "\nThe above exception was the direct cause of the following exception:\n",
      "\u001b[0;31mValueError\u001b[0m                                Traceback (most recent call last)",
      "\u001b[0;32m/OpenCLSim/openclsim/model/base_activities.py\u001b[0m in \u001b[0;36mdelayed_process\u001b[0;34m(self, activity_log, env)\u001b[0m\n\u001b[1;32m    209\u001b[0m         \u001b[0;32mif\u001b[0m \u001b[0mhasattr\u001b[0m\u001b[0;34m(\u001b[0m\u001b[0mself\u001b[0m\u001b[0;34m,\u001b[0m \u001b[0;34m\"start_event_parent\"\u001b[0m\u001b[0;34m)\u001b[0m\u001b[0;34m:\u001b[0m\u001b[0;34m\u001b[0m\u001b[0;34m\u001b[0m\u001b[0m\n\u001b[0;32m--> 210\u001b[0;31m             \u001b[0;32myield\u001b[0m \u001b[0mself\u001b[0m\u001b[0;34m.\u001b[0m\u001b[0mparse_expression\u001b[0m\u001b[0;34m(\u001b[0m\u001b[0mself\u001b[0m\u001b[0;34m.\u001b[0m\u001b[0mstart_event_parent\u001b[0m\u001b[0;34m)\u001b[0m\u001b[0;34m\u001b[0m\u001b[0;34m\u001b[0m\u001b[0m\n\u001b[0m\u001b[1;32m    211\u001b[0m \u001b[0;34m\u001b[0m\u001b[0m\n",
      "\u001b[0;31mValueError\u001b[0m: A valid container reservation could not be made. Tried 100 times",
      "\nThe above exception was the direct cause of the following exception:\n",
      "\u001b[0;31mValueError\u001b[0m                                Traceback (most recent call last)",
      "\u001b[0;32m<ipython-input-7-417653b98be6>\u001b[0m in \u001b[0;36m<module>\u001b[0;34m\u001b[0m\n\u001b[1;32m      2\u001b[0m     \u001b[0;34m*\u001b[0m\u001b[0mprocesses\u001b[0m\u001b[0;34m\u001b[0m\u001b[0;34m\u001b[0m\u001b[0m\n\u001b[1;32m      3\u001b[0m ])\n\u001b[0;32m----> 4\u001b[0;31m \u001b[0mmy_env\u001b[0m\u001b[0;34m.\u001b[0m\u001b[0mrun\u001b[0m\u001b[0;34m(\u001b[0m\u001b[0;34m)\u001b[0m\u001b[0;34m\u001b[0m\u001b[0;34m\u001b[0m\u001b[0m\n\u001b[0m",
      "\u001b[0;32m/opt/conda/lib/python3.7/site-packages/simpy/core.py\u001b[0m in \u001b[0;36mrun\u001b[0;34m(self, until)\u001b[0m\n\u001b[1;32m    252\u001b[0m         \u001b[0;32mtry\u001b[0m\u001b[0;34m:\u001b[0m\u001b[0;34m\u001b[0m\u001b[0;34m\u001b[0m\u001b[0m\n\u001b[1;32m    253\u001b[0m             \u001b[0;32mwhile\u001b[0m \u001b[0;32mTrue\u001b[0m\u001b[0;34m:\u001b[0m\u001b[0;34m\u001b[0m\u001b[0;34m\u001b[0m\u001b[0m\n\u001b[0;32m--> 254\u001b[0;31m                 \u001b[0mself\u001b[0m\u001b[0;34m.\u001b[0m\u001b[0mstep\u001b[0m\u001b[0;34m(\u001b[0m\u001b[0;34m)\u001b[0m\u001b[0;34m\u001b[0m\u001b[0;34m\u001b[0m\u001b[0m\n\u001b[0m\u001b[1;32m    255\u001b[0m         \u001b[0;32mexcept\u001b[0m \u001b[0mStopSimulation\u001b[0m \u001b[0;32mas\u001b[0m \u001b[0mexc\u001b[0m\u001b[0;34m:\u001b[0m\u001b[0;34m\u001b[0m\u001b[0;34m\u001b[0m\u001b[0m\n\u001b[1;32m    256\u001b[0m             \u001b[0;32mreturn\u001b[0m \u001b[0mexc\u001b[0m\u001b[0;34m.\u001b[0m\u001b[0margs\u001b[0m\u001b[0;34m[\u001b[0m\u001b[0;36m0\u001b[0m\u001b[0;34m]\u001b[0m  \u001b[0;31m# == until.value\u001b[0m\u001b[0;34m\u001b[0m\u001b[0;34m\u001b[0m\u001b[0m\n",
      "\u001b[0;32m/opt/conda/lib/python3.7/site-packages/simpy/core.py\u001b[0m in \u001b[0;36mstep\u001b[0;34m(self)\u001b[0m\n\u001b[1;32m    204\u001b[0m             \u001b[0mexc\u001b[0m \u001b[0;34m=\u001b[0m \u001b[0mtype\u001b[0m\u001b[0;34m(\u001b[0m\u001b[0mevent\u001b[0m\u001b[0;34m.\u001b[0m\u001b[0m_value\u001b[0m\u001b[0;34m)\u001b[0m\u001b[0;34m(\u001b[0m\u001b[0;34m*\u001b[0m\u001b[0mevent\u001b[0m\u001b[0;34m.\u001b[0m\u001b[0m_value\u001b[0m\u001b[0;34m.\u001b[0m\u001b[0margs\u001b[0m\u001b[0;34m)\u001b[0m\u001b[0;34m\u001b[0m\u001b[0;34m\u001b[0m\u001b[0m\n\u001b[1;32m    205\u001b[0m             \u001b[0mexc\u001b[0m\u001b[0;34m.\u001b[0m\u001b[0m__cause__\u001b[0m \u001b[0;34m=\u001b[0m \u001b[0mevent\u001b[0m\u001b[0;34m.\u001b[0m\u001b[0m_value\u001b[0m\u001b[0;34m\u001b[0m\u001b[0;34m\u001b[0m\u001b[0m\n\u001b[0;32m--> 206\u001b[0;31m             \u001b[0;32mraise\u001b[0m \u001b[0mexc\u001b[0m\u001b[0;34m\u001b[0m\u001b[0;34m\u001b[0m\u001b[0m\n\u001b[0m\u001b[1;32m    207\u001b[0m \u001b[0;34m\u001b[0m\u001b[0m\n\u001b[1;32m    208\u001b[0m     def run(\n",
      "\u001b[0;31mValueError\u001b[0m: A valid container reservation could not be made. Tried 100 times"
     ]
    }
   ],
   "source": [
    "model.register_processes([\n",
    "    *processes\n",
    "])\n",
    "my_env.run()"
   ]
  },
  {
   "cell_type": "code",
   "execution_count": 8,
   "id": "surgical-directive",
   "metadata": {},
   "outputs": [
    {
     "data": {
      "text/html": [
       "        <script type=\"text/javascript\">\n",
       "        window.PlotlyConfig = {MathJaxConfig: 'local'};\n",
       "        if (window.MathJax) {MathJax.Hub.Config({SVG: {font: \"STIX-Web\"}});}\n",
       "        if (typeof require !== 'undefined') {\n",
       "        require.undef(\"plotly\");\n",
       "        requirejs.config({\n",
       "            paths: {\n",
       "                'plotly': ['https://cdn.plot.ly/plotly-latest.min']\n",
       "            }\n",
       "        });\n",
       "        require(['plotly'], function(Plotly) {\n",
       "            window._Plotly = Plotly;\n",
       "        });\n",
       "        }\n",
       "        </script>\n",
       "        "
      ]
     },
     "metadata": {},
     "output_type": "display_data"
    },
    {
     "data": {
      "application/vnd.plotly.v1+json": {
       "config": {
        "linkText": "Export to plot.ly",
        "plotlyServerURL": "https://plot.ly",
        "showLink": false
       },
       "data": [
        {
         "connectgaps": false,
         "hoverinfo": "y+name",
         "line": {
          "color": "rgb(168,159,248)",
          "width": 10
         },
         "mode": "lines",
         "name": "sailing empty proc 1 Vessel 0",
         "type": "scatter",
         "x": [
          "1970-01-01T00:00:00",
          "1970-01-01T00:00:00",
          "1970-01-01T00:00:10",
          "1970-01-01T00:00:10",
          "1970-01-01T00:00:10",
          "1970-01-01T00:00:50",
          "1970-01-01T00:00:50",
          "1970-01-01T00:01:00",
          "1970-01-01T00:01:00",
          "1970-01-01T00:01:00",
          "1970-01-01T00:01:30",
          "1970-01-01T00:01:30",
          "1970-01-01T00:01:40",
          "1970-01-01T00:01:40",
          "1970-01-01T00:01:40",
          "1970-01-01T00:02:10",
          "1970-01-01T00:02:10",
          "1970-01-01T00:02:20",
          "1970-01-01T00:02:20",
          "1970-01-01T00:02:20",
          "1970-01-01T00:02:50",
          "1970-01-01T00:02:50",
          "1970-01-01T00:03:00",
          "1970-01-01T00:03:00",
          "1970-01-01T00:03:00",
          "1970-01-01T00:03:30",
          "1970-01-01T00:03:30",
          "1970-01-01T00:03:40",
          "1970-01-01T00:03:40",
          "1970-01-01T00:03:40",
          "1970-01-01T00:04:10",
          "1970-01-01T00:04:10",
          "1970-01-01T00:04:20",
          "1970-01-01T00:04:20",
          "1970-01-01T00:04:20",
          "1970-01-01T00:04:50",
          "1970-01-01T00:04:50",
          "1970-01-01T00:05:00",
          "1970-01-01T00:05:00",
          "1970-01-01T00:05:00",
          "1970-01-01T00:05:30",
          "1970-01-01T00:05:30",
          "1970-01-01T00:05:40",
          "1970-01-01T00:05:40",
          "1970-01-01T00:05:40"
         ],
         "y": [
          "sailing empty proc 1 Vessel 0",
          "sailing empty proc 1 Vessel 0",
          "sailing empty proc 1 Vessel 0",
          "sailing empty proc 1 Vessel 0",
          null,
          "sailing empty proc 1 Vessel 0",
          "sailing empty proc 1 Vessel 0",
          "sailing empty proc 1 Vessel 0",
          "sailing empty proc 1 Vessel 0",
          null,
          "sailing empty proc 1 Vessel 0",
          "sailing empty proc 1 Vessel 0",
          "sailing empty proc 1 Vessel 0",
          "sailing empty proc 1 Vessel 0",
          null,
          "sailing empty proc 1 Vessel 0",
          "sailing empty proc 1 Vessel 0",
          "sailing empty proc 1 Vessel 0",
          "sailing empty proc 1 Vessel 0",
          null,
          "sailing empty proc 1 Vessel 0",
          "sailing empty proc 1 Vessel 0",
          "sailing empty proc 1 Vessel 0",
          "sailing empty proc 1 Vessel 0",
          null,
          "sailing empty proc 1 Vessel 0",
          "sailing empty proc 1 Vessel 0",
          "sailing empty proc 1 Vessel 0",
          "sailing empty proc 1 Vessel 0",
          null,
          "sailing empty proc 1 Vessel 0",
          "sailing empty proc 1 Vessel 0",
          "sailing empty proc 1 Vessel 0",
          "sailing empty proc 1 Vessel 0",
          null,
          "sailing empty proc 1 Vessel 0",
          "sailing empty proc 1 Vessel 0",
          "sailing empty proc 1 Vessel 0",
          "sailing empty proc 1 Vessel 0",
          null,
          "sailing empty proc 1 Vessel 0",
          "sailing empty proc 1 Vessel 0",
          "sailing empty proc 1 Vessel 0",
          "sailing empty proc 1 Vessel 0",
          null
         ]
        },
        {
         "connectgaps": false,
         "hoverinfo": "y+name",
         "line": {
          "color": "rgb(184,175,8)",
          "width": 10
         },
         "mode": "lines",
         "name": "Load MP proc 1 Vessel 0",
         "type": "scatter",
         "x": [
          "1970-01-01T00:00:20",
          "1970-01-01T00:00:20",
          "1970-01-01T00:00:30",
          "1970-01-01T00:00:30",
          "1970-01-01T00:00:30",
          "1970-01-01T00:01:00",
          "1970-01-01T00:01:00",
          "1970-01-01T00:01:10",
          "1970-01-01T00:01:10",
          "1970-01-01T00:01:10",
          "1970-01-01T00:01:40",
          "1970-01-01T00:01:40",
          "1970-01-01T00:01:50",
          "1970-01-01T00:01:50",
          "1970-01-01T00:01:50",
          "1970-01-01T00:02:20",
          "1970-01-01T00:02:20",
          "1970-01-01T00:02:30",
          "1970-01-01T00:02:30",
          "1970-01-01T00:02:30",
          "1970-01-01T00:03:00",
          "1970-01-01T00:03:00",
          "1970-01-01T00:03:10",
          "1970-01-01T00:03:10",
          "1970-01-01T00:03:10",
          "1970-01-01T00:03:40",
          "1970-01-01T00:03:40",
          "1970-01-01T00:03:50",
          "1970-01-01T00:03:50",
          "1970-01-01T00:03:50",
          "1970-01-01T00:04:20",
          "1970-01-01T00:04:20",
          "1970-01-01T00:04:30",
          "1970-01-01T00:04:30",
          "1970-01-01T00:04:30",
          "1970-01-01T00:05:00",
          "1970-01-01T00:05:00",
          "1970-01-01T00:05:10",
          "1970-01-01T00:05:10",
          "1970-01-01T00:05:10",
          "1970-01-01T00:05:40",
          "1970-01-01T00:05:40",
          "1970-01-01T00:05:50",
          "1970-01-01T00:05:50",
          "1970-01-01T00:05:50"
         ],
         "y": [
          "Load MP proc 1 Vessel 0",
          "Load MP proc 1 Vessel 0",
          "Load MP proc 1 Vessel 0",
          "Load MP proc 1 Vessel 0",
          null,
          "Load MP proc 1 Vessel 0",
          "Load MP proc 1 Vessel 0",
          "Load MP proc 1 Vessel 0",
          "Load MP proc 1 Vessel 0",
          null,
          "Load MP proc 1 Vessel 0",
          "Load MP proc 1 Vessel 0",
          "Load MP proc 1 Vessel 0",
          "Load MP proc 1 Vessel 0",
          null,
          "Load MP proc 1 Vessel 0",
          "Load MP proc 1 Vessel 0",
          "Load MP proc 1 Vessel 0",
          "Load MP proc 1 Vessel 0",
          null,
          "Load MP proc 1 Vessel 0",
          "Load MP proc 1 Vessel 0",
          "Load MP proc 1 Vessel 0",
          "Load MP proc 1 Vessel 0",
          null,
          "Load MP proc 1 Vessel 0",
          "Load MP proc 1 Vessel 0",
          "Load MP proc 1 Vessel 0",
          "Load MP proc 1 Vessel 0",
          null,
          "Load MP proc 1 Vessel 0",
          "Load MP proc 1 Vessel 0",
          "Load MP proc 1 Vessel 0",
          "Load MP proc 1 Vessel 0",
          null,
          "Load MP proc 1 Vessel 0",
          "Load MP proc 1 Vessel 0",
          "Load MP proc 1 Vessel 0",
          "Load MP proc 1 Vessel 0",
          null,
          "Load MP proc 1 Vessel 0",
          "Load MP proc 1 Vessel 0",
          "Load MP proc 1 Vessel 0",
          "Load MP proc 1 Vessel 0",
          null
         ]
        },
        {
         "connectgaps": false,
         "hoverinfo": "y+name",
         "line": {
          "color": "rgb(200,191,24)",
          "width": 10
         },
         "mode": "lines",
         "name": "sailing filled proc 1 Vessel 0",
         "type": "scatter",
         "x": [
          "1970-01-01T00:00:30",
          "1970-01-01T00:00:30",
          "1970-01-01T00:00:40",
          "1970-01-01T00:00:40",
          "1970-01-01T00:00:40",
          "1970-01-01T00:01:10",
          "1970-01-01T00:01:10",
          "1970-01-01T00:01:20",
          "1970-01-01T00:01:20",
          "1970-01-01T00:01:20",
          "1970-01-01T00:01:50",
          "1970-01-01T00:01:50",
          "1970-01-01T00:02:00",
          "1970-01-01T00:02:00",
          "1970-01-01T00:02:00",
          "1970-01-01T00:02:30",
          "1970-01-01T00:02:30",
          "1970-01-01T00:02:40",
          "1970-01-01T00:02:40",
          "1970-01-01T00:02:40",
          "1970-01-01T00:03:10",
          "1970-01-01T00:03:10",
          "1970-01-01T00:03:20",
          "1970-01-01T00:03:20",
          "1970-01-01T00:03:20",
          "1970-01-01T00:03:50",
          "1970-01-01T00:03:50",
          "1970-01-01T00:04:00",
          "1970-01-01T00:04:00",
          "1970-01-01T00:04:00",
          "1970-01-01T00:04:30",
          "1970-01-01T00:04:30",
          "1970-01-01T00:04:40",
          "1970-01-01T00:04:40",
          "1970-01-01T00:04:40",
          "1970-01-01T00:05:10",
          "1970-01-01T00:05:10",
          "1970-01-01T00:05:20",
          "1970-01-01T00:05:20",
          "1970-01-01T00:05:20",
          "1970-01-01T00:05:50",
          "1970-01-01T00:05:50",
          "1970-01-01T00:06:00",
          "1970-01-01T00:06:00",
          "1970-01-01T00:06:00"
         ],
         "y": [
          "sailing filled proc 1 Vessel 0",
          "sailing filled proc 1 Vessel 0",
          "sailing filled proc 1 Vessel 0",
          "sailing filled proc 1 Vessel 0",
          null,
          "sailing filled proc 1 Vessel 0",
          "sailing filled proc 1 Vessel 0",
          "sailing filled proc 1 Vessel 0",
          "sailing filled proc 1 Vessel 0",
          null,
          "sailing filled proc 1 Vessel 0",
          "sailing filled proc 1 Vessel 0",
          "sailing filled proc 1 Vessel 0",
          "sailing filled proc 1 Vessel 0",
          null,
          "sailing filled proc 1 Vessel 0",
          "sailing filled proc 1 Vessel 0",
          "sailing filled proc 1 Vessel 0",
          "sailing filled proc 1 Vessel 0",
          null,
          "sailing filled proc 1 Vessel 0",
          "sailing filled proc 1 Vessel 0",
          "sailing filled proc 1 Vessel 0",
          "sailing filled proc 1 Vessel 0",
          null,
          "sailing filled proc 1 Vessel 0",
          "sailing filled proc 1 Vessel 0",
          "sailing filled proc 1 Vessel 0",
          "sailing filled proc 1 Vessel 0",
          null,
          "sailing filled proc 1 Vessel 0",
          "sailing filled proc 1 Vessel 0",
          "sailing filled proc 1 Vessel 0",
          "sailing filled proc 1 Vessel 0",
          null,
          "sailing filled proc 1 Vessel 0",
          "sailing filled proc 1 Vessel 0",
          "sailing filled proc 1 Vessel 0",
          "sailing filled proc 1 Vessel 0",
          null,
          "sailing filled proc 1 Vessel 0",
          "sailing filled proc 1 Vessel 0",
          "sailing filled proc 1 Vessel 0",
          "sailing filled proc 1 Vessel 0",
          null
         ]
        },
        {
         "connectgaps": false,
         "hoverinfo": "y+name",
         "line": {
          "color": "rgb(216,207,40)",
          "width": 10
         },
         "mode": "lines",
         "name": "Transfer MP proc 1 Vessel 0",
         "type": "scatter",
         "x": [
          "1970-01-01T00:00:40",
          "1970-01-01T00:00:40",
          "1970-01-01T00:00:50",
          "1970-01-01T00:00:50",
          "1970-01-01T00:00:50",
          "1970-01-01T00:01:20",
          "1970-01-01T00:01:20",
          "1970-01-01T00:01:30",
          "1970-01-01T00:01:30",
          "1970-01-01T00:01:30",
          "1970-01-01T00:02:00",
          "1970-01-01T00:02:00",
          "1970-01-01T00:02:10",
          "1970-01-01T00:02:10",
          "1970-01-01T00:02:10",
          "1970-01-01T00:02:40",
          "1970-01-01T00:02:40",
          "1970-01-01T00:02:50",
          "1970-01-01T00:02:50",
          "1970-01-01T00:02:50",
          "1970-01-01T00:03:20",
          "1970-01-01T00:03:20",
          "1970-01-01T00:03:30",
          "1970-01-01T00:03:30",
          "1970-01-01T00:03:30",
          "1970-01-01T00:04:00",
          "1970-01-01T00:04:00",
          "1970-01-01T00:04:10",
          "1970-01-01T00:04:10",
          "1970-01-01T00:04:10",
          "1970-01-01T00:04:40",
          "1970-01-01T00:04:40",
          "1970-01-01T00:04:50",
          "1970-01-01T00:04:50",
          "1970-01-01T00:04:50",
          "1970-01-01T00:05:20",
          "1970-01-01T00:05:20",
          "1970-01-01T00:05:30",
          "1970-01-01T00:05:30",
          "1970-01-01T00:05:30",
          "1970-01-01T00:06:00",
          "1970-01-01T00:06:00",
          "1970-01-01T00:06:10",
          "1970-01-01T00:06:10",
          "1970-01-01T00:06:10"
         ],
         "y": [
          "Transfer MP proc 1 Vessel 0",
          "Transfer MP proc 1 Vessel 0",
          "Transfer MP proc 1 Vessel 0",
          "Transfer MP proc 1 Vessel 0",
          null,
          "Transfer MP proc 1 Vessel 0",
          "Transfer MP proc 1 Vessel 0",
          "Transfer MP proc 1 Vessel 0",
          "Transfer MP proc 1 Vessel 0",
          null,
          "Transfer MP proc 1 Vessel 0",
          "Transfer MP proc 1 Vessel 0",
          "Transfer MP proc 1 Vessel 0",
          "Transfer MP proc 1 Vessel 0",
          null,
          "Transfer MP proc 1 Vessel 0",
          "Transfer MP proc 1 Vessel 0",
          "Transfer MP proc 1 Vessel 0",
          "Transfer MP proc 1 Vessel 0",
          null,
          "Transfer MP proc 1 Vessel 0",
          "Transfer MP proc 1 Vessel 0",
          "Transfer MP proc 1 Vessel 0",
          "Transfer MP proc 1 Vessel 0",
          null,
          "Transfer MP proc 1 Vessel 0",
          "Transfer MP proc 1 Vessel 0",
          "Transfer MP proc 1 Vessel 0",
          "Transfer MP proc 1 Vessel 0",
          null,
          "Transfer MP proc 1 Vessel 0",
          "Transfer MP proc 1 Vessel 0",
          "Transfer MP proc 1 Vessel 0",
          "Transfer MP proc 1 Vessel 0",
          null,
          "Transfer MP proc 1 Vessel 0",
          "Transfer MP proc 1 Vessel 0",
          "Transfer MP proc 1 Vessel 0",
          "Transfer MP proc 1 Vessel 0",
          null,
          "Transfer MP proc 1 Vessel 0",
          "Transfer MP proc 1 Vessel 0",
          "Transfer MP proc 1 Vessel 0",
          "Transfer MP proc 1 Vessel 0",
          null
         ]
        },
        {
         "connectgaps": false,
         "hoverinfo": "y+name",
         "line": {
          "color": "rgb(232,223,56)",
          "width": 10
         },
         "mode": "lines",
         "name": "sailing empty proc 1 Vessel 1",
         "type": "scatter",
         "x": [
          "1970-01-01T00:00:00",
          "1970-01-01T00:00:00",
          "1970-01-01T00:00:10",
          "1970-01-01T00:00:10",
          "1970-01-01T00:00:10",
          "1970-01-01T00:00:40",
          "1970-01-01T00:00:40",
          "1970-01-01T00:00:50",
          "1970-01-01T00:00:50",
          "1970-01-01T00:00:50",
          "1970-01-01T00:01:20",
          "1970-01-01T00:01:20",
          "1970-01-01T00:01:30",
          "1970-01-01T00:01:30",
          "1970-01-01T00:01:30",
          "1970-01-01T00:02:00",
          "1970-01-01T00:02:00",
          "1970-01-01T00:02:10",
          "1970-01-01T00:02:10",
          "1970-01-01T00:02:10",
          "1970-01-01T00:02:40",
          "1970-01-01T00:02:40",
          "1970-01-01T00:02:50",
          "1970-01-01T00:02:50",
          "1970-01-01T00:02:50",
          "1970-01-01T00:03:20",
          "1970-01-01T00:03:20",
          "1970-01-01T00:03:30",
          "1970-01-01T00:03:30",
          "1970-01-01T00:03:30",
          "1970-01-01T00:04:00",
          "1970-01-01T00:04:00",
          "1970-01-01T00:04:10",
          "1970-01-01T00:04:10",
          "1970-01-01T00:04:10",
          "1970-01-01T00:04:40",
          "1970-01-01T00:04:40",
          "1970-01-01T00:04:50",
          "1970-01-01T00:04:50",
          "1970-01-01T00:04:50",
          "1970-01-01T00:05:20",
          "1970-01-01T00:05:20",
          "1970-01-01T00:05:30",
          "1970-01-01T00:05:30",
          "1970-01-01T00:05:30",
          "1970-01-01T00:06:00",
          "1970-01-01T00:06:00",
          "1970-01-01T00:06:10",
          "1970-01-01T00:06:10",
          "1970-01-01T00:06:10"
         ],
         "y": [
          "sailing empty proc 1 Vessel 1",
          "sailing empty proc 1 Vessel 1",
          "sailing empty proc 1 Vessel 1",
          "sailing empty proc 1 Vessel 1",
          null,
          "sailing empty proc 1 Vessel 1",
          "sailing empty proc 1 Vessel 1",
          "sailing empty proc 1 Vessel 1",
          "sailing empty proc 1 Vessel 1",
          null,
          "sailing empty proc 1 Vessel 1",
          "sailing empty proc 1 Vessel 1",
          "sailing empty proc 1 Vessel 1",
          "sailing empty proc 1 Vessel 1",
          null,
          "sailing empty proc 1 Vessel 1",
          "sailing empty proc 1 Vessel 1",
          "sailing empty proc 1 Vessel 1",
          "sailing empty proc 1 Vessel 1",
          null,
          "sailing empty proc 1 Vessel 1",
          "sailing empty proc 1 Vessel 1",
          "sailing empty proc 1 Vessel 1",
          "sailing empty proc 1 Vessel 1",
          null,
          "sailing empty proc 1 Vessel 1",
          "sailing empty proc 1 Vessel 1",
          "sailing empty proc 1 Vessel 1",
          "sailing empty proc 1 Vessel 1",
          null,
          "sailing empty proc 1 Vessel 1",
          "sailing empty proc 1 Vessel 1",
          "sailing empty proc 1 Vessel 1",
          "sailing empty proc 1 Vessel 1",
          null,
          "sailing empty proc 1 Vessel 1",
          "sailing empty proc 1 Vessel 1",
          "sailing empty proc 1 Vessel 1",
          "sailing empty proc 1 Vessel 1",
          null,
          "sailing empty proc 1 Vessel 1",
          "sailing empty proc 1 Vessel 1",
          "sailing empty proc 1 Vessel 1",
          "sailing empty proc 1 Vessel 1",
          null,
          "sailing empty proc 1 Vessel 1",
          "sailing empty proc 1 Vessel 1",
          "sailing empty proc 1 Vessel 1",
          "sailing empty proc 1 Vessel 1",
          null
         ]
        },
        {
         "connectgaps": false,
         "hoverinfo": "y+name",
         "line": {
          "color": "rgb(248,239,72)",
          "width": 10
         },
         "mode": "lines",
         "name": "Load MP proc 1 Vessel 1",
         "type": "scatter",
         "x": [
          "1970-01-01T00:00:10",
          "1970-01-01T00:00:10",
          "1970-01-01T00:00:20",
          "1970-01-01T00:00:20",
          "1970-01-01T00:00:20",
          "1970-01-01T00:00:50",
          "1970-01-01T00:00:50",
          "1970-01-01T00:01:00",
          "1970-01-01T00:01:00",
          "1970-01-01T00:01:00",
          "1970-01-01T00:01:30",
          "1970-01-01T00:01:30",
          "1970-01-01T00:01:40",
          "1970-01-01T00:01:40",
          "1970-01-01T00:01:40",
          "1970-01-01T00:02:10",
          "1970-01-01T00:02:10",
          "1970-01-01T00:02:20",
          "1970-01-01T00:02:20",
          "1970-01-01T00:02:20",
          "1970-01-01T00:02:50",
          "1970-01-01T00:02:50",
          "1970-01-01T00:03:00",
          "1970-01-01T00:03:00",
          "1970-01-01T00:03:00",
          "1970-01-01T00:03:30",
          "1970-01-01T00:03:30",
          "1970-01-01T00:03:40",
          "1970-01-01T00:03:40",
          "1970-01-01T00:03:40",
          "1970-01-01T00:04:10",
          "1970-01-01T00:04:10",
          "1970-01-01T00:04:20",
          "1970-01-01T00:04:20",
          "1970-01-01T00:04:20",
          "1970-01-01T00:04:50",
          "1970-01-01T00:04:50",
          "1970-01-01T00:05:00",
          "1970-01-01T00:05:00",
          "1970-01-01T00:05:00",
          "1970-01-01T00:05:30",
          "1970-01-01T00:05:30",
          "1970-01-01T00:05:40",
          "1970-01-01T00:05:40",
          "1970-01-01T00:05:40"
         ],
         "y": [
          "Load MP proc 1 Vessel 1",
          "Load MP proc 1 Vessel 1",
          "Load MP proc 1 Vessel 1",
          "Load MP proc 1 Vessel 1",
          null,
          "Load MP proc 1 Vessel 1",
          "Load MP proc 1 Vessel 1",
          "Load MP proc 1 Vessel 1",
          "Load MP proc 1 Vessel 1",
          null,
          "Load MP proc 1 Vessel 1",
          "Load MP proc 1 Vessel 1",
          "Load MP proc 1 Vessel 1",
          "Load MP proc 1 Vessel 1",
          null,
          "Load MP proc 1 Vessel 1",
          "Load MP proc 1 Vessel 1",
          "Load MP proc 1 Vessel 1",
          "Load MP proc 1 Vessel 1",
          null,
          "Load MP proc 1 Vessel 1",
          "Load MP proc 1 Vessel 1",
          "Load MP proc 1 Vessel 1",
          "Load MP proc 1 Vessel 1",
          null,
          "Load MP proc 1 Vessel 1",
          "Load MP proc 1 Vessel 1",
          "Load MP proc 1 Vessel 1",
          "Load MP proc 1 Vessel 1",
          null,
          "Load MP proc 1 Vessel 1",
          "Load MP proc 1 Vessel 1",
          "Load MP proc 1 Vessel 1",
          "Load MP proc 1 Vessel 1",
          null,
          "Load MP proc 1 Vessel 1",
          "Load MP proc 1 Vessel 1",
          "Load MP proc 1 Vessel 1",
          "Load MP proc 1 Vessel 1",
          null,
          "Load MP proc 1 Vessel 1",
          "Load MP proc 1 Vessel 1",
          "Load MP proc 1 Vessel 1",
          "Load MP proc 1 Vessel 1",
          null
         ]
        },
        {
         "connectgaps": false,
         "hoverinfo": "y+name",
         "line": {
          "color": "rgb(8,255,88)",
          "width": 10
         },
         "mode": "lines",
         "name": "sailing filled proc 1 Vessel 1",
         "type": "scatter",
         "x": [
          "1970-01-01T00:00:20",
          "1970-01-01T00:00:20",
          "1970-01-01T00:00:30",
          "1970-01-01T00:00:30",
          "1970-01-01T00:00:30",
          "1970-01-01T00:01:00",
          "1970-01-01T00:01:00",
          "1970-01-01T00:01:10",
          "1970-01-01T00:01:10",
          "1970-01-01T00:01:10",
          "1970-01-01T00:01:40",
          "1970-01-01T00:01:40",
          "1970-01-01T00:01:50",
          "1970-01-01T00:01:50",
          "1970-01-01T00:01:50",
          "1970-01-01T00:02:20",
          "1970-01-01T00:02:20",
          "1970-01-01T00:02:30",
          "1970-01-01T00:02:30",
          "1970-01-01T00:02:30",
          "1970-01-01T00:03:00",
          "1970-01-01T00:03:00",
          "1970-01-01T00:03:10",
          "1970-01-01T00:03:10",
          "1970-01-01T00:03:10",
          "1970-01-01T00:03:40",
          "1970-01-01T00:03:40",
          "1970-01-01T00:03:50",
          "1970-01-01T00:03:50",
          "1970-01-01T00:03:50",
          "1970-01-01T00:04:20",
          "1970-01-01T00:04:20",
          "1970-01-01T00:04:30",
          "1970-01-01T00:04:30",
          "1970-01-01T00:04:30",
          "1970-01-01T00:05:00",
          "1970-01-01T00:05:00",
          "1970-01-01T00:05:10",
          "1970-01-01T00:05:10",
          "1970-01-01T00:05:10",
          "1970-01-01T00:05:40",
          "1970-01-01T00:05:40",
          "1970-01-01T00:05:50",
          "1970-01-01T00:05:50",
          "1970-01-01T00:05:50"
         ],
         "y": [
          "sailing filled proc 1 Vessel 1",
          "sailing filled proc 1 Vessel 1",
          "sailing filled proc 1 Vessel 1",
          "sailing filled proc 1 Vessel 1",
          null,
          "sailing filled proc 1 Vessel 1",
          "sailing filled proc 1 Vessel 1",
          "sailing filled proc 1 Vessel 1",
          "sailing filled proc 1 Vessel 1",
          null,
          "sailing filled proc 1 Vessel 1",
          "sailing filled proc 1 Vessel 1",
          "sailing filled proc 1 Vessel 1",
          "sailing filled proc 1 Vessel 1",
          null,
          "sailing filled proc 1 Vessel 1",
          "sailing filled proc 1 Vessel 1",
          "sailing filled proc 1 Vessel 1",
          "sailing filled proc 1 Vessel 1",
          null,
          "sailing filled proc 1 Vessel 1",
          "sailing filled proc 1 Vessel 1",
          "sailing filled proc 1 Vessel 1",
          "sailing filled proc 1 Vessel 1",
          null,
          "sailing filled proc 1 Vessel 1",
          "sailing filled proc 1 Vessel 1",
          "sailing filled proc 1 Vessel 1",
          "sailing filled proc 1 Vessel 1",
          null,
          "sailing filled proc 1 Vessel 1",
          "sailing filled proc 1 Vessel 1",
          "sailing filled proc 1 Vessel 1",
          "sailing filled proc 1 Vessel 1",
          null,
          "sailing filled proc 1 Vessel 1",
          "sailing filled proc 1 Vessel 1",
          "sailing filled proc 1 Vessel 1",
          "sailing filled proc 1 Vessel 1",
          null,
          "sailing filled proc 1 Vessel 1",
          "sailing filled proc 1 Vessel 1",
          "sailing filled proc 1 Vessel 1",
          "sailing filled proc 1 Vessel 1",
          null
         ]
        },
        {
         "connectgaps": false,
         "hoverinfo": "y+name",
         "line": {
          "color": "rgb(24,15,104)",
          "width": 10
         },
         "mode": "lines",
         "name": "Transfer MP proc 1 Vessel 1",
         "type": "scatter",
         "x": [
          "1970-01-01T00:00:30",
          "1970-01-01T00:00:30",
          "1970-01-01T00:00:40",
          "1970-01-01T00:00:40",
          "1970-01-01T00:00:40",
          "1970-01-01T00:01:10",
          "1970-01-01T00:01:10",
          "1970-01-01T00:01:20",
          "1970-01-01T00:01:20",
          "1970-01-01T00:01:20",
          "1970-01-01T00:01:50",
          "1970-01-01T00:01:50",
          "1970-01-01T00:02:00",
          "1970-01-01T00:02:00",
          "1970-01-01T00:02:00",
          "1970-01-01T00:02:30",
          "1970-01-01T00:02:30",
          "1970-01-01T00:02:40",
          "1970-01-01T00:02:40",
          "1970-01-01T00:02:40",
          "1970-01-01T00:03:10",
          "1970-01-01T00:03:10",
          "1970-01-01T00:03:20",
          "1970-01-01T00:03:20",
          "1970-01-01T00:03:20",
          "1970-01-01T00:03:50",
          "1970-01-01T00:03:50",
          "1970-01-01T00:04:00",
          "1970-01-01T00:04:00",
          "1970-01-01T00:04:00",
          "1970-01-01T00:04:30",
          "1970-01-01T00:04:30",
          "1970-01-01T00:04:40",
          "1970-01-01T00:04:40",
          "1970-01-01T00:04:40",
          "1970-01-01T00:05:10",
          "1970-01-01T00:05:10",
          "1970-01-01T00:05:20",
          "1970-01-01T00:05:20",
          "1970-01-01T00:05:20",
          "1970-01-01T00:05:50",
          "1970-01-01T00:05:50",
          "1970-01-01T00:06:00",
          "1970-01-01T00:06:00",
          "1970-01-01T00:06:00"
         ],
         "y": [
          "Transfer MP proc 1 Vessel 1",
          "Transfer MP proc 1 Vessel 1",
          "Transfer MP proc 1 Vessel 1",
          "Transfer MP proc 1 Vessel 1",
          null,
          "Transfer MP proc 1 Vessel 1",
          "Transfer MP proc 1 Vessel 1",
          "Transfer MP proc 1 Vessel 1",
          "Transfer MP proc 1 Vessel 1",
          null,
          "Transfer MP proc 1 Vessel 1",
          "Transfer MP proc 1 Vessel 1",
          "Transfer MP proc 1 Vessel 1",
          "Transfer MP proc 1 Vessel 1",
          null,
          "Transfer MP proc 1 Vessel 1",
          "Transfer MP proc 1 Vessel 1",
          "Transfer MP proc 1 Vessel 1",
          "Transfer MP proc 1 Vessel 1",
          null,
          "Transfer MP proc 1 Vessel 1",
          "Transfer MP proc 1 Vessel 1",
          "Transfer MP proc 1 Vessel 1",
          "Transfer MP proc 1 Vessel 1",
          null,
          "Transfer MP proc 1 Vessel 1",
          "Transfer MP proc 1 Vessel 1",
          "Transfer MP proc 1 Vessel 1",
          "Transfer MP proc 1 Vessel 1",
          null,
          "Transfer MP proc 1 Vessel 1",
          "Transfer MP proc 1 Vessel 1",
          "Transfer MP proc 1 Vessel 1",
          "Transfer MP proc 1 Vessel 1",
          null,
          "Transfer MP proc 1 Vessel 1",
          "Transfer MP proc 1 Vessel 1",
          "Transfer MP proc 1 Vessel 1",
          "Transfer MP proc 1 Vessel 1",
          null,
          "Transfer MP proc 1 Vessel 1",
          "Transfer MP proc 1 Vessel 1",
          "Transfer MP proc 1 Vessel 1",
          "Transfer MP proc 1 Vessel 1",
          null
         ]
        },
        {
         "connectgaps": false,
         "hoverinfo": "y+name",
         "line": {
          "color": "rgb(40,31,120)",
          "width": 10
         },
         "mode": "lines",
         "name": "sailing empty proc 2 Vessel 0",
         "type": "scatter",
         "x": [
          "1970-01-01T00:00:00",
          "1970-01-01T00:00:00",
          "1970-01-01T00:00:10",
          "1970-01-01T00:00:10",
          "1970-01-01T00:00:10",
          "1970-01-01T00:00:50",
          "1970-01-01T00:00:50",
          "1970-01-01T00:01:00",
          "1970-01-01T00:01:00",
          "1970-01-01T00:01:00",
          "1970-01-01T00:01:30",
          "1970-01-01T00:01:30",
          "1970-01-01T00:01:40",
          "1970-01-01T00:01:40",
          "1970-01-01T00:01:40",
          "1970-01-01T00:02:10",
          "1970-01-01T00:02:10",
          "1970-01-01T00:02:20",
          "1970-01-01T00:02:20",
          "1970-01-01T00:02:20",
          "1970-01-01T00:02:50",
          "1970-01-01T00:02:50",
          "1970-01-01T00:03:00",
          "1970-01-01T00:03:00",
          "1970-01-01T00:03:00",
          "1970-01-01T00:03:30",
          "1970-01-01T00:03:30",
          "1970-01-01T00:03:40",
          "1970-01-01T00:03:40",
          "1970-01-01T00:03:40",
          "1970-01-01T00:04:10",
          "1970-01-01T00:04:10",
          "1970-01-01T00:04:20",
          "1970-01-01T00:04:20",
          "1970-01-01T00:04:20",
          "1970-01-01T00:04:50",
          "1970-01-01T00:04:50",
          "1970-01-01T00:05:00",
          "1970-01-01T00:05:00",
          "1970-01-01T00:05:00",
          "1970-01-01T00:05:30",
          "1970-01-01T00:05:30",
          "1970-01-01T00:05:40",
          "1970-01-01T00:05:40",
          "1970-01-01T00:05:40"
         ],
         "y": [
          "sailing empty proc 2 Vessel 0",
          "sailing empty proc 2 Vessel 0",
          "sailing empty proc 2 Vessel 0",
          "sailing empty proc 2 Vessel 0",
          null,
          "sailing empty proc 2 Vessel 0",
          "sailing empty proc 2 Vessel 0",
          "sailing empty proc 2 Vessel 0",
          "sailing empty proc 2 Vessel 0",
          null,
          "sailing empty proc 2 Vessel 0",
          "sailing empty proc 2 Vessel 0",
          "sailing empty proc 2 Vessel 0",
          "sailing empty proc 2 Vessel 0",
          null,
          "sailing empty proc 2 Vessel 0",
          "sailing empty proc 2 Vessel 0",
          "sailing empty proc 2 Vessel 0",
          "sailing empty proc 2 Vessel 0",
          null,
          "sailing empty proc 2 Vessel 0",
          "sailing empty proc 2 Vessel 0",
          "sailing empty proc 2 Vessel 0",
          "sailing empty proc 2 Vessel 0",
          null,
          "sailing empty proc 2 Vessel 0",
          "sailing empty proc 2 Vessel 0",
          "sailing empty proc 2 Vessel 0",
          "sailing empty proc 2 Vessel 0",
          null,
          "sailing empty proc 2 Vessel 0",
          "sailing empty proc 2 Vessel 0",
          "sailing empty proc 2 Vessel 0",
          "sailing empty proc 2 Vessel 0",
          null,
          "sailing empty proc 2 Vessel 0",
          "sailing empty proc 2 Vessel 0",
          "sailing empty proc 2 Vessel 0",
          "sailing empty proc 2 Vessel 0",
          null,
          "sailing empty proc 2 Vessel 0",
          "sailing empty proc 2 Vessel 0",
          "sailing empty proc 2 Vessel 0",
          "sailing empty proc 2 Vessel 0",
          null
         ]
        },
        {
         "connectgaps": false,
         "hoverinfo": "y+name",
         "line": {
          "color": "rgb(56,47,136)",
          "width": 10
         },
         "mode": "lines",
         "name": "Load MP proc 2 Vessel 0",
         "type": "scatter",
         "x": [
          "1970-01-01T00:00:20",
          "1970-01-01T00:00:20",
          "1970-01-01T00:00:30",
          "1970-01-01T00:00:30",
          "1970-01-01T00:00:30",
          "1970-01-01T00:01:00",
          "1970-01-01T00:01:00",
          "1970-01-01T00:01:10",
          "1970-01-01T00:01:10",
          "1970-01-01T00:01:10",
          "1970-01-01T00:01:40",
          "1970-01-01T00:01:40",
          "1970-01-01T00:01:50",
          "1970-01-01T00:01:50",
          "1970-01-01T00:01:50",
          "1970-01-01T00:02:20",
          "1970-01-01T00:02:20",
          "1970-01-01T00:02:30",
          "1970-01-01T00:02:30",
          "1970-01-01T00:02:30",
          "1970-01-01T00:03:00",
          "1970-01-01T00:03:00",
          "1970-01-01T00:03:10",
          "1970-01-01T00:03:10",
          "1970-01-01T00:03:10",
          "1970-01-01T00:03:40",
          "1970-01-01T00:03:40",
          "1970-01-01T00:03:50",
          "1970-01-01T00:03:50",
          "1970-01-01T00:03:50",
          "1970-01-01T00:04:20",
          "1970-01-01T00:04:20",
          "1970-01-01T00:04:30",
          "1970-01-01T00:04:30",
          "1970-01-01T00:04:30",
          "1970-01-01T00:05:00",
          "1970-01-01T00:05:00",
          "1970-01-01T00:05:10",
          "1970-01-01T00:05:10",
          "1970-01-01T00:05:10",
          "1970-01-01T00:05:40",
          "1970-01-01T00:05:40",
          "1970-01-01T00:05:50",
          "1970-01-01T00:05:50",
          "1970-01-01T00:05:50"
         ],
         "y": [
          "Load MP proc 2 Vessel 0",
          "Load MP proc 2 Vessel 0",
          "Load MP proc 2 Vessel 0",
          "Load MP proc 2 Vessel 0",
          null,
          "Load MP proc 2 Vessel 0",
          "Load MP proc 2 Vessel 0",
          "Load MP proc 2 Vessel 0",
          "Load MP proc 2 Vessel 0",
          null,
          "Load MP proc 2 Vessel 0",
          "Load MP proc 2 Vessel 0",
          "Load MP proc 2 Vessel 0",
          "Load MP proc 2 Vessel 0",
          null,
          "Load MP proc 2 Vessel 0",
          "Load MP proc 2 Vessel 0",
          "Load MP proc 2 Vessel 0",
          "Load MP proc 2 Vessel 0",
          null,
          "Load MP proc 2 Vessel 0",
          "Load MP proc 2 Vessel 0",
          "Load MP proc 2 Vessel 0",
          "Load MP proc 2 Vessel 0",
          null,
          "Load MP proc 2 Vessel 0",
          "Load MP proc 2 Vessel 0",
          "Load MP proc 2 Vessel 0",
          "Load MP proc 2 Vessel 0",
          null,
          "Load MP proc 2 Vessel 0",
          "Load MP proc 2 Vessel 0",
          "Load MP proc 2 Vessel 0",
          "Load MP proc 2 Vessel 0",
          null,
          "Load MP proc 2 Vessel 0",
          "Load MP proc 2 Vessel 0",
          "Load MP proc 2 Vessel 0",
          "Load MP proc 2 Vessel 0",
          null,
          "Load MP proc 2 Vessel 0",
          "Load MP proc 2 Vessel 0",
          "Load MP proc 2 Vessel 0",
          "Load MP proc 2 Vessel 0",
          null
         ]
        },
        {
         "connectgaps": false,
         "hoverinfo": "y+name",
         "line": {
          "color": "rgb(72,63,152)",
          "width": 10
         },
         "mode": "lines",
         "name": "sailing filled proc 2 Vessel 0",
         "type": "scatter",
         "x": [
          "1970-01-01T00:00:30",
          "1970-01-01T00:00:30",
          "1970-01-01T00:00:40",
          "1970-01-01T00:00:40",
          "1970-01-01T00:00:40",
          "1970-01-01T00:01:10",
          "1970-01-01T00:01:10",
          "1970-01-01T00:01:20",
          "1970-01-01T00:01:20",
          "1970-01-01T00:01:20",
          "1970-01-01T00:01:50",
          "1970-01-01T00:01:50",
          "1970-01-01T00:02:00",
          "1970-01-01T00:02:00",
          "1970-01-01T00:02:00",
          "1970-01-01T00:02:30",
          "1970-01-01T00:02:30",
          "1970-01-01T00:02:40",
          "1970-01-01T00:02:40",
          "1970-01-01T00:02:40",
          "1970-01-01T00:03:10",
          "1970-01-01T00:03:10",
          "1970-01-01T00:03:20",
          "1970-01-01T00:03:20",
          "1970-01-01T00:03:20",
          "1970-01-01T00:03:50",
          "1970-01-01T00:03:50",
          "1970-01-01T00:04:00",
          "1970-01-01T00:04:00",
          "1970-01-01T00:04:00",
          "1970-01-01T00:04:30",
          "1970-01-01T00:04:30",
          "1970-01-01T00:04:40",
          "1970-01-01T00:04:40",
          "1970-01-01T00:04:40",
          "1970-01-01T00:05:10",
          "1970-01-01T00:05:10",
          "1970-01-01T00:05:20",
          "1970-01-01T00:05:20",
          "1970-01-01T00:05:20",
          "1970-01-01T00:05:50",
          "1970-01-01T00:05:50",
          "1970-01-01T00:06:00",
          "1970-01-01T00:06:00",
          "1970-01-01T00:06:00"
         ],
         "y": [
          "sailing filled proc 2 Vessel 0",
          "sailing filled proc 2 Vessel 0",
          "sailing filled proc 2 Vessel 0",
          "sailing filled proc 2 Vessel 0",
          null,
          "sailing filled proc 2 Vessel 0",
          "sailing filled proc 2 Vessel 0",
          "sailing filled proc 2 Vessel 0",
          "sailing filled proc 2 Vessel 0",
          null,
          "sailing filled proc 2 Vessel 0",
          "sailing filled proc 2 Vessel 0",
          "sailing filled proc 2 Vessel 0",
          "sailing filled proc 2 Vessel 0",
          null,
          "sailing filled proc 2 Vessel 0",
          "sailing filled proc 2 Vessel 0",
          "sailing filled proc 2 Vessel 0",
          "sailing filled proc 2 Vessel 0",
          null,
          "sailing filled proc 2 Vessel 0",
          "sailing filled proc 2 Vessel 0",
          "sailing filled proc 2 Vessel 0",
          "sailing filled proc 2 Vessel 0",
          null,
          "sailing filled proc 2 Vessel 0",
          "sailing filled proc 2 Vessel 0",
          "sailing filled proc 2 Vessel 0",
          "sailing filled proc 2 Vessel 0",
          null,
          "sailing filled proc 2 Vessel 0",
          "sailing filled proc 2 Vessel 0",
          "sailing filled proc 2 Vessel 0",
          "sailing filled proc 2 Vessel 0",
          null,
          "sailing filled proc 2 Vessel 0",
          "sailing filled proc 2 Vessel 0",
          "sailing filled proc 2 Vessel 0",
          "sailing filled proc 2 Vessel 0",
          null,
          "sailing filled proc 2 Vessel 0",
          "sailing filled proc 2 Vessel 0",
          "sailing filled proc 2 Vessel 0",
          "sailing filled proc 2 Vessel 0",
          null
         ]
        },
        {
         "connectgaps": false,
         "hoverinfo": "y+name",
         "line": {
          "color": "rgb(88,79,168)",
          "width": 10
         },
         "mode": "lines",
         "name": "Transfer MP proc 2 Vessel 0",
         "type": "scatter",
         "x": [
          "1970-01-01T00:00:40",
          "1970-01-01T00:00:40",
          "1970-01-01T00:00:50",
          "1970-01-01T00:00:50",
          "1970-01-01T00:00:50",
          "1970-01-01T00:01:20",
          "1970-01-01T00:01:20",
          "1970-01-01T00:01:30",
          "1970-01-01T00:01:30",
          "1970-01-01T00:01:30",
          "1970-01-01T00:02:00",
          "1970-01-01T00:02:00",
          "1970-01-01T00:02:10",
          "1970-01-01T00:02:10",
          "1970-01-01T00:02:10",
          "1970-01-01T00:02:40",
          "1970-01-01T00:02:40",
          "1970-01-01T00:02:50",
          "1970-01-01T00:02:50",
          "1970-01-01T00:02:50",
          "1970-01-01T00:03:20",
          "1970-01-01T00:03:20",
          "1970-01-01T00:03:30",
          "1970-01-01T00:03:30",
          "1970-01-01T00:03:30",
          "1970-01-01T00:04:00",
          "1970-01-01T00:04:00",
          "1970-01-01T00:04:10",
          "1970-01-01T00:04:10",
          "1970-01-01T00:04:10",
          "1970-01-01T00:04:40",
          "1970-01-01T00:04:40",
          "1970-01-01T00:04:50",
          "1970-01-01T00:04:50",
          "1970-01-01T00:04:50",
          "1970-01-01T00:05:20",
          "1970-01-01T00:05:20",
          "1970-01-01T00:05:30",
          "1970-01-01T00:05:30",
          "1970-01-01T00:05:30",
          "1970-01-01T00:06:00",
          "1970-01-01T00:06:00",
          "1970-01-01T00:06:10",
          "1970-01-01T00:06:10",
          "1970-01-01T00:06:10"
         ],
         "y": [
          "Transfer MP proc 2 Vessel 0",
          "Transfer MP proc 2 Vessel 0",
          "Transfer MP proc 2 Vessel 0",
          "Transfer MP proc 2 Vessel 0",
          null,
          "Transfer MP proc 2 Vessel 0",
          "Transfer MP proc 2 Vessel 0",
          "Transfer MP proc 2 Vessel 0",
          "Transfer MP proc 2 Vessel 0",
          null,
          "Transfer MP proc 2 Vessel 0",
          "Transfer MP proc 2 Vessel 0",
          "Transfer MP proc 2 Vessel 0",
          "Transfer MP proc 2 Vessel 0",
          null,
          "Transfer MP proc 2 Vessel 0",
          "Transfer MP proc 2 Vessel 0",
          "Transfer MP proc 2 Vessel 0",
          "Transfer MP proc 2 Vessel 0",
          null,
          "Transfer MP proc 2 Vessel 0",
          "Transfer MP proc 2 Vessel 0",
          "Transfer MP proc 2 Vessel 0",
          "Transfer MP proc 2 Vessel 0",
          null,
          "Transfer MP proc 2 Vessel 0",
          "Transfer MP proc 2 Vessel 0",
          "Transfer MP proc 2 Vessel 0",
          "Transfer MP proc 2 Vessel 0",
          null,
          "Transfer MP proc 2 Vessel 0",
          "Transfer MP proc 2 Vessel 0",
          "Transfer MP proc 2 Vessel 0",
          "Transfer MP proc 2 Vessel 0",
          null,
          "Transfer MP proc 2 Vessel 0",
          "Transfer MP proc 2 Vessel 0",
          "Transfer MP proc 2 Vessel 0",
          "Transfer MP proc 2 Vessel 0",
          null,
          "Transfer MP proc 2 Vessel 0",
          "Transfer MP proc 2 Vessel 0",
          "Transfer MP proc 2 Vessel 0",
          "Transfer MP proc 2 Vessel 0",
          null
         ]
        },
        {
         "connectgaps": false,
         "hoverinfo": "y+name",
         "line": {
          "color": "rgb(104,95,184)",
          "width": 10
         },
         "mode": "lines",
         "name": "sailing empty proc 2 Vessel 1",
         "type": "scatter",
         "x": [
          "1970-01-01T00:00:00",
          "1970-01-01T00:00:00",
          "1970-01-01T00:00:10",
          "1970-01-01T00:00:10",
          "1970-01-01T00:00:10",
          "1970-01-01T00:00:40",
          "1970-01-01T00:00:40",
          "1970-01-01T00:00:50",
          "1970-01-01T00:00:50",
          "1970-01-01T00:00:50",
          "1970-01-01T00:01:20",
          "1970-01-01T00:01:20",
          "1970-01-01T00:01:30",
          "1970-01-01T00:01:30",
          "1970-01-01T00:01:30",
          "1970-01-01T00:02:00",
          "1970-01-01T00:02:00",
          "1970-01-01T00:02:10",
          "1970-01-01T00:02:10",
          "1970-01-01T00:02:10",
          "1970-01-01T00:02:40",
          "1970-01-01T00:02:40",
          "1970-01-01T00:02:50",
          "1970-01-01T00:02:50",
          "1970-01-01T00:02:50",
          "1970-01-01T00:03:20",
          "1970-01-01T00:03:20",
          "1970-01-01T00:03:30",
          "1970-01-01T00:03:30",
          "1970-01-01T00:03:30",
          "1970-01-01T00:04:00",
          "1970-01-01T00:04:00",
          "1970-01-01T00:04:10",
          "1970-01-01T00:04:10",
          "1970-01-01T00:04:10",
          "1970-01-01T00:04:40",
          "1970-01-01T00:04:40",
          "1970-01-01T00:04:50",
          "1970-01-01T00:04:50",
          "1970-01-01T00:04:50",
          "1970-01-01T00:05:20",
          "1970-01-01T00:05:20",
          "1970-01-01T00:05:30",
          "1970-01-01T00:05:30",
          "1970-01-01T00:05:30",
          "1970-01-01T00:06:00",
          "1970-01-01T00:06:00",
          "1970-01-01T00:06:10",
          "1970-01-01T00:06:10",
          "1970-01-01T00:06:10"
         ],
         "y": [
          "sailing empty proc 2 Vessel 1",
          "sailing empty proc 2 Vessel 1",
          "sailing empty proc 2 Vessel 1",
          "sailing empty proc 2 Vessel 1",
          null,
          "sailing empty proc 2 Vessel 1",
          "sailing empty proc 2 Vessel 1",
          "sailing empty proc 2 Vessel 1",
          "sailing empty proc 2 Vessel 1",
          null,
          "sailing empty proc 2 Vessel 1",
          "sailing empty proc 2 Vessel 1",
          "sailing empty proc 2 Vessel 1",
          "sailing empty proc 2 Vessel 1",
          null,
          "sailing empty proc 2 Vessel 1",
          "sailing empty proc 2 Vessel 1",
          "sailing empty proc 2 Vessel 1",
          "sailing empty proc 2 Vessel 1",
          null,
          "sailing empty proc 2 Vessel 1",
          "sailing empty proc 2 Vessel 1",
          "sailing empty proc 2 Vessel 1",
          "sailing empty proc 2 Vessel 1",
          null,
          "sailing empty proc 2 Vessel 1",
          "sailing empty proc 2 Vessel 1",
          "sailing empty proc 2 Vessel 1",
          "sailing empty proc 2 Vessel 1",
          null,
          "sailing empty proc 2 Vessel 1",
          "sailing empty proc 2 Vessel 1",
          "sailing empty proc 2 Vessel 1",
          "sailing empty proc 2 Vessel 1",
          null,
          "sailing empty proc 2 Vessel 1",
          "sailing empty proc 2 Vessel 1",
          "sailing empty proc 2 Vessel 1",
          "sailing empty proc 2 Vessel 1",
          null,
          "sailing empty proc 2 Vessel 1",
          "sailing empty proc 2 Vessel 1",
          "sailing empty proc 2 Vessel 1",
          "sailing empty proc 2 Vessel 1",
          null,
          "sailing empty proc 2 Vessel 1",
          "sailing empty proc 2 Vessel 1",
          "sailing empty proc 2 Vessel 1",
          "sailing empty proc 2 Vessel 1",
          null
         ]
        },
        {
         "connectgaps": false,
         "hoverinfo": "y+name",
         "line": {
          "color": "rgb(120,111,200)",
          "width": 10
         },
         "mode": "lines",
         "name": "Load MP proc 2 Vessel 1",
         "type": "scatter",
         "x": [
          "1970-01-01T00:00:10",
          "1970-01-01T00:00:10",
          "1970-01-01T00:00:20",
          "1970-01-01T00:00:20",
          "1970-01-01T00:00:20",
          "1970-01-01T00:00:50",
          "1970-01-01T00:00:50",
          "1970-01-01T00:01:00",
          "1970-01-01T00:01:00",
          "1970-01-01T00:01:00",
          "1970-01-01T00:01:30",
          "1970-01-01T00:01:30",
          "1970-01-01T00:01:40",
          "1970-01-01T00:01:40",
          "1970-01-01T00:01:40",
          "1970-01-01T00:02:10",
          "1970-01-01T00:02:10",
          "1970-01-01T00:02:20",
          "1970-01-01T00:02:20",
          "1970-01-01T00:02:20",
          "1970-01-01T00:02:50",
          "1970-01-01T00:02:50",
          "1970-01-01T00:03:00",
          "1970-01-01T00:03:00",
          "1970-01-01T00:03:00",
          "1970-01-01T00:03:30",
          "1970-01-01T00:03:30",
          "1970-01-01T00:03:40",
          "1970-01-01T00:03:40",
          "1970-01-01T00:03:40",
          "1970-01-01T00:04:10",
          "1970-01-01T00:04:10",
          "1970-01-01T00:04:20",
          "1970-01-01T00:04:20",
          "1970-01-01T00:04:20",
          "1970-01-01T00:04:50",
          "1970-01-01T00:04:50",
          "1970-01-01T00:05:00",
          "1970-01-01T00:05:00",
          "1970-01-01T00:05:00",
          "1970-01-01T00:05:30",
          "1970-01-01T00:05:30",
          "1970-01-01T00:05:40",
          "1970-01-01T00:05:40",
          "1970-01-01T00:05:40"
         ],
         "y": [
          "Load MP proc 2 Vessel 1",
          "Load MP proc 2 Vessel 1",
          "Load MP proc 2 Vessel 1",
          "Load MP proc 2 Vessel 1",
          null,
          "Load MP proc 2 Vessel 1",
          "Load MP proc 2 Vessel 1",
          "Load MP proc 2 Vessel 1",
          "Load MP proc 2 Vessel 1",
          null,
          "Load MP proc 2 Vessel 1",
          "Load MP proc 2 Vessel 1",
          "Load MP proc 2 Vessel 1",
          "Load MP proc 2 Vessel 1",
          null,
          "Load MP proc 2 Vessel 1",
          "Load MP proc 2 Vessel 1",
          "Load MP proc 2 Vessel 1",
          "Load MP proc 2 Vessel 1",
          null,
          "Load MP proc 2 Vessel 1",
          "Load MP proc 2 Vessel 1",
          "Load MP proc 2 Vessel 1",
          "Load MP proc 2 Vessel 1",
          null,
          "Load MP proc 2 Vessel 1",
          "Load MP proc 2 Vessel 1",
          "Load MP proc 2 Vessel 1",
          "Load MP proc 2 Vessel 1",
          null,
          "Load MP proc 2 Vessel 1",
          "Load MP proc 2 Vessel 1",
          "Load MP proc 2 Vessel 1",
          "Load MP proc 2 Vessel 1",
          null,
          "Load MP proc 2 Vessel 1",
          "Load MP proc 2 Vessel 1",
          "Load MP proc 2 Vessel 1",
          "Load MP proc 2 Vessel 1",
          null,
          "Load MP proc 2 Vessel 1",
          "Load MP proc 2 Vessel 1",
          "Load MP proc 2 Vessel 1",
          "Load MP proc 2 Vessel 1",
          null
         ]
        },
        {
         "connectgaps": false,
         "hoverinfo": "y+name",
         "line": {
          "color": "rgb(136,127,216)",
          "width": 10
         },
         "mode": "lines",
         "name": "sailing filled proc 2 Vessel 1",
         "type": "scatter",
         "x": [
          "1970-01-01T00:00:20",
          "1970-01-01T00:00:20",
          "1970-01-01T00:00:30",
          "1970-01-01T00:00:30",
          "1970-01-01T00:00:30",
          "1970-01-01T00:01:00",
          "1970-01-01T00:01:00",
          "1970-01-01T00:01:10",
          "1970-01-01T00:01:10",
          "1970-01-01T00:01:10",
          "1970-01-01T00:01:40",
          "1970-01-01T00:01:40",
          "1970-01-01T00:01:50",
          "1970-01-01T00:01:50",
          "1970-01-01T00:01:50",
          "1970-01-01T00:02:20",
          "1970-01-01T00:02:20",
          "1970-01-01T00:02:30",
          "1970-01-01T00:02:30",
          "1970-01-01T00:02:30",
          "1970-01-01T00:03:00",
          "1970-01-01T00:03:00",
          "1970-01-01T00:03:10",
          "1970-01-01T00:03:10",
          "1970-01-01T00:03:10",
          "1970-01-01T00:03:40",
          "1970-01-01T00:03:40",
          "1970-01-01T00:03:50",
          "1970-01-01T00:03:50",
          "1970-01-01T00:03:50",
          "1970-01-01T00:04:20",
          "1970-01-01T00:04:20",
          "1970-01-01T00:04:30",
          "1970-01-01T00:04:30",
          "1970-01-01T00:04:30",
          "1970-01-01T00:05:00",
          "1970-01-01T00:05:00",
          "1970-01-01T00:05:10",
          "1970-01-01T00:05:10",
          "1970-01-01T00:05:10",
          "1970-01-01T00:05:40",
          "1970-01-01T00:05:40",
          "1970-01-01T00:05:50",
          "1970-01-01T00:05:50",
          "1970-01-01T00:05:50"
         ],
         "y": [
          "sailing filled proc 2 Vessel 1",
          "sailing filled proc 2 Vessel 1",
          "sailing filled proc 2 Vessel 1",
          "sailing filled proc 2 Vessel 1",
          null,
          "sailing filled proc 2 Vessel 1",
          "sailing filled proc 2 Vessel 1",
          "sailing filled proc 2 Vessel 1",
          "sailing filled proc 2 Vessel 1",
          null,
          "sailing filled proc 2 Vessel 1",
          "sailing filled proc 2 Vessel 1",
          "sailing filled proc 2 Vessel 1",
          "sailing filled proc 2 Vessel 1",
          null,
          "sailing filled proc 2 Vessel 1",
          "sailing filled proc 2 Vessel 1",
          "sailing filled proc 2 Vessel 1",
          "sailing filled proc 2 Vessel 1",
          null,
          "sailing filled proc 2 Vessel 1",
          "sailing filled proc 2 Vessel 1",
          "sailing filled proc 2 Vessel 1",
          "sailing filled proc 2 Vessel 1",
          null,
          "sailing filled proc 2 Vessel 1",
          "sailing filled proc 2 Vessel 1",
          "sailing filled proc 2 Vessel 1",
          "sailing filled proc 2 Vessel 1",
          null,
          "sailing filled proc 2 Vessel 1",
          "sailing filled proc 2 Vessel 1",
          "sailing filled proc 2 Vessel 1",
          "sailing filled proc 2 Vessel 1",
          null,
          "sailing filled proc 2 Vessel 1",
          "sailing filled proc 2 Vessel 1",
          "sailing filled proc 2 Vessel 1",
          "sailing filled proc 2 Vessel 1",
          null,
          "sailing filled proc 2 Vessel 1",
          "sailing filled proc 2 Vessel 1",
          "sailing filled proc 2 Vessel 1",
          "sailing filled proc 2 Vessel 1",
          null
         ]
        },
        {
         "connectgaps": false,
         "hoverinfo": "y+name",
         "line": {
          "color": "rgb(152,143,232)",
          "width": 10
         },
         "mode": "lines",
         "name": "Transfer MP proc 2 Vessel 1",
         "type": "scatter",
         "x": [
          "1970-01-01T00:00:30",
          "1970-01-01T00:00:30",
          "1970-01-01T00:00:40",
          "1970-01-01T00:00:40",
          "1970-01-01T00:00:40",
          "1970-01-01T00:01:10",
          "1970-01-01T00:01:10",
          "1970-01-01T00:01:20",
          "1970-01-01T00:01:20",
          "1970-01-01T00:01:20",
          "1970-01-01T00:01:50",
          "1970-01-01T00:01:50",
          "1970-01-01T00:02:00",
          "1970-01-01T00:02:00",
          "1970-01-01T00:02:00",
          "1970-01-01T00:02:30",
          "1970-01-01T00:02:30",
          "1970-01-01T00:02:40",
          "1970-01-01T00:02:40",
          "1970-01-01T00:02:40",
          "1970-01-01T00:03:10",
          "1970-01-01T00:03:10",
          "1970-01-01T00:03:20",
          "1970-01-01T00:03:20",
          "1970-01-01T00:03:20",
          "1970-01-01T00:03:50",
          "1970-01-01T00:03:50",
          "1970-01-01T00:04:00",
          "1970-01-01T00:04:00",
          "1970-01-01T00:04:00",
          "1970-01-01T00:04:30",
          "1970-01-01T00:04:30",
          "1970-01-01T00:04:40",
          "1970-01-01T00:04:40",
          "1970-01-01T00:04:40",
          "1970-01-01T00:05:10",
          "1970-01-01T00:05:10",
          "1970-01-01T00:05:20",
          "1970-01-01T00:05:20",
          "1970-01-01T00:05:20",
          "1970-01-01T00:05:50",
          "1970-01-01T00:05:50",
          "1970-01-01T00:06:00",
          "1970-01-01T00:06:00",
          "1970-01-01T00:06:00"
         ],
         "y": [
          "Transfer MP proc 2 Vessel 1",
          "Transfer MP proc 2 Vessel 1",
          "Transfer MP proc 2 Vessel 1",
          "Transfer MP proc 2 Vessel 1",
          null,
          "Transfer MP proc 2 Vessel 1",
          "Transfer MP proc 2 Vessel 1",
          "Transfer MP proc 2 Vessel 1",
          "Transfer MP proc 2 Vessel 1",
          null,
          "Transfer MP proc 2 Vessel 1",
          "Transfer MP proc 2 Vessel 1",
          "Transfer MP proc 2 Vessel 1",
          "Transfer MP proc 2 Vessel 1",
          null,
          "Transfer MP proc 2 Vessel 1",
          "Transfer MP proc 2 Vessel 1",
          "Transfer MP proc 2 Vessel 1",
          "Transfer MP proc 2 Vessel 1",
          null,
          "Transfer MP proc 2 Vessel 1",
          "Transfer MP proc 2 Vessel 1",
          "Transfer MP proc 2 Vessel 1",
          "Transfer MP proc 2 Vessel 1",
          null,
          "Transfer MP proc 2 Vessel 1",
          "Transfer MP proc 2 Vessel 1",
          "Transfer MP proc 2 Vessel 1",
          "Transfer MP proc 2 Vessel 1",
          null,
          "Transfer MP proc 2 Vessel 1",
          "Transfer MP proc 2 Vessel 1",
          "Transfer MP proc 2 Vessel 1",
          "Transfer MP proc 2 Vessel 1",
          null,
          "Transfer MP proc 2 Vessel 1",
          "Transfer MP proc 2 Vessel 1",
          "Transfer MP proc 2 Vessel 1",
          "Transfer MP proc 2 Vessel 1",
          null,
          "Transfer MP proc 2 Vessel 1",
          "Transfer MP proc 2 Vessel 1",
          "Transfer MP proc 2 Vessel 1",
          "Transfer MP proc 2 Vessel 1",
          null
         ]
        }
       ],
       "layout": {
        "hovermode": "closest",
        "legend": {
         "orientation": "h",
         "x": 0,
         "y": -0.2
        },
        "template": {
         "data": {
          "bar": [
           {
            "error_x": {
             "color": "#2a3f5f"
            },
            "error_y": {
             "color": "#2a3f5f"
            },
            "marker": {
             "line": {
              "color": "#E5ECF6",
              "width": 0.5
             }
            },
            "type": "bar"
           }
          ],
          "barpolar": [
           {
            "marker": {
             "line": {
              "color": "#E5ECF6",
              "width": 0.5
             }
            },
            "type": "barpolar"
           }
          ],
          "carpet": [
           {
            "aaxis": {
             "endlinecolor": "#2a3f5f",
             "gridcolor": "white",
             "linecolor": "white",
             "minorgridcolor": "white",
             "startlinecolor": "#2a3f5f"
            },
            "baxis": {
             "endlinecolor": "#2a3f5f",
             "gridcolor": "white",
             "linecolor": "white",
             "minorgridcolor": "white",
             "startlinecolor": "#2a3f5f"
            },
            "type": "carpet"
           }
          ],
          "choropleth": [
           {
            "colorbar": {
             "outlinewidth": 0,
             "ticks": ""
            },
            "type": "choropleth"
           }
          ],
          "contour": [
           {
            "colorbar": {
             "outlinewidth": 0,
             "ticks": ""
            },
            "colorscale": [
             [
              0,
              "#0d0887"
             ],
             [
              0.1111111111111111,
              "#46039f"
             ],
             [
              0.2222222222222222,
              "#7201a8"
             ],
             [
              0.3333333333333333,
              "#9c179e"
             ],
             [
              0.4444444444444444,
              "#bd3786"
             ],
             [
              0.5555555555555556,
              "#d8576b"
             ],
             [
              0.6666666666666666,
              "#ed7953"
             ],
             [
              0.7777777777777778,
              "#fb9f3a"
             ],
             [
              0.8888888888888888,
              "#fdca26"
             ],
             [
              1,
              "#f0f921"
             ]
            ],
            "type": "contour"
           }
          ],
          "contourcarpet": [
           {
            "colorbar": {
             "outlinewidth": 0,
             "ticks": ""
            },
            "type": "contourcarpet"
           }
          ],
          "heatmap": [
           {
            "colorbar": {
             "outlinewidth": 0,
             "ticks": ""
            },
            "colorscale": [
             [
              0,
              "#0d0887"
             ],
             [
              0.1111111111111111,
              "#46039f"
             ],
             [
              0.2222222222222222,
              "#7201a8"
             ],
             [
              0.3333333333333333,
              "#9c179e"
             ],
             [
              0.4444444444444444,
              "#bd3786"
             ],
             [
              0.5555555555555556,
              "#d8576b"
             ],
             [
              0.6666666666666666,
              "#ed7953"
             ],
             [
              0.7777777777777778,
              "#fb9f3a"
             ],
             [
              0.8888888888888888,
              "#fdca26"
             ],
             [
              1,
              "#f0f921"
             ]
            ],
            "type": "heatmap"
           }
          ],
          "heatmapgl": [
           {
            "colorbar": {
             "outlinewidth": 0,
             "ticks": ""
            },
            "colorscale": [
             [
              0,
              "#0d0887"
             ],
             [
              0.1111111111111111,
              "#46039f"
             ],
             [
              0.2222222222222222,
              "#7201a8"
             ],
             [
              0.3333333333333333,
              "#9c179e"
             ],
             [
              0.4444444444444444,
              "#bd3786"
             ],
             [
              0.5555555555555556,
              "#d8576b"
             ],
             [
              0.6666666666666666,
              "#ed7953"
             ],
             [
              0.7777777777777778,
              "#fb9f3a"
             ],
             [
              0.8888888888888888,
              "#fdca26"
             ],
             [
              1,
              "#f0f921"
             ]
            ],
            "type": "heatmapgl"
           }
          ],
          "histogram": [
           {
            "marker": {
             "colorbar": {
              "outlinewidth": 0,
              "ticks": ""
             }
            },
            "type": "histogram"
           }
          ],
          "histogram2d": [
           {
            "colorbar": {
             "outlinewidth": 0,
             "ticks": ""
            },
            "colorscale": [
             [
              0,
              "#0d0887"
             ],
             [
              0.1111111111111111,
              "#46039f"
             ],
             [
              0.2222222222222222,
              "#7201a8"
             ],
             [
              0.3333333333333333,
              "#9c179e"
             ],
             [
              0.4444444444444444,
              "#bd3786"
             ],
             [
              0.5555555555555556,
              "#d8576b"
             ],
             [
              0.6666666666666666,
              "#ed7953"
             ],
             [
              0.7777777777777778,
              "#fb9f3a"
             ],
             [
              0.8888888888888888,
              "#fdca26"
             ],
             [
              1,
              "#f0f921"
             ]
            ],
            "type": "histogram2d"
           }
          ],
          "histogram2dcontour": [
           {
            "colorbar": {
             "outlinewidth": 0,
             "ticks": ""
            },
            "colorscale": [
             [
              0,
              "#0d0887"
             ],
             [
              0.1111111111111111,
              "#46039f"
             ],
             [
              0.2222222222222222,
              "#7201a8"
             ],
             [
              0.3333333333333333,
              "#9c179e"
             ],
             [
              0.4444444444444444,
              "#bd3786"
             ],
             [
              0.5555555555555556,
              "#d8576b"
             ],
             [
              0.6666666666666666,
              "#ed7953"
             ],
             [
              0.7777777777777778,
              "#fb9f3a"
             ],
             [
              0.8888888888888888,
              "#fdca26"
             ],
             [
              1,
              "#f0f921"
             ]
            ],
            "type": "histogram2dcontour"
           }
          ],
          "mesh3d": [
           {
            "colorbar": {
             "outlinewidth": 0,
             "ticks": ""
            },
            "type": "mesh3d"
           }
          ],
          "parcoords": [
           {
            "line": {
             "colorbar": {
              "outlinewidth": 0,
              "ticks": ""
             }
            },
            "type": "parcoords"
           }
          ],
          "pie": [
           {
            "automargin": true,
            "type": "pie"
           }
          ],
          "scatter": [
           {
            "marker": {
             "colorbar": {
              "outlinewidth": 0,
              "ticks": ""
             }
            },
            "type": "scatter"
           }
          ],
          "scatter3d": [
           {
            "line": {
             "colorbar": {
              "outlinewidth": 0,
              "ticks": ""
             }
            },
            "marker": {
             "colorbar": {
              "outlinewidth": 0,
              "ticks": ""
             }
            },
            "type": "scatter3d"
           }
          ],
          "scattercarpet": [
           {
            "marker": {
             "colorbar": {
              "outlinewidth": 0,
              "ticks": ""
             }
            },
            "type": "scattercarpet"
           }
          ],
          "scattergeo": [
           {
            "marker": {
             "colorbar": {
              "outlinewidth": 0,
              "ticks": ""
             }
            },
            "type": "scattergeo"
           }
          ],
          "scattergl": [
           {
            "marker": {
             "colorbar": {
              "outlinewidth": 0,
              "ticks": ""
             }
            },
            "type": "scattergl"
           }
          ],
          "scattermapbox": [
           {
            "marker": {
             "colorbar": {
              "outlinewidth": 0,
              "ticks": ""
             }
            },
            "type": "scattermapbox"
           }
          ],
          "scatterpolar": [
           {
            "marker": {
             "colorbar": {
              "outlinewidth": 0,
              "ticks": ""
             }
            },
            "type": "scatterpolar"
           }
          ],
          "scatterpolargl": [
           {
            "marker": {
             "colorbar": {
              "outlinewidth": 0,
              "ticks": ""
             }
            },
            "type": "scatterpolargl"
           }
          ],
          "scatterternary": [
           {
            "marker": {
             "colorbar": {
              "outlinewidth": 0,
              "ticks": ""
             }
            },
            "type": "scatterternary"
           }
          ],
          "surface": [
           {
            "colorbar": {
             "outlinewidth": 0,
             "ticks": ""
            },
            "colorscale": [
             [
              0,
              "#0d0887"
             ],
             [
              0.1111111111111111,
              "#46039f"
             ],
             [
              0.2222222222222222,
              "#7201a8"
             ],
             [
              0.3333333333333333,
              "#9c179e"
             ],
             [
              0.4444444444444444,
              "#bd3786"
             ],
             [
              0.5555555555555556,
              "#d8576b"
             ],
             [
              0.6666666666666666,
              "#ed7953"
             ],
             [
              0.7777777777777778,
              "#fb9f3a"
             ],
             [
              0.8888888888888888,
              "#fdca26"
             ],
             [
              1,
              "#f0f921"
             ]
            ],
            "type": "surface"
           }
          ],
          "table": [
           {
            "cells": {
             "fill": {
              "color": "#EBF0F8"
             },
             "line": {
              "color": "white"
             }
            },
            "header": {
             "fill": {
              "color": "#C8D4E3"
             },
             "line": {
              "color": "white"
             }
            },
            "type": "table"
           }
          ]
         },
         "layout": {
          "annotationdefaults": {
           "arrowcolor": "#2a3f5f",
           "arrowhead": 0,
           "arrowwidth": 1
          },
          "autotypenumbers": "strict",
          "coloraxis": {
           "colorbar": {
            "outlinewidth": 0,
            "ticks": ""
           }
          },
          "colorscale": {
           "diverging": [
            [
             0,
             "#8e0152"
            ],
            [
             0.1,
             "#c51b7d"
            ],
            [
             0.2,
             "#de77ae"
            ],
            [
             0.3,
             "#f1b6da"
            ],
            [
             0.4,
             "#fde0ef"
            ],
            [
             0.5,
             "#f7f7f7"
            ],
            [
             0.6,
             "#e6f5d0"
            ],
            [
             0.7,
             "#b8e186"
            ],
            [
             0.8,
             "#7fbc41"
            ],
            [
             0.9,
             "#4d9221"
            ],
            [
             1,
             "#276419"
            ]
           ],
           "sequential": [
            [
             0,
             "#0d0887"
            ],
            [
             0.1111111111111111,
             "#46039f"
            ],
            [
             0.2222222222222222,
             "#7201a8"
            ],
            [
             0.3333333333333333,
             "#9c179e"
            ],
            [
             0.4444444444444444,
             "#bd3786"
            ],
            [
             0.5555555555555556,
             "#d8576b"
            ],
            [
             0.6666666666666666,
             "#ed7953"
            ],
            [
             0.7777777777777778,
             "#fb9f3a"
            ],
            [
             0.8888888888888888,
             "#fdca26"
            ],
            [
             1,
             "#f0f921"
            ]
           ],
           "sequentialminus": [
            [
             0,
             "#0d0887"
            ],
            [
             0.1111111111111111,
             "#46039f"
            ],
            [
             0.2222222222222222,
             "#7201a8"
            ],
            [
             0.3333333333333333,
             "#9c179e"
            ],
            [
             0.4444444444444444,
             "#bd3786"
            ],
            [
             0.5555555555555556,
             "#d8576b"
            ],
            [
             0.6666666666666666,
             "#ed7953"
            ],
            [
             0.7777777777777778,
             "#fb9f3a"
            ],
            [
             0.8888888888888888,
             "#fdca26"
            ],
            [
             1,
             "#f0f921"
            ]
           ]
          },
          "colorway": [
           "#636efa",
           "#EF553B",
           "#00cc96",
           "#ab63fa",
           "#FFA15A",
           "#19d3f3",
           "#FF6692",
           "#B6E880",
           "#FF97FF",
           "#FECB52"
          ],
          "font": {
           "color": "#2a3f5f"
          },
          "geo": {
           "bgcolor": "white",
           "lakecolor": "white",
           "landcolor": "#E5ECF6",
           "showlakes": true,
           "showland": true,
           "subunitcolor": "white"
          },
          "hoverlabel": {
           "align": "left"
          },
          "hovermode": "closest",
          "mapbox": {
           "style": "light"
          },
          "paper_bgcolor": "white",
          "plot_bgcolor": "#E5ECF6",
          "polar": {
           "angularaxis": {
            "gridcolor": "white",
            "linecolor": "white",
            "ticks": ""
           },
           "bgcolor": "#E5ECF6",
           "radialaxis": {
            "gridcolor": "white",
            "linecolor": "white",
            "ticks": ""
           }
          },
          "scene": {
           "xaxis": {
            "backgroundcolor": "#E5ECF6",
            "gridcolor": "white",
            "gridwidth": 2,
            "linecolor": "white",
            "showbackground": true,
            "ticks": "",
            "zerolinecolor": "white"
           },
           "yaxis": {
            "backgroundcolor": "#E5ECF6",
            "gridcolor": "white",
            "gridwidth": 2,
            "linecolor": "white",
            "showbackground": true,
            "ticks": "",
            "zerolinecolor": "white"
           },
           "zaxis": {
            "backgroundcolor": "#E5ECF6",
            "gridcolor": "white",
            "gridwidth": 2,
            "linecolor": "white",
            "showbackground": true,
            "ticks": "",
            "zerolinecolor": "white"
           }
          },
          "shapedefaults": {
           "line": {
            "color": "#2a3f5f"
           }
          },
          "ternary": {
           "aaxis": {
            "gridcolor": "white",
            "linecolor": "white",
            "ticks": ""
           },
           "baxis": {
            "gridcolor": "white",
            "linecolor": "white",
            "ticks": ""
           },
           "bgcolor": "#E5ECF6",
           "caxis": {
            "gridcolor": "white",
            "linecolor": "white",
            "ticks": ""
           }
          },
          "title": {
           "x": 0.05
          },
          "xaxis": {
           "automargin": true,
           "gridcolor": "white",
           "linecolor": "white",
           "ticks": "",
           "title": {
            "standoff": 15
           },
           "zerolinecolor": "white",
           "zerolinewidth": 2
          },
          "yaxis": {
           "automargin": true,
           "gridcolor": "white",
           "linecolor": "white",
           "ticks": "",
           "title": {
            "standoff": 15
           },
           "zerolinecolor": "white",
           "zerolinewidth": 2
          }
         }
        },
        "title": {
         "text": "Vessel planning"
        },
        "xaxis": {
         "range": [
          "1970-01-01T00:00:00",
          "1970-01-01T00:06:10"
         ],
         "title": {
          "font": {
           "color": "#7f7f7f",
           "family": "Courier New, monospace",
           "size": 18
          },
          "text": "Time"
         }
        },
        "yaxis": {
         "title": {
          "font": {
           "color": "#7f7f7f",
           "family": "Courier New, monospace",
           "size": 18
          },
          "text": "Vessels"
         }
        }
       }
      },
      "text/html": [
       "<div>                            <div id=\"5283de9f-e299-41ab-8994-5aba31f47935\" class=\"plotly-graph-div\" style=\"height:525px; width:100%;\"></div>            <script type=\"text/javascript\">                require([\"plotly\"], function(Plotly) {                    window.PLOTLYENV=window.PLOTLYENV || {};                                    if (document.getElementById(\"5283de9f-e299-41ab-8994-5aba31f47935\")) {                    Plotly.newPlot(                        \"5283de9f-e299-41ab-8994-5aba31f47935\",                        [{\"connectgaps\": false, \"hoverinfo\": \"y+name\", \"line\": {\"color\": \"rgb(168,159,248)\", \"width\": 10}, \"mode\": \"lines\", \"name\": \"sailing empty proc 1 Vessel 0\", \"type\": \"scatter\", \"x\": [\"1970-01-01T00:00:00\", \"1970-01-01T00:00:00\", \"1970-01-01T00:00:10\", \"1970-01-01T00:00:10\", \"1970-01-01T00:00:10\", \"1970-01-01T00:00:50\", \"1970-01-01T00:00:50\", \"1970-01-01T00:01:00\", \"1970-01-01T00:01:00\", \"1970-01-01T00:01:00\", \"1970-01-01T00:01:30\", \"1970-01-01T00:01:30\", \"1970-01-01T00:01:40\", \"1970-01-01T00:01:40\", \"1970-01-01T00:01:40\", \"1970-01-01T00:02:10\", \"1970-01-01T00:02:10\", \"1970-01-01T00:02:20\", \"1970-01-01T00:02:20\", \"1970-01-01T00:02:20\", \"1970-01-01T00:02:50\", \"1970-01-01T00:02:50\", \"1970-01-01T00:03:00\", \"1970-01-01T00:03:00\", \"1970-01-01T00:03:00\", \"1970-01-01T00:03:30\", \"1970-01-01T00:03:30\", \"1970-01-01T00:03:40\", \"1970-01-01T00:03:40\", \"1970-01-01T00:03:40\", \"1970-01-01T00:04:10\", \"1970-01-01T00:04:10\", \"1970-01-01T00:04:20\", \"1970-01-01T00:04:20\", \"1970-01-01T00:04:20\", \"1970-01-01T00:04:50\", \"1970-01-01T00:04:50\", \"1970-01-01T00:05:00\", \"1970-01-01T00:05:00\", \"1970-01-01T00:05:00\", \"1970-01-01T00:05:30\", \"1970-01-01T00:05:30\", \"1970-01-01T00:05:40\", \"1970-01-01T00:05:40\", \"1970-01-01T00:05:40\"], \"y\": [\"sailing empty proc 1 Vessel 0\", \"sailing empty proc 1 Vessel 0\", \"sailing empty proc 1 Vessel 0\", \"sailing empty proc 1 Vessel 0\", null, \"sailing empty proc 1 Vessel 0\", \"sailing empty proc 1 Vessel 0\", \"sailing empty proc 1 Vessel 0\", \"sailing empty proc 1 Vessel 0\", null, \"sailing empty proc 1 Vessel 0\", \"sailing empty proc 1 Vessel 0\", \"sailing empty proc 1 Vessel 0\", \"sailing empty proc 1 Vessel 0\", null, \"sailing empty proc 1 Vessel 0\", \"sailing empty proc 1 Vessel 0\", \"sailing empty proc 1 Vessel 0\", \"sailing empty proc 1 Vessel 0\", null, \"sailing empty proc 1 Vessel 0\", \"sailing empty proc 1 Vessel 0\", \"sailing empty proc 1 Vessel 0\", \"sailing empty proc 1 Vessel 0\", null, \"sailing empty proc 1 Vessel 0\", \"sailing empty proc 1 Vessel 0\", \"sailing empty proc 1 Vessel 0\", \"sailing empty proc 1 Vessel 0\", null, \"sailing empty proc 1 Vessel 0\", \"sailing empty proc 1 Vessel 0\", \"sailing empty proc 1 Vessel 0\", \"sailing empty proc 1 Vessel 0\", null, \"sailing empty proc 1 Vessel 0\", \"sailing empty proc 1 Vessel 0\", \"sailing empty proc 1 Vessel 0\", \"sailing empty proc 1 Vessel 0\", null, \"sailing empty proc 1 Vessel 0\", \"sailing empty proc 1 Vessel 0\", \"sailing empty proc 1 Vessel 0\", \"sailing empty proc 1 Vessel 0\", null]}, {\"connectgaps\": false, \"hoverinfo\": \"y+name\", \"line\": {\"color\": \"rgb(184,175,8)\", \"width\": 10}, \"mode\": \"lines\", \"name\": \"Load MP proc 1 Vessel 0\", \"type\": \"scatter\", \"x\": [\"1970-01-01T00:00:20\", \"1970-01-01T00:00:20\", \"1970-01-01T00:00:30\", \"1970-01-01T00:00:30\", \"1970-01-01T00:00:30\", \"1970-01-01T00:01:00\", \"1970-01-01T00:01:00\", \"1970-01-01T00:01:10\", \"1970-01-01T00:01:10\", \"1970-01-01T00:01:10\", \"1970-01-01T00:01:40\", \"1970-01-01T00:01:40\", \"1970-01-01T00:01:50\", \"1970-01-01T00:01:50\", \"1970-01-01T00:01:50\", \"1970-01-01T00:02:20\", \"1970-01-01T00:02:20\", \"1970-01-01T00:02:30\", \"1970-01-01T00:02:30\", \"1970-01-01T00:02:30\", \"1970-01-01T00:03:00\", \"1970-01-01T00:03:00\", \"1970-01-01T00:03:10\", \"1970-01-01T00:03:10\", \"1970-01-01T00:03:10\", \"1970-01-01T00:03:40\", \"1970-01-01T00:03:40\", \"1970-01-01T00:03:50\", \"1970-01-01T00:03:50\", \"1970-01-01T00:03:50\", \"1970-01-01T00:04:20\", \"1970-01-01T00:04:20\", \"1970-01-01T00:04:30\", \"1970-01-01T00:04:30\", \"1970-01-01T00:04:30\", \"1970-01-01T00:05:00\", \"1970-01-01T00:05:00\", \"1970-01-01T00:05:10\", \"1970-01-01T00:05:10\", \"1970-01-01T00:05:10\", \"1970-01-01T00:05:40\", \"1970-01-01T00:05:40\", \"1970-01-01T00:05:50\", \"1970-01-01T00:05:50\", \"1970-01-01T00:05:50\"], \"y\": [\"Load MP proc 1 Vessel 0\", \"Load MP proc 1 Vessel 0\", \"Load MP proc 1 Vessel 0\", \"Load MP proc 1 Vessel 0\", null, \"Load MP proc 1 Vessel 0\", \"Load MP proc 1 Vessel 0\", \"Load MP proc 1 Vessel 0\", \"Load MP proc 1 Vessel 0\", null, \"Load MP proc 1 Vessel 0\", \"Load MP proc 1 Vessel 0\", \"Load MP proc 1 Vessel 0\", \"Load MP proc 1 Vessel 0\", null, \"Load MP proc 1 Vessel 0\", \"Load MP proc 1 Vessel 0\", \"Load MP proc 1 Vessel 0\", \"Load MP proc 1 Vessel 0\", null, \"Load MP proc 1 Vessel 0\", \"Load MP proc 1 Vessel 0\", \"Load MP proc 1 Vessel 0\", \"Load MP proc 1 Vessel 0\", null, \"Load MP proc 1 Vessel 0\", \"Load MP proc 1 Vessel 0\", \"Load MP proc 1 Vessel 0\", \"Load MP proc 1 Vessel 0\", null, \"Load MP proc 1 Vessel 0\", \"Load MP proc 1 Vessel 0\", \"Load MP proc 1 Vessel 0\", \"Load MP proc 1 Vessel 0\", null, \"Load MP proc 1 Vessel 0\", \"Load MP proc 1 Vessel 0\", \"Load MP proc 1 Vessel 0\", \"Load MP proc 1 Vessel 0\", null, \"Load MP proc 1 Vessel 0\", \"Load MP proc 1 Vessel 0\", \"Load MP proc 1 Vessel 0\", \"Load MP proc 1 Vessel 0\", null]}, {\"connectgaps\": false, \"hoverinfo\": \"y+name\", \"line\": {\"color\": \"rgb(200,191,24)\", \"width\": 10}, \"mode\": \"lines\", \"name\": \"sailing filled proc 1 Vessel 0\", \"type\": \"scatter\", \"x\": [\"1970-01-01T00:00:30\", \"1970-01-01T00:00:30\", \"1970-01-01T00:00:40\", \"1970-01-01T00:00:40\", \"1970-01-01T00:00:40\", \"1970-01-01T00:01:10\", \"1970-01-01T00:01:10\", \"1970-01-01T00:01:20\", \"1970-01-01T00:01:20\", \"1970-01-01T00:01:20\", \"1970-01-01T00:01:50\", \"1970-01-01T00:01:50\", \"1970-01-01T00:02:00\", \"1970-01-01T00:02:00\", \"1970-01-01T00:02:00\", \"1970-01-01T00:02:30\", \"1970-01-01T00:02:30\", \"1970-01-01T00:02:40\", \"1970-01-01T00:02:40\", \"1970-01-01T00:02:40\", \"1970-01-01T00:03:10\", \"1970-01-01T00:03:10\", \"1970-01-01T00:03:20\", \"1970-01-01T00:03:20\", \"1970-01-01T00:03:20\", \"1970-01-01T00:03:50\", \"1970-01-01T00:03:50\", \"1970-01-01T00:04:00\", \"1970-01-01T00:04:00\", \"1970-01-01T00:04:00\", \"1970-01-01T00:04:30\", \"1970-01-01T00:04:30\", \"1970-01-01T00:04:40\", \"1970-01-01T00:04:40\", \"1970-01-01T00:04:40\", \"1970-01-01T00:05:10\", \"1970-01-01T00:05:10\", \"1970-01-01T00:05:20\", \"1970-01-01T00:05:20\", \"1970-01-01T00:05:20\", \"1970-01-01T00:05:50\", \"1970-01-01T00:05:50\", \"1970-01-01T00:06:00\", \"1970-01-01T00:06:00\", \"1970-01-01T00:06:00\"], \"y\": [\"sailing filled proc 1 Vessel 0\", \"sailing filled proc 1 Vessel 0\", \"sailing filled proc 1 Vessel 0\", \"sailing filled proc 1 Vessel 0\", null, \"sailing filled proc 1 Vessel 0\", \"sailing filled proc 1 Vessel 0\", \"sailing filled proc 1 Vessel 0\", \"sailing filled proc 1 Vessel 0\", null, \"sailing filled proc 1 Vessel 0\", \"sailing filled proc 1 Vessel 0\", \"sailing filled proc 1 Vessel 0\", \"sailing filled proc 1 Vessel 0\", null, \"sailing filled proc 1 Vessel 0\", \"sailing filled proc 1 Vessel 0\", \"sailing filled proc 1 Vessel 0\", \"sailing filled proc 1 Vessel 0\", null, \"sailing filled proc 1 Vessel 0\", \"sailing filled proc 1 Vessel 0\", \"sailing filled proc 1 Vessel 0\", \"sailing filled proc 1 Vessel 0\", null, \"sailing filled proc 1 Vessel 0\", \"sailing filled proc 1 Vessel 0\", \"sailing filled proc 1 Vessel 0\", \"sailing filled proc 1 Vessel 0\", null, \"sailing filled proc 1 Vessel 0\", \"sailing filled proc 1 Vessel 0\", \"sailing filled proc 1 Vessel 0\", \"sailing filled proc 1 Vessel 0\", null, \"sailing filled proc 1 Vessel 0\", \"sailing filled proc 1 Vessel 0\", \"sailing filled proc 1 Vessel 0\", \"sailing filled proc 1 Vessel 0\", null, \"sailing filled proc 1 Vessel 0\", \"sailing filled proc 1 Vessel 0\", \"sailing filled proc 1 Vessel 0\", \"sailing filled proc 1 Vessel 0\", null]}, {\"connectgaps\": false, \"hoverinfo\": \"y+name\", \"line\": {\"color\": \"rgb(216,207,40)\", \"width\": 10}, \"mode\": \"lines\", \"name\": \"Transfer MP proc 1 Vessel 0\", \"type\": \"scatter\", \"x\": [\"1970-01-01T00:00:40\", \"1970-01-01T00:00:40\", \"1970-01-01T00:00:50\", \"1970-01-01T00:00:50\", \"1970-01-01T00:00:50\", \"1970-01-01T00:01:20\", \"1970-01-01T00:01:20\", \"1970-01-01T00:01:30\", \"1970-01-01T00:01:30\", \"1970-01-01T00:01:30\", \"1970-01-01T00:02:00\", \"1970-01-01T00:02:00\", \"1970-01-01T00:02:10\", \"1970-01-01T00:02:10\", \"1970-01-01T00:02:10\", \"1970-01-01T00:02:40\", \"1970-01-01T00:02:40\", \"1970-01-01T00:02:50\", \"1970-01-01T00:02:50\", \"1970-01-01T00:02:50\", \"1970-01-01T00:03:20\", \"1970-01-01T00:03:20\", \"1970-01-01T00:03:30\", \"1970-01-01T00:03:30\", \"1970-01-01T00:03:30\", \"1970-01-01T00:04:00\", \"1970-01-01T00:04:00\", \"1970-01-01T00:04:10\", \"1970-01-01T00:04:10\", \"1970-01-01T00:04:10\", \"1970-01-01T00:04:40\", \"1970-01-01T00:04:40\", \"1970-01-01T00:04:50\", \"1970-01-01T00:04:50\", \"1970-01-01T00:04:50\", \"1970-01-01T00:05:20\", \"1970-01-01T00:05:20\", \"1970-01-01T00:05:30\", \"1970-01-01T00:05:30\", \"1970-01-01T00:05:30\", \"1970-01-01T00:06:00\", \"1970-01-01T00:06:00\", \"1970-01-01T00:06:10\", \"1970-01-01T00:06:10\", \"1970-01-01T00:06:10\"], \"y\": [\"Transfer MP proc 1 Vessel 0\", \"Transfer MP proc 1 Vessel 0\", \"Transfer MP proc 1 Vessel 0\", \"Transfer MP proc 1 Vessel 0\", null, \"Transfer MP proc 1 Vessel 0\", \"Transfer MP proc 1 Vessel 0\", \"Transfer MP proc 1 Vessel 0\", \"Transfer MP proc 1 Vessel 0\", null, \"Transfer MP proc 1 Vessel 0\", \"Transfer MP proc 1 Vessel 0\", \"Transfer MP proc 1 Vessel 0\", \"Transfer MP proc 1 Vessel 0\", null, \"Transfer MP proc 1 Vessel 0\", \"Transfer MP proc 1 Vessel 0\", \"Transfer MP proc 1 Vessel 0\", \"Transfer MP proc 1 Vessel 0\", null, \"Transfer MP proc 1 Vessel 0\", \"Transfer MP proc 1 Vessel 0\", \"Transfer MP proc 1 Vessel 0\", \"Transfer MP proc 1 Vessel 0\", null, \"Transfer MP proc 1 Vessel 0\", \"Transfer MP proc 1 Vessel 0\", \"Transfer MP proc 1 Vessel 0\", \"Transfer MP proc 1 Vessel 0\", null, \"Transfer MP proc 1 Vessel 0\", \"Transfer MP proc 1 Vessel 0\", \"Transfer MP proc 1 Vessel 0\", \"Transfer MP proc 1 Vessel 0\", null, \"Transfer MP proc 1 Vessel 0\", \"Transfer MP proc 1 Vessel 0\", \"Transfer MP proc 1 Vessel 0\", \"Transfer MP proc 1 Vessel 0\", null, \"Transfer MP proc 1 Vessel 0\", \"Transfer MP proc 1 Vessel 0\", \"Transfer MP proc 1 Vessel 0\", \"Transfer MP proc 1 Vessel 0\", null]}, {\"connectgaps\": false, \"hoverinfo\": \"y+name\", \"line\": {\"color\": \"rgb(232,223,56)\", \"width\": 10}, \"mode\": \"lines\", \"name\": \"sailing empty proc 1 Vessel 1\", \"type\": \"scatter\", \"x\": [\"1970-01-01T00:00:00\", \"1970-01-01T00:00:00\", \"1970-01-01T00:00:10\", \"1970-01-01T00:00:10\", \"1970-01-01T00:00:10\", \"1970-01-01T00:00:40\", \"1970-01-01T00:00:40\", \"1970-01-01T00:00:50\", \"1970-01-01T00:00:50\", \"1970-01-01T00:00:50\", \"1970-01-01T00:01:20\", \"1970-01-01T00:01:20\", \"1970-01-01T00:01:30\", \"1970-01-01T00:01:30\", \"1970-01-01T00:01:30\", \"1970-01-01T00:02:00\", \"1970-01-01T00:02:00\", \"1970-01-01T00:02:10\", \"1970-01-01T00:02:10\", \"1970-01-01T00:02:10\", \"1970-01-01T00:02:40\", \"1970-01-01T00:02:40\", \"1970-01-01T00:02:50\", \"1970-01-01T00:02:50\", \"1970-01-01T00:02:50\", \"1970-01-01T00:03:20\", \"1970-01-01T00:03:20\", \"1970-01-01T00:03:30\", \"1970-01-01T00:03:30\", \"1970-01-01T00:03:30\", \"1970-01-01T00:04:00\", \"1970-01-01T00:04:00\", \"1970-01-01T00:04:10\", \"1970-01-01T00:04:10\", \"1970-01-01T00:04:10\", \"1970-01-01T00:04:40\", \"1970-01-01T00:04:40\", \"1970-01-01T00:04:50\", \"1970-01-01T00:04:50\", \"1970-01-01T00:04:50\", \"1970-01-01T00:05:20\", \"1970-01-01T00:05:20\", \"1970-01-01T00:05:30\", \"1970-01-01T00:05:30\", \"1970-01-01T00:05:30\", \"1970-01-01T00:06:00\", \"1970-01-01T00:06:00\", \"1970-01-01T00:06:10\", \"1970-01-01T00:06:10\", \"1970-01-01T00:06:10\"], \"y\": [\"sailing empty proc 1 Vessel 1\", \"sailing empty proc 1 Vessel 1\", \"sailing empty proc 1 Vessel 1\", \"sailing empty proc 1 Vessel 1\", null, \"sailing empty proc 1 Vessel 1\", \"sailing empty proc 1 Vessel 1\", \"sailing empty proc 1 Vessel 1\", \"sailing empty proc 1 Vessel 1\", null, \"sailing empty proc 1 Vessel 1\", \"sailing empty proc 1 Vessel 1\", \"sailing empty proc 1 Vessel 1\", \"sailing empty proc 1 Vessel 1\", null, \"sailing empty proc 1 Vessel 1\", \"sailing empty proc 1 Vessel 1\", \"sailing empty proc 1 Vessel 1\", \"sailing empty proc 1 Vessel 1\", null, \"sailing empty proc 1 Vessel 1\", \"sailing empty proc 1 Vessel 1\", \"sailing empty proc 1 Vessel 1\", \"sailing empty proc 1 Vessel 1\", null, \"sailing empty proc 1 Vessel 1\", \"sailing empty proc 1 Vessel 1\", \"sailing empty proc 1 Vessel 1\", \"sailing empty proc 1 Vessel 1\", null, \"sailing empty proc 1 Vessel 1\", \"sailing empty proc 1 Vessel 1\", \"sailing empty proc 1 Vessel 1\", \"sailing empty proc 1 Vessel 1\", null, \"sailing empty proc 1 Vessel 1\", \"sailing empty proc 1 Vessel 1\", \"sailing empty proc 1 Vessel 1\", \"sailing empty proc 1 Vessel 1\", null, \"sailing empty proc 1 Vessel 1\", \"sailing empty proc 1 Vessel 1\", \"sailing empty proc 1 Vessel 1\", \"sailing empty proc 1 Vessel 1\", null, \"sailing empty proc 1 Vessel 1\", \"sailing empty proc 1 Vessel 1\", \"sailing empty proc 1 Vessel 1\", \"sailing empty proc 1 Vessel 1\", null]}, {\"connectgaps\": false, \"hoverinfo\": \"y+name\", \"line\": {\"color\": \"rgb(248,239,72)\", \"width\": 10}, \"mode\": \"lines\", \"name\": \"Load MP proc 1 Vessel 1\", \"type\": \"scatter\", \"x\": [\"1970-01-01T00:00:10\", \"1970-01-01T00:00:10\", \"1970-01-01T00:00:20\", \"1970-01-01T00:00:20\", \"1970-01-01T00:00:20\", \"1970-01-01T00:00:50\", \"1970-01-01T00:00:50\", \"1970-01-01T00:01:00\", \"1970-01-01T00:01:00\", \"1970-01-01T00:01:00\", \"1970-01-01T00:01:30\", \"1970-01-01T00:01:30\", \"1970-01-01T00:01:40\", \"1970-01-01T00:01:40\", \"1970-01-01T00:01:40\", \"1970-01-01T00:02:10\", \"1970-01-01T00:02:10\", \"1970-01-01T00:02:20\", \"1970-01-01T00:02:20\", \"1970-01-01T00:02:20\", \"1970-01-01T00:02:50\", \"1970-01-01T00:02:50\", \"1970-01-01T00:03:00\", \"1970-01-01T00:03:00\", \"1970-01-01T00:03:00\", \"1970-01-01T00:03:30\", \"1970-01-01T00:03:30\", \"1970-01-01T00:03:40\", \"1970-01-01T00:03:40\", \"1970-01-01T00:03:40\", \"1970-01-01T00:04:10\", \"1970-01-01T00:04:10\", \"1970-01-01T00:04:20\", \"1970-01-01T00:04:20\", \"1970-01-01T00:04:20\", \"1970-01-01T00:04:50\", \"1970-01-01T00:04:50\", \"1970-01-01T00:05:00\", \"1970-01-01T00:05:00\", \"1970-01-01T00:05:00\", \"1970-01-01T00:05:30\", \"1970-01-01T00:05:30\", \"1970-01-01T00:05:40\", \"1970-01-01T00:05:40\", \"1970-01-01T00:05:40\"], \"y\": [\"Load MP proc 1 Vessel 1\", \"Load MP proc 1 Vessel 1\", \"Load MP proc 1 Vessel 1\", \"Load MP proc 1 Vessel 1\", null, \"Load MP proc 1 Vessel 1\", \"Load MP proc 1 Vessel 1\", \"Load MP proc 1 Vessel 1\", \"Load MP proc 1 Vessel 1\", null, \"Load MP proc 1 Vessel 1\", \"Load MP proc 1 Vessel 1\", \"Load MP proc 1 Vessel 1\", \"Load MP proc 1 Vessel 1\", null, \"Load MP proc 1 Vessel 1\", \"Load MP proc 1 Vessel 1\", \"Load MP proc 1 Vessel 1\", \"Load MP proc 1 Vessel 1\", null, \"Load MP proc 1 Vessel 1\", \"Load MP proc 1 Vessel 1\", \"Load MP proc 1 Vessel 1\", \"Load MP proc 1 Vessel 1\", null, \"Load MP proc 1 Vessel 1\", \"Load MP proc 1 Vessel 1\", \"Load MP proc 1 Vessel 1\", \"Load MP proc 1 Vessel 1\", null, \"Load MP proc 1 Vessel 1\", \"Load MP proc 1 Vessel 1\", \"Load MP proc 1 Vessel 1\", \"Load MP proc 1 Vessel 1\", null, \"Load MP proc 1 Vessel 1\", \"Load MP proc 1 Vessel 1\", \"Load MP proc 1 Vessel 1\", \"Load MP proc 1 Vessel 1\", null, \"Load MP proc 1 Vessel 1\", \"Load MP proc 1 Vessel 1\", \"Load MP proc 1 Vessel 1\", \"Load MP proc 1 Vessel 1\", null]}, {\"connectgaps\": false, \"hoverinfo\": \"y+name\", \"line\": {\"color\": \"rgb(8,255,88)\", \"width\": 10}, \"mode\": \"lines\", \"name\": \"sailing filled proc 1 Vessel 1\", \"type\": \"scatter\", \"x\": [\"1970-01-01T00:00:20\", \"1970-01-01T00:00:20\", \"1970-01-01T00:00:30\", \"1970-01-01T00:00:30\", \"1970-01-01T00:00:30\", \"1970-01-01T00:01:00\", \"1970-01-01T00:01:00\", \"1970-01-01T00:01:10\", \"1970-01-01T00:01:10\", \"1970-01-01T00:01:10\", \"1970-01-01T00:01:40\", \"1970-01-01T00:01:40\", \"1970-01-01T00:01:50\", \"1970-01-01T00:01:50\", \"1970-01-01T00:01:50\", \"1970-01-01T00:02:20\", \"1970-01-01T00:02:20\", \"1970-01-01T00:02:30\", \"1970-01-01T00:02:30\", \"1970-01-01T00:02:30\", \"1970-01-01T00:03:00\", \"1970-01-01T00:03:00\", \"1970-01-01T00:03:10\", \"1970-01-01T00:03:10\", \"1970-01-01T00:03:10\", \"1970-01-01T00:03:40\", \"1970-01-01T00:03:40\", \"1970-01-01T00:03:50\", \"1970-01-01T00:03:50\", \"1970-01-01T00:03:50\", \"1970-01-01T00:04:20\", \"1970-01-01T00:04:20\", \"1970-01-01T00:04:30\", \"1970-01-01T00:04:30\", \"1970-01-01T00:04:30\", \"1970-01-01T00:05:00\", \"1970-01-01T00:05:00\", \"1970-01-01T00:05:10\", \"1970-01-01T00:05:10\", \"1970-01-01T00:05:10\", \"1970-01-01T00:05:40\", \"1970-01-01T00:05:40\", \"1970-01-01T00:05:50\", \"1970-01-01T00:05:50\", \"1970-01-01T00:05:50\"], \"y\": [\"sailing filled proc 1 Vessel 1\", \"sailing filled proc 1 Vessel 1\", \"sailing filled proc 1 Vessel 1\", \"sailing filled proc 1 Vessel 1\", null, \"sailing filled proc 1 Vessel 1\", \"sailing filled proc 1 Vessel 1\", \"sailing filled proc 1 Vessel 1\", \"sailing filled proc 1 Vessel 1\", null, \"sailing filled proc 1 Vessel 1\", \"sailing filled proc 1 Vessel 1\", \"sailing filled proc 1 Vessel 1\", \"sailing filled proc 1 Vessel 1\", null, \"sailing filled proc 1 Vessel 1\", \"sailing filled proc 1 Vessel 1\", \"sailing filled proc 1 Vessel 1\", \"sailing filled proc 1 Vessel 1\", null, \"sailing filled proc 1 Vessel 1\", \"sailing filled proc 1 Vessel 1\", \"sailing filled proc 1 Vessel 1\", \"sailing filled proc 1 Vessel 1\", null, \"sailing filled proc 1 Vessel 1\", \"sailing filled proc 1 Vessel 1\", \"sailing filled proc 1 Vessel 1\", \"sailing filled proc 1 Vessel 1\", null, \"sailing filled proc 1 Vessel 1\", \"sailing filled proc 1 Vessel 1\", \"sailing filled proc 1 Vessel 1\", \"sailing filled proc 1 Vessel 1\", null, \"sailing filled proc 1 Vessel 1\", \"sailing filled proc 1 Vessel 1\", \"sailing filled proc 1 Vessel 1\", \"sailing filled proc 1 Vessel 1\", null, \"sailing filled proc 1 Vessel 1\", \"sailing filled proc 1 Vessel 1\", \"sailing filled proc 1 Vessel 1\", \"sailing filled proc 1 Vessel 1\", null]}, {\"connectgaps\": false, \"hoverinfo\": \"y+name\", \"line\": {\"color\": \"rgb(24,15,104)\", \"width\": 10}, \"mode\": \"lines\", \"name\": \"Transfer MP proc 1 Vessel 1\", \"type\": \"scatter\", \"x\": [\"1970-01-01T00:00:30\", \"1970-01-01T00:00:30\", \"1970-01-01T00:00:40\", \"1970-01-01T00:00:40\", \"1970-01-01T00:00:40\", \"1970-01-01T00:01:10\", \"1970-01-01T00:01:10\", \"1970-01-01T00:01:20\", \"1970-01-01T00:01:20\", \"1970-01-01T00:01:20\", \"1970-01-01T00:01:50\", \"1970-01-01T00:01:50\", \"1970-01-01T00:02:00\", \"1970-01-01T00:02:00\", \"1970-01-01T00:02:00\", \"1970-01-01T00:02:30\", \"1970-01-01T00:02:30\", \"1970-01-01T00:02:40\", \"1970-01-01T00:02:40\", \"1970-01-01T00:02:40\", \"1970-01-01T00:03:10\", \"1970-01-01T00:03:10\", \"1970-01-01T00:03:20\", \"1970-01-01T00:03:20\", \"1970-01-01T00:03:20\", \"1970-01-01T00:03:50\", \"1970-01-01T00:03:50\", \"1970-01-01T00:04:00\", \"1970-01-01T00:04:00\", \"1970-01-01T00:04:00\", \"1970-01-01T00:04:30\", \"1970-01-01T00:04:30\", \"1970-01-01T00:04:40\", \"1970-01-01T00:04:40\", \"1970-01-01T00:04:40\", \"1970-01-01T00:05:10\", \"1970-01-01T00:05:10\", \"1970-01-01T00:05:20\", \"1970-01-01T00:05:20\", \"1970-01-01T00:05:20\", \"1970-01-01T00:05:50\", \"1970-01-01T00:05:50\", \"1970-01-01T00:06:00\", \"1970-01-01T00:06:00\", \"1970-01-01T00:06:00\"], \"y\": [\"Transfer MP proc 1 Vessel 1\", \"Transfer MP proc 1 Vessel 1\", \"Transfer MP proc 1 Vessel 1\", \"Transfer MP proc 1 Vessel 1\", null, \"Transfer MP proc 1 Vessel 1\", \"Transfer MP proc 1 Vessel 1\", \"Transfer MP proc 1 Vessel 1\", \"Transfer MP proc 1 Vessel 1\", null, \"Transfer MP proc 1 Vessel 1\", \"Transfer MP proc 1 Vessel 1\", \"Transfer MP proc 1 Vessel 1\", \"Transfer MP proc 1 Vessel 1\", null, \"Transfer MP proc 1 Vessel 1\", \"Transfer MP proc 1 Vessel 1\", \"Transfer MP proc 1 Vessel 1\", \"Transfer MP proc 1 Vessel 1\", null, \"Transfer MP proc 1 Vessel 1\", \"Transfer MP proc 1 Vessel 1\", \"Transfer MP proc 1 Vessel 1\", \"Transfer MP proc 1 Vessel 1\", null, \"Transfer MP proc 1 Vessel 1\", \"Transfer MP proc 1 Vessel 1\", \"Transfer MP proc 1 Vessel 1\", \"Transfer MP proc 1 Vessel 1\", null, \"Transfer MP proc 1 Vessel 1\", \"Transfer MP proc 1 Vessel 1\", \"Transfer MP proc 1 Vessel 1\", \"Transfer MP proc 1 Vessel 1\", null, \"Transfer MP proc 1 Vessel 1\", \"Transfer MP proc 1 Vessel 1\", \"Transfer MP proc 1 Vessel 1\", \"Transfer MP proc 1 Vessel 1\", null, \"Transfer MP proc 1 Vessel 1\", \"Transfer MP proc 1 Vessel 1\", \"Transfer MP proc 1 Vessel 1\", \"Transfer MP proc 1 Vessel 1\", null]}, {\"connectgaps\": false, \"hoverinfo\": \"y+name\", \"line\": {\"color\": \"rgb(40,31,120)\", \"width\": 10}, \"mode\": \"lines\", \"name\": \"sailing empty proc 2 Vessel 0\", \"type\": \"scatter\", \"x\": [\"1970-01-01T00:00:00\", \"1970-01-01T00:00:00\", \"1970-01-01T00:00:10\", \"1970-01-01T00:00:10\", \"1970-01-01T00:00:10\", \"1970-01-01T00:00:50\", \"1970-01-01T00:00:50\", \"1970-01-01T00:01:00\", \"1970-01-01T00:01:00\", \"1970-01-01T00:01:00\", \"1970-01-01T00:01:30\", \"1970-01-01T00:01:30\", \"1970-01-01T00:01:40\", \"1970-01-01T00:01:40\", \"1970-01-01T00:01:40\", \"1970-01-01T00:02:10\", \"1970-01-01T00:02:10\", \"1970-01-01T00:02:20\", \"1970-01-01T00:02:20\", \"1970-01-01T00:02:20\", \"1970-01-01T00:02:50\", \"1970-01-01T00:02:50\", \"1970-01-01T00:03:00\", \"1970-01-01T00:03:00\", \"1970-01-01T00:03:00\", \"1970-01-01T00:03:30\", \"1970-01-01T00:03:30\", \"1970-01-01T00:03:40\", \"1970-01-01T00:03:40\", \"1970-01-01T00:03:40\", \"1970-01-01T00:04:10\", \"1970-01-01T00:04:10\", \"1970-01-01T00:04:20\", \"1970-01-01T00:04:20\", \"1970-01-01T00:04:20\", \"1970-01-01T00:04:50\", \"1970-01-01T00:04:50\", \"1970-01-01T00:05:00\", \"1970-01-01T00:05:00\", \"1970-01-01T00:05:00\", \"1970-01-01T00:05:30\", \"1970-01-01T00:05:30\", \"1970-01-01T00:05:40\", \"1970-01-01T00:05:40\", \"1970-01-01T00:05:40\"], \"y\": [\"sailing empty proc 2 Vessel 0\", \"sailing empty proc 2 Vessel 0\", \"sailing empty proc 2 Vessel 0\", \"sailing empty proc 2 Vessel 0\", null, \"sailing empty proc 2 Vessel 0\", \"sailing empty proc 2 Vessel 0\", \"sailing empty proc 2 Vessel 0\", \"sailing empty proc 2 Vessel 0\", null, \"sailing empty proc 2 Vessel 0\", \"sailing empty proc 2 Vessel 0\", \"sailing empty proc 2 Vessel 0\", \"sailing empty proc 2 Vessel 0\", null, \"sailing empty proc 2 Vessel 0\", \"sailing empty proc 2 Vessel 0\", \"sailing empty proc 2 Vessel 0\", \"sailing empty proc 2 Vessel 0\", null, \"sailing empty proc 2 Vessel 0\", \"sailing empty proc 2 Vessel 0\", \"sailing empty proc 2 Vessel 0\", \"sailing empty proc 2 Vessel 0\", null, \"sailing empty proc 2 Vessel 0\", \"sailing empty proc 2 Vessel 0\", \"sailing empty proc 2 Vessel 0\", \"sailing empty proc 2 Vessel 0\", null, \"sailing empty proc 2 Vessel 0\", \"sailing empty proc 2 Vessel 0\", \"sailing empty proc 2 Vessel 0\", \"sailing empty proc 2 Vessel 0\", null, \"sailing empty proc 2 Vessel 0\", \"sailing empty proc 2 Vessel 0\", \"sailing empty proc 2 Vessel 0\", \"sailing empty proc 2 Vessel 0\", null, \"sailing empty proc 2 Vessel 0\", \"sailing empty proc 2 Vessel 0\", \"sailing empty proc 2 Vessel 0\", \"sailing empty proc 2 Vessel 0\", null]}, {\"connectgaps\": false, \"hoverinfo\": \"y+name\", \"line\": {\"color\": \"rgb(56,47,136)\", \"width\": 10}, \"mode\": \"lines\", \"name\": \"Load MP proc 2 Vessel 0\", \"type\": \"scatter\", \"x\": [\"1970-01-01T00:00:20\", \"1970-01-01T00:00:20\", \"1970-01-01T00:00:30\", \"1970-01-01T00:00:30\", \"1970-01-01T00:00:30\", \"1970-01-01T00:01:00\", \"1970-01-01T00:01:00\", \"1970-01-01T00:01:10\", \"1970-01-01T00:01:10\", \"1970-01-01T00:01:10\", \"1970-01-01T00:01:40\", \"1970-01-01T00:01:40\", \"1970-01-01T00:01:50\", \"1970-01-01T00:01:50\", \"1970-01-01T00:01:50\", \"1970-01-01T00:02:20\", \"1970-01-01T00:02:20\", \"1970-01-01T00:02:30\", \"1970-01-01T00:02:30\", \"1970-01-01T00:02:30\", \"1970-01-01T00:03:00\", \"1970-01-01T00:03:00\", \"1970-01-01T00:03:10\", \"1970-01-01T00:03:10\", \"1970-01-01T00:03:10\", \"1970-01-01T00:03:40\", \"1970-01-01T00:03:40\", \"1970-01-01T00:03:50\", \"1970-01-01T00:03:50\", \"1970-01-01T00:03:50\", \"1970-01-01T00:04:20\", \"1970-01-01T00:04:20\", \"1970-01-01T00:04:30\", \"1970-01-01T00:04:30\", \"1970-01-01T00:04:30\", \"1970-01-01T00:05:00\", \"1970-01-01T00:05:00\", \"1970-01-01T00:05:10\", \"1970-01-01T00:05:10\", \"1970-01-01T00:05:10\", \"1970-01-01T00:05:40\", \"1970-01-01T00:05:40\", \"1970-01-01T00:05:50\", \"1970-01-01T00:05:50\", \"1970-01-01T00:05:50\"], \"y\": [\"Load MP proc 2 Vessel 0\", \"Load MP proc 2 Vessel 0\", \"Load MP proc 2 Vessel 0\", \"Load MP proc 2 Vessel 0\", null, \"Load MP proc 2 Vessel 0\", \"Load MP proc 2 Vessel 0\", \"Load MP proc 2 Vessel 0\", \"Load MP proc 2 Vessel 0\", null, \"Load MP proc 2 Vessel 0\", \"Load MP proc 2 Vessel 0\", \"Load MP proc 2 Vessel 0\", \"Load MP proc 2 Vessel 0\", null, \"Load MP proc 2 Vessel 0\", \"Load MP proc 2 Vessel 0\", \"Load MP proc 2 Vessel 0\", \"Load MP proc 2 Vessel 0\", null, \"Load MP proc 2 Vessel 0\", \"Load MP proc 2 Vessel 0\", \"Load MP proc 2 Vessel 0\", \"Load MP proc 2 Vessel 0\", null, \"Load MP proc 2 Vessel 0\", \"Load MP proc 2 Vessel 0\", \"Load MP proc 2 Vessel 0\", \"Load MP proc 2 Vessel 0\", null, \"Load MP proc 2 Vessel 0\", \"Load MP proc 2 Vessel 0\", \"Load MP proc 2 Vessel 0\", \"Load MP proc 2 Vessel 0\", null, \"Load MP proc 2 Vessel 0\", \"Load MP proc 2 Vessel 0\", \"Load MP proc 2 Vessel 0\", \"Load MP proc 2 Vessel 0\", null, \"Load MP proc 2 Vessel 0\", \"Load MP proc 2 Vessel 0\", \"Load MP proc 2 Vessel 0\", \"Load MP proc 2 Vessel 0\", null]}, {\"connectgaps\": false, \"hoverinfo\": \"y+name\", \"line\": {\"color\": \"rgb(72,63,152)\", \"width\": 10}, \"mode\": \"lines\", \"name\": \"sailing filled proc 2 Vessel 0\", \"type\": \"scatter\", \"x\": [\"1970-01-01T00:00:30\", \"1970-01-01T00:00:30\", \"1970-01-01T00:00:40\", \"1970-01-01T00:00:40\", \"1970-01-01T00:00:40\", \"1970-01-01T00:01:10\", \"1970-01-01T00:01:10\", \"1970-01-01T00:01:20\", \"1970-01-01T00:01:20\", \"1970-01-01T00:01:20\", \"1970-01-01T00:01:50\", \"1970-01-01T00:01:50\", \"1970-01-01T00:02:00\", \"1970-01-01T00:02:00\", \"1970-01-01T00:02:00\", \"1970-01-01T00:02:30\", \"1970-01-01T00:02:30\", \"1970-01-01T00:02:40\", \"1970-01-01T00:02:40\", \"1970-01-01T00:02:40\", \"1970-01-01T00:03:10\", \"1970-01-01T00:03:10\", \"1970-01-01T00:03:20\", \"1970-01-01T00:03:20\", \"1970-01-01T00:03:20\", \"1970-01-01T00:03:50\", \"1970-01-01T00:03:50\", \"1970-01-01T00:04:00\", \"1970-01-01T00:04:00\", \"1970-01-01T00:04:00\", \"1970-01-01T00:04:30\", \"1970-01-01T00:04:30\", \"1970-01-01T00:04:40\", \"1970-01-01T00:04:40\", \"1970-01-01T00:04:40\", \"1970-01-01T00:05:10\", \"1970-01-01T00:05:10\", \"1970-01-01T00:05:20\", \"1970-01-01T00:05:20\", \"1970-01-01T00:05:20\", \"1970-01-01T00:05:50\", \"1970-01-01T00:05:50\", \"1970-01-01T00:06:00\", \"1970-01-01T00:06:00\", \"1970-01-01T00:06:00\"], \"y\": [\"sailing filled proc 2 Vessel 0\", \"sailing filled proc 2 Vessel 0\", \"sailing filled proc 2 Vessel 0\", \"sailing filled proc 2 Vessel 0\", null, \"sailing filled proc 2 Vessel 0\", \"sailing filled proc 2 Vessel 0\", \"sailing filled proc 2 Vessel 0\", \"sailing filled proc 2 Vessel 0\", null, \"sailing filled proc 2 Vessel 0\", \"sailing filled proc 2 Vessel 0\", \"sailing filled proc 2 Vessel 0\", \"sailing filled proc 2 Vessel 0\", null, \"sailing filled proc 2 Vessel 0\", \"sailing filled proc 2 Vessel 0\", \"sailing filled proc 2 Vessel 0\", \"sailing filled proc 2 Vessel 0\", null, \"sailing filled proc 2 Vessel 0\", \"sailing filled proc 2 Vessel 0\", \"sailing filled proc 2 Vessel 0\", \"sailing filled proc 2 Vessel 0\", null, \"sailing filled proc 2 Vessel 0\", \"sailing filled proc 2 Vessel 0\", \"sailing filled proc 2 Vessel 0\", \"sailing filled proc 2 Vessel 0\", null, \"sailing filled proc 2 Vessel 0\", \"sailing filled proc 2 Vessel 0\", \"sailing filled proc 2 Vessel 0\", \"sailing filled proc 2 Vessel 0\", null, \"sailing filled proc 2 Vessel 0\", \"sailing filled proc 2 Vessel 0\", \"sailing filled proc 2 Vessel 0\", \"sailing filled proc 2 Vessel 0\", null, \"sailing filled proc 2 Vessel 0\", \"sailing filled proc 2 Vessel 0\", \"sailing filled proc 2 Vessel 0\", \"sailing filled proc 2 Vessel 0\", null]}, {\"connectgaps\": false, \"hoverinfo\": \"y+name\", \"line\": {\"color\": \"rgb(88,79,168)\", \"width\": 10}, \"mode\": \"lines\", \"name\": \"Transfer MP proc 2 Vessel 0\", \"type\": \"scatter\", \"x\": [\"1970-01-01T00:00:40\", \"1970-01-01T00:00:40\", \"1970-01-01T00:00:50\", \"1970-01-01T00:00:50\", \"1970-01-01T00:00:50\", \"1970-01-01T00:01:20\", \"1970-01-01T00:01:20\", \"1970-01-01T00:01:30\", \"1970-01-01T00:01:30\", \"1970-01-01T00:01:30\", \"1970-01-01T00:02:00\", \"1970-01-01T00:02:00\", \"1970-01-01T00:02:10\", \"1970-01-01T00:02:10\", \"1970-01-01T00:02:10\", \"1970-01-01T00:02:40\", \"1970-01-01T00:02:40\", \"1970-01-01T00:02:50\", \"1970-01-01T00:02:50\", \"1970-01-01T00:02:50\", \"1970-01-01T00:03:20\", \"1970-01-01T00:03:20\", \"1970-01-01T00:03:30\", \"1970-01-01T00:03:30\", \"1970-01-01T00:03:30\", \"1970-01-01T00:04:00\", \"1970-01-01T00:04:00\", \"1970-01-01T00:04:10\", \"1970-01-01T00:04:10\", \"1970-01-01T00:04:10\", \"1970-01-01T00:04:40\", \"1970-01-01T00:04:40\", \"1970-01-01T00:04:50\", \"1970-01-01T00:04:50\", \"1970-01-01T00:04:50\", \"1970-01-01T00:05:20\", \"1970-01-01T00:05:20\", \"1970-01-01T00:05:30\", \"1970-01-01T00:05:30\", \"1970-01-01T00:05:30\", \"1970-01-01T00:06:00\", \"1970-01-01T00:06:00\", \"1970-01-01T00:06:10\", \"1970-01-01T00:06:10\", \"1970-01-01T00:06:10\"], \"y\": [\"Transfer MP proc 2 Vessel 0\", \"Transfer MP proc 2 Vessel 0\", \"Transfer MP proc 2 Vessel 0\", \"Transfer MP proc 2 Vessel 0\", null, \"Transfer MP proc 2 Vessel 0\", \"Transfer MP proc 2 Vessel 0\", \"Transfer MP proc 2 Vessel 0\", \"Transfer MP proc 2 Vessel 0\", null, \"Transfer MP proc 2 Vessel 0\", \"Transfer MP proc 2 Vessel 0\", \"Transfer MP proc 2 Vessel 0\", \"Transfer MP proc 2 Vessel 0\", null, \"Transfer MP proc 2 Vessel 0\", \"Transfer MP proc 2 Vessel 0\", \"Transfer MP proc 2 Vessel 0\", \"Transfer MP proc 2 Vessel 0\", null, \"Transfer MP proc 2 Vessel 0\", \"Transfer MP proc 2 Vessel 0\", \"Transfer MP proc 2 Vessel 0\", \"Transfer MP proc 2 Vessel 0\", null, \"Transfer MP proc 2 Vessel 0\", \"Transfer MP proc 2 Vessel 0\", \"Transfer MP proc 2 Vessel 0\", \"Transfer MP proc 2 Vessel 0\", null, \"Transfer MP proc 2 Vessel 0\", \"Transfer MP proc 2 Vessel 0\", \"Transfer MP proc 2 Vessel 0\", \"Transfer MP proc 2 Vessel 0\", null, \"Transfer MP proc 2 Vessel 0\", \"Transfer MP proc 2 Vessel 0\", \"Transfer MP proc 2 Vessel 0\", \"Transfer MP proc 2 Vessel 0\", null, \"Transfer MP proc 2 Vessel 0\", \"Transfer MP proc 2 Vessel 0\", \"Transfer MP proc 2 Vessel 0\", \"Transfer MP proc 2 Vessel 0\", null]}, {\"connectgaps\": false, \"hoverinfo\": \"y+name\", \"line\": {\"color\": \"rgb(104,95,184)\", \"width\": 10}, \"mode\": \"lines\", \"name\": \"sailing empty proc 2 Vessel 1\", \"type\": \"scatter\", \"x\": [\"1970-01-01T00:00:00\", \"1970-01-01T00:00:00\", \"1970-01-01T00:00:10\", \"1970-01-01T00:00:10\", \"1970-01-01T00:00:10\", \"1970-01-01T00:00:40\", \"1970-01-01T00:00:40\", \"1970-01-01T00:00:50\", \"1970-01-01T00:00:50\", \"1970-01-01T00:00:50\", \"1970-01-01T00:01:20\", \"1970-01-01T00:01:20\", \"1970-01-01T00:01:30\", \"1970-01-01T00:01:30\", \"1970-01-01T00:01:30\", \"1970-01-01T00:02:00\", \"1970-01-01T00:02:00\", \"1970-01-01T00:02:10\", \"1970-01-01T00:02:10\", \"1970-01-01T00:02:10\", \"1970-01-01T00:02:40\", \"1970-01-01T00:02:40\", \"1970-01-01T00:02:50\", \"1970-01-01T00:02:50\", \"1970-01-01T00:02:50\", \"1970-01-01T00:03:20\", \"1970-01-01T00:03:20\", \"1970-01-01T00:03:30\", \"1970-01-01T00:03:30\", \"1970-01-01T00:03:30\", \"1970-01-01T00:04:00\", \"1970-01-01T00:04:00\", \"1970-01-01T00:04:10\", \"1970-01-01T00:04:10\", \"1970-01-01T00:04:10\", \"1970-01-01T00:04:40\", \"1970-01-01T00:04:40\", \"1970-01-01T00:04:50\", \"1970-01-01T00:04:50\", \"1970-01-01T00:04:50\", \"1970-01-01T00:05:20\", \"1970-01-01T00:05:20\", \"1970-01-01T00:05:30\", \"1970-01-01T00:05:30\", \"1970-01-01T00:05:30\", \"1970-01-01T00:06:00\", \"1970-01-01T00:06:00\", \"1970-01-01T00:06:10\", \"1970-01-01T00:06:10\", \"1970-01-01T00:06:10\"], \"y\": [\"sailing empty proc 2 Vessel 1\", \"sailing empty proc 2 Vessel 1\", \"sailing empty proc 2 Vessel 1\", \"sailing empty proc 2 Vessel 1\", null, \"sailing empty proc 2 Vessel 1\", \"sailing empty proc 2 Vessel 1\", \"sailing empty proc 2 Vessel 1\", \"sailing empty proc 2 Vessel 1\", null, \"sailing empty proc 2 Vessel 1\", \"sailing empty proc 2 Vessel 1\", \"sailing empty proc 2 Vessel 1\", \"sailing empty proc 2 Vessel 1\", null, \"sailing empty proc 2 Vessel 1\", \"sailing empty proc 2 Vessel 1\", \"sailing empty proc 2 Vessel 1\", \"sailing empty proc 2 Vessel 1\", null, \"sailing empty proc 2 Vessel 1\", \"sailing empty proc 2 Vessel 1\", \"sailing empty proc 2 Vessel 1\", \"sailing empty proc 2 Vessel 1\", null, \"sailing empty proc 2 Vessel 1\", \"sailing empty proc 2 Vessel 1\", \"sailing empty proc 2 Vessel 1\", \"sailing empty proc 2 Vessel 1\", null, \"sailing empty proc 2 Vessel 1\", \"sailing empty proc 2 Vessel 1\", \"sailing empty proc 2 Vessel 1\", \"sailing empty proc 2 Vessel 1\", null, \"sailing empty proc 2 Vessel 1\", \"sailing empty proc 2 Vessel 1\", \"sailing empty proc 2 Vessel 1\", \"sailing empty proc 2 Vessel 1\", null, \"sailing empty proc 2 Vessel 1\", \"sailing empty proc 2 Vessel 1\", \"sailing empty proc 2 Vessel 1\", \"sailing empty proc 2 Vessel 1\", null, \"sailing empty proc 2 Vessel 1\", \"sailing empty proc 2 Vessel 1\", \"sailing empty proc 2 Vessel 1\", \"sailing empty proc 2 Vessel 1\", null]}, {\"connectgaps\": false, \"hoverinfo\": \"y+name\", \"line\": {\"color\": \"rgb(120,111,200)\", \"width\": 10}, \"mode\": \"lines\", \"name\": \"Load MP proc 2 Vessel 1\", \"type\": \"scatter\", \"x\": [\"1970-01-01T00:00:10\", \"1970-01-01T00:00:10\", \"1970-01-01T00:00:20\", \"1970-01-01T00:00:20\", \"1970-01-01T00:00:20\", \"1970-01-01T00:00:50\", \"1970-01-01T00:00:50\", \"1970-01-01T00:01:00\", \"1970-01-01T00:01:00\", \"1970-01-01T00:01:00\", \"1970-01-01T00:01:30\", \"1970-01-01T00:01:30\", \"1970-01-01T00:01:40\", \"1970-01-01T00:01:40\", \"1970-01-01T00:01:40\", \"1970-01-01T00:02:10\", \"1970-01-01T00:02:10\", \"1970-01-01T00:02:20\", \"1970-01-01T00:02:20\", \"1970-01-01T00:02:20\", \"1970-01-01T00:02:50\", \"1970-01-01T00:02:50\", \"1970-01-01T00:03:00\", \"1970-01-01T00:03:00\", \"1970-01-01T00:03:00\", \"1970-01-01T00:03:30\", \"1970-01-01T00:03:30\", \"1970-01-01T00:03:40\", \"1970-01-01T00:03:40\", \"1970-01-01T00:03:40\", \"1970-01-01T00:04:10\", \"1970-01-01T00:04:10\", \"1970-01-01T00:04:20\", \"1970-01-01T00:04:20\", \"1970-01-01T00:04:20\", \"1970-01-01T00:04:50\", \"1970-01-01T00:04:50\", \"1970-01-01T00:05:00\", \"1970-01-01T00:05:00\", \"1970-01-01T00:05:00\", \"1970-01-01T00:05:30\", \"1970-01-01T00:05:30\", \"1970-01-01T00:05:40\", \"1970-01-01T00:05:40\", \"1970-01-01T00:05:40\"], \"y\": [\"Load MP proc 2 Vessel 1\", \"Load MP proc 2 Vessel 1\", \"Load MP proc 2 Vessel 1\", \"Load MP proc 2 Vessel 1\", null, \"Load MP proc 2 Vessel 1\", \"Load MP proc 2 Vessel 1\", \"Load MP proc 2 Vessel 1\", \"Load MP proc 2 Vessel 1\", null, \"Load MP proc 2 Vessel 1\", \"Load MP proc 2 Vessel 1\", \"Load MP proc 2 Vessel 1\", \"Load MP proc 2 Vessel 1\", null, \"Load MP proc 2 Vessel 1\", \"Load MP proc 2 Vessel 1\", \"Load MP proc 2 Vessel 1\", \"Load MP proc 2 Vessel 1\", null, \"Load MP proc 2 Vessel 1\", \"Load MP proc 2 Vessel 1\", \"Load MP proc 2 Vessel 1\", \"Load MP proc 2 Vessel 1\", null, \"Load MP proc 2 Vessel 1\", \"Load MP proc 2 Vessel 1\", \"Load MP proc 2 Vessel 1\", \"Load MP proc 2 Vessel 1\", null, \"Load MP proc 2 Vessel 1\", \"Load MP proc 2 Vessel 1\", \"Load MP proc 2 Vessel 1\", \"Load MP proc 2 Vessel 1\", null, \"Load MP proc 2 Vessel 1\", \"Load MP proc 2 Vessel 1\", \"Load MP proc 2 Vessel 1\", \"Load MP proc 2 Vessel 1\", null, \"Load MP proc 2 Vessel 1\", \"Load MP proc 2 Vessel 1\", \"Load MP proc 2 Vessel 1\", \"Load MP proc 2 Vessel 1\", null]}, {\"connectgaps\": false, \"hoverinfo\": \"y+name\", \"line\": {\"color\": \"rgb(136,127,216)\", \"width\": 10}, \"mode\": \"lines\", \"name\": \"sailing filled proc 2 Vessel 1\", \"type\": \"scatter\", \"x\": [\"1970-01-01T00:00:20\", \"1970-01-01T00:00:20\", \"1970-01-01T00:00:30\", \"1970-01-01T00:00:30\", \"1970-01-01T00:00:30\", \"1970-01-01T00:01:00\", \"1970-01-01T00:01:00\", \"1970-01-01T00:01:10\", \"1970-01-01T00:01:10\", \"1970-01-01T00:01:10\", \"1970-01-01T00:01:40\", \"1970-01-01T00:01:40\", \"1970-01-01T00:01:50\", \"1970-01-01T00:01:50\", \"1970-01-01T00:01:50\", \"1970-01-01T00:02:20\", \"1970-01-01T00:02:20\", \"1970-01-01T00:02:30\", \"1970-01-01T00:02:30\", \"1970-01-01T00:02:30\", \"1970-01-01T00:03:00\", \"1970-01-01T00:03:00\", \"1970-01-01T00:03:10\", \"1970-01-01T00:03:10\", \"1970-01-01T00:03:10\", \"1970-01-01T00:03:40\", \"1970-01-01T00:03:40\", \"1970-01-01T00:03:50\", \"1970-01-01T00:03:50\", \"1970-01-01T00:03:50\", \"1970-01-01T00:04:20\", \"1970-01-01T00:04:20\", \"1970-01-01T00:04:30\", \"1970-01-01T00:04:30\", \"1970-01-01T00:04:30\", \"1970-01-01T00:05:00\", \"1970-01-01T00:05:00\", \"1970-01-01T00:05:10\", \"1970-01-01T00:05:10\", \"1970-01-01T00:05:10\", \"1970-01-01T00:05:40\", \"1970-01-01T00:05:40\", \"1970-01-01T00:05:50\", \"1970-01-01T00:05:50\", \"1970-01-01T00:05:50\"], \"y\": [\"sailing filled proc 2 Vessel 1\", \"sailing filled proc 2 Vessel 1\", \"sailing filled proc 2 Vessel 1\", \"sailing filled proc 2 Vessel 1\", null, \"sailing filled proc 2 Vessel 1\", \"sailing filled proc 2 Vessel 1\", \"sailing filled proc 2 Vessel 1\", \"sailing filled proc 2 Vessel 1\", null, \"sailing filled proc 2 Vessel 1\", \"sailing filled proc 2 Vessel 1\", \"sailing filled proc 2 Vessel 1\", \"sailing filled proc 2 Vessel 1\", null, \"sailing filled proc 2 Vessel 1\", \"sailing filled proc 2 Vessel 1\", \"sailing filled proc 2 Vessel 1\", \"sailing filled proc 2 Vessel 1\", null, \"sailing filled proc 2 Vessel 1\", \"sailing filled proc 2 Vessel 1\", \"sailing filled proc 2 Vessel 1\", \"sailing filled proc 2 Vessel 1\", null, \"sailing filled proc 2 Vessel 1\", \"sailing filled proc 2 Vessel 1\", \"sailing filled proc 2 Vessel 1\", \"sailing filled proc 2 Vessel 1\", null, \"sailing filled proc 2 Vessel 1\", \"sailing filled proc 2 Vessel 1\", \"sailing filled proc 2 Vessel 1\", \"sailing filled proc 2 Vessel 1\", null, \"sailing filled proc 2 Vessel 1\", \"sailing filled proc 2 Vessel 1\", \"sailing filled proc 2 Vessel 1\", \"sailing filled proc 2 Vessel 1\", null, \"sailing filled proc 2 Vessel 1\", \"sailing filled proc 2 Vessel 1\", \"sailing filled proc 2 Vessel 1\", \"sailing filled proc 2 Vessel 1\", null]}, {\"connectgaps\": false, \"hoverinfo\": \"y+name\", \"line\": {\"color\": \"rgb(152,143,232)\", \"width\": 10}, \"mode\": \"lines\", \"name\": \"Transfer MP proc 2 Vessel 1\", \"type\": \"scatter\", \"x\": [\"1970-01-01T00:00:30\", \"1970-01-01T00:00:30\", \"1970-01-01T00:00:40\", \"1970-01-01T00:00:40\", \"1970-01-01T00:00:40\", \"1970-01-01T00:01:10\", \"1970-01-01T00:01:10\", \"1970-01-01T00:01:20\", \"1970-01-01T00:01:20\", \"1970-01-01T00:01:20\", \"1970-01-01T00:01:50\", \"1970-01-01T00:01:50\", \"1970-01-01T00:02:00\", \"1970-01-01T00:02:00\", \"1970-01-01T00:02:00\", \"1970-01-01T00:02:30\", \"1970-01-01T00:02:30\", \"1970-01-01T00:02:40\", \"1970-01-01T00:02:40\", \"1970-01-01T00:02:40\", \"1970-01-01T00:03:10\", \"1970-01-01T00:03:10\", \"1970-01-01T00:03:20\", \"1970-01-01T00:03:20\", \"1970-01-01T00:03:20\", \"1970-01-01T00:03:50\", \"1970-01-01T00:03:50\", \"1970-01-01T00:04:00\", \"1970-01-01T00:04:00\", \"1970-01-01T00:04:00\", \"1970-01-01T00:04:30\", \"1970-01-01T00:04:30\", \"1970-01-01T00:04:40\", \"1970-01-01T00:04:40\", \"1970-01-01T00:04:40\", \"1970-01-01T00:05:10\", \"1970-01-01T00:05:10\", \"1970-01-01T00:05:20\", \"1970-01-01T00:05:20\", \"1970-01-01T00:05:20\", \"1970-01-01T00:05:50\", \"1970-01-01T00:05:50\", \"1970-01-01T00:06:00\", \"1970-01-01T00:06:00\", \"1970-01-01T00:06:00\"], \"y\": [\"Transfer MP proc 2 Vessel 1\", \"Transfer MP proc 2 Vessel 1\", \"Transfer MP proc 2 Vessel 1\", \"Transfer MP proc 2 Vessel 1\", null, \"Transfer MP proc 2 Vessel 1\", \"Transfer MP proc 2 Vessel 1\", \"Transfer MP proc 2 Vessel 1\", \"Transfer MP proc 2 Vessel 1\", null, \"Transfer MP proc 2 Vessel 1\", \"Transfer MP proc 2 Vessel 1\", \"Transfer MP proc 2 Vessel 1\", \"Transfer MP proc 2 Vessel 1\", null, \"Transfer MP proc 2 Vessel 1\", \"Transfer MP proc 2 Vessel 1\", \"Transfer MP proc 2 Vessel 1\", \"Transfer MP proc 2 Vessel 1\", null, \"Transfer MP proc 2 Vessel 1\", \"Transfer MP proc 2 Vessel 1\", \"Transfer MP proc 2 Vessel 1\", \"Transfer MP proc 2 Vessel 1\", null, \"Transfer MP proc 2 Vessel 1\", \"Transfer MP proc 2 Vessel 1\", \"Transfer MP proc 2 Vessel 1\", \"Transfer MP proc 2 Vessel 1\", null, \"Transfer MP proc 2 Vessel 1\", \"Transfer MP proc 2 Vessel 1\", \"Transfer MP proc 2 Vessel 1\", \"Transfer MP proc 2 Vessel 1\", null, \"Transfer MP proc 2 Vessel 1\", \"Transfer MP proc 2 Vessel 1\", \"Transfer MP proc 2 Vessel 1\", \"Transfer MP proc 2 Vessel 1\", null, \"Transfer MP proc 2 Vessel 1\", \"Transfer MP proc 2 Vessel 1\", \"Transfer MP proc 2 Vessel 1\", \"Transfer MP proc 2 Vessel 1\", null]}],                        {\"hovermode\": \"closest\", \"legend\": {\"orientation\": \"h\", \"x\": 0, \"y\": -0.2}, \"template\": {\"data\": {\"bar\": [{\"error_x\": {\"color\": \"#2a3f5f\"}, \"error_y\": {\"color\": \"#2a3f5f\"}, \"marker\": {\"line\": {\"color\": \"#E5ECF6\", \"width\": 0.5}}, \"type\": \"bar\"}], \"barpolar\": [{\"marker\": {\"line\": {\"color\": \"#E5ECF6\", \"width\": 0.5}}, \"type\": \"barpolar\"}], \"carpet\": [{\"aaxis\": {\"endlinecolor\": \"#2a3f5f\", \"gridcolor\": \"white\", \"linecolor\": \"white\", \"minorgridcolor\": \"white\", \"startlinecolor\": \"#2a3f5f\"}, \"baxis\": {\"endlinecolor\": \"#2a3f5f\", \"gridcolor\": \"white\", \"linecolor\": \"white\", \"minorgridcolor\": \"white\", \"startlinecolor\": \"#2a3f5f\"}, \"type\": \"carpet\"}], \"choropleth\": [{\"colorbar\": {\"outlinewidth\": 0, \"ticks\": \"\"}, \"type\": \"choropleth\"}], \"contour\": [{\"colorbar\": {\"outlinewidth\": 0, \"ticks\": \"\"}, \"colorscale\": [[0.0, \"#0d0887\"], [0.1111111111111111, \"#46039f\"], [0.2222222222222222, \"#7201a8\"], [0.3333333333333333, \"#9c179e\"], [0.4444444444444444, \"#bd3786\"], [0.5555555555555556, \"#d8576b\"], [0.6666666666666666, \"#ed7953\"], [0.7777777777777778, \"#fb9f3a\"], [0.8888888888888888, \"#fdca26\"], [1.0, \"#f0f921\"]], \"type\": \"contour\"}], \"contourcarpet\": [{\"colorbar\": {\"outlinewidth\": 0, \"ticks\": \"\"}, \"type\": \"contourcarpet\"}], \"heatmap\": [{\"colorbar\": {\"outlinewidth\": 0, \"ticks\": \"\"}, \"colorscale\": [[0.0, \"#0d0887\"], [0.1111111111111111, \"#46039f\"], [0.2222222222222222, \"#7201a8\"], [0.3333333333333333, \"#9c179e\"], [0.4444444444444444, \"#bd3786\"], [0.5555555555555556, \"#d8576b\"], [0.6666666666666666, \"#ed7953\"], [0.7777777777777778, \"#fb9f3a\"], [0.8888888888888888, \"#fdca26\"], [1.0, \"#f0f921\"]], \"type\": \"heatmap\"}], \"heatmapgl\": [{\"colorbar\": {\"outlinewidth\": 0, \"ticks\": \"\"}, \"colorscale\": [[0.0, \"#0d0887\"], [0.1111111111111111, \"#46039f\"], [0.2222222222222222, \"#7201a8\"], [0.3333333333333333, \"#9c179e\"], [0.4444444444444444, \"#bd3786\"], [0.5555555555555556, \"#d8576b\"], [0.6666666666666666, \"#ed7953\"], [0.7777777777777778, \"#fb9f3a\"], [0.8888888888888888, \"#fdca26\"], [1.0, \"#f0f921\"]], \"type\": \"heatmapgl\"}], \"histogram\": [{\"marker\": {\"colorbar\": {\"outlinewidth\": 0, \"ticks\": \"\"}}, \"type\": \"histogram\"}], \"histogram2d\": [{\"colorbar\": {\"outlinewidth\": 0, \"ticks\": \"\"}, \"colorscale\": [[0.0, \"#0d0887\"], [0.1111111111111111, \"#46039f\"], [0.2222222222222222, \"#7201a8\"], [0.3333333333333333, \"#9c179e\"], [0.4444444444444444, \"#bd3786\"], [0.5555555555555556, \"#d8576b\"], [0.6666666666666666, \"#ed7953\"], [0.7777777777777778, \"#fb9f3a\"], [0.8888888888888888, \"#fdca26\"], [1.0, \"#f0f921\"]], \"type\": \"histogram2d\"}], \"histogram2dcontour\": [{\"colorbar\": {\"outlinewidth\": 0, \"ticks\": \"\"}, \"colorscale\": [[0.0, \"#0d0887\"], [0.1111111111111111, \"#46039f\"], [0.2222222222222222, \"#7201a8\"], [0.3333333333333333, \"#9c179e\"], [0.4444444444444444, \"#bd3786\"], [0.5555555555555556, \"#d8576b\"], [0.6666666666666666, \"#ed7953\"], [0.7777777777777778, \"#fb9f3a\"], [0.8888888888888888, \"#fdca26\"], [1.0, \"#f0f921\"]], \"type\": \"histogram2dcontour\"}], \"mesh3d\": [{\"colorbar\": {\"outlinewidth\": 0, \"ticks\": \"\"}, \"type\": \"mesh3d\"}], \"parcoords\": [{\"line\": {\"colorbar\": {\"outlinewidth\": 0, \"ticks\": \"\"}}, \"type\": \"parcoords\"}], \"pie\": [{\"automargin\": true, \"type\": \"pie\"}], \"scatter\": [{\"marker\": {\"colorbar\": {\"outlinewidth\": 0, \"ticks\": \"\"}}, \"type\": \"scatter\"}], \"scatter3d\": [{\"line\": {\"colorbar\": {\"outlinewidth\": 0, \"ticks\": \"\"}}, \"marker\": {\"colorbar\": {\"outlinewidth\": 0, \"ticks\": \"\"}}, \"type\": \"scatter3d\"}], \"scattercarpet\": [{\"marker\": {\"colorbar\": {\"outlinewidth\": 0, \"ticks\": \"\"}}, \"type\": \"scattercarpet\"}], \"scattergeo\": [{\"marker\": {\"colorbar\": {\"outlinewidth\": 0, \"ticks\": \"\"}}, \"type\": \"scattergeo\"}], \"scattergl\": [{\"marker\": {\"colorbar\": {\"outlinewidth\": 0, \"ticks\": \"\"}}, \"type\": \"scattergl\"}], \"scattermapbox\": [{\"marker\": {\"colorbar\": {\"outlinewidth\": 0, \"ticks\": \"\"}}, \"type\": \"scattermapbox\"}], \"scatterpolar\": [{\"marker\": {\"colorbar\": {\"outlinewidth\": 0, \"ticks\": \"\"}}, \"type\": \"scatterpolar\"}], \"scatterpolargl\": [{\"marker\": {\"colorbar\": {\"outlinewidth\": 0, \"ticks\": \"\"}}, \"type\": \"scatterpolargl\"}], \"scatterternary\": [{\"marker\": {\"colorbar\": {\"outlinewidth\": 0, \"ticks\": \"\"}}, \"type\": \"scatterternary\"}], \"surface\": [{\"colorbar\": {\"outlinewidth\": 0, \"ticks\": \"\"}, \"colorscale\": [[0.0, \"#0d0887\"], [0.1111111111111111, \"#46039f\"], [0.2222222222222222, \"#7201a8\"], [0.3333333333333333, \"#9c179e\"], [0.4444444444444444, \"#bd3786\"], [0.5555555555555556, \"#d8576b\"], [0.6666666666666666, \"#ed7953\"], [0.7777777777777778, \"#fb9f3a\"], [0.8888888888888888, \"#fdca26\"], [1.0, \"#f0f921\"]], \"type\": \"surface\"}], \"table\": [{\"cells\": {\"fill\": {\"color\": \"#EBF0F8\"}, \"line\": {\"color\": \"white\"}}, \"header\": {\"fill\": {\"color\": \"#C8D4E3\"}, \"line\": {\"color\": \"white\"}}, \"type\": \"table\"}]}, \"layout\": {\"annotationdefaults\": {\"arrowcolor\": \"#2a3f5f\", \"arrowhead\": 0, \"arrowwidth\": 1}, \"autotypenumbers\": \"strict\", \"coloraxis\": {\"colorbar\": {\"outlinewidth\": 0, \"ticks\": \"\"}}, \"colorscale\": {\"diverging\": [[0, \"#8e0152\"], [0.1, \"#c51b7d\"], [0.2, \"#de77ae\"], [0.3, \"#f1b6da\"], [0.4, \"#fde0ef\"], [0.5, \"#f7f7f7\"], [0.6, \"#e6f5d0\"], [0.7, \"#b8e186\"], [0.8, \"#7fbc41\"], [0.9, \"#4d9221\"], [1, \"#276419\"]], \"sequential\": [[0.0, \"#0d0887\"], [0.1111111111111111, \"#46039f\"], [0.2222222222222222, \"#7201a8\"], [0.3333333333333333, \"#9c179e\"], [0.4444444444444444, \"#bd3786\"], [0.5555555555555556, \"#d8576b\"], [0.6666666666666666, \"#ed7953\"], [0.7777777777777778, \"#fb9f3a\"], [0.8888888888888888, \"#fdca26\"], [1.0, \"#f0f921\"]], \"sequentialminus\": [[0.0, \"#0d0887\"], [0.1111111111111111, \"#46039f\"], [0.2222222222222222, \"#7201a8\"], [0.3333333333333333, \"#9c179e\"], [0.4444444444444444, \"#bd3786\"], [0.5555555555555556, \"#d8576b\"], [0.6666666666666666, \"#ed7953\"], [0.7777777777777778, \"#fb9f3a\"], [0.8888888888888888, \"#fdca26\"], [1.0, \"#f0f921\"]]}, \"colorway\": [\"#636efa\", \"#EF553B\", \"#00cc96\", \"#ab63fa\", \"#FFA15A\", \"#19d3f3\", \"#FF6692\", \"#B6E880\", \"#FF97FF\", \"#FECB52\"], \"font\": {\"color\": \"#2a3f5f\"}, \"geo\": {\"bgcolor\": \"white\", \"lakecolor\": \"white\", \"landcolor\": \"#E5ECF6\", \"showlakes\": true, \"showland\": true, \"subunitcolor\": \"white\"}, \"hoverlabel\": {\"align\": \"left\"}, \"hovermode\": \"closest\", \"mapbox\": {\"style\": \"light\"}, \"paper_bgcolor\": \"white\", \"plot_bgcolor\": \"#E5ECF6\", \"polar\": {\"angularaxis\": {\"gridcolor\": \"white\", \"linecolor\": \"white\", \"ticks\": \"\"}, \"bgcolor\": \"#E5ECF6\", \"radialaxis\": {\"gridcolor\": \"white\", \"linecolor\": \"white\", \"ticks\": \"\"}}, \"scene\": {\"xaxis\": {\"backgroundcolor\": \"#E5ECF6\", \"gridcolor\": \"white\", \"gridwidth\": 2, \"linecolor\": \"white\", \"showbackground\": true, \"ticks\": \"\", \"zerolinecolor\": \"white\"}, \"yaxis\": {\"backgroundcolor\": \"#E5ECF6\", \"gridcolor\": \"white\", \"gridwidth\": 2, \"linecolor\": \"white\", \"showbackground\": true, \"ticks\": \"\", \"zerolinecolor\": \"white\"}, \"zaxis\": {\"backgroundcolor\": \"#E5ECF6\", \"gridcolor\": \"white\", \"gridwidth\": 2, \"linecolor\": \"white\", \"showbackground\": true, \"ticks\": \"\", \"zerolinecolor\": \"white\"}}, \"shapedefaults\": {\"line\": {\"color\": \"#2a3f5f\"}}, \"ternary\": {\"aaxis\": {\"gridcolor\": \"white\", \"linecolor\": \"white\", \"ticks\": \"\"}, \"baxis\": {\"gridcolor\": \"white\", \"linecolor\": \"white\", \"ticks\": \"\"}, \"bgcolor\": \"#E5ECF6\", \"caxis\": {\"gridcolor\": \"white\", \"linecolor\": \"white\", \"ticks\": \"\"}}, \"title\": {\"x\": 0.05}, \"xaxis\": {\"automargin\": true, \"gridcolor\": \"white\", \"linecolor\": \"white\", \"ticks\": \"\", \"title\": {\"standoff\": 15}, \"zerolinecolor\": \"white\", \"zerolinewidth\": 2}, \"yaxis\": {\"automargin\": true, \"gridcolor\": \"white\", \"linecolor\": \"white\", \"ticks\": \"\", \"title\": {\"standoff\": 15}, \"zerolinecolor\": \"white\", \"zerolinewidth\": 2}}}, \"title\": {\"text\": \"Vessel planning\"}, \"xaxis\": {\"range\": [\"1970-01-01T00:00:00\", \"1970-01-01T00:06:10\"], \"title\": {\"font\": {\"color\": \"#7f7f7f\", \"family\": \"Courier New, monospace\", \"size\": 18}, \"text\": \"Time\"}}, \"yaxis\": {\"title\": {\"font\": {\"color\": \"#7f7f7f\", \"family\": \"Courier New, monospace\", \"size\": 18}, \"text\": \"Vessels\"}}},                        {\"responsive\": true}                    ).then(function(){\n",
       "                            \n",
       "var gd = document.getElementById('5283de9f-e299-41ab-8994-5aba31f47935');\n",
       "var x = new MutationObserver(function (mutations, observer) {{\n",
       "        var display = window.getComputedStyle(gd).display;\n",
       "        if (!display || display === 'none') {{\n",
       "            console.log([gd, 'removed!']);\n",
       "            Plotly.purge(gd);\n",
       "            observer.disconnect();\n",
       "        }}\n",
       "}});\n",
       "\n",
       "// Listen for the removal of the full notebook cells\n",
       "var notebookContainer = gd.closest('#notebook-container');\n",
       "if (notebookContainer) {{\n",
       "    x.observe(notebookContainer, {childList: true});\n",
       "}}\n",
       "\n",
       "// Listen for the clearing of the current output cell\n",
       "var outputEl = gd.closest('.output');\n",
       "if (outputEl) {{\n",
       "    x.observe(outputEl, {childList: true});\n",
       "}}\n",
       "\n",
       "                        })                };                });            </script>        </div>"
      ]
     },
     "metadata": {},
     "output_type": "display_data"
    }
   ],
   "source": [
    "acts = []\n",
    "for p in processes:\n",
    "    acts.extend(p.sub_processes[0].sub_processes)\n",
    "    \n",
    "plot.vessel_planning(acts)"
   ]
  },
  {
   "cell_type": "code",
   "execution_count": 9,
   "id": "experimental-chester",
   "metadata": {},
   "outputs": [
    {
     "data": {
      "image/png": "[encoded data removed]",
      "text/plain": [
       "<Figure size 432x288 with 1 Axes>"
      ]
     },
     "metadata": {
      "needs_background": "light"
     },
     "output_type": "display_data"
    }
   ],
   "source": [
    "fig = plot.get_step_chart([from_site,in_between, to_site])"
   ]
  },
  {
   "cell_type": "code",
   "execution_count": null,
   "id": "dramatic-spice",
   "metadata": {},
   "outputs": [],
   "source": []
  },
  {
   "cell_type": "code",
   "execution_count": null,
   "id": "eight-stuff",
   "metadata": {},
   "outputs": [],
   "source": []
  },
  {
   "cell_type": "code",
   "execution_count": null,
   "id": "forced-medicine",
   "metadata": {},
   "outputs": [],
   "source": []
  }
 ],
 "metadata": {
  "kernelspec": {
   "display_name": "Python 3",
   "language": "python",
   "name": "python3"
  },
  "language_info": {
   "codemirror_mode": {
    "name": "ipython",
    "version": 3
   },
   "file_extension": ".py",
   "mimetype": "text/x-python",
   "name": "python",
   "nbconvert_exporter": "python",
   "pygments_lexer": "ipython3",
   "version": "3.7.3"
  }
 },
 "nbformat": 4,
 "nbformat_minor": 5
}
