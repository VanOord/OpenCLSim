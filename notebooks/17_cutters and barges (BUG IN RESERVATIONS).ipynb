{
 "cells": [
  {
   "cell_type": "code",
   "execution_count": 1,
   "metadata": {},
   "outputs": [],
   "source": [
    "import datetime, time\n",
    "import simpy\n",
    "\n",
    "import shapely.geometry\n",
    "\n",
    "\n",
    "import pandas as pd\n",
    "import openclsim.core as core\n",
    "import openclsim.model as model\n",
    "import openclsim.plot as plot\n",
    "\n",
    "import datetime\n",
    "\n",
    "import numpy as np"
   ]
  },
  {
   "cell_type": "code",
   "execution_count": 2,
   "metadata": {},
   "outputs": [],
   "source": [
    "simulation_start = datetime.datetime.now()\n",
    "\n",
    "my_env = simpy.Environment(initial_time=time.mktime(simulation_start.timetuple()))\n",
    "my_env.epoch = time.mktime(simulation_start.timetuple())\n",
    "\n",
    "registry = {}\n",
    "keep_resources = {}"
   ]
  },
  {
   "cell_type": "code",
   "execution_count": 3,
   "metadata": {},
   "outputs": [],
   "source": [
    "Site = type(\n",
    "    \"Site\",\n",
    "    (\n",
    "        core.Identifiable,\n",
    "        core.Log,\n",
    "        core.Locatable,\n",
    "        core.HasContainer,\n",
    "        core.HasResource,\n",
    "    ),\n",
    "    {},\n",
    ")\n",
    "\n",
    "\n",
    "TransportProcessingResource = type(\n",
    "    \"TransportProcessingResource\",\n",
    "    (\n",
    "        core.Identifiable,\n",
    "        core.Log,\n",
    "        core.ContainerDependentMovable,\n",
    "        core.Processor,\n",
    "        core.HasResource,\n",
    "        core.LoadingFunction,\n",
    "        core.UnloadingFunction,\n",
    "    ),\n",
    "    {},\n",
    ")"
   ]
  },
  {
   "cell_type": "code",
   "execution_count": 4,
   "metadata": {},
   "outputs": [],
   "source": [
    "location_from_site = shapely.geometry.Point(5.1, 52)\n",
    "location_to_site = shapely.geometry.Point(5, 52.1)\n",
    "location_to_site_2 = shapely.geometry.Point(5, 52.2)\n",
    "\n",
    "data_from_site = {\n",
    "    \"env\": my_env,\n",
    "    \"name\": \"Winlocatie\",\n",
    "    \"geometry\": location_from_site,\n",
    "    \"capacity\": 100,\n",
    "    \"level\": 100,\n",
    "}\n",
    "\n",
    "data_to_site = {\n",
    "    \"env\": my_env,\n",
    "    \"name\": \"Dumplocatie\",\n",
    "    \"geometry\": location_to_site,\n",
    "    \"capacity\": 55,\n",
    "    \"level\": 0,\n",
    "}\n",
    "\n",
    "\n",
    "from_site = Site(**data_from_site)\n",
    "to_site = Site(**data_to_site)\n"
   ]
  },
  {
   "cell_type": "code",
   "execution_count": 5,
   "metadata": {},
   "outputs": [],
   "source": [
    "data_cutter = {\n",
    "    \"env\": my_env,\n",
    "    \"name\": \"Cutter_1\",\n",
    "    \"geometry\": location_from_site,\n",
    "    \"capacity\": 5,\n",
    "    \"compute_v\": lambda x: 10,\n",
    "    \"loading_rate\": 3600/5,\n",
    "    \"unloading_rate\": 3600/5\n",
    "}\n",
    "\n",
    "\n",
    "data_barge_1 = {\n",
    "    \"env\": my_env,\n",
    "    \"name\": \"Barge_1\",\n",
    "    \"geometry\": location_to_site,\n",
    "    \"capacity\": 5,\n",
    "    \"compute_v\": lambda x: 10,\n",
    "    \"loading_rate\": 3600/5,\n",
    "    \"unloading_rate\": 3600/5\n",
    "}\n",
    "\n",
    "\n",
    "data_barge_2 = {\n",
    "    \"env\": my_env,\n",
    "    \"name\": \"Barge_2\",\n",
    "    \"geometry\": location_to_site,\n",
    "    \"capacity\": 5,\n",
    "    \"compute_v\": lambda x: 10,\n",
    "    \"loading_rate\": 3600/5,\n",
    "    \"unloading_rate\": 3600/5\n",
    "}\n",
    "\n",
    "cutter = TransportProcessingResource(**data_cutter)\n",
    "barge_1 = TransportProcessingResource(**data_barge_1)\n",
    "barge_2 = TransportProcessingResource(**data_barge_2)"
   ]
  },
  {
   "cell_type": "code",
   "execution_count": 6,
   "metadata": {},
   "outputs": [],
   "source": [
    "requested_resources = {}\n",
    "\n",
    "single_run = [\n",
    "    model.MoveActivity(**{\n",
    "        \"env\": my_env,\n",
    "        \"name\": \"sailing empty_1\",\n",
    "        \"registry\": registry,\n",
    "        \"mover\": barge_1,\n",
    "        \"destination\": from_site,\n",
    "    }),\n",
    "    model.ShiftAmountActivity(**{\n",
    "        \"env\": my_env,\n",
    "        \"name\": \"Transfer MP_1\",\n",
    "        \"registry\": registry,\n",
    "        \"processor\": cutter,\n",
    "        \"origin\": from_site,\n",
    "        \"destination\": barge_1,\n",
    "        \"amount\": 5,\n",
    "        \"duration\": 3600,\n",
    "#         \"requested_resources\":requested_resources\n",
    "    }),\n",
    "    model.MoveActivity(**{\n",
    "        \"env\": my_env,\n",
    "        \"name\": \"sailing filled_1\",\n",
    "        \"registry\": registry,\n",
    "        \"mover\": barge_1,\n",
    "        \"destination\": to_site,\n",
    "    }),\n",
    "    model.ShiftAmountActivity(**{\n",
    "        \"env\": my_env,\n",
    "        \"name\": \"Transfer TP_1\",\n",
    "        \"registry\": registry,\n",
    "        \"processor\": barge_1,\n",
    "        \"origin\": barge_1,\n",
    "        \"destination\": to_site,\n",
    "        \"amount\": 5,\n",
    "        \"duration\": 3600,\n",
    "#         \"requested_resources\":requested_resources\n",
    "    })\n",
    "]\n",
    "\n",
    "\n",
    "sequential_activity_data = {\n",
    "    \"env\": my_env,\n",
    "    \"name\": \"Single run process_1\",\n",
    "    \"registry\": registry,\n",
    "    \"sub_processes\": single_run,\n",
    "}\n",
    "activity = model.SequentialActivity(**sequential_activity_data)\n",
    "\n",
    "while_activity = model.WhileActivity(**{\n",
    "    \"env\": my_env,\n",
    "    \"name\": \"while_1\",\n",
    "    \"registry\": registry,\n",
    "    \"sub_processes\": [activity],\n",
    "    \"condition_event\": [{\"type\":\"container\", \"concept\": to_site, \"state\":\"full\"}],\n",
    "})"
   ]
  },
  {
   "cell_type": "code",
   "execution_count": 7,
   "metadata": {},
   "outputs": [],
   "source": [
    "single_run = [\n",
    "    model.MoveActivity(**{\n",
    "        \"env\": my_env,\n",
    "        \"name\": \"sailing empty_2\",\n",
    "        \"registry\": registry,\n",
    "        \"mover\": barge_2,\n",
    "        \"destination\": from_site,\n",
    "    }),\n",
    "    model.ShiftAmountActivity(**{\n",
    "        \"env\": my_env,\n",
    "        \"name\": \"Transfer MP_2\",\n",
    "        \"registry\": registry,\n",
    "        \"processor\": cutter,\n",
    "        \"origin\": from_site,\n",
    "        \"destination\": barge_2,\n",
    "        \"amount\": 5,\n",
    "        \"duration\": 3600,\n",
    "    }),\n",
    "    model.MoveActivity(**{\n",
    "        \"env\": my_env,\n",
    "        \"name\": \"sailing filled_2\",\n",
    "        \"registry\": registry,\n",
    "        \"mover\": barge_2,\n",
    "        \"destination\": to_site,\n",
    "    }),\n",
    "    model.ShiftAmountActivity(**{\n",
    "        \"env\": my_env,\n",
    "        \"name\": \"Transfer TP_2\",\n",
    "        \"registry\": registry,\n",
    "        \"processor\": barge_2,\n",
    "        \"origin\": barge_2,\n",
    "        \"destination\": to_site,\n",
    "        \"amount\": 5,\n",
    "        \"duration\": 3600,\n",
    "    })\n",
    "]\n",
    "\n",
    "\n",
    "activity = model.SequentialActivity(** {\n",
    "    \"env\": my_env,\n",
    "    \"name\": \"Single run process_2\",\n",
    "    \"registry\": registry,\n",
    "    \"sub_processes\": single_run,\n",
    "})\n",
    "\n",
    "while_activity2 = model.WhileActivity(**{\n",
    "    \"name\": \"while_2\",\n",
    "    \"env\": my_env,\n",
    "    \"registry\": registry,\n",
    "    \"sub_processes\": [activity],\n",
    "    \"condition_event\": [{\"type\":\"container\", \"concept\": to_site, \"state\":\"full\"}],\n",
    "})"
   ]
  },
  {
   "cell_type": "code",
   "execution_count": 8,
   "metadata": {
    "scrolled": true
   },
   "outputs": [
    {
     "ename": "AssertionError",
     "evalue": "",
     "output_type": "error",
     "traceback": [
      "\u001b[0;31m------------------------------------------------------------------\u001b[0m",
      "\u001b[0;31mAssertionError\u001b[0m                   Traceback (most recent call last)",
      "\u001b[0;32m/OpenCLSim/openclsim/model/base_activities.py\u001b[0m in \u001b[0;36mdelayed_process\u001b[0;34m(self, activity_log, env)\u001b[0m\n\u001b[1;32m    250\u001b[0m \u001b[0;34m\u001b[0m\u001b[0m\n\u001b[0;32m--> 251\u001b[0;31m         \u001b[0;32myield\u001b[0m \u001b[0;32mfrom\u001b[0m \u001b[0mself\u001b[0m\u001b[0;34m.\u001b[0m\u001b[0mmain_process_function\u001b[0m\u001b[0;34m(\u001b[0m\u001b[0mactivity_log\u001b[0m\u001b[0;34m=\u001b[0m\u001b[0mself\u001b[0m\u001b[0;34m,\u001b[0m \u001b[0menv\u001b[0m\u001b[0;34m=\u001b[0m\u001b[0mself\u001b[0m\u001b[0;34m.\u001b[0m\u001b[0menv\u001b[0m\u001b[0;34m)\u001b[0m\u001b[0;34m\u001b[0m\u001b[0;34m\u001b[0m\u001b[0m\n\u001b[0m\u001b[1;32m    252\u001b[0m \u001b[0;34m\u001b[0m\u001b[0m\n",
      "\u001b[0;32m/OpenCLSim/openclsim/model/shift_amount_activity.py\u001b[0m in \u001b[0;36mmain_process_function\u001b[0;34m(self, activity_log, env)\u001b[0m\n\u001b[1;32m    118\u001b[0m             \u001b[0menv\u001b[0m\u001b[0;34m,\u001b[0m\u001b[0;34m\u001b[0m\u001b[0;34m\u001b[0m\u001b[0m\n\u001b[0;32m--> 119\u001b[0;31m             \u001b[0mactivity_id\u001b[0m\u001b[0;34m=\u001b[0m\u001b[0mactivity_log\u001b[0m\u001b[0;34m.\u001b[0m\u001b[0mid\u001b[0m\u001b[0;34m,\u001b[0m\u001b[0;34m\u001b[0m\u001b[0;34m\u001b[0m\u001b[0m\n\u001b[0m\u001b[1;32m    120\u001b[0m         )\n",
      "\u001b[0;32m/OpenCLSim/openclsim/model/shift_amount_activity.py\u001b[0m in \u001b[0;36m_shift_amount\u001b[0;34m(self, env, activity_id)\u001b[0m\n\u001b[1;32m    150\u001b[0m             \u001b[0mid_\u001b[0m\u001b[0;34m=\u001b[0m\u001b[0mself\u001b[0m\u001b[0;34m.\u001b[0m\u001b[0mid_\u001b[0m\u001b[0;34m,\u001b[0m\u001b[0;34m\u001b[0m\u001b[0;34m\u001b[0m\u001b[0m\n\u001b[0;32m--> 151\u001b[0;31m             \u001b[0mshiftamount_fcn\u001b[0m\u001b[0;34m=\u001b[0m\u001b[0mshiftamount_fcn\u001b[0m\u001b[0;34m,\u001b[0m\u001b[0;34m\u001b[0m\u001b[0;34m\u001b[0m\u001b[0m\n\u001b[0m\u001b[1;32m    152\u001b[0m         )\n",
      "\u001b[0;32m/OpenCLSim/openclsim/core/processor.py\u001b[0m in \u001b[0;36mprocess\u001b[0;34m(self, origin, destination, shiftamount_fcn, id_)\u001b[0m\n\u001b[1;32m     93\u001b[0m         \u001b[0;32myield\u001b[0m \u001b[0mself\u001b[0m\u001b[0;34m.\u001b[0m\u001b[0menv\u001b[0m\u001b[0;34m.\u001b[0m\u001b[0mtimeout\u001b[0m\u001b[0;34m(\u001b[0m\u001b[0mduration\u001b[0m\u001b[0;34m)\u001b[0m\u001b[0;34m\u001b[0m\u001b[0;34m\u001b[0m\u001b[0m\n\u001b[0;32m---> 94\u001b[0;31m         \u001b[0;32myield\u001b[0m \u001b[0;32mfrom\u001b[0m \u001b[0mself\u001b[0m\u001b[0;34m.\u001b[0m\u001b[0mput_in_destination\u001b[0m\u001b[0;34m(\u001b[0m\u001b[0mdestination\u001b[0m\u001b[0;34m,\u001b[0m \u001b[0mamount\u001b[0m\u001b[0;34m,\u001b[0m \u001b[0mid_\u001b[0m\u001b[0;34m)\u001b[0m\u001b[0;34m\u001b[0m\u001b[0;34m\u001b[0m\u001b[0m\n\u001b[0m\u001b[1;32m     95\u001b[0m \u001b[0;34m\u001b[0m\u001b[0m\n",
      "\u001b[0;32m/OpenCLSim/openclsim/core/processor.py\u001b[0m in \u001b[0;36mput_in_destination\u001b[0;34m(self, destination, amount, id_)\u001b[0m\n\u001b[1;32m    130\u001b[0m         \u001b[0mstart_time\u001b[0m \u001b[0;34m=\u001b[0m \u001b[0mself\u001b[0m\u001b[0;34m.\u001b[0m\u001b[0menv\u001b[0m\u001b[0;34m.\u001b[0m\u001b[0mnow\u001b[0m\u001b[0;34m\u001b[0m\u001b[0;34m\u001b[0m\u001b[0m\n\u001b[0;32m--> 131\u001b[0;31m         \u001b[0;32myield\u001b[0m \u001b[0mdestination\u001b[0m\u001b[0;34m.\u001b[0m\u001b[0mcontainer\u001b[0m\u001b[0;34m.\u001b[0m\u001b[0mput\u001b[0m\u001b[0;34m(\u001b[0m\u001b[0mamount\u001b[0m\u001b[0;34m,\u001b[0m \u001b[0mid_\u001b[0m\u001b[0;34m=\u001b[0m\u001b[0mid_\u001b[0m\u001b[0;34m)\u001b[0m\u001b[0;34m\u001b[0m\u001b[0;34m\u001b[0m\u001b[0m\n\u001b[0m\u001b[1;32m    132\u001b[0m         \u001b[0mend_time\u001b[0m \u001b[0;34m=\u001b[0m \u001b[0mself\u001b[0m\u001b[0;34m.\u001b[0m\u001b[0menv\u001b[0m\u001b[0;34m.\u001b[0m\u001b[0mnow\u001b[0m\u001b[0;34m\u001b[0m\u001b[0;34m\u001b[0m\u001b[0m\n",
      "\u001b[0;32m/OpenCLSim/openclsim/core/events_container.py\u001b[0m in \u001b[0;36mput\u001b[0;34m(self, amount, id_)\u001b[0m\n\u001b[1;32m     85\u001b[0m     \u001b[0;32mdef\u001b[0m \u001b[0mput\u001b[0m\u001b[0;34m(\u001b[0m\u001b[0mself\u001b[0m\u001b[0;34m,\u001b[0m \u001b[0mamount\u001b[0m\u001b[0;34m,\u001b[0m \u001b[0mid_\u001b[0m\u001b[0;34m=\u001b[0m\u001b[0;34m\"default\"\u001b[0m\u001b[0;34m)\u001b[0m\u001b[0;34m:\u001b[0m\u001b[0;34m\u001b[0m\u001b[0;34m\u001b[0m\u001b[0m\n\u001b[0;32m---> 86\u001b[0;31m         \u001b[0;32massert\u001b[0m \u001b[0mself\u001b[0m\u001b[0;34m.\u001b[0m\u001b[0mput_available\u001b[0m\u001b[0;34m(\u001b[0m\u001b[0mamount\u001b[0m\u001b[0;34m=\u001b[0m\u001b[0mamount\u001b[0m\u001b[0;34m,\u001b[0m \u001b[0mid_\u001b[0m\u001b[0;34m=\u001b[0m\u001b[0mid_\u001b[0m\u001b[0;34m)\u001b[0m\u001b[0;34m.\u001b[0m\u001b[0mtriggered\u001b[0m\u001b[0;34m\u001b[0m\u001b[0;34m\u001b[0m\u001b[0m\n\u001b[0m\u001b[1;32m     87\u001b[0m \u001b[0;34m\u001b[0m\u001b[0m\n",
      "\u001b[0;31mAssertionError\u001b[0m: ",
      "\nThe above exception was the direct cause of the following exception:\n",
      "\u001b[0;31mAssertionError\u001b[0m                   Traceback (most recent call last)",
      "\u001b[0;32m/OpenCLSim/openclsim/model/base_activities.py\u001b[0m in \u001b[0;36mdelayed_process\u001b[0;34m(self, activity_log, env)\u001b[0m\n\u001b[1;32m    250\u001b[0m \u001b[0;34m\u001b[0m\u001b[0m\n\u001b[0;32m--> 251\u001b[0;31m         \u001b[0;32myield\u001b[0m \u001b[0;32mfrom\u001b[0m \u001b[0mself\u001b[0m\u001b[0;34m.\u001b[0m\u001b[0mmain_process_function\u001b[0m\u001b[0;34m(\u001b[0m\u001b[0mactivity_log\u001b[0m\u001b[0;34m=\u001b[0m\u001b[0mself\u001b[0m\u001b[0;34m,\u001b[0m \u001b[0menv\u001b[0m\u001b[0;34m=\u001b[0m\u001b[0mself\u001b[0m\u001b[0;34m.\u001b[0m\u001b[0menv\u001b[0m\u001b[0;34m)\u001b[0m\u001b[0;34m\u001b[0m\u001b[0;34m\u001b[0m\u001b[0m\n\u001b[0m\u001b[1;32m    252\u001b[0m \u001b[0;34m\u001b[0m\u001b[0m\n",
      "\u001b[0;32m/OpenCLSim/openclsim/model/sequential_activity.py\u001b[0m in \u001b[0;36mmain_process_function\u001b[0;34m(self, activity_log, env)\u001b[0m\n\u001b[1;32m     68\u001b[0m             )\n\u001b[0;32m---> 69\u001b[0;31m             \u001b[0;32myield\u001b[0m \u001b[0mstop_event\u001b[0m\u001b[0;34m\u001b[0m\u001b[0;34m\u001b[0m\u001b[0m\n\u001b[0m\u001b[1;32m     70\u001b[0m \u001b[0;34m\u001b[0m\u001b[0m\n",
      "\u001b[0;31mAssertionError\u001b[0m: ",
      "\nThe above exception was the direct cause of the following exception:\n",
      "\u001b[0;31mAssertionError\u001b[0m                   Traceback (most recent call last)",
      "\u001b[0;32m/OpenCLSim/openclsim/model/base_activities.py\u001b[0m in \u001b[0;36mdelayed_process\u001b[0;34m(self, activity_log, env)\u001b[0m\n\u001b[1;32m    250\u001b[0m \u001b[0;34m\u001b[0m\u001b[0m\n\u001b[0;32m--> 251\u001b[0;31m         \u001b[0;32myield\u001b[0m \u001b[0;32mfrom\u001b[0m \u001b[0mself\u001b[0m\u001b[0;34m.\u001b[0m\u001b[0mmain_process_function\u001b[0m\u001b[0;34m(\u001b[0m\u001b[0mactivity_log\u001b[0m\u001b[0;34m=\u001b[0m\u001b[0mself\u001b[0m\u001b[0;34m,\u001b[0m \u001b[0menv\u001b[0m\u001b[0;34m=\u001b[0m\u001b[0mself\u001b[0m\u001b[0;34m.\u001b[0m\u001b[0menv\u001b[0m\u001b[0;34m)\u001b[0m\u001b[0;34m\u001b[0m\u001b[0;34m\u001b[0m\u001b[0m\n\u001b[0m\u001b[1;32m    252\u001b[0m \u001b[0;34m\u001b[0m\u001b[0m\n",
      "\u001b[0;32m/OpenCLSim/openclsim/model/while_activity.py\u001b[0m in \u001b[0;36mmain_process_function\u001b[0;34m(self, activity_log, env)\u001b[0m\n\u001b[1;32m     53\u001b[0m                 )\n\u001b[0;32m---> 54\u001b[0;31m                 \u001b[0;32myield\u001b[0m \u001b[0mstop_event\u001b[0m\u001b[0;34m\u001b[0m\u001b[0;34m\u001b[0m\u001b[0m\n\u001b[0m\u001b[1;32m     55\u001b[0m \u001b[0;34m\u001b[0m\u001b[0m\n",
      "\u001b[0;31mAssertionError\u001b[0m: ",
      "\nThe above exception was the direct cause of the following exception:\n",
      "\u001b[0;31mAssertionError\u001b[0m                   Traceback (most recent call last)",
      "\u001b[0;32m<ipython-input-8-471429fbd4a5>\u001b[0m in \u001b[0;36m<module>\u001b[0;34m\u001b[0m\n\u001b[1;32m      1\u001b[0m \u001b[0mmodel\u001b[0m\u001b[0;34m.\u001b[0m\u001b[0mregister_processes\u001b[0m\u001b[0;34m(\u001b[0m\u001b[0;34m[\u001b[0m\u001b[0mwhile_activity2\u001b[0m\u001b[0;34m,\u001b[0m \u001b[0mwhile_activity\u001b[0m\u001b[0;34m]\u001b[0m\u001b[0;34m)\u001b[0m\u001b[0;34m\u001b[0m\u001b[0;34m\u001b[0m\u001b[0m\n\u001b[0;32m----> 2\u001b[0;31m \u001b[0mmy_env\u001b[0m\u001b[0;34m.\u001b[0m\u001b[0mrun\u001b[0m\u001b[0;34m(\u001b[0m\u001b[0;34m)\u001b[0m\u001b[0;34m\u001b[0m\u001b[0;34m\u001b[0m\u001b[0m\n\u001b[0m",
      "\u001b[0;32m/opt/conda/lib/python3.7/site-packages/simpy/core.py\u001b[0m in \u001b[0;36mrun\u001b[0;34m(self, until)\u001b[0m\n\u001b[1;32m    252\u001b[0m         \u001b[0;32mtry\u001b[0m\u001b[0;34m:\u001b[0m\u001b[0;34m\u001b[0m\u001b[0;34m\u001b[0m\u001b[0m\n\u001b[1;32m    253\u001b[0m             \u001b[0;32mwhile\u001b[0m \u001b[0;32mTrue\u001b[0m\u001b[0;34m:\u001b[0m\u001b[0;34m\u001b[0m\u001b[0;34m\u001b[0m\u001b[0m\n\u001b[0;32m--> 254\u001b[0;31m                 \u001b[0mself\u001b[0m\u001b[0;34m.\u001b[0m\u001b[0mstep\u001b[0m\u001b[0;34m(\u001b[0m\u001b[0;34m)\u001b[0m\u001b[0;34m\u001b[0m\u001b[0;34m\u001b[0m\u001b[0m\n\u001b[0m\u001b[1;32m    255\u001b[0m         \u001b[0;32mexcept\u001b[0m \u001b[0mStopSimulation\u001b[0m \u001b[0;32mas\u001b[0m \u001b[0mexc\u001b[0m\u001b[0;34m:\u001b[0m\u001b[0;34m\u001b[0m\u001b[0;34m\u001b[0m\u001b[0m\n\u001b[1;32m    256\u001b[0m             \u001b[0;32mreturn\u001b[0m \u001b[0mexc\u001b[0m\u001b[0;34m.\u001b[0m\u001b[0margs\u001b[0m\u001b[0;34m[\u001b[0m\u001b[0;36m0\u001b[0m\u001b[0;34m]\u001b[0m  \u001b[0;31m# == until.value\u001b[0m\u001b[0;34m\u001b[0m\u001b[0;34m\u001b[0m\u001b[0m\n",
      "\u001b[0;32m/opt/conda/lib/python3.7/site-packages/simpy/core.py\u001b[0m in \u001b[0;36mstep\u001b[0;34m(self)\u001b[0m\n\u001b[1;32m    204\u001b[0m             \u001b[0mexc\u001b[0m \u001b[0;34m=\u001b[0m \u001b[0mtype\u001b[0m\u001b[0;34m(\u001b[0m\u001b[0mevent\u001b[0m\u001b[0;34m.\u001b[0m\u001b[0m_value\u001b[0m\u001b[0;34m)\u001b[0m\u001b[0;34m(\u001b[0m\u001b[0;34m*\u001b[0m\u001b[0mevent\u001b[0m\u001b[0;34m.\u001b[0m\u001b[0m_value\u001b[0m\u001b[0;34m.\u001b[0m\u001b[0margs\u001b[0m\u001b[0;34m)\u001b[0m\u001b[0;34m\u001b[0m\u001b[0;34m\u001b[0m\u001b[0m\n\u001b[1;32m    205\u001b[0m             \u001b[0mexc\u001b[0m\u001b[0;34m.\u001b[0m\u001b[0m__cause__\u001b[0m \u001b[0;34m=\u001b[0m \u001b[0mevent\u001b[0m\u001b[0;34m.\u001b[0m\u001b[0m_value\u001b[0m\u001b[0;34m\u001b[0m\u001b[0;34m\u001b[0m\u001b[0m\n\u001b[0;32m--> 206\u001b[0;31m             \u001b[0;32mraise\u001b[0m \u001b[0mexc\u001b[0m\u001b[0;34m\u001b[0m\u001b[0;34m\u001b[0m\u001b[0m\n\u001b[0m\u001b[1;32m    207\u001b[0m \u001b[0;34m\u001b[0m\u001b[0m\n\u001b[1;32m    208\u001b[0m     def run(\n",
      "\u001b[0;31mAssertionError\u001b[0m: "
     ]
    }
   ],
   "source": [
    "model.register_processes([while_activity2, while_activity])\n",
    "my_env.run()"
   ]
  },
  {
   "cell_type": "code",
   "execution_count": 9,
   "metadata": {},
   "outputs": [
    {
     "name": "stdout",
     "output_type": "stream",
     "text": [
      "Level of the to_site: 55, Capacity of the to_site 55\n"
     ]
    }
   ],
   "source": [
    "# !! BUGG !!\n",
    "#  why we need reservations:\n",
    "# !! BUGG !!\n",
    "\n",
    "print(f\"Level of the to_site: {to_site.container.get_level()}, Capacity of the to_site {to_site.container.get_capacity()}\")"
   ]
  },
  {
   "cell_type": "code",
   "execution_count": 10,
   "metadata": {},
   "outputs": [
    {
     "data": {
      "text/html": [
       "        <script type=\"text/javascript\">\n",
       "        window.PlotlyConfig = {MathJaxConfig: 'local'};\n",
       "        if (window.MathJax) {MathJax.Hub.Config({SVG: {font: \"STIX-Web\"}});}\n",
       "        if (typeof require !== 'undefined') {\n",
       "        require.undef(\"plotly\");\n",
       "        requirejs.config({\n",
       "            paths: {\n",
       "                'plotly': ['https://cdn.plot.ly/plotly-latest.min']\n",
       "            }\n",
       "        });\n",
       "        require(['plotly'], function(Plotly) {\n",
       "            window._Plotly = Plotly;\n",
       "        });\n",
       "        }\n",
       "        </script>\n",
       "        "
      ]
     },
     "metadata": {},
     "output_type": "display_data"
    },
    {
     "data": {
      "application/vnd.plotly.v1+json": {
       "config": {
        "linkText": "Export to plot.ly",
        "plotlyServerURL": "https://plot.ly",
        "showLink": false
       },
       "data": [
        {
         "connectgaps": false,
         "hoverinfo": "y+name",
         "line": {
          "color": "rgb(25,15,67)",
          "width": 10
         },
         "mode": "lines",
         "name": "sailing empty_2",
         "type": "scatter",
         "x": [
          "2021-01-22T11:35:49",
          "2021-01-22T11:35:49",
          "2021-01-22T11:57:36.164478",
          "2021-01-22T11:57:36.164478",
          "2021-01-22T11:57:36.164478",
          "2021-01-22T14:19:23.328957",
          "2021-01-22T14:19:23.328957",
          "2021-01-22T14:41:10.493435",
          "2021-01-22T14:41:10.493435",
          "2021-01-22T14:41:10.493435",
          "2021-01-22T17:02:57.657913",
          "2021-01-22T17:02:57.657913",
          "2021-01-22T17:24:44.822392",
          "2021-01-22T17:24:44.822392",
          "2021-01-22T17:24:44.822392",
          "2021-01-22T19:46:31.986870",
          "2021-01-22T19:46:31.986870",
          "2021-01-22T20:08:19.151348",
          "2021-01-22T20:08:19.151348",
          "2021-01-22T20:08:19.151348",
          "2021-01-22T22:30:06.315826",
          "2021-01-22T22:30:06.315826",
          "2021-01-22T22:51:53.480305",
          "2021-01-22T22:51:53.480305",
          "2021-01-22T22:51:53.480305",
          "2021-01-23T01:13:40.644783",
          "2021-01-23T01:13:40.644783",
          "2021-01-23T01:35:27.809261",
          "2021-01-23T01:35:27.809261",
          "2021-01-23T01:35:27.809261"
         ],
         "y": [
          "sailing empty_2",
          "sailing empty_2",
          "sailing empty_2",
          "sailing empty_2",
          null,
          "sailing empty_2",
          "sailing empty_2",
          "sailing empty_2",
          "sailing empty_2",
          null,
          "sailing empty_2",
          "sailing empty_2",
          "sailing empty_2",
          "sailing empty_2",
          null,
          "sailing empty_2",
          "sailing empty_2",
          "sailing empty_2",
          "sailing empty_2",
          null,
          "sailing empty_2",
          "sailing empty_2",
          "sailing empty_2",
          "sailing empty_2",
          null,
          "sailing empty_2",
          "sailing empty_2",
          "sailing empty_2",
          "sailing empty_2",
          null
         ]
        },
        {
         "connectgaps": false,
         "hoverinfo": "y+name",
         "line": {
          "color": "rgb(57,47,99)",
          "width": 10
         },
         "mode": "lines",
         "name": "Transfer MP_2",
         "type": "scatter",
         "x": [
          "2021-01-22T11:57:36.164478",
          "2021-01-22T11:57:36.164478",
          "2021-01-22T12:57:36.164478",
          "2021-01-22T12:57:36.164478",
          "2021-01-22T12:57:36.164478",
          "2021-01-22T14:41:10.493435",
          "2021-01-22T14:41:10.493435",
          "2021-01-22T15:41:10.493435",
          "2021-01-22T15:41:10.493435",
          "2021-01-22T15:41:10.493435",
          "2021-01-22T17:24:44.822392",
          "2021-01-22T17:24:44.822392",
          "2021-01-22T18:24:44.822392",
          "2021-01-22T18:24:44.822392",
          "2021-01-22T18:24:44.822392",
          "2021-01-22T20:08:19.151348",
          "2021-01-22T20:08:19.151348",
          "2021-01-22T21:08:19.151348",
          "2021-01-22T21:08:19.151348",
          "2021-01-22T21:08:19.151348",
          "2021-01-22T22:51:53.480305",
          "2021-01-22T22:51:53.480305",
          "2021-01-22T23:51:53.480305",
          "2021-01-22T23:51:53.480305",
          "2021-01-22T23:51:53.480305",
          "2021-01-23T01:35:27.809261",
          "2021-01-23T01:35:27.809261",
          "2021-01-23T02:35:27.809261",
          "2021-01-23T02:35:27.809261",
          "2021-01-23T02:35:27.809261"
         ],
         "y": [
          "Transfer MP_2",
          "Transfer MP_2",
          "Transfer MP_2",
          "Transfer MP_2",
          null,
          "Transfer MP_2",
          "Transfer MP_2",
          "Transfer MP_2",
          "Transfer MP_2",
          null,
          "Transfer MP_2",
          "Transfer MP_2",
          "Transfer MP_2",
          "Transfer MP_2",
          null,
          "Transfer MP_2",
          "Transfer MP_2",
          "Transfer MP_2",
          "Transfer MP_2",
          null,
          "Transfer MP_2",
          "Transfer MP_2",
          "Transfer MP_2",
          "Transfer MP_2",
          null,
          "Transfer MP_2",
          "Transfer MP_2",
          "Transfer MP_2",
          "Transfer MP_2",
          null
         ]
        },
        {
         "connectgaps": false,
         "hoverinfo": "y+name",
         "line": {
          "color": "rgb(89,79,131)",
          "width": 10
         },
         "mode": "lines",
         "name": "sailing filled_2",
         "type": "scatter",
         "x": [
          "2021-01-22T12:57:36.164478",
          "2021-01-22T12:57:36.164478",
          "2021-01-22T13:19:23.328957",
          "2021-01-22T13:19:23.328957",
          "2021-01-22T13:19:23.328957",
          "2021-01-22T15:41:10.493435",
          "2021-01-22T15:41:10.493435",
          "2021-01-22T16:02:57.657913",
          "2021-01-22T16:02:57.657913",
          "2021-01-22T16:02:57.657913",
          "2021-01-22T18:24:44.822392",
          "2021-01-22T18:24:44.822392",
          "2021-01-22T18:46:31.986870",
          "2021-01-22T18:46:31.986870",
          "2021-01-22T18:46:31.986870",
          "2021-01-22T21:08:19.151348",
          "2021-01-22T21:08:19.151348",
          "2021-01-22T21:30:06.315826",
          "2021-01-22T21:30:06.315826",
          "2021-01-22T21:30:06.315826",
          "2021-01-22T23:51:53.480305",
          "2021-01-22T23:51:53.480305",
          "2021-01-23T00:13:40.644783",
          "2021-01-23T00:13:40.644783",
          "2021-01-23T00:13:40.644783",
          "2021-01-23T02:35:27.809261",
          "2021-01-23T02:35:27.809261",
          "2021-01-23T02:57:14.973740",
          "2021-01-23T02:57:14.973740",
          "2021-01-23T02:57:14.973740"
         ],
         "y": [
          "sailing filled_2",
          "sailing filled_2",
          "sailing filled_2",
          "sailing filled_2",
          null,
          "sailing filled_2",
          "sailing filled_2",
          "sailing filled_2",
          "sailing filled_2",
          null,
          "sailing filled_2",
          "sailing filled_2",
          "sailing filled_2",
          "sailing filled_2",
          null,
          "sailing filled_2",
          "sailing filled_2",
          "sailing filled_2",
          "sailing filled_2",
          null,
          "sailing filled_2",
          "sailing filled_2",
          "sailing filled_2",
          "sailing filled_2",
          null,
          "sailing filled_2",
          "sailing filled_2",
          "sailing filled_2",
          "sailing filled_2",
          null
         ]
        },
        {
         "connectgaps": false,
         "hoverinfo": "y+name",
         "line": {
          "color": "rgb(121,111,163)",
          "width": 10
         },
         "mode": "lines",
         "name": "Transfer TP_2",
         "type": "scatter",
         "x": [
          "2021-01-22T13:19:23.328957",
          "2021-01-22T13:19:23.328957",
          "2021-01-22T14:19:23.328957",
          "2021-01-22T14:19:23.328957",
          "2021-01-22T14:19:23.328957",
          "2021-01-22T16:02:57.657913",
          "2021-01-22T16:02:57.657913",
          "2021-01-22T17:02:57.657913",
          "2021-01-22T17:02:57.657913",
          "2021-01-22T17:02:57.657913",
          "2021-01-22T18:46:31.986870",
          "2021-01-22T18:46:31.986870",
          "2021-01-22T19:46:31.986870",
          "2021-01-22T19:46:31.986870",
          "2021-01-22T19:46:31.986870",
          "2021-01-22T21:30:06.315826",
          "2021-01-22T21:30:06.315826",
          "2021-01-22T22:30:06.315826",
          "2021-01-22T22:30:06.315826",
          "2021-01-22T22:30:06.315826",
          "2021-01-23T00:13:40.644783",
          "2021-01-23T00:13:40.644783",
          "2021-01-23T01:13:40.644783",
          "2021-01-23T01:13:40.644783",
          "2021-01-23T01:13:40.644783",
          "2021-01-23T02:57:14.973740",
          "2021-01-23T02:57:14.973740",
          "2021-01-23T03:57:14.973740",
          "2021-01-23T03:57:14.973740",
          "2021-01-23T03:57:14.973740"
         ],
         "y": [
          "Transfer TP_2",
          "Transfer TP_2",
          "Transfer TP_2",
          "Transfer TP_2",
          null,
          "Transfer TP_2",
          "Transfer TP_2",
          "Transfer TP_2",
          "Transfer TP_2",
          null,
          "Transfer TP_2",
          "Transfer TP_2",
          "Transfer TP_2",
          "Transfer TP_2",
          null,
          "Transfer TP_2",
          "Transfer TP_2",
          "Transfer TP_2",
          "Transfer TP_2",
          null,
          "Transfer TP_2",
          "Transfer TP_2",
          "Transfer TP_2",
          "Transfer TP_2",
          null,
          "Transfer TP_2",
          "Transfer TP_2",
          "Transfer TP_2",
          "Transfer TP_2",
          null
         ]
        },
        {
         "connectgaps": false,
         "hoverinfo": "y+name",
         "line": {
          "color": "rgb(153,143,195)",
          "width": 10
         },
         "mode": "lines",
         "name": "sailing empty_1",
         "type": "scatter",
         "x": [
          "2021-01-22T11:35:49",
          "2021-01-22T11:35:49",
          "2021-01-22T11:57:36.164478",
          "2021-01-22T11:57:36.164478",
          "2021-01-22T11:57:36.164478",
          "2021-01-22T14:19:23.328957",
          "2021-01-22T14:19:23.328957",
          "2021-01-22T14:41:10.493435",
          "2021-01-22T14:41:10.493435",
          "2021-01-22T14:41:10.493435",
          "2021-01-22T17:02:57.657913",
          "2021-01-22T17:02:57.657913",
          "2021-01-22T17:24:44.822392",
          "2021-01-22T17:24:44.822392",
          "2021-01-22T17:24:44.822392",
          "2021-01-22T19:46:31.986870",
          "2021-01-22T19:46:31.986870",
          "2021-01-22T20:08:19.151348",
          "2021-01-22T20:08:19.151348",
          "2021-01-22T20:08:19.151348",
          "2021-01-22T22:30:06.315826",
          "2021-01-22T22:30:06.315826",
          "2021-01-22T22:51:53.480305",
          "2021-01-22T22:51:53.480305",
          "2021-01-22T22:51:53.480305",
          "2021-01-23T01:13:40.644783",
          "2021-01-23T01:13:40.644783",
          "2021-01-23T01:35:27.809261",
          "2021-01-23T01:35:27.809261",
          "2021-01-23T01:35:27.809261"
         ],
         "y": [
          "sailing empty_1",
          "sailing empty_1",
          "sailing empty_1",
          "sailing empty_1",
          null,
          "sailing empty_1",
          "sailing empty_1",
          "sailing empty_1",
          "sailing empty_1",
          null,
          "sailing empty_1",
          "sailing empty_1",
          "sailing empty_1",
          "sailing empty_1",
          null,
          "sailing empty_1",
          "sailing empty_1",
          "sailing empty_1",
          "sailing empty_1",
          null,
          "sailing empty_1",
          "sailing empty_1",
          "sailing empty_1",
          "sailing empty_1",
          null,
          "sailing empty_1",
          "sailing empty_1",
          "sailing empty_1",
          "sailing empty_1",
          null
         ]
        },
        {
         "connectgaps": false,
         "hoverinfo": "y+name",
         "line": {
          "color": "rgb(185,175,227)",
          "width": 10
         },
         "mode": "lines",
         "name": "Transfer MP_1",
         "type": "scatter",
         "x": [
          "2021-01-22T11:57:36.164478",
          "2021-01-22T11:57:36.164478",
          "2021-01-22T12:57:36.164478",
          "2021-01-22T12:57:36.164478",
          "2021-01-22T12:57:36.164478",
          "2021-01-22T14:41:10.493435",
          "2021-01-22T14:41:10.493435",
          "2021-01-22T15:41:10.493435",
          "2021-01-22T15:41:10.493435",
          "2021-01-22T15:41:10.493435",
          "2021-01-22T17:24:44.822392",
          "2021-01-22T17:24:44.822392",
          "2021-01-22T18:24:44.822392",
          "2021-01-22T18:24:44.822392",
          "2021-01-22T18:24:44.822392",
          "2021-01-22T20:08:19.151348",
          "2021-01-22T20:08:19.151348",
          "2021-01-22T21:08:19.151348",
          "2021-01-22T21:08:19.151348",
          "2021-01-22T21:08:19.151348",
          "2021-01-22T22:51:53.480305",
          "2021-01-22T22:51:53.480305",
          "2021-01-22T23:51:53.480305",
          "2021-01-22T23:51:53.480305",
          "2021-01-22T23:51:53.480305",
          "2021-01-23T01:35:27.809261",
          "2021-01-23T01:35:27.809261",
          "2021-01-23T02:35:27.809261",
          "2021-01-23T02:35:27.809261",
          "2021-01-23T02:35:27.809261"
         ],
         "y": [
          "Transfer MP_1",
          "Transfer MP_1",
          "Transfer MP_1",
          "Transfer MP_1",
          null,
          "Transfer MP_1",
          "Transfer MP_1",
          "Transfer MP_1",
          "Transfer MP_1",
          null,
          "Transfer MP_1",
          "Transfer MP_1",
          "Transfer MP_1",
          "Transfer MP_1",
          null,
          "Transfer MP_1",
          "Transfer MP_1",
          "Transfer MP_1",
          "Transfer MP_1",
          null,
          "Transfer MP_1",
          "Transfer MP_1",
          "Transfer MP_1",
          "Transfer MP_1",
          null,
          "Transfer MP_1",
          "Transfer MP_1",
          "Transfer MP_1",
          "Transfer MP_1",
          null
         ]
        },
        {
         "connectgaps": false,
         "hoverinfo": "y+name",
         "line": {
          "color": "rgb(217,207,3)",
          "width": 10
         },
         "mode": "lines",
         "name": "sailing filled_1",
         "type": "scatter",
         "x": [
          "2021-01-22T12:57:36.164478",
          "2021-01-22T12:57:36.164478",
          "2021-01-22T13:19:23.328957",
          "2021-01-22T13:19:23.328957",
          "2021-01-22T13:19:23.328957",
          "2021-01-22T15:41:10.493435",
          "2021-01-22T15:41:10.493435",
          "2021-01-22T16:02:57.657913",
          "2021-01-22T16:02:57.657913",
          "2021-01-22T16:02:57.657913",
          "2021-01-22T18:24:44.822392",
          "2021-01-22T18:24:44.822392",
          "2021-01-22T18:46:31.986870",
          "2021-01-22T18:46:31.986870",
          "2021-01-22T18:46:31.986870",
          "2021-01-22T21:08:19.151348",
          "2021-01-22T21:08:19.151348",
          "2021-01-22T21:30:06.315826",
          "2021-01-22T21:30:06.315826",
          "2021-01-22T21:30:06.315826",
          "2021-01-22T23:51:53.480305",
          "2021-01-22T23:51:53.480305",
          "2021-01-23T00:13:40.644783",
          "2021-01-23T00:13:40.644783",
          "2021-01-23T00:13:40.644783",
          "2021-01-23T02:35:27.809261",
          "2021-01-23T02:35:27.809261",
          "2021-01-23T02:57:14.973740",
          "2021-01-23T02:57:14.973740",
          "2021-01-23T02:57:14.973740"
         ],
         "y": [
          "sailing filled_1",
          "sailing filled_1",
          "sailing filled_1",
          "sailing filled_1",
          null,
          "sailing filled_1",
          "sailing filled_1",
          "sailing filled_1",
          "sailing filled_1",
          null,
          "sailing filled_1",
          "sailing filled_1",
          "sailing filled_1",
          "sailing filled_1",
          null,
          "sailing filled_1",
          "sailing filled_1",
          "sailing filled_1",
          "sailing filled_1",
          null,
          "sailing filled_1",
          "sailing filled_1",
          "sailing filled_1",
          "sailing filled_1",
          null,
          "sailing filled_1",
          "sailing filled_1",
          "sailing filled_1",
          "sailing filled_1",
          null
         ]
        },
        {
         "connectgaps": false,
         "hoverinfo": "y+name",
         "line": {
          "color": "rgb(249,239,35)",
          "width": 10
         },
         "mode": "lines",
         "name": "Transfer TP_1",
         "type": "scatter",
         "x": [
          "2021-01-22T13:19:23.328957",
          "2021-01-22T13:19:23.328957",
          "2021-01-22T14:19:23.328957",
          "2021-01-22T14:19:23.328957",
          "2021-01-22T14:19:23.328957",
          "2021-01-22T16:02:57.657913",
          "2021-01-22T16:02:57.657913",
          "2021-01-22T17:02:57.657913",
          "2021-01-22T17:02:57.657913",
          "2021-01-22T17:02:57.657913",
          "2021-01-22T18:46:31.986870",
          "2021-01-22T18:46:31.986870",
          "2021-01-22T19:46:31.986870",
          "2021-01-22T19:46:31.986870",
          "2021-01-22T19:46:31.986870",
          "2021-01-22T21:30:06.315826",
          "2021-01-22T21:30:06.315826",
          "2021-01-22T22:30:06.315826",
          "2021-01-22T22:30:06.315826",
          "2021-01-22T22:30:06.315826",
          "2021-01-23T00:13:40.644783",
          "2021-01-23T00:13:40.644783",
          "2021-01-23T01:13:40.644783",
          "2021-01-23T01:13:40.644783",
          "2021-01-23T01:13:40.644783"
         ],
         "y": [
          "Transfer TP_1",
          "Transfer TP_1",
          "Transfer TP_1",
          "Transfer TP_1",
          null,
          "Transfer TP_1",
          "Transfer TP_1",
          "Transfer TP_1",
          "Transfer TP_1",
          null,
          "Transfer TP_1",
          "Transfer TP_1",
          "Transfer TP_1",
          "Transfer TP_1",
          null,
          "Transfer TP_1",
          "Transfer TP_1",
          "Transfer TP_1",
          "Transfer TP_1",
          null,
          "Transfer TP_1",
          "Transfer TP_1",
          "Transfer TP_1",
          "Transfer TP_1",
          null
         ]
        }
       ],
       "layout": {
        "hovermode": "closest",
        "legend": {
         "orientation": "h",
         "x": 0,
         "y": -0.2
        },
        "template": {
         "data": {
          "bar": [
           {
            "error_x": {
             "color": "#2a3f5f"
            },
            "error_y": {
             "color": "#2a3f5f"
            },
            "marker": {
             "line": {
              "color": "#E5ECF6",
              "width": 0.5
             }
            },
            "type": "bar"
           }
          ],
          "barpolar": [
           {
            "marker": {
             "line": {
              "color": "#E5ECF6",
              "width": 0.5
             }
            },
            "type": "barpolar"
           }
          ],
          "carpet": [
           {
            "aaxis": {
             "endlinecolor": "#2a3f5f",
             "gridcolor": "white",
             "linecolor": "white",
             "minorgridcolor": "white",
             "startlinecolor": "#2a3f5f"
            },
            "baxis": {
             "endlinecolor": "#2a3f5f",
             "gridcolor": "white",
             "linecolor": "white",
             "minorgridcolor": "white",
             "startlinecolor": "#2a3f5f"
            },
            "type": "carpet"
           }
          ],
          "choropleth": [
           {
            "colorbar": {
             "outlinewidth": 0,
             "ticks": ""
            },
            "type": "choropleth"
           }
          ],
          "contour": [
           {
            "colorbar": {
             "outlinewidth": 0,
             "ticks": ""
            },
            "colorscale": [
             [
              0,
              "#0d0887"
             ],
             [
              0.1111111111111111,
              "#46039f"
             ],
             [
              0.2222222222222222,
              "#7201a8"
             ],
             [
              0.3333333333333333,
              "#9c179e"
             ],
             [
              0.4444444444444444,
              "#bd3786"
             ],
             [
              0.5555555555555556,
              "#d8576b"
             ],
             [
              0.6666666666666666,
              "#ed7953"
             ],
             [
              0.7777777777777778,
              "#fb9f3a"
             ],
             [
              0.8888888888888888,
              "#fdca26"
             ],
             [
              1,
              "#f0f921"
             ]
            ],
            "type": "contour"
           }
          ],
          "contourcarpet": [
           {
            "colorbar": {
             "outlinewidth": 0,
             "ticks": ""
            },
            "type": "contourcarpet"
           }
          ],
          "heatmap": [
           {
            "colorbar": {
             "outlinewidth": 0,
             "ticks": ""
            },
            "colorscale": [
             [
              0,
              "#0d0887"
             ],
             [
              0.1111111111111111,
              "#46039f"
             ],
             [
              0.2222222222222222,
              "#7201a8"
             ],
             [
              0.3333333333333333,
              "#9c179e"
             ],
             [
              0.4444444444444444,
              "#bd3786"
             ],
             [
              0.5555555555555556,
              "#d8576b"
             ],
             [
              0.6666666666666666,
              "#ed7953"
             ],
             [
              0.7777777777777778,
              "#fb9f3a"
             ],
             [
              0.8888888888888888,
              "#fdca26"
             ],
             [
              1,
              "#f0f921"
             ]
            ],
            "type": "heatmap"
           }
          ],
          "heatmapgl": [
           {
            "colorbar": {
             "outlinewidth": 0,
             "ticks": ""
            },
            "colorscale": [
             [
              0,
              "#0d0887"
             ],
             [
              0.1111111111111111,
              "#46039f"
             ],
             [
              0.2222222222222222,
              "#7201a8"
             ],
             [
              0.3333333333333333,
              "#9c179e"
             ],
             [
              0.4444444444444444,
              "#bd3786"
             ],
             [
              0.5555555555555556,
              "#d8576b"
             ],
             [
              0.6666666666666666,
              "#ed7953"
             ],
             [
              0.7777777777777778,
              "#fb9f3a"
             ],
             [
              0.8888888888888888,
              "#fdca26"
             ],
             [
              1,
              "#f0f921"
             ]
            ],
            "type": "heatmapgl"
           }
          ],
          "histogram": [
           {
            "marker": {
             "colorbar": {
              "outlinewidth": 0,
              "ticks": ""
             }
            },
            "type": "histogram"
           }
          ],
          "histogram2d": [
           {
            "colorbar": {
             "outlinewidth": 0,
             "ticks": ""
            },
            "colorscale": [
             [
              0,
              "#0d0887"
             ],
             [
              0.1111111111111111,
              "#46039f"
             ],
             [
              0.2222222222222222,
              "#7201a8"
             ],
             [
              0.3333333333333333,
              "#9c179e"
             ],
             [
              0.4444444444444444,
              "#bd3786"
             ],
             [
              0.5555555555555556,
              "#d8576b"
             ],
             [
              0.6666666666666666,
              "#ed7953"
             ],
             [
              0.7777777777777778,
              "#fb9f3a"
             ],
             [
              0.8888888888888888,
              "#fdca26"
             ],
             [
              1,
              "#f0f921"
             ]
            ],
            "type": "histogram2d"
           }
          ],
          "histogram2dcontour": [
           {
            "colorbar": {
             "outlinewidth": 0,
             "ticks": ""
            },
            "colorscale": [
             [
              0,
              "#0d0887"
             ],
             [
              0.1111111111111111,
              "#46039f"
             ],
             [
              0.2222222222222222,
              "#7201a8"
             ],
             [
              0.3333333333333333,
              "#9c179e"
             ],
             [
              0.4444444444444444,
              "#bd3786"
             ],
             [
              0.5555555555555556,
              "#d8576b"
             ],
             [
              0.6666666666666666,
              "#ed7953"
             ],
             [
              0.7777777777777778,
              "#fb9f3a"
             ],
             [
              0.8888888888888888,
              "#fdca26"
             ],
             [
              1,
              "#f0f921"
             ]
            ],
            "type": "histogram2dcontour"
           }
          ],
          "mesh3d": [
           {
            "colorbar": {
             "outlinewidth": 0,
             "ticks": ""
            },
            "type": "mesh3d"
           }
          ],
          "parcoords": [
           {
            "line": {
             "colorbar": {
              "outlinewidth": 0,
              "ticks": ""
             }
            },
            "type": "parcoords"
           }
          ],
          "pie": [
           {
            "automargin": true,
            "type": "pie"
           }
          ],
          "scatter": [
           {
            "marker": {
             "colorbar": {
              "outlinewidth": 0,
              "ticks": ""
             }
            },
            "type": "scatter"
           }
          ],
          "scatter3d": [
           {
            "line": {
             "colorbar": {
              "outlinewidth": 0,
              "ticks": ""
             }
            },
            "marker": {
             "colorbar": {
              "outlinewidth": 0,
              "ticks": ""
             }
            },
            "type": "scatter3d"
           }
          ],
          "scattercarpet": [
           {
            "marker": {
             "colorbar": {
              "outlinewidth": 0,
              "ticks": ""
             }
            },
            "type": "scattercarpet"
           }
          ],
          "scattergeo": [
           {
            "marker": {
             "colorbar": {
              "outlinewidth": 0,
              "ticks": ""
             }
            },
            "type": "scattergeo"
           }
          ],
          "scattergl": [
           {
            "marker": {
             "colorbar": {
              "outlinewidth": 0,
              "ticks": ""
             }
            },
            "type": "scattergl"
           }
          ],
          "scattermapbox": [
           {
            "marker": {
             "colorbar": {
              "outlinewidth": 0,
              "ticks": ""
             }
            },
            "type": "scattermapbox"
           }
          ],
          "scatterpolar": [
           {
            "marker": {
             "colorbar": {
              "outlinewidth": 0,
              "ticks": ""
             }
            },
            "type": "scatterpolar"
           }
          ],
          "scatterpolargl": [
           {
            "marker": {
             "colorbar": {
              "outlinewidth": 0,
              "ticks": ""
             }
            },
            "type": "scatterpolargl"
           }
          ],
          "scatterternary": [
           {
            "marker": {
             "colorbar": {
              "outlinewidth": 0,
              "ticks": ""
             }
            },
            "type": "scatterternary"
           }
          ],
          "surface": [
           {
            "colorbar": {
             "outlinewidth": 0,
             "ticks": ""
            },
            "colorscale": [
             [
              0,
              "#0d0887"
             ],
             [
              0.1111111111111111,
              "#46039f"
             ],
             [
              0.2222222222222222,
              "#7201a8"
             ],
             [
              0.3333333333333333,
              "#9c179e"
             ],
             [
              0.4444444444444444,
              "#bd3786"
             ],
             [
              0.5555555555555556,
              "#d8576b"
             ],
             [
              0.6666666666666666,
              "#ed7953"
             ],
             [
              0.7777777777777778,
              "#fb9f3a"
             ],
             [
              0.8888888888888888,
              "#fdca26"
             ],
             [
              1,
              "#f0f921"
             ]
            ],
            "type": "surface"
           }
          ],
          "table": [
           {
            "cells": {
             "fill": {
              "color": "#EBF0F8"
             },
             "line": {
              "color": "white"
             }
            },
            "header": {
             "fill": {
              "color": "#C8D4E3"
             },
             "line": {
              "color": "white"
             }
            },
            "type": "table"
           }
          ]
         },
         "layout": {
          "annotationdefaults": {
           "arrowcolor": "#2a3f5f",
           "arrowhead": 0,
           "arrowwidth": 1
          },
          "autotypenumbers": "strict",
          "coloraxis": {
           "colorbar": {
            "outlinewidth": 0,
            "ticks": ""
           }
          },
          "colorscale": {
           "diverging": [
            [
             0,
             "#8e0152"
            ],
            [
             0.1,
             "#c51b7d"
            ],
            [
             0.2,
             "#de77ae"
            ],
            [
             0.3,
             "#f1b6da"
            ],
            [
             0.4,
             "#fde0ef"
            ],
            [
             0.5,
             "#f7f7f7"
            ],
            [
             0.6,
             "#e6f5d0"
            ],
            [
             0.7,
             "#b8e186"
            ],
            [
             0.8,
             "#7fbc41"
            ],
            [
             0.9,
             "#4d9221"
            ],
            [
             1,
             "#276419"
            ]
           ],
           "sequential": [
            [
             0,
             "#0d0887"
            ],
            [
             0.1111111111111111,
             "#46039f"
            ],
            [
             0.2222222222222222,
             "#7201a8"
            ],
            [
             0.3333333333333333,
             "#9c179e"
            ],
            [
             0.4444444444444444,
             "#bd3786"
            ],
            [
             0.5555555555555556,
             "#d8576b"
            ],
            [
             0.6666666666666666,
             "#ed7953"
            ],
            [
             0.7777777777777778,
             "#fb9f3a"
            ],
            [
             0.8888888888888888,
             "#fdca26"
            ],
            [
             1,
             "#f0f921"
            ]
           ],
           "sequentialminus": [
            [
             0,
             "#0d0887"
            ],
            [
             0.1111111111111111,
             "#46039f"
            ],
            [
             0.2222222222222222,
             "#7201a8"
            ],
            [
             0.3333333333333333,
             "#9c179e"
            ],
            [
             0.4444444444444444,
             "#bd3786"
            ],
            [
             0.5555555555555556,
             "#d8576b"
            ],
            [
             0.6666666666666666,
             "#ed7953"
            ],
            [
             0.7777777777777778,
             "#fb9f3a"
            ],
            [
             0.8888888888888888,
             "#fdca26"
            ],
            [
             1,
             "#f0f921"
            ]
           ]
          },
          "colorway": [
           "#636efa",
           "#EF553B",
           "#00cc96",
           "#ab63fa",
           "#FFA15A",
           "#19d3f3",
           "#FF6692",
           "#B6E880",
           "#FF97FF",
           "#FECB52"
          ],
          "font": {
           "color": "#2a3f5f"
          },
          "geo": {
           "bgcolor": "white",
           "lakecolor": "white",
           "landcolor": "#E5ECF6",
           "showlakes": true,
           "showland": true,
           "subunitcolor": "white"
          },
          "hoverlabel": {
           "align": "left"
          },
          "hovermode": "closest",
          "mapbox": {
           "style": "light"
          },
          "paper_bgcolor": "white",
          "plot_bgcolor": "#E5ECF6",
          "polar": {
           "angularaxis": {
            "gridcolor": "white",
            "linecolor": "white",
            "ticks": ""
           },
           "bgcolor": "#E5ECF6",
           "radialaxis": {
            "gridcolor": "white",
            "linecolor": "white",
            "ticks": ""
           }
          },
          "scene": {
           "xaxis": {
            "backgroundcolor": "#E5ECF6",
            "gridcolor": "white",
            "gridwidth": 2,
            "linecolor": "white",
            "showbackground": true,
            "ticks": "",
            "zerolinecolor": "white"
           },
           "yaxis": {
            "backgroundcolor": "#E5ECF6",
            "gridcolor": "white",
            "gridwidth": 2,
            "linecolor": "white",
            "showbackground": true,
            "ticks": "",
            "zerolinecolor": "white"
           },
           "zaxis": {
            "backgroundcolor": "#E5ECF6",
            "gridcolor": "white",
            "gridwidth": 2,
            "linecolor": "white",
            "showbackground": true,
            "ticks": "",
            "zerolinecolor": "white"
           }
          },
          "shapedefaults": {
           "line": {
            "color": "#2a3f5f"
           }
          },
          "ternary": {
           "aaxis": {
            "gridcolor": "white",
            "linecolor": "white",
            "ticks": ""
           },
           "baxis": {
            "gridcolor": "white",
            "linecolor": "white",
            "ticks": ""
           },
           "bgcolor": "#E5ECF6",
           "caxis": {
            "gridcolor": "white",
            "linecolor": "white",
            "ticks": ""
           }
          },
          "title": {
           "x": 0.05
          },
          "xaxis": {
           "automargin": true,
           "gridcolor": "white",
           "linecolor": "white",
           "ticks": "",
           "title": {
            "standoff": 15
           },
           "zerolinecolor": "white",
           "zerolinewidth": 2
          },
          "yaxis": {
           "automargin": true,
           "gridcolor": "white",
           "linecolor": "white",
           "ticks": "",
           "title": {
            "standoff": 15
           },
           "zerolinecolor": "white",
           "zerolinewidth": 2
          }
         }
        },
        "title": {
         "text": "Vessel planning"
        },
        "xaxis": {
         "range": [
          "2021-01-22T11:35:49",
          "2021-01-23T03:57:14.973740"
         ],
         "title": {
          "font": {
           "color": "#7f7f7f",
           "family": "Courier New, monospace",
           "size": 18
          },
          "text": "Time"
         }
        },
        "yaxis": {
         "title": {
          "font": {
           "color": "#7f7f7f",
           "family": "Courier New, monospace",
           "size": 18
          },
          "text": "Vessels"
         }
        }
       }
      },
      "text/html": [
       "<div>                            <div id=\"122abf50-a573-4609-b0c0-c07b9e9d4743\" class=\"plotly-graph-div\" style=\"height:525px; width:100%;\"></div>            <script type=\"text/javascript\">                require([\"plotly\"], function(Plotly) {                    window.PLOTLYENV=window.PLOTLYENV || {};                                    if (document.getElementById(\"122abf50-a573-4609-b0c0-c07b9e9d4743\")) {                    Plotly.newPlot(                        \"122abf50-a573-4609-b0c0-c07b9e9d4743\",                        [{\"connectgaps\": false, \"hoverinfo\": \"y+name\", \"line\": {\"color\": \"rgb(25,15,67)\", \"width\": 10}, \"mode\": \"lines\", \"name\": \"sailing empty_2\", \"type\": \"scatter\", \"x\": [\"2021-01-22T11:35:49\", \"2021-01-22T11:35:49\", \"2021-01-22T11:57:36.164478\", \"2021-01-22T11:57:36.164478\", \"2021-01-22T11:57:36.164478\", \"2021-01-22T14:19:23.328957\", \"2021-01-22T14:19:23.328957\", \"2021-01-22T14:41:10.493435\", \"2021-01-22T14:41:10.493435\", \"2021-01-22T14:41:10.493435\", \"2021-01-22T17:02:57.657913\", \"2021-01-22T17:02:57.657913\", \"2021-01-22T17:24:44.822392\", \"2021-01-22T17:24:44.822392\", \"2021-01-22T17:24:44.822392\", \"2021-01-22T19:46:31.986870\", \"2021-01-22T19:46:31.986870\", \"2021-01-22T20:08:19.151348\", \"2021-01-22T20:08:19.151348\", \"2021-01-22T20:08:19.151348\", \"2021-01-22T22:30:06.315826\", \"2021-01-22T22:30:06.315826\", \"2021-01-22T22:51:53.480305\", \"2021-01-22T22:51:53.480305\", \"2021-01-22T22:51:53.480305\", \"2021-01-23T01:13:40.644783\", \"2021-01-23T01:13:40.644783\", \"2021-01-23T01:35:27.809261\", \"2021-01-23T01:35:27.809261\", \"2021-01-23T01:35:27.809261\"], \"y\": [\"sailing empty_2\", \"sailing empty_2\", \"sailing empty_2\", \"sailing empty_2\", null, \"sailing empty_2\", \"sailing empty_2\", \"sailing empty_2\", \"sailing empty_2\", null, \"sailing empty_2\", \"sailing empty_2\", \"sailing empty_2\", \"sailing empty_2\", null, \"sailing empty_2\", \"sailing empty_2\", \"sailing empty_2\", \"sailing empty_2\", null, \"sailing empty_2\", \"sailing empty_2\", \"sailing empty_2\", \"sailing empty_2\", null, \"sailing empty_2\", \"sailing empty_2\", \"sailing empty_2\", \"sailing empty_2\", null]}, {\"connectgaps\": false, \"hoverinfo\": \"y+name\", \"line\": {\"color\": \"rgb(57,47,99)\", \"width\": 10}, \"mode\": \"lines\", \"name\": \"Transfer MP_2\", \"type\": \"scatter\", \"x\": [\"2021-01-22T11:57:36.164478\", \"2021-01-22T11:57:36.164478\", \"2021-01-22T12:57:36.164478\", \"2021-01-22T12:57:36.164478\", \"2021-01-22T12:57:36.164478\", \"2021-01-22T14:41:10.493435\", \"2021-01-22T14:41:10.493435\", \"2021-01-22T15:41:10.493435\", \"2021-01-22T15:41:10.493435\", \"2021-01-22T15:41:10.493435\", \"2021-01-22T17:24:44.822392\", \"2021-01-22T17:24:44.822392\", \"2021-01-22T18:24:44.822392\", \"2021-01-22T18:24:44.822392\", \"2021-01-22T18:24:44.822392\", \"2021-01-22T20:08:19.151348\", \"2021-01-22T20:08:19.151348\", \"2021-01-22T21:08:19.151348\", \"2021-01-22T21:08:19.151348\", \"2021-01-22T21:08:19.151348\", \"2021-01-22T22:51:53.480305\", \"2021-01-22T22:51:53.480305\", \"2021-01-22T23:51:53.480305\", \"2021-01-22T23:51:53.480305\", \"2021-01-22T23:51:53.480305\", \"2021-01-23T01:35:27.809261\", \"2021-01-23T01:35:27.809261\", \"2021-01-23T02:35:27.809261\", \"2021-01-23T02:35:27.809261\", \"2021-01-23T02:35:27.809261\"], \"y\": [\"Transfer MP_2\", \"Transfer MP_2\", \"Transfer MP_2\", \"Transfer MP_2\", null, \"Transfer MP_2\", \"Transfer MP_2\", \"Transfer MP_2\", \"Transfer MP_2\", null, \"Transfer MP_2\", \"Transfer MP_2\", \"Transfer MP_2\", \"Transfer MP_2\", null, \"Transfer MP_2\", \"Transfer MP_2\", \"Transfer MP_2\", \"Transfer MP_2\", null, \"Transfer MP_2\", \"Transfer MP_2\", \"Transfer MP_2\", \"Transfer MP_2\", null, \"Transfer MP_2\", \"Transfer MP_2\", \"Transfer MP_2\", \"Transfer MP_2\", null]}, {\"connectgaps\": false, \"hoverinfo\": \"y+name\", \"line\": {\"color\": \"rgb(89,79,131)\", \"width\": 10}, \"mode\": \"lines\", \"name\": \"sailing filled_2\", \"type\": \"scatter\", \"x\": [\"2021-01-22T12:57:36.164478\", \"2021-01-22T12:57:36.164478\", \"2021-01-22T13:19:23.328957\", \"2021-01-22T13:19:23.328957\", \"2021-01-22T13:19:23.328957\", \"2021-01-22T15:41:10.493435\", \"2021-01-22T15:41:10.493435\", \"2021-01-22T16:02:57.657913\", \"2021-01-22T16:02:57.657913\", \"2021-01-22T16:02:57.657913\", \"2021-01-22T18:24:44.822392\", \"2021-01-22T18:24:44.822392\", \"2021-01-22T18:46:31.986870\", \"2021-01-22T18:46:31.986870\", \"2021-01-22T18:46:31.986870\", \"2021-01-22T21:08:19.151348\", \"2021-01-22T21:08:19.151348\", \"2021-01-22T21:30:06.315826\", \"2021-01-22T21:30:06.315826\", \"2021-01-22T21:30:06.315826\", \"2021-01-22T23:51:53.480305\", \"2021-01-22T23:51:53.480305\", \"2021-01-23T00:13:40.644783\", \"2021-01-23T00:13:40.644783\", \"2021-01-23T00:13:40.644783\", \"2021-01-23T02:35:27.809261\", \"2021-01-23T02:35:27.809261\", \"2021-01-23T02:57:14.973740\", \"2021-01-23T02:57:14.973740\", \"2021-01-23T02:57:14.973740\"], \"y\": [\"sailing filled_2\", \"sailing filled_2\", \"sailing filled_2\", \"sailing filled_2\", null, \"sailing filled_2\", \"sailing filled_2\", \"sailing filled_2\", \"sailing filled_2\", null, \"sailing filled_2\", \"sailing filled_2\", \"sailing filled_2\", \"sailing filled_2\", null, \"sailing filled_2\", \"sailing filled_2\", \"sailing filled_2\", \"sailing filled_2\", null, \"sailing filled_2\", \"sailing filled_2\", \"sailing filled_2\", \"sailing filled_2\", null, \"sailing filled_2\", \"sailing filled_2\", \"sailing filled_2\", \"sailing filled_2\", null]}, {\"connectgaps\": false, \"hoverinfo\": \"y+name\", \"line\": {\"color\": \"rgb(121,111,163)\", \"width\": 10}, \"mode\": \"lines\", \"name\": \"Transfer TP_2\", \"type\": \"scatter\", \"x\": [\"2021-01-22T13:19:23.328957\", \"2021-01-22T13:19:23.328957\", \"2021-01-22T14:19:23.328957\", \"2021-01-22T14:19:23.328957\", \"2021-01-22T14:19:23.328957\", \"2021-01-22T16:02:57.657913\", \"2021-01-22T16:02:57.657913\", \"2021-01-22T17:02:57.657913\", \"2021-01-22T17:02:57.657913\", \"2021-01-22T17:02:57.657913\", \"2021-01-22T18:46:31.986870\", \"2021-01-22T18:46:31.986870\", \"2021-01-22T19:46:31.986870\", \"2021-01-22T19:46:31.986870\", \"2021-01-22T19:46:31.986870\", \"2021-01-22T21:30:06.315826\", \"2021-01-22T21:30:06.315826\", \"2021-01-22T22:30:06.315826\", \"2021-01-22T22:30:06.315826\", \"2021-01-22T22:30:06.315826\", \"2021-01-23T00:13:40.644783\", \"2021-01-23T00:13:40.644783\", \"2021-01-23T01:13:40.644783\", \"2021-01-23T01:13:40.644783\", \"2021-01-23T01:13:40.644783\", \"2021-01-23T02:57:14.973740\", \"2021-01-23T02:57:14.973740\", \"2021-01-23T03:57:14.973740\", \"2021-01-23T03:57:14.973740\", \"2021-01-23T03:57:14.973740\"], \"y\": [\"Transfer TP_2\", \"Transfer TP_2\", \"Transfer TP_2\", \"Transfer TP_2\", null, \"Transfer TP_2\", \"Transfer TP_2\", \"Transfer TP_2\", \"Transfer TP_2\", null, \"Transfer TP_2\", \"Transfer TP_2\", \"Transfer TP_2\", \"Transfer TP_2\", null, \"Transfer TP_2\", \"Transfer TP_2\", \"Transfer TP_2\", \"Transfer TP_2\", null, \"Transfer TP_2\", \"Transfer TP_2\", \"Transfer TP_2\", \"Transfer TP_2\", null, \"Transfer TP_2\", \"Transfer TP_2\", \"Transfer TP_2\", \"Transfer TP_2\", null]}, {\"connectgaps\": false, \"hoverinfo\": \"y+name\", \"line\": {\"color\": \"rgb(153,143,195)\", \"width\": 10}, \"mode\": \"lines\", \"name\": \"sailing empty_1\", \"type\": \"scatter\", \"x\": [\"2021-01-22T11:35:49\", \"2021-01-22T11:35:49\", \"2021-01-22T11:57:36.164478\", \"2021-01-22T11:57:36.164478\", \"2021-01-22T11:57:36.164478\", \"2021-01-22T14:19:23.328957\", \"2021-01-22T14:19:23.328957\", \"2021-01-22T14:41:10.493435\", \"2021-01-22T14:41:10.493435\", \"2021-01-22T14:41:10.493435\", \"2021-01-22T17:02:57.657913\", \"2021-01-22T17:02:57.657913\", \"2021-01-22T17:24:44.822392\", \"2021-01-22T17:24:44.822392\", \"2021-01-22T17:24:44.822392\", \"2021-01-22T19:46:31.986870\", \"2021-01-22T19:46:31.986870\", \"2021-01-22T20:08:19.151348\", \"2021-01-22T20:08:19.151348\", \"2021-01-22T20:08:19.151348\", \"2021-01-22T22:30:06.315826\", \"2021-01-22T22:30:06.315826\", \"2021-01-22T22:51:53.480305\", \"2021-01-22T22:51:53.480305\", \"2021-01-22T22:51:53.480305\", \"2021-01-23T01:13:40.644783\", \"2021-01-23T01:13:40.644783\", \"2021-01-23T01:35:27.809261\", \"2021-01-23T01:35:27.809261\", \"2021-01-23T01:35:27.809261\"], \"y\": [\"sailing empty_1\", \"sailing empty_1\", \"sailing empty_1\", \"sailing empty_1\", null, \"sailing empty_1\", \"sailing empty_1\", \"sailing empty_1\", \"sailing empty_1\", null, \"sailing empty_1\", \"sailing empty_1\", \"sailing empty_1\", \"sailing empty_1\", null, \"sailing empty_1\", \"sailing empty_1\", \"sailing empty_1\", \"sailing empty_1\", null, \"sailing empty_1\", \"sailing empty_1\", \"sailing empty_1\", \"sailing empty_1\", null, \"sailing empty_1\", \"sailing empty_1\", \"sailing empty_1\", \"sailing empty_1\", null]}, {\"connectgaps\": false, \"hoverinfo\": \"y+name\", \"line\": {\"color\": \"rgb(185,175,227)\", \"width\": 10}, \"mode\": \"lines\", \"name\": \"Transfer MP_1\", \"type\": \"scatter\", \"x\": [\"2021-01-22T11:57:36.164478\", \"2021-01-22T11:57:36.164478\", \"2021-01-22T12:57:36.164478\", \"2021-01-22T12:57:36.164478\", \"2021-01-22T12:57:36.164478\", \"2021-01-22T14:41:10.493435\", \"2021-01-22T14:41:10.493435\", \"2021-01-22T15:41:10.493435\", \"2021-01-22T15:41:10.493435\", \"2021-01-22T15:41:10.493435\", \"2021-01-22T17:24:44.822392\", \"2021-01-22T17:24:44.822392\", \"2021-01-22T18:24:44.822392\", \"2021-01-22T18:24:44.822392\", \"2021-01-22T18:24:44.822392\", \"2021-01-22T20:08:19.151348\", \"2021-01-22T20:08:19.151348\", \"2021-01-22T21:08:19.151348\", \"2021-01-22T21:08:19.151348\", \"2021-01-22T21:08:19.151348\", \"2021-01-22T22:51:53.480305\", \"2021-01-22T22:51:53.480305\", \"2021-01-22T23:51:53.480305\", \"2021-01-22T23:51:53.480305\", \"2021-01-22T23:51:53.480305\", \"2021-01-23T01:35:27.809261\", \"2021-01-23T01:35:27.809261\", \"2021-01-23T02:35:27.809261\", \"2021-01-23T02:35:27.809261\", \"2021-01-23T02:35:27.809261\"], \"y\": [\"Transfer MP_1\", \"Transfer MP_1\", \"Transfer MP_1\", \"Transfer MP_1\", null, \"Transfer MP_1\", \"Transfer MP_1\", \"Transfer MP_1\", \"Transfer MP_1\", null, \"Transfer MP_1\", \"Transfer MP_1\", \"Transfer MP_1\", \"Transfer MP_1\", null, \"Transfer MP_1\", \"Transfer MP_1\", \"Transfer MP_1\", \"Transfer MP_1\", null, \"Transfer MP_1\", \"Transfer MP_1\", \"Transfer MP_1\", \"Transfer MP_1\", null, \"Transfer MP_1\", \"Transfer MP_1\", \"Transfer MP_1\", \"Transfer MP_1\", null]}, {\"connectgaps\": false, \"hoverinfo\": \"y+name\", \"line\": {\"color\": \"rgb(217,207,3)\", \"width\": 10}, \"mode\": \"lines\", \"name\": \"sailing filled_1\", \"type\": \"scatter\", \"x\": [\"2021-01-22T12:57:36.164478\", \"2021-01-22T12:57:36.164478\", \"2021-01-22T13:19:23.328957\", \"2021-01-22T13:19:23.328957\", \"2021-01-22T13:19:23.328957\", \"2021-01-22T15:41:10.493435\", \"2021-01-22T15:41:10.493435\", \"2021-01-22T16:02:57.657913\", \"2021-01-22T16:02:57.657913\", \"2021-01-22T16:02:57.657913\", \"2021-01-22T18:24:44.822392\", \"2021-01-22T18:24:44.822392\", \"2021-01-22T18:46:31.986870\", \"2021-01-22T18:46:31.986870\", \"2021-01-22T18:46:31.986870\", \"2021-01-22T21:08:19.151348\", \"2021-01-22T21:08:19.151348\", \"2021-01-22T21:30:06.315826\", \"2021-01-22T21:30:06.315826\", \"2021-01-22T21:30:06.315826\", \"2021-01-22T23:51:53.480305\", \"2021-01-22T23:51:53.480305\", \"2021-01-23T00:13:40.644783\", \"2021-01-23T00:13:40.644783\", \"2021-01-23T00:13:40.644783\", \"2021-01-23T02:35:27.809261\", \"2021-01-23T02:35:27.809261\", \"2021-01-23T02:57:14.973740\", \"2021-01-23T02:57:14.973740\", \"2021-01-23T02:57:14.973740\"], \"y\": [\"sailing filled_1\", \"sailing filled_1\", \"sailing filled_1\", \"sailing filled_1\", null, \"sailing filled_1\", \"sailing filled_1\", \"sailing filled_1\", \"sailing filled_1\", null, \"sailing filled_1\", \"sailing filled_1\", \"sailing filled_1\", \"sailing filled_1\", null, \"sailing filled_1\", \"sailing filled_1\", \"sailing filled_1\", \"sailing filled_1\", null, \"sailing filled_1\", \"sailing filled_1\", \"sailing filled_1\", \"sailing filled_1\", null, \"sailing filled_1\", \"sailing filled_1\", \"sailing filled_1\", \"sailing filled_1\", null]}, {\"connectgaps\": false, \"hoverinfo\": \"y+name\", \"line\": {\"color\": \"rgb(249,239,35)\", \"width\": 10}, \"mode\": \"lines\", \"name\": \"Transfer TP_1\", \"type\": \"scatter\", \"x\": [\"2021-01-22T13:19:23.328957\", \"2021-01-22T13:19:23.328957\", \"2021-01-22T14:19:23.328957\", \"2021-01-22T14:19:23.328957\", \"2021-01-22T14:19:23.328957\", \"2021-01-22T16:02:57.657913\", \"2021-01-22T16:02:57.657913\", \"2021-01-22T17:02:57.657913\", \"2021-01-22T17:02:57.657913\", \"2021-01-22T17:02:57.657913\", \"2021-01-22T18:46:31.986870\", \"2021-01-22T18:46:31.986870\", \"2021-01-22T19:46:31.986870\", \"2021-01-22T19:46:31.986870\", \"2021-01-22T19:46:31.986870\", \"2021-01-22T21:30:06.315826\", \"2021-01-22T21:30:06.315826\", \"2021-01-22T22:30:06.315826\", \"2021-01-22T22:30:06.315826\", \"2021-01-22T22:30:06.315826\", \"2021-01-23T00:13:40.644783\", \"2021-01-23T00:13:40.644783\", \"2021-01-23T01:13:40.644783\", \"2021-01-23T01:13:40.644783\", \"2021-01-23T01:13:40.644783\"], \"y\": [\"Transfer TP_1\", \"Transfer TP_1\", \"Transfer TP_1\", \"Transfer TP_1\", null, \"Transfer TP_1\", \"Transfer TP_1\", \"Transfer TP_1\", \"Transfer TP_1\", null, \"Transfer TP_1\", \"Transfer TP_1\", \"Transfer TP_1\", \"Transfer TP_1\", null, \"Transfer TP_1\", \"Transfer TP_1\", \"Transfer TP_1\", \"Transfer TP_1\", null, \"Transfer TP_1\", \"Transfer TP_1\", \"Transfer TP_1\", \"Transfer TP_1\", null]}],                        {\"hovermode\": \"closest\", \"legend\": {\"orientation\": \"h\", \"x\": 0, \"y\": -0.2}, \"template\": {\"data\": {\"bar\": [{\"error_x\": {\"color\": \"#2a3f5f\"}, \"error_y\": {\"color\": \"#2a3f5f\"}, \"marker\": {\"line\": {\"color\": \"#E5ECF6\", \"width\": 0.5}}, \"type\": \"bar\"}], \"barpolar\": [{\"marker\": {\"line\": {\"color\": \"#E5ECF6\", \"width\": 0.5}}, \"type\": \"barpolar\"}], \"carpet\": [{\"aaxis\": {\"endlinecolor\": \"#2a3f5f\", \"gridcolor\": \"white\", \"linecolor\": \"white\", \"minorgridcolor\": \"white\", \"startlinecolor\": \"#2a3f5f\"}, \"baxis\": {\"endlinecolor\": \"#2a3f5f\", \"gridcolor\": \"white\", \"linecolor\": \"white\", \"minorgridcolor\": \"white\", \"startlinecolor\": \"#2a3f5f\"}, \"type\": \"carpet\"}], \"choropleth\": [{\"colorbar\": {\"outlinewidth\": 0, \"ticks\": \"\"}, \"type\": \"choropleth\"}], \"contour\": [{\"colorbar\": {\"outlinewidth\": 0, \"ticks\": \"\"}, \"colorscale\": [[0.0, \"#0d0887\"], [0.1111111111111111, \"#46039f\"], [0.2222222222222222, \"#7201a8\"], [0.3333333333333333, \"#9c179e\"], [0.4444444444444444, \"#bd3786\"], [0.5555555555555556, \"#d8576b\"], [0.6666666666666666, \"#ed7953\"], [0.7777777777777778, \"#fb9f3a\"], [0.8888888888888888, \"#fdca26\"], [1.0, \"#f0f921\"]], \"type\": \"contour\"}], \"contourcarpet\": [{\"colorbar\": {\"outlinewidth\": 0, \"ticks\": \"\"}, \"type\": \"contourcarpet\"}], \"heatmap\": [{\"colorbar\": {\"outlinewidth\": 0, \"ticks\": \"\"}, \"colorscale\": [[0.0, \"#0d0887\"], [0.1111111111111111, \"#46039f\"], [0.2222222222222222, \"#7201a8\"], [0.3333333333333333, \"#9c179e\"], [0.4444444444444444, \"#bd3786\"], [0.5555555555555556, \"#d8576b\"], [0.6666666666666666, \"#ed7953\"], [0.7777777777777778, \"#fb9f3a\"], [0.8888888888888888, \"#fdca26\"], [1.0, \"#f0f921\"]], \"type\": \"heatmap\"}], \"heatmapgl\": [{\"colorbar\": {\"outlinewidth\": 0, \"ticks\": \"\"}, \"colorscale\": [[0.0, \"#0d0887\"], [0.1111111111111111, \"#46039f\"], [0.2222222222222222, \"#7201a8\"], [0.3333333333333333, \"#9c179e\"], [0.4444444444444444, \"#bd3786\"], [0.5555555555555556, \"#d8576b\"], [0.6666666666666666, \"#ed7953\"], [0.7777777777777778, \"#fb9f3a\"], [0.8888888888888888, \"#fdca26\"], [1.0, \"#f0f921\"]], \"type\": \"heatmapgl\"}], \"histogram\": [{\"marker\": {\"colorbar\": {\"outlinewidth\": 0, \"ticks\": \"\"}}, \"type\": \"histogram\"}], \"histogram2d\": [{\"colorbar\": {\"outlinewidth\": 0, \"ticks\": \"\"}, \"colorscale\": [[0.0, \"#0d0887\"], [0.1111111111111111, \"#46039f\"], [0.2222222222222222, \"#7201a8\"], [0.3333333333333333, \"#9c179e\"], [0.4444444444444444, \"#bd3786\"], [0.5555555555555556, \"#d8576b\"], [0.6666666666666666, \"#ed7953\"], [0.7777777777777778, \"#fb9f3a\"], [0.8888888888888888, \"#fdca26\"], [1.0, \"#f0f921\"]], \"type\": \"histogram2d\"}], \"histogram2dcontour\": [{\"colorbar\": {\"outlinewidth\": 0, \"ticks\": \"\"}, \"colorscale\": [[0.0, \"#0d0887\"], [0.1111111111111111, \"#46039f\"], [0.2222222222222222, \"#7201a8\"], [0.3333333333333333, \"#9c179e\"], [0.4444444444444444, \"#bd3786\"], [0.5555555555555556, \"#d8576b\"], [0.6666666666666666, \"#ed7953\"], [0.7777777777777778, \"#fb9f3a\"], [0.8888888888888888, \"#fdca26\"], [1.0, \"#f0f921\"]], \"type\": \"histogram2dcontour\"}], \"mesh3d\": [{\"colorbar\": {\"outlinewidth\": 0, \"ticks\": \"\"}, \"type\": \"mesh3d\"}], \"parcoords\": [{\"line\": {\"colorbar\": {\"outlinewidth\": 0, \"ticks\": \"\"}}, \"type\": \"parcoords\"}], \"pie\": [{\"automargin\": true, \"type\": \"pie\"}], \"scatter\": [{\"marker\": {\"colorbar\": {\"outlinewidth\": 0, \"ticks\": \"\"}}, \"type\": \"scatter\"}], \"scatter3d\": [{\"line\": {\"colorbar\": {\"outlinewidth\": 0, \"ticks\": \"\"}}, \"marker\": {\"colorbar\": {\"outlinewidth\": 0, \"ticks\": \"\"}}, \"type\": \"scatter3d\"}], \"scattercarpet\": [{\"marker\": {\"colorbar\": {\"outlinewidth\": 0, \"ticks\": \"\"}}, \"type\": \"scattercarpet\"}], \"scattergeo\": [{\"marker\": {\"colorbar\": {\"outlinewidth\": 0, \"ticks\": \"\"}}, \"type\": \"scattergeo\"}], \"scattergl\": [{\"marker\": {\"colorbar\": {\"outlinewidth\": 0, \"ticks\": \"\"}}, \"type\": \"scattergl\"}], \"scattermapbox\": [{\"marker\": {\"colorbar\": {\"outlinewidth\": 0, \"ticks\": \"\"}}, \"type\": \"scattermapbox\"}], \"scatterpolar\": [{\"marker\": {\"colorbar\": {\"outlinewidth\": 0, \"ticks\": \"\"}}, \"type\": \"scatterpolar\"}], \"scatterpolargl\": [{\"marker\": {\"colorbar\": {\"outlinewidth\": 0, \"ticks\": \"\"}}, \"type\": \"scatterpolargl\"}], \"scatterternary\": [{\"marker\": {\"colorbar\": {\"outlinewidth\": 0, \"ticks\": \"\"}}, \"type\": \"scatterternary\"}], \"surface\": [{\"colorbar\": {\"outlinewidth\": 0, \"ticks\": \"\"}, \"colorscale\": [[0.0, \"#0d0887\"], [0.1111111111111111, \"#46039f\"], [0.2222222222222222, \"#7201a8\"], [0.3333333333333333, \"#9c179e\"], [0.4444444444444444, \"#bd3786\"], [0.5555555555555556, \"#d8576b\"], [0.6666666666666666, \"#ed7953\"], [0.7777777777777778, \"#fb9f3a\"], [0.8888888888888888, \"#fdca26\"], [1.0, \"#f0f921\"]], \"type\": \"surface\"}], \"table\": [{\"cells\": {\"fill\": {\"color\": \"#EBF0F8\"}, \"line\": {\"color\": \"white\"}}, \"header\": {\"fill\": {\"color\": \"#C8D4E3\"}, \"line\": {\"color\": \"white\"}}, \"type\": \"table\"}]}, \"layout\": {\"annotationdefaults\": {\"arrowcolor\": \"#2a3f5f\", \"arrowhead\": 0, \"arrowwidth\": 1}, \"autotypenumbers\": \"strict\", \"coloraxis\": {\"colorbar\": {\"outlinewidth\": 0, \"ticks\": \"\"}}, \"colorscale\": {\"diverging\": [[0, \"#8e0152\"], [0.1, \"#c51b7d\"], [0.2, \"#de77ae\"], [0.3, \"#f1b6da\"], [0.4, \"#fde0ef\"], [0.5, \"#f7f7f7\"], [0.6, \"#e6f5d0\"], [0.7, \"#b8e186\"], [0.8, \"#7fbc41\"], [0.9, \"#4d9221\"], [1, \"#276419\"]], \"sequential\": [[0.0, \"#0d0887\"], [0.1111111111111111, \"#46039f\"], [0.2222222222222222, \"#7201a8\"], [0.3333333333333333, \"#9c179e\"], [0.4444444444444444, \"#bd3786\"], [0.5555555555555556, \"#d8576b\"], [0.6666666666666666, \"#ed7953\"], [0.7777777777777778, \"#fb9f3a\"], [0.8888888888888888, \"#fdca26\"], [1.0, \"#f0f921\"]], \"sequentialminus\": [[0.0, \"#0d0887\"], [0.1111111111111111, \"#46039f\"], [0.2222222222222222, \"#7201a8\"], [0.3333333333333333, \"#9c179e\"], [0.4444444444444444, \"#bd3786\"], [0.5555555555555556, \"#d8576b\"], [0.6666666666666666, \"#ed7953\"], [0.7777777777777778, \"#fb9f3a\"], [0.8888888888888888, \"#fdca26\"], [1.0, \"#f0f921\"]]}, \"colorway\": [\"#636efa\", \"#EF553B\", \"#00cc96\", \"#ab63fa\", \"#FFA15A\", \"#19d3f3\", \"#FF6692\", \"#B6E880\", \"#FF97FF\", \"#FECB52\"], \"font\": {\"color\": \"#2a3f5f\"}, \"geo\": {\"bgcolor\": \"white\", \"lakecolor\": \"white\", \"landcolor\": \"#E5ECF6\", \"showlakes\": true, \"showland\": true, \"subunitcolor\": \"white\"}, \"hoverlabel\": {\"align\": \"left\"}, \"hovermode\": \"closest\", \"mapbox\": {\"style\": \"light\"}, \"paper_bgcolor\": \"white\", \"plot_bgcolor\": \"#E5ECF6\", \"polar\": {\"angularaxis\": {\"gridcolor\": \"white\", \"linecolor\": \"white\", \"ticks\": \"\"}, \"bgcolor\": \"#E5ECF6\", \"radialaxis\": {\"gridcolor\": \"white\", \"linecolor\": \"white\", \"ticks\": \"\"}}, \"scene\": {\"xaxis\": {\"backgroundcolor\": \"#E5ECF6\", \"gridcolor\": \"white\", \"gridwidth\": 2, \"linecolor\": \"white\", \"showbackground\": true, \"ticks\": \"\", \"zerolinecolor\": \"white\"}, \"yaxis\": {\"backgroundcolor\": \"#E5ECF6\", \"gridcolor\": \"white\", \"gridwidth\": 2, \"linecolor\": \"white\", \"showbackground\": true, \"ticks\": \"\", \"zerolinecolor\": \"white\"}, \"zaxis\": {\"backgroundcolor\": \"#E5ECF6\", \"gridcolor\": \"white\", \"gridwidth\": 2, \"linecolor\": \"white\", \"showbackground\": true, \"ticks\": \"\", \"zerolinecolor\": \"white\"}}, \"shapedefaults\": {\"line\": {\"color\": \"#2a3f5f\"}}, \"ternary\": {\"aaxis\": {\"gridcolor\": \"white\", \"linecolor\": \"white\", \"ticks\": \"\"}, \"baxis\": {\"gridcolor\": \"white\", \"linecolor\": \"white\", \"ticks\": \"\"}, \"bgcolor\": \"#E5ECF6\", \"caxis\": {\"gridcolor\": \"white\", \"linecolor\": \"white\", \"ticks\": \"\"}}, \"title\": {\"x\": 0.05}, \"xaxis\": {\"automargin\": true, \"gridcolor\": \"white\", \"linecolor\": \"white\", \"ticks\": \"\", \"title\": {\"standoff\": 15}, \"zerolinecolor\": \"white\", \"zerolinewidth\": 2}, \"yaxis\": {\"automargin\": true, \"gridcolor\": \"white\", \"linecolor\": \"white\", \"ticks\": \"\", \"title\": {\"standoff\": 15}, \"zerolinecolor\": \"white\", \"zerolinewidth\": 2}}}, \"title\": {\"text\": \"Vessel planning\"}, \"xaxis\": {\"range\": [\"2021-01-22T11:35:49\", \"2021-01-23T03:57:14.973740\"], \"title\": {\"font\": {\"color\": \"#7f7f7f\", \"family\": \"Courier New, monospace\", \"size\": 18}, \"text\": \"Time\"}}, \"yaxis\": {\"title\": {\"font\": {\"color\": \"#7f7f7f\", \"family\": \"Courier New, monospace\", \"size\": 18}, \"text\": \"Vessels\"}}},                        {\"responsive\": true}                    ).then(function(){\n",
       "                            \n",
       "var gd = document.getElementById('122abf50-a573-4609-b0c0-c07b9e9d4743');\n",
       "var x = new MutationObserver(function (mutations, observer) {{\n",
       "        var display = window.getComputedStyle(gd).display;\n",
       "        if (!display || display === 'none') {{\n",
       "            console.log([gd, 'removed!']);\n",
       "            Plotly.purge(gd);\n",
       "            observer.disconnect();\n",
       "        }}\n",
       "}});\n",
       "\n",
       "// Listen for the removal of the full notebook cells\n",
       "var notebookContainer = gd.closest('#notebook-container');\n",
       "if (notebookContainer) {{\n",
       "    x.observe(notebookContainer, {childList: true});\n",
       "}}\n",
       "\n",
       "// Listen for the clearing of the current output cell\n",
       "var outputEl = gd.closest('.output');\n",
       "if (outputEl) {{\n",
       "    x.observe(outputEl, {childList: true});\n",
       "}}\n",
       "\n",
       "                        })                };                });            </script>        </div>"
      ]
     },
     "metadata": {},
     "output_type": "display_data"
    }
   ],
   "source": [
    "plot.vessel_planning([\n",
    "    *while_activity2.sub_processes[0].sub_processes,\n",
    "    *while_activity.sub_processes[0].sub_processes \n",
    "])"
   ]
  },
  {
   "cell_type": "code",
   "execution_count": null,
   "metadata": {},
   "outputs": [],
   "source": []
  }
 ],
 "metadata": {
  "kernelspec": {
   "display_name": "Python 3",
   "language": "python",
   "name": "python3"
  },
  "language_info": {
   "codemirror_mode": {
    "name": "ipython",
    "version": 3
   },
   "file_extension": ".py",
   "mimetype": "text/x-python",
   "name": "python",
   "nbconvert_exporter": "python",
   "pygments_lexer": "ipython3",
   "version": "3.7.3"
  }
 },
 "nbformat": 4,
 "nbformat_minor": 2
}
