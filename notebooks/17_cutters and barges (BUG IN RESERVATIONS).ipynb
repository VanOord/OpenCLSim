{
 "cells": [
  {
   "cell_type": "code",
   "execution_count": 11,
   "metadata": {},
   "outputs": [],
   "source": [
    "import datetime, time\n",
    "import simpy\n",
    "\n",
    "import shapely.geometry\n",
    "\n",
    "\n",
    "import pandas as pd\n",
    "import openclsim.core as core\n",
    "import openclsim.model as model\n",
    "import openclsim.plot as plot\n",
    "\n",
    "import datetime\n",
    "\n",
    "import numpy as np"
   ]
  },
  {
   "cell_type": "code",
   "execution_count": 2,
   "metadata": {},
   "outputs": [],
   "source": [
    "simulation_start = datetime.datetime.now()\n",
    "\n",
    "my_env = simpy.Environment(initial_time=time.mktime(simulation_start.timetuple()))\n",
    "my_env.epoch = time.mktime(simulation_start.timetuple())\n",
    "\n",
    "registry = {}\n",
    "keep_resources = {}"
   ]
  },
  {
   "cell_type": "code",
   "execution_count": 3,
   "metadata": {},
   "outputs": [],
   "source": [
    "Site = type(\n",
    "    \"Site\",\n",
    "    (\n",
    "        core.Identifiable,\n",
    "        core.Log,\n",
    "        core.Locatable,\n",
    "        core.HasContainer,\n",
    "        core.HasResource,\n",
    "    ),\n",
    "    {},\n",
    ")\n",
    "\n",
    "\n",
    "TransportProcessingResource = type(\n",
    "    \"TransportProcessingResource\",\n",
    "    (\n",
    "        core.Identifiable,\n",
    "        core.Log,\n",
    "        core.ContainerDependentMovable,\n",
    "        core.Processor,\n",
    "        core.HasResource,\n",
    "        core.LoadingFunction,\n",
    "        core.UnloadingFunction,\n",
    "    ),\n",
    "    {},\n",
    ")"
   ]
  },
  {
   "cell_type": "code",
   "execution_count": 4,
   "metadata": {},
   "outputs": [],
   "source": [
    "location_from_site = shapely.geometry.Point(5.1, 52)\n",
    "location_to_site = shapely.geometry.Point(5, 52.1)\n",
    "location_to_site_2 = shapely.geometry.Point(5, 52.2)\n",
    "\n",
    "data_from_site = {\n",
    "    \"env\": my_env,\n",
    "    \"name\": \"Winlocatie\",\n",
    "    \"geometry\": location_from_site,\n",
    "    \"capacity\": 100,\n",
    "    \"level\": 100,\n",
    "}\n",
    "\n",
    "data_to_site = {\n",
    "    \"env\": my_env,\n",
    "    \"name\": \"Dumplocatie\",\n",
    "    \"geometry\": location_to_site,\n",
    "    \"capacity\": 55,\n",
    "    \"level\": 0,\n",
    "}\n",
    "\n",
    "\n",
    "from_site = Site(**data_from_site)\n",
    "to_site = Site(**data_to_site)\n"
   ]
  },
  {
   "cell_type": "code",
   "execution_count": 5,
   "metadata": {},
   "outputs": [],
   "source": [
    "data_cutter = {\n",
    "    \"env\": my_env,\n",
    "    \"name\": \"Cutter_1\",\n",
    "    \"geometry\": location_from_site,\n",
    "    \"capacity\": 5,\n",
    "    \"compute_v\": lambda x: 10,\n",
    "    \"loading_rate\": 3600/5,\n",
    "    \"unloading_rate\": 3600/5\n",
    "}\n",
    "\n",
    "\n",
    "data_barge_1 = {\n",
    "    \"env\": my_env,\n",
    "    \"name\": \"Barge_1\",\n",
    "    \"geometry\": location_to_site,\n",
    "    \"capacity\": 5,\n",
    "    \"compute_v\": lambda x: 10,\n",
    "    \"loading_rate\": 3600/5,\n",
    "    \"unloading_rate\": 3600/5\n",
    "}\n",
    "\n",
    "\n",
    "data_barge_2 = {\n",
    "    \"env\": my_env,\n",
    "    \"name\": \"Barge_2\",\n",
    "    \"geometry\": location_to_site,\n",
    "    \"capacity\": 5,\n",
    "    \"compute_v\": lambda x: 10,\n",
    "    \"loading_rate\": 3600/5,\n",
    "    \"unloading_rate\": 3600/5\n",
    "}\n",
    "\n",
    "cutter = TransportProcessingResource(**data_cutter)\n",
    "barge_1 = TransportProcessingResource(**data_barge_1)\n",
    "barge_2 = TransportProcessingResource(**data_barge_2)"
   ]
  },
  {
   "cell_type": "code",
   "execution_count": 6,
   "metadata": {},
   "outputs": [],
   "source": [
    "requested_resources = {}\n",
    "\n",
    "single_run = [\n",
    "    model.MoveActivity(**{\n",
    "        \"env\": my_env,\n",
    "        \"name\": \"sailing empty_1\",\n",
    "        \"registry\": registry,\n",
    "        \"mover\": barge_1,\n",
    "        \"destination\": from_site,\n",
    "    }),\n",
    "    model.ShiftAmountActivity(**{\n",
    "        \"env\": my_env,\n",
    "        \"name\": \"Transfer MP_1\",\n",
    "        \"registry\": registry,\n",
    "        \"processor\": cutter,\n",
    "        \"origin\": from_site,\n",
    "        \"destination\": barge_1,\n",
    "        \"amount\": 5,\n",
    "        \"duration\": 3600,\n",
    "#         \"requested_resources\":requested_resources\n",
    "    }),\n",
    "    model.MoveActivity(**{\n",
    "        \"env\": my_env,\n",
    "        \"name\": \"sailing filled_1\",\n",
    "        \"registry\": registry,\n",
    "        \"mover\": barge_1,\n",
    "        \"destination\": to_site,\n",
    "    }),\n",
    "    model.ShiftAmountActivity(**{\n",
    "        \"env\": my_env,\n",
    "        \"name\": \"Transfer TP_1\",\n",
    "        \"registry\": registry,\n",
    "        \"processor\": barge_1,\n",
    "        \"origin\": barge_1,\n",
    "        \"destination\": to_site,\n",
    "        \"amount\": 5,\n",
    "        \"duration\": 3600,\n",
    "#         \"requested_resources\":requested_resources\n",
    "    })\n",
    "]\n",
    "\n",
    "\n",
    "sequential_activity_data = {\n",
    "    \"env\": my_env,\n",
    "    \"name\": \"Single run process_1\",\n",
    "    \"registry\": registry,\n",
    "    \"sub_processes\": single_run,\n",
    "}\n",
    "activity = model.SequentialActivity(**sequential_activity_data)\n",
    "\n",
    "while_activity = model.WhileActivity(**{\n",
    "    \"env\": my_env,\n",
    "    \"name\": \"while_1\",\n",
    "    \"registry\": registry,\n",
    "    \"sub_processes\": [activity],\n",
    "    \"condition_event\": [{\"type\":\"container\", \"concept\": to_site, \"state\":\"full\"}],\n",
    "})"
   ]
  },
  {
   "cell_type": "code",
   "execution_count": 7,
   "metadata": {},
   "outputs": [],
   "source": [
    "single_run = [\n",
    "    model.MoveActivity(**{\n",
    "        \"env\": my_env,\n",
    "        \"name\": \"sailing empty_2\",\n",
    "        \"registry\": registry,\n",
    "        \"mover\": barge_2,\n",
    "        \"destination\": from_site,\n",
    "    }),\n",
    "    model.ShiftAmountActivity(**{\n",
    "        \"env\": my_env,\n",
    "        \"name\": \"Transfer MP_2\",\n",
    "        \"registry\": registry,\n",
    "        \"processor\": cutter,\n",
    "        \"origin\": from_site,\n",
    "        \"destination\": barge_2,\n",
    "        \"amount\": 5,\n",
    "        \"duration\": 3600,\n",
    "    }),\n",
    "    model.MoveActivity(**{\n",
    "        \"env\": my_env,\n",
    "        \"name\": \"sailing filled_2\",\n",
    "        \"registry\": registry,\n",
    "        \"mover\": barge_2,\n",
    "        \"destination\": to_site,\n",
    "    }),\n",
    "    model.ShiftAmountActivity(**{\n",
    "        \"env\": my_env,\n",
    "        \"name\": \"Transfer TP_2\",\n",
    "        \"registry\": registry,\n",
    "        \"processor\": barge_2,\n",
    "        \"origin\": barge_2,\n",
    "        \"destination\": to_site,\n",
    "        \"amount\": 5,\n",
    "        \"duration\": 3600,\n",
    "    })\n",
    "]\n",
    "\n",
    "\n",
    "activity = model.SequentialActivity(** {\n",
    "    \"env\": my_env,\n",
    "    \"name\": \"Single run process_2\",\n",
    "    \"registry\": registry,\n",
    "    \"sub_processes\": single_run,\n",
    "})\n",
    "\n",
    "while_activity2 = model.WhileActivity(**{\n",
    "    \"name\": \"while_2\",\n",
    "    \"env\": my_env,\n",
    "    \"registry\": registry,\n",
    "    \"sub_processes\": [activity],\n",
    "    \"condition_event\": [{\"type\":\"container\", \"concept\": to_site, \"state\":\"full\"}],\n",
    "})"
   ]
  },
  {
   "cell_type": "code",
   "execution_count": 8,
   "metadata": {
    "scrolled": true
   },
   "outputs": [
    {
     "name": "stdout",
     "output_type": "stream",
     "text": [
      "Transfer MP_2 [('Winlocatie', []), ('Barge_2', []), ('Cutter_1', [])]\n",
      "Transfer MP_1 [('Winlocatie', []), ('Barge_1', []), ('Cutter_1', [])]\n",
      "Transfer TP_2 [('Barge_2', []), ('Dumplocatie', []), ('Barge_2', [])]\n",
      "Transfer TP_1 [('Barge_1', []), ('Dumplocatie', []), ('Barge_1', [])]\n",
      "Transfer MP_1 [('Winlocatie', []), ('Barge_1', []), ('Cutter_1', [])]\n",
      "Transfer MP_2 [('Winlocatie', []), ('Barge_2', []), ('Cutter_1', [])]\n",
      "Transfer TP_1 [('Barge_1', []), ('Dumplocatie', []), ('Barge_1', [])]\n",
      "Transfer TP_2 [('Barge_2', []), ('Dumplocatie', []), ('Barge_2', [])]\n",
      "Transfer MP_2 [('Winlocatie', []), ('Barge_2', []), ('Cutter_1', [])]\n",
      "Transfer MP_1 [('Winlocatie', []), ('Barge_1', []), ('Cutter_1', [])]\n",
      "Transfer TP_2 [('Barge_2', []), ('Dumplocatie', []), ('Barge_2', [])]\n",
      "Transfer TP_1 [('Barge_1', []), ('Dumplocatie', []), ('Barge_1', [])]\n",
      "Transfer MP_1 [('Winlocatie', []), ('Barge_1', []), ('Cutter_1', [])]\n",
      "Transfer MP_2 [('Winlocatie', []), ('Barge_2', []), ('Cutter_1', [])]\n",
      "Transfer TP_1 [('Barge_1', []), ('Dumplocatie', []), ('Barge_1', [])]\n",
      "Transfer TP_2 [('Barge_2', []), ('Dumplocatie', []), ('Barge_2', [])]\n",
      "Transfer MP_2 [('Winlocatie', []), ('Barge_2', []), ('Cutter_1', [])]\n",
      "Transfer MP_1 [('Winlocatie', []), ('Barge_1', []), ('Cutter_1', [])]\n",
      "Transfer TP_2 [('Barge_2', []), ('Dumplocatie', []), ('Barge_2', [])]\n",
      "Transfer TP_1 [('Barge_1', []), ('Dumplocatie', []), ('Barge_1', [])]\n",
      "Transfer MP_1 [('Winlocatie', []), ('Barge_1', []), ('Cutter_1', [])]\n",
      "Transfer MP_2 [('Winlocatie', []), ('Barge_2', []), ('Cutter_1', [])]\n",
      "Transfer TP_1 [('Barge_1', []), ('Dumplocatie', []), ('Barge_1', [])]\n",
      "Transfer TP_2 [('Barge_2', []), ('Dumplocatie', []), ('Barge_2', [])]\n"
     ]
    }
   ],
   "source": [
    "model.register_processes([while_activity2, while_activity])\n",
    "my_env.run()"
   ]
  },
  {
   "cell_type": "code",
   "execution_count": 9,
   "metadata": {},
   "outputs": [
    {
     "name": "stdout",
     "output_type": "stream",
     "text": [
      "Level of the to_site: 60, Capacity of the to_site 55\n"
     ]
    }
   ],
   "source": [
    "# !! BUGG !!\n",
    "#  why we need reservations:\n",
    "# !! BUGG !!\n",
    "\n",
    "print(f\"Level of the to_site: {to_site.container.get_level()}, Capacity of the to_site {to_site.container.get_capacity()}\")"
   ]
  },
  {
   "cell_type": "code",
   "execution_count": 12,
   "metadata": {},
   "outputs": [
    {
     "data": {
      "text/html": [
       "        <script type=\"text/javascript\">\n",
       "        window.PlotlyConfig = {MathJaxConfig: 'local'};\n",
       "        if (window.MathJax) {MathJax.Hub.Config({SVG: {font: \"STIX-Web\"}});}\n",
       "        if (typeof require !== 'undefined') {\n",
       "        require.undef(\"plotly\");\n",
       "        requirejs.config({\n",
       "            paths: {\n",
       "                'plotly': ['https://cdn.plot.ly/plotly-latest.min']\n",
       "            }\n",
       "        });\n",
       "        require(['plotly'], function(Plotly) {\n",
       "            window._Plotly = Plotly;\n",
       "        });\n",
       "        }\n",
       "        </script>\n",
       "        "
      ]
     },
     "metadata": {},
     "output_type": "display_data"
    },
    {
     "data": {
      "application/vnd.plotly.v1+json": {
       "config": {
        "linkText": "Export to plot.ly",
        "plotlyServerURL": "https://plot.ly",
        "showLink": false
       },
       "data": [
        {
         "connectgaps": false,
         "hoverinfo": "y+name",
         "line": {
          "color": "rgb(135,37,106)",
          "width": 10
         },
         "mode": "lines",
         "name": "sailing empty_2",
         "type": "scatter",
         "x": [
          "2021-01-07T12:25:49",
          "2021-01-07T12:25:49",
          "2021-01-07T12:47:36.164478",
          "2021-01-07T12:47:36.164478",
          "2021-01-07T12:47:36.164478",
          "2021-01-07T15:09:23.328957",
          "2021-01-07T15:09:23.328957",
          "2021-01-07T15:31:10.493435",
          "2021-01-07T15:31:10.493435",
          "2021-01-07T15:31:10.493435",
          "2021-01-07T17:52:57.657913",
          "2021-01-07T17:52:57.657913",
          "2021-01-07T18:14:44.822392",
          "2021-01-07T18:14:44.822392",
          "2021-01-07T18:14:44.822392",
          "2021-01-07T20:36:31.986870",
          "2021-01-07T20:36:31.986870",
          "2021-01-07T20:58:19.151348",
          "2021-01-07T20:58:19.151348",
          "2021-01-07T20:58:19.151348",
          "2021-01-07T23:20:06.315826",
          "2021-01-07T23:20:06.315826",
          "2021-01-07T23:41:53.480305",
          "2021-01-07T23:41:53.480305",
          "2021-01-07T23:41:53.480305",
          "2021-01-08T02:03:40.644783",
          "2021-01-08T02:03:40.644783",
          "2021-01-08T02:25:27.809261",
          "2021-01-08T02:25:27.809261",
          "2021-01-08T02:25:27.809261"
         ],
         "y": [
          "sailing empty_2",
          "sailing empty_2",
          "sailing empty_2",
          "sailing empty_2",
          null,
          "sailing empty_2",
          "sailing empty_2",
          "sailing empty_2",
          "sailing empty_2",
          null,
          "sailing empty_2",
          "sailing empty_2",
          "sailing empty_2",
          "sailing empty_2",
          null,
          "sailing empty_2",
          "sailing empty_2",
          "sailing empty_2",
          "sailing empty_2",
          null,
          "sailing empty_2",
          "sailing empty_2",
          "sailing empty_2",
          "sailing empty_2",
          null,
          "sailing empty_2",
          "sailing empty_2",
          "sailing empty_2",
          "sailing empty_2",
          null
         ]
        },
        {
         "connectgaps": false,
         "hoverinfo": "y+name",
         "line": {
          "color": "rgb(167,69,138)",
          "width": 10
         },
         "mode": "lines",
         "name": "Transfer MP_2",
         "type": "scatter",
         "x": [
          "2021-01-07T12:47:36.164478",
          "2021-01-07T12:47:36.164478",
          "2021-01-07T13:47:36.164478",
          "2021-01-07T13:47:36.164478",
          "2021-01-07T13:47:36.164478",
          "2021-01-07T15:31:10.493435",
          "2021-01-07T15:31:10.493435",
          "2021-01-07T16:31:10.493435",
          "2021-01-07T16:31:10.493435",
          "2021-01-07T16:31:10.493435",
          "2021-01-07T18:14:44.822392",
          "2021-01-07T18:14:44.822392",
          "2021-01-07T19:14:44.822392",
          "2021-01-07T19:14:44.822392",
          "2021-01-07T19:14:44.822392",
          "2021-01-07T20:58:19.151348",
          "2021-01-07T20:58:19.151348",
          "2021-01-07T21:58:19.151348",
          "2021-01-07T21:58:19.151348",
          "2021-01-07T21:58:19.151348",
          "2021-01-07T23:41:53.480305",
          "2021-01-07T23:41:53.480305",
          "2021-01-08T00:41:53.480305",
          "2021-01-08T00:41:53.480305",
          "2021-01-08T00:41:53.480305",
          "2021-01-08T02:25:27.809261",
          "2021-01-08T02:25:27.809261",
          "2021-01-08T03:25:27.809261",
          "2021-01-08T03:25:27.809261",
          "2021-01-08T03:25:27.809261"
         ],
         "y": [
          "Transfer MP_2",
          "Transfer MP_2",
          "Transfer MP_2",
          "Transfer MP_2",
          null,
          "Transfer MP_2",
          "Transfer MP_2",
          "Transfer MP_2",
          "Transfer MP_2",
          null,
          "Transfer MP_2",
          "Transfer MP_2",
          "Transfer MP_2",
          "Transfer MP_2",
          null,
          "Transfer MP_2",
          "Transfer MP_2",
          "Transfer MP_2",
          "Transfer MP_2",
          null,
          "Transfer MP_2",
          "Transfer MP_2",
          "Transfer MP_2",
          "Transfer MP_2",
          null,
          "Transfer MP_2",
          "Transfer MP_2",
          "Transfer MP_2",
          "Transfer MP_2",
          null
         ]
        },
        {
         "connectgaps": false,
         "hoverinfo": "y+name",
         "line": {
          "color": "rgb(199,101,170)",
          "width": 10
         },
         "mode": "lines",
         "name": "sailing filled_2",
         "type": "scatter",
         "x": [
          "2021-01-07T13:47:36.164478",
          "2021-01-07T13:47:36.164478",
          "2021-01-07T14:09:23.328957",
          "2021-01-07T14:09:23.328957",
          "2021-01-07T14:09:23.328957",
          "2021-01-07T16:31:10.493435",
          "2021-01-07T16:31:10.493435",
          "2021-01-07T16:52:57.657913",
          "2021-01-07T16:52:57.657913",
          "2021-01-07T16:52:57.657913",
          "2021-01-07T19:14:44.822392",
          "2021-01-07T19:14:44.822392",
          "2021-01-07T19:36:31.986870",
          "2021-01-07T19:36:31.986870",
          "2021-01-07T19:36:31.986870",
          "2021-01-07T21:58:19.151348",
          "2021-01-07T21:58:19.151348",
          "2021-01-07T22:20:06.315826",
          "2021-01-07T22:20:06.315826",
          "2021-01-07T22:20:06.315826",
          "2021-01-08T00:41:53.480305",
          "2021-01-08T00:41:53.480305",
          "2021-01-08T01:03:40.644783",
          "2021-01-08T01:03:40.644783",
          "2021-01-08T01:03:40.644783",
          "2021-01-08T03:25:27.809261",
          "2021-01-08T03:25:27.809261",
          "2021-01-08T03:47:14.973740",
          "2021-01-08T03:47:14.973740",
          "2021-01-08T03:47:14.973740"
         ],
         "y": [
          "sailing filled_2",
          "sailing filled_2",
          "sailing filled_2",
          "sailing filled_2",
          null,
          "sailing filled_2",
          "sailing filled_2",
          "sailing filled_2",
          "sailing filled_2",
          null,
          "sailing filled_2",
          "sailing filled_2",
          "sailing filled_2",
          "sailing filled_2",
          null,
          "sailing filled_2",
          "sailing filled_2",
          "sailing filled_2",
          "sailing filled_2",
          null,
          "sailing filled_2",
          "sailing filled_2",
          "sailing filled_2",
          "sailing filled_2",
          null,
          "sailing filled_2",
          "sailing filled_2",
          "sailing filled_2",
          "sailing filled_2",
          null
         ]
        },
        {
         "connectgaps": false,
         "hoverinfo": "y+name",
         "line": {
          "color": "rgb(231,133,202)",
          "width": 10
         },
         "mode": "lines",
         "name": "Transfer TP_2",
         "type": "scatter",
         "x": [
          "2021-01-07T14:09:23.328957",
          "2021-01-07T14:09:23.328957",
          "2021-01-07T15:09:23.328957",
          "2021-01-07T15:09:23.328957",
          "2021-01-07T15:09:23.328957",
          "2021-01-07T16:52:57.657913",
          "2021-01-07T16:52:57.657913",
          "2021-01-07T17:52:57.657913",
          "2021-01-07T17:52:57.657913",
          "2021-01-07T17:52:57.657913",
          "2021-01-07T19:36:31.986870",
          "2021-01-07T19:36:31.986870",
          "2021-01-07T20:36:31.986870",
          "2021-01-07T20:36:31.986870",
          "2021-01-07T20:36:31.986870",
          "2021-01-07T22:20:06.315826",
          "2021-01-07T22:20:06.315826",
          "2021-01-07T23:20:06.315826",
          "2021-01-07T23:20:06.315826",
          "2021-01-07T23:20:06.315826",
          "2021-01-08T01:03:40.644783",
          "2021-01-08T01:03:40.644783",
          "2021-01-08T02:03:40.644783",
          "2021-01-08T02:03:40.644783",
          "2021-01-08T02:03:40.644783",
          "2021-01-08T03:47:14.973740",
          "2021-01-08T03:47:14.973740",
          "2021-01-08T04:47:14.973740",
          "2021-01-08T04:47:14.973740",
          "2021-01-08T04:47:14.973740"
         ],
         "y": [
          "Transfer TP_2",
          "Transfer TP_2",
          "Transfer TP_2",
          "Transfer TP_2",
          null,
          "Transfer TP_2",
          "Transfer TP_2",
          "Transfer TP_2",
          "Transfer TP_2",
          null,
          "Transfer TP_2",
          "Transfer TP_2",
          "Transfer TP_2",
          "Transfer TP_2",
          null,
          "Transfer TP_2",
          "Transfer TP_2",
          "Transfer TP_2",
          "Transfer TP_2",
          null,
          "Transfer TP_2",
          "Transfer TP_2",
          "Transfer TP_2",
          "Transfer TP_2",
          null,
          "Transfer TP_2",
          "Transfer TP_2",
          "Transfer TP_2",
          "Transfer TP_2",
          null
         ]
        },
        {
         "connectgaps": false,
         "hoverinfo": "y+name",
         "line": {
          "color": "rgb(7,165,234)",
          "width": 10
         },
         "mode": "lines",
         "name": "sailing empty_1",
         "type": "scatter",
         "x": [
          "2021-01-07T12:25:49",
          "2021-01-07T12:25:49",
          "2021-01-07T12:47:36.164478",
          "2021-01-07T12:47:36.164478",
          "2021-01-07T12:47:36.164478",
          "2021-01-07T15:09:23.328957",
          "2021-01-07T15:09:23.328957",
          "2021-01-07T15:31:10.493435",
          "2021-01-07T15:31:10.493435",
          "2021-01-07T15:31:10.493435",
          "2021-01-07T17:52:57.657913",
          "2021-01-07T17:52:57.657913",
          "2021-01-07T18:14:44.822392",
          "2021-01-07T18:14:44.822392",
          "2021-01-07T18:14:44.822392",
          "2021-01-07T20:36:31.986870",
          "2021-01-07T20:36:31.986870",
          "2021-01-07T20:58:19.151348",
          "2021-01-07T20:58:19.151348",
          "2021-01-07T20:58:19.151348",
          "2021-01-07T23:20:06.315826",
          "2021-01-07T23:20:06.315826",
          "2021-01-07T23:41:53.480305",
          "2021-01-07T23:41:53.480305",
          "2021-01-07T23:41:53.480305",
          "2021-01-08T02:03:40.644783",
          "2021-01-08T02:03:40.644783",
          "2021-01-08T02:25:27.809261",
          "2021-01-08T02:25:27.809261",
          "2021-01-08T02:25:27.809261"
         ],
         "y": [
          "sailing empty_1",
          "sailing empty_1",
          "sailing empty_1",
          "sailing empty_1",
          null,
          "sailing empty_1",
          "sailing empty_1",
          "sailing empty_1",
          "sailing empty_1",
          null,
          "sailing empty_1",
          "sailing empty_1",
          "sailing empty_1",
          "sailing empty_1",
          null,
          "sailing empty_1",
          "sailing empty_1",
          "sailing empty_1",
          "sailing empty_1",
          null,
          "sailing empty_1",
          "sailing empty_1",
          "sailing empty_1",
          "sailing empty_1",
          null,
          "sailing empty_1",
          "sailing empty_1",
          "sailing empty_1",
          "sailing empty_1",
          null
         ]
        },
        {
         "connectgaps": false,
         "hoverinfo": "y+name",
         "line": {
          "color": "rgb(39,197,10)",
          "width": 10
         },
         "mode": "lines",
         "name": "Transfer MP_1",
         "type": "scatter",
         "x": [
          "2021-01-07T12:47:36.164478",
          "2021-01-07T12:47:36.164478",
          "2021-01-07T13:47:36.164478",
          "2021-01-07T13:47:36.164478",
          "2021-01-07T13:47:36.164478",
          "2021-01-07T15:31:10.493435",
          "2021-01-07T15:31:10.493435",
          "2021-01-07T16:31:10.493435",
          "2021-01-07T16:31:10.493435",
          "2021-01-07T16:31:10.493435",
          "2021-01-07T18:14:44.822392",
          "2021-01-07T18:14:44.822392",
          "2021-01-07T19:14:44.822392",
          "2021-01-07T19:14:44.822392",
          "2021-01-07T19:14:44.822392",
          "2021-01-07T20:58:19.151348",
          "2021-01-07T20:58:19.151348",
          "2021-01-07T21:58:19.151348",
          "2021-01-07T21:58:19.151348",
          "2021-01-07T21:58:19.151348",
          "2021-01-07T23:41:53.480305",
          "2021-01-07T23:41:53.480305",
          "2021-01-08T00:41:53.480305",
          "2021-01-08T00:41:53.480305",
          "2021-01-08T00:41:53.480305",
          "2021-01-08T02:25:27.809261",
          "2021-01-08T02:25:27.809261",
          "2021-01-08T03:25:27.809261",
          "2021-01-08T03:25:27.809261",
          "2021-01-08T03:25:27.809261"
         ],
         "y": [
          "Transfer MP_1",
          "Transfer MP_1",
          "Transfer MP_1",
          "Transfer MP_1",
          null,
          "Transfer MP_1",
          "Transfer MP_1",
          "Transfer MP_1",
          "Transfer MP_1",
          null,
          "Transfer MP_1",
          "Transfer MP_1",
          "Transfer MP_1",
          "Transfer MP_1",
          null,
          "Transfer MP_1",
          "Transfer MP_1",
          "Transfer MP_1",
          "Transfer MP_1",
          null,
          "Transfer MP_1",
          "Transfer MP_1",
          "Transfer MP_1",
          "Transfer MP_1",
          null,
          "Transfer MP_1",
          "Transfer MP_1",
          "Transfer MP_1",
          "Transfer MP_1",
          null
         ]
        },
        {
         "connectgaps": false,
         "hoverinfo": "y+name",
         "line": {
          "color": "rgb(71,229,42)",
          "width": 10
         },
         "mode": "lines",
         "name": "sailing filled_1",
         "type": "scatter",
         "x": [
          "2021-01-07T13:47:36.164478",
          "2021-01-07T13:47:36.164478",
          "2021-01-07T14:09:23.328957",
          "2021-01-07T14:09:23.328957",
          "2021-01-07T14:09:23.328957",
          "2021-01-07T16:31:10.493435",
          "2021-01-07T16:31:10.493435",
          "2021-01-07T16:52:57.657913",
          "2021-01-07T16:52:57.657913",
          "2021-01-07T16:52:57.657913",
          "2021-01-07T19:14:44.822392",
          "2021-01-07T19:14:44.822392",
          "2021-01-07T19:36:31.986870",
          "2021-01-07T19:36:31.986870",
          "2021-01-07T19:36:31.986870",
          "2021-01-07T21:58:19.151348",
          "2021-01-07T21:58:19.151348",
          "2021-01-07T22:20:06.315826",
          "2021-01-07T22:20:06.315826",
          "2021-01-07T22:20:06.315826",
          "2021-01-08T00:41:53.480305",
          "2021-01-08T00:41:53.480305",
          "2021-01-08T01:03:40.644783",
          "2021-01-08T01:03:40.644783",
          "2021-01-08T01:03:40.644783",
          "2021-01-08T03:25:27.809261",
          "2021-01-08T03:25:27.809261",
          "2021-01-08T03:47:14.973740",
          "2021-01-08T03:47:14.973740",
          "2021-01-08T03:47:14.973740"
         ],
         "y": [
          "sailing filled_1",
          "sailing filled_1",
          "sailing filled_1",
          "sailing filled_1",
          null,
          "sailing filled_1",
          "sailing filled_1",
          "sailing filled_1",
          "sailing filled_1",
          null,
          "sailing filled_1",
          "sailing filled_1",
          "sailing filled_1",
          "sailing filled_1",
          null,
          "sailing filled_1",
          "sailing filled_1",
          "sailing filled_1",
          "sailing filled_1",
          null,
          "sailing filled_1",
          "sailing filled_1",
          "sailing filled_1",
          "sailing filled_1",
          null,
          "sailing filled_1",
          "sailing filled_1",
          "sailing filled_1",
          "sailing filled_1",
          null
         ]
        },
        {
         "connectgaps": false,
         "hoverinfo": "y+name",
         "line": {
          "color": "rgb(103,5,74)",
          "width": 10
         },
         "mode": "lines",
         "name": "Transfer TP_1",
         "type": "scatter",
         "x": [
          "2021-01-07T14:09:23.328957",
          "2021-01-07T14:09:23.328957",
          "2021-01-07T15:09:23.328957",
          "2021-01-07T15:09:23.328957",
          "2021-01-07T15:09:23.328957",
          "2021-01-07T16:52:57.657913",
          "2021-01-07T16:52:57.657913",
          "2021-01-07T17:52:57.657913",
          "2021-01-07T17:52:57.657913",
          "2021-01-07T17:52:57.657913",
          "2021-01-07T19:36:31.986870",
          "2021-01-07T19:36:31.986870",
          "2021-01-07T20:36:31.986870",
          "2021-01-07T20:36:31.986870",
          "2021-01-07T20:36:31.986870",
          "2021-01-07T22:20:06.315826",
          "2021-01-07T22:20:06.315826",
          "2021-01-07T23:20:06.315826",
          "2021-01-07T23:20:06.315826",
          "2021-01-07T23:20:06.315826",
          "2021-01-08T01:03:40.644783",
          "2021-01-08T01:03:40.644783",
          "2021-01-08T02:03:40.644783",
          "2021-01-08T02:03:40.644783",
          "2021-01-08T02:03:40.644783",
          "2021-01-08T03:47:14.973740",
          "2021-01-08T03:47:14.973740",
          "2021-01-08T04:47:14.973740",
          "2021-01-08T04:47:14.973740",
          "2021-01-08T04:47:14.973740"
         ],
         "y": [
          "Transfer TP_1",
          "Transfer TP_1",
          "Transfer TP_1",
          "Transfer TP_1",
          null,
          "Transfer TP_1",
          "Transfer TP_1",
          "Transfer TP_1",
          "Transfer TP_1",
          null,
          "Transfer TP_1",
          "Transfer TP_1",
          "Transfer TP_1",
          "Transfer TP_1",
          null,
          "Transfer TP_1",
          "Transfer TP_1",
          "Transfer TP_1",
          "Transfer TP_1",
          null,
          "Transfer TP_1",
          "Transfer TP_1",
          "Transfer TP_1",
          "Transfer TP_1",
          null,
          "Transfer TP_1",
          "Transfer TP_1",
          "Transfer TP_1",
          "Transfer TP_1",
          null
         ]
        }
       ],
       "layout": {
        "hovermode": "closest",
        "legend": {
         "orientation": "h",
         "x": 0,
         "y": -0.2
        },
        "template": {
         "data": {
          "bar": [
           {
            "error_x": {
             "color": "#2a3f5f"
            },
            "error_y": {
             "color": "#2a3f5f"
            },
            "marker": {
             "line": {
              "color": "#E5ECF6",
              "width": 0.5
             }
            },
            "type": "bar"
           }
          ],
          "barpolar": [
           {
            "marker": {
             "line": {
              "color": "#E5ECF6",
              "width": 0.5
             }
            },
            "type": "barpolar"
           }
          ],
          "carpet": [
           {
            "aaxis": {
             "endlinecolor": "#2a3f5f",
             "gridcolor": "white",
             "linecolor": "white",
             "minorgridcolor": "white",
             "startlinecolor": "#2a3f5f"
            },
            "baxis": {
             "endlinecolor": "#2a3f5f",
             "gridcolor": "white",
             "linecolor": "white",
             "minorgridcolor": "white",
             "startlinecolor": "#2a3f5f"
            },
            "type": "carpet"
           }
          ],
          "choropleth": [
           {
            "colorbar": {
             "outlinewidth": 0,
             "ticks": ""
            },
            "type": "choropleth"
           }
          ],
          "contour": [
           {
            "colorbar": {
             "outlinewidth": 0,
             "ticks": ""
            },
            "colorscale": [
             [
              0,
              "#0d0887"
             ],
             [
              0.1111111111111111,
              "#46039f"
             ],
             [
              0.2222222222222222,
              "#7201a8"
             ],
             [
              0.3333333333333333,
              "#9c179e"
             ],
             [
              0.4444444444444444,
              "#bd3786"
             ],
             [
              0.5555555555555556,
              "#d8576b"
             ],
             [
              0.6666666666666666,
              "#ed7953"
             ],
             [
              0.7777777777777778,
              "#fb9f3a"
             ],
             [
              0.8888888888888888,
              "#fdca26"
             ],
             [
              1,
              "#f0f921"
             ]
            ],
            "type": "contour"
           }
          ],
          "contourcarpet": [
           {
            "colorbar": {
             "outlinewidth": 0,
             "ticks": ""
            },
            "type": "contourcarpet"
           }
          ],
          "heatmap": [
           {
            "colorbar": {
             "outlinewidth": 0,
             "ticks": ""
            },
            "colorscale": [
             [
              0,
              "#0d0887"
             ],
             [
              0.1111111111111111,
              "#46039f"
             ],
             [
              0.2222222222222222,
              "#7201a8"
             ],
             [
              0.3333333333333333,
              "#9c179e"
             ],
             [
              0.4444444444444444,
              "#bd3786"
             ],
             [
              0.5555555555555556,
              "#d8576b"
             ],
             [
              0.6666666666666666,
              "#ed7953"
             ],
             [
              0.7777777777777778,
              "#fb9f3a"
             ],
             [
              0.8888888888888888,
              "#fdca26"
             ],
             [
              1,
              "#f0f921"
             ]
            ],
            "type": "heatmap"
           }
          ],
          "heatmapgl": [
           {
            "colorbar": {
             "outlinewidth": 0,
             "ticks": ""
            },
            "colorscale": [
             [
              0,
              "#0d0887"
             ],
             [
              0.1111111111111111,
              "#46039f"
             ],
             [
              0.2222222222222222,
              "#7201a8"
             ],
             [
              0.3333333333333333,
              "#9c179e"
             ],
             [
              0.4444444444444444,
              "#bd3786"
             ],
             [
              0.5555555555555556,
              "#d8576b"
             ],
             [
              0.6666666666666666,
              "#ed7953"
             ],
             [
              0.7777777777777778,
              "#fb9f3a"
             ],
             [
              0.8888888888888888,
              "#fdca26"
             ],
             [
              1,
              "#f0f921"
             ]
            ],
            "type": "heatmapgl"
           }
          ],
          "histogram": [
           {
            "marker": {
             "colorbar": {
              "outlinewidth": 0,
              "ticks": ""
             }
            },
            "type": "histogram"
           }
          ],
          "histogram2d": [
           {
            "colorbar": {
             "outlinewidth": 0,
             "ticks": ""
            },
            "colorscale": [
             [
              0,
              "#0d0887"
             ],
             [
              0.1111111111111111,
              "#46039f"
             ],
             [
              0.2222222222222222,
              "#7201a8"
             ],
             [
              0.3333333333333333,
              "#9c179e"
             ],
             [
              0.4444444444444444,
              "#bd3786"
             ],
             [
              0.5555555555555556,
              "#d8576b"
             ],
             [
              0.6666666666666666,
              "#ed7953"
             ],
             [
              0.7777777777777778,
              "#fb9f3a"
             ],
             [
              0.8888888888888888,
              "#fdca26"
             ],
             [
              1,
              "#f0f921"
             ]
            ],
            "type": "histogram2d"
           }
          ],
          "histogram2dcontour": [
           {
            "colorbar": {
             "outlinewidth": 0,
             "ticks": ""
            },
            "colorscale": [
             [
              0,
              "#0d0887"
             ],
             [
              0.1111111111111111,
              "#46039f"
             ],
             [
              0.2222222222222222,
              "#7201a8"
             ],
             [
              0.3333333333333333,
              "#9c179e"
             ],
             [
              0.4444444444444444,
              "#bd3786"
             ],
             [
              0.5555555555555556,
              "#d8576b"
             ],
             [
              0.6666666666666666,
              "#ed7953"
             ],
             [
              0.7777777777777778,
              "#fb9f3a"
             ],
             [
              0.8888888888888888,
              "#fdca26"
             ],
             [
              1,
              "#f0f921"
             ]
            ],
            "type": "histogram2dcontour"
           }
          ],
          "mesh3d": [
           {
            "colorbar": {
             "outlinewidth": 0,
             "ticks": ""
            },
            "type": "mesh3d"
           }
          ],
          "parcoords": [
           {
            "line": {
             "colorbar": {
              "outlinewidth": 0,
              "ticks": ""
             }
            },
            "type": "parcoords"
           }
          ],
          "pie": [
           {
            "automargin": true,
            "type": "pie"
           }
          ],
          "scatter": [
           {
            "marker": {
             "colorbar": {
              "outlinewidth": 0,
              "ticks": ""
             }
            },
            "type": "scatter"
           }
          ],
          "scatter3d": [
           {
            "line": {
             "colorbar": {
              "outlinewidth": 0,
              "ticks": ""
             }
            },
            "marker": {
             "colorbar": {
              "outlinewidth": 0,
              "ticks": ""
             }
            },
            "type": "scatter3d"
           }
          ],
          "scattercarpet": [
           {
            "marker": {
             "colorbar": {
              "outlinewidth": 0,
              "ticks": ""
             }
            },
            "type": "scattercarpet"
           }
          ],
          "scattergeo": [
           {
            "marker": {
             "colorbar": {
              "outlinewidth": 0,
              "ticks": ""
             }
            },
            "type": "scattergeo"
           }
          ],
          "scattergl": [
           {
            "marker": {
             "colorbar": {
              "outlinewidth": 0,
              "ticks": ""
             }
            },
            "type": "scattergl"
           }
          ],
          "scattermapbox": [
           {
            "marker": {
             "colorbar": {
              "outlinewidth": 0,
              "ticks": ""
             }
            },
            "type": "scattermapbox"
           }
          ],
          "scatterpolar": [
           {
            "marker": {
             "colorbar": {
              "outlinewidth": 0,
              "ticks": ""
             }
            },
            "type": "scatterpolar"
           }
          ],
          "scatterpolargl": [
           {
            "marker": {
             "colorbar": {
              "outlinewidth": 0,
              "ticks": ""
             }
            },
            "type": "scatterpolargl"
           }
          ],
          "scatterternary": [
           {
            "marker": {
             "colorbar": {
              "outlinewidth": 0,
              "ticks": ""
             }
            },
            "type": "scatterternary"
           }
          ],
          "surface": [
           {
            "colorbar": {
             "outlinewidth": 0,
             "ticks": ""
            },
            "colorscale": [
             [
              0,
              "#0d0887"
             ],
             [
              0.1111111111111111,
              "#46039f"
             ],
             [
              0.2222222222222222,
              "#7201a8"
             ],
             [
              0.3333333333333333,
              "#9c179e"
             ],
             [
              0.4444444444444444,
              "#bd3786"
             ],
             [
              0.5555555555555556,
              "#d8576b"
             ],
             [
              0.6666666666666666,
              "#ed7953"
             ],
             [
              0.7777777777777778,
              "#fb9f3a"
             ],
             [
              0.8888888888888888,
              "#fdca26"
             ],
             [
              1,
              "#f0f921"
             ]
            ],
            "type": "surface"
           }
          ],
          "table": [
           {
            "cells": {
             "fill": {
              "color": "#EBF0F8"
             },
             "line": {
              "color": "white"
             }
            },
            "header": {
             "fill": {
              "color": "#C8D4E3"
             },
             "line": {
              "color": "white"
             }
            },
            "type": "table"
           }
          ]
         },
         "layout": {
          "annotationdefaults": {
           "arrowcolor": "#2a3f5f",
           "arrowhead": 0,
           "arrowwidth": 1
          },
          "autotypenumbers": "strict",
          "coloraxis": {
           "colorbar": {
            "outlinewidth": 0,
            "ticks": ""
           }
          },
          "colorscale": {
           "diverging": [
            [
             0,
             "#8e0152"
            ],
            [
             0.1,
             "#c51b7d"
            ],
            [
             0.2,
             "#de77ae"
            ],
            [
             0.3,
             "#f1b6da"
            ],
            [
             0.4,
             "#fde0ef"
            ],
            [
             0.5,
             "#f7f7f7"
            ],
            [
             0.6,
             "#e6f5d0"
            ],
            [
             0.7,
             "#b8e186"
            ],
            [
             0.8,
             "#7fbc41"
            ],
            [
             0.9,
             "#4d9221"
            ],
            [
             1,
             "#276419"
            ]
           ],
           "sequential": [
            [
             0,
             "#0d0887"
            ],
            [
             0.1111111111111111,
             "#46039f"
            ],
            [
             0.2222222222222222,
             "#7201a8"
            ],
            [
             0.3333333333333333,
             "#9c179e"
            ],
            [
             0.4444444444444444,
             "#bd3786"
            ],
            [
             0.5555555555555556,
             "#d8576b"
            ],
            [
             0.6666666666666666,
             "#ed7953"
            ],
            [
             0.7777777777777778,
             "#fb9f3a"
            ],
            [
             0.8888888888888888,
             "#fdca26"
            ],
            [
             1,
             "#f0f921"
            ]
           ],
           "sequentialminus": [
            [
             0,
             "#0d0887"
            ],
            [
             0.1111111111111111,
             "#46039f"
            ],
            [
             0.2222222222222222,
             "#7201a8"
            ],
            [
             0.3333333333333333,
             "#9c179e"
            ],
            [
             0.4444444444444444,
             "#bd3786"
            ],
            [
             0.5555555555555556,
             "#d8576b"
            ],
            [
             0.6666666666666666,
             "#ed7953"
            ],
            [
             0.7777777777777778,
             "#fb9f3a"
            ],
            [
             0.8888888888888888,
             "#fdca26"
            ],
            [
             1,
             "#f0f921"
            ]
           ]
          },
          "colorway": [
           "#636efa",
           "#EF553B",
           "#00cc96",
           "#ab63fa",
           "#FFA15A",
           "#19d3f3",
           "#FF6692",
           "#B6E880",
           "#FF97FF",
           "#FECB52"
          ],
          "font": {
           "color": "#2a3f5f"
          },
          "geo": {
           "bgcolor": "white",
           "lakecolor": "white",
           "landcolor": "#E5ECF6",
           "showlakes": true,
           "showland": true,
           "subunitcolor": "white"
          },
          "hoverlabel": {
           "align": "left"
          },
          "hovermode": "closest",
          "mapbox": {
           "style": "light"
          },
          "paper_bgcolor": "white",
          "plot_bgcolor": "#E5ECF6",
          "polar": {
           "angularaxis": {
            "gridcolor": "white",
            "linecolor": "white",
            "ticks": ""
           },
           "bgcolor": "#E5ECF6",
           "radialaxis": {
            "gridcolor": "white",
            "linecolor": "white",
            "ticks": ""
           }
          },
          "scene": {
           "xaxis": {
            "backgroundcolor": "#E5ECF6",
            "gridcolor": "white",
            "gridwidth": 2,
            "linecolor": "white",
            "showbackground": true,
            "ticks": "",
            "zerolinecolor": "white"
           },
           "yaxis": {
            "backgroundcolor": "#E5ECF6",
            "gridcolor": "white",
            "gridwidth": 2,
            "linecolor": "white",
            "showbackground": true,
            "ticks": "",
            "zerolinecolor": "white"
           },
           "zaxis": {
            "backgroundcolor": "#E5ECF6",
            "gridcolor": "white",
            "gridwidth": 2,
            "linecolor": "white",
            "showbackground": true,
            "ticks": "",
            "zerolinecolor": "white"
           }
          },
          "shapedefaults": {
           "line": {
            "color": "#2a3f5f"
           }
          },
          "ternary": {
           "aaxis": {
            "gridcolor": "white",
            "linecolor": "white",
            "ticks": ""
           },
           "baxis": {
            "gridcolor": "white",
            "linecolor": "white",
            "ticks": ""
           },
           "bgcolor": "#E5ECF6",
           "caxis": {
            "gridcolor": "white",
            "linecolor": "white",
            "ticks": ""
           }
          },
          "title": {
           "x": 0.05
          },
          "xaxis": {
           "automargin": true,
           "gridcolor": "white",
           "linecolor": "white",
           "ticks": "",
           "title": {
            "standoff": 15
           },
           "zerolinecolor": "white",
           "zerolinewidth": 2
          },
          "yaxis": {
           "automargin": true,
           "gridcolor": "white",
           "linecolor": "white",
           "ticks": "",
           "title": {
            "standoff": 15
           },
           "zerolinecolor": "white",
           "zerolinewidth": 2
          }
         }
        },
        "title": {
         "text": "Vessel planning"
        },
        "xaxis": {
         "range": [
          "2021-01-07T12:25:49",
          "2021-01-08T04:47:14.973740"
         ],
         "title": {
          "font": {
           "color": "#7f7f7f",
           "family": "Courier New, monospace",
           "size": 18
          },
          "text": "Time"
         }
        },
        "yaxis": {
         "title": {
          "font": {
           "color": "#7f7f7f",
           "family": "Courier New, monospace",
           "size": 18
          },
          "text": "Vessels"
         }
        }
       }
      },
      "text/html": [
       "<div>                            <div id=\"3cd3480c-2572-4dfe-a7e9-3c7fc19bc1e5\" class=\"plotly-graph-div\" style=\"height:525px; width:100%;\"></div>            <script type=\"text/javascript\">                require([\"plotly\"], function(Plotly) {                    window.PLOTLYENV=window.PLOTLYENV || {};                                    if (document.getElementById(\"3cd3480c-2572-4dfe-a7e9-3c7fc19bc1e5\")) {                    Plotly.newPlot(                        \"3cd3480c-2572-4dfe-a7e9-3c7fc19bc1e5\",                        [{\"connectgaps\": false, \"hoverinfo\": \"y+name\", \"line\": {\"color\": \"rgb(135,37,106)\", \"width\": 10}, \"mode\": \"lines\", \"name\": \"sailing empty_2\", \"type\": \"scatter\", \"x\": [\"2021-01-07T12:25:49\", \"2021-01-07T12:25:49\", \"2021-01-07T12:47:36.164478\", \"2021-01-07T12:47:36.164478\", \"2021-01-07T12:47:36.164478\", \"2021-01-07T15:09:23.328957\", \"2021-01-07T15:09:23.328957\", \"2021-01-07T15:31:10.493435\", \"2021-01-07T15:31:10.493435\", \"2021-01-07T15:31:10.493435\", \"2021-01-07T17:52:57.657913\", \"2021-01-07T17:52:57.657913\", \"2021-01-07T18:14:44.822392\", \"2021-01-07T18:14:44.822392\", \"2021-01-07T18:14:44.822392\", \"2021-01-07T20:36:31.986870\", \"2021-01-07T20:36:31.986870\", \"2021-01-07T20:58:19.151348\", \"2021-01-07T20:58:19.151348\", \"2021-01-07T20:58:19.151348\", \"2021-01-07T23:20:06.315826\", \"2021-01-07T23:20:06.315826\", \"2021-01-07T23:41:53.480305\", \"2021-01-07T23:41:53.480305\", \"2021-01-07T23:41:53.480305\", \"2021-01-08T02:03:40.644783\", \"2021-01-08T02:03:40.644783\", \"2021-01-08T02:25:27.809261\", \"2021-01-08T02:25:27.809261\", \"2021-01-08T02:25:27.809261\"], \"y\": [\"sailing empty_2\", \"sailing empty_2\", \"sailing empty_2\", \"sailing empty_2\", null, \"sailing empty_2\", \"sailing empty_2\", \"sailing empty_2\", \"sailing empty_2\", null, \"sailing empty_2\", \"sailing empty_2\", \"sailing empty_2\", \"sailing empty_2\", null, \"sailing empty_2\", \"sailing empty_2\", \"sailing empty_2\", \"sailing empty_2\", null, \"sailing empty_2\", \"sailing empty_2\", \"sailing empty_2\", \"sailing empty_2\", null, \"sailing empty_2\", \"sailing empty_2\", \"sailing empty_2\", \"sailing empty_2\", null]}, {\"connectgaps\": false, \"hoverinfo\": \"y+name\", \"line\": {\"color\": \"rgb(167,69,138)\", \"width\": 10}, \"mode\": \"lines\", \"name\": \"Transfer MP_2\", \"type\": \"scatter\", \"x\": [\"2021-01-07T12:47:36.164478\", \"2021-01-07T12:47:36.164478\", \"2021-01-07T13:47:36.164478\", \"2021-01-07T13:47:36.164478\", \"2021-01-07T13:47:36.164478\", \"2021-01-07T15:31:10.493435\", \"2021-01-07T15:31:10.493435\", \"2021-01-07T16:31:10.493435\", \"2021-01-07T16:31:10.493435\", \"2021-01-07T16:31:10.493435\", \"2021-01-07T18:14:44.822392\", \"2021-01-07T18:14:44.822392\", \"2021-01-07T19:14:44.822392\", \"2021-01-07T19:14:44.822392\", \"2021-01-07T19:14:44.822392\", \"2021-01-07T20:58:19.151348\", \"2021-01-07T20:58:19.151348\", \"2021-01-07T21:58:19.151348\", \"2021-01-07T21:58:19.151348\", \"2021-01-07T21:58:19.151348\", \"2021-01-07T23:41:53.480305\", \"2021-01-07T23:41:53.480305\", \"2021-01-08T00:41:53.480305\", \"2021-01-08T00:41:53.480305\", \"2021-01-08T00:41:53.480305\", \"2021-01-08T02:25:27.809261\", \"2021-01-08T02:25:27.809261\", \"2021-01-08T03:25:27.809261\", \"2021-01-08T03:25:27.809261\", \"2021-01-08T03:25:27.809261\"], \"y\": [\"Transfer MP_2\", \"Transfer MP_2\", \"Transfer MP_2\", \"Transfer MP_2\", null, \"Transfer MP_2\", \"Transfer MP_2\", \"Transfer MP_2\", \"Transfer MP_2\", null, \"Transfer MP_2\", \"Transfer MP_2\", \"Transfer MP_2\", \"Transfer MP_2\", null, \"Transfer MP_2\", \"Transfer MP_2\", \"Transfer MP_2\", \"Transfer MP_2\", null, \"Transfer MP_2\", \"Transfer MP_2\", \"Transfer MP_2\", \"Transfer MP_2\", null, \"Transfer MP_2\", \"Transfer MP_2\", \"Transfer MP_2\", \"Transfer MP_2\", null]}, {\"connectgaps\": false, \"hoverinfo\": \"y+name\", \"line\": {\"color\": \"rgb(199,101,170)\", \"width\": 10}, \"mode\": \"lines\", \"name\": \"sailing filled_2\", \"type\": \"scatter\", \"x\": [\"2021-01-07T13:47:36.164478\", \"2021-01-07T13:47:36.164478\", \"2021-01-07T14:09:23.328957\", \"2021-01-07T14:09:23.328957\", \"2021-01-07T14:09:23.328957\", \"2021-01-07T16:31:10.493435\", \"2021-01-07T16:31:10.493435\", \"2021-01-07T16:52:57.657913\", \"2021-01-07T16:52:57.657913\", \"2021-01-07T16:52:57.657913\", \"2021-01-07T19:14:44.822392\", \"2021-01-07T19:14:44.822392\", \"2021-01-07T19:36:31.986870\", \"2021-01-07T19:36:31.986870\", \"2021-01-07T19:36:31.986870\", \"2021-01-07T21:58:19.151348\", \"2021-01-07T21:58:19.151348\", \"2021-01-07T22:20:06.315826\", \"2021-01-07T22:20:06.315826\", \"2021-01-07T22:20:06.315826\", \"2021-01-08T00:41:53.480305\", \"2021-01-08T00:41:53.480305\", \"2021-01-08T01:03:40.644783\", \"2021-01-08T01:03:40.644783\", \"2021-01-08T01:03:40.644783\", \"2021-01-08T03:25:27.809261\", \"2021-01-08T03:25:27.809261\", \"2021-01-08T03:47:14.973740\", \"2021-01-08T03:47:14.973740\", \"2021-01-08T03:47:14.973740\"], \"y\": [\"sailing filled_2\", \"sailing filled_2\", \"sailing filled_2\", \"sailing filled_2\", null, \"sailing filled_2\", \"sailing filled_2\", \"sailing filled_2\", \"sailing filled_2\", null, \"sailing filled_2\", \"sailing filled_2\", \"sailing filled_2\", \"sailing filled_2\", null, \"sailing filled_2\", \"sailing filled_2\", \"sailing filled_2\", \"sailing filled_2\", null, \"sailing filled_2\", \"sailing filled_2\", \"sailing filled_2\", \"sailing filled_2\", null, \"sailing filled_2\", \"sailing filled_2\", \"sailing filled_2\", \"sailing filled_2\", null]}, {\"connectgaps\": false, \"hoverinfo\": \"y+name\", \"line\": {\"color\": \"rgb(231,133,202)\", \"width\": 10}, \"mode\": \"lines\", \"name\": \"Transfer TP_2\", \"type\": \"scatter\", \"x\": [\"2021-01-07T14:09:23.328957\", \"2021-01-07T14:09:23.328957\", \"2021-01-07T15:09:23.328957\", \"2021-01-07T15:09:23.328957\", \"2021-01-07T15:09:23.328957\", \"2021-01-07T16:52:57.657913\", \"2021-01-07T16:52:57.657913\", \"2021-01-07T17:52:57.657913\", \"2021-01-07T17:52:57.657913\", \"2021-01-07T17:52:57.657913\", \"2021-01-07T19:36:31.986870\", \"2021-01-07T19:36:31.986870\", \"2021-01-07T20:36:31.986870\", \"2021-01-07T20:36:31.986870\", \"2021-01-07T20:36:31.986870\", \"2021-01-07T22:20:06.315826\", \"2021-01-07T22:20:06.315826\", \"2021-01-07T23:20:06.315826\", \"2021-01-07T23:20:06.315826\", \"2021-01-07T23:20:06.315826\", \"2021-01-08T01:03:40.644783\", \"2021-01-08T01:03:40.644783\", \"2021-01-08T02:03:40.644783\", \"2021-01-08T02:03:40.644783\", \"2021-01-08T02:03:40.644783\", \"2021-01-08T03:47:14.973740\", \"2021-01-08T03:47:14.973740\", \"2021-01-08T04:47:14.973740\", \"2021-01-08T04:47:14.973740\", \"2021-01-08T04:47:14.973740\"], \"y\": [\"Transfer TP_2\", \"Transfer TP_2\", \"Transfer TP_2\", \"Transfer TP_2\", null, \"Transfer TP_2\", \"Transfer TP_2\", \"Transfer TP_2\", \"Transfer TP_2\", null, \"Transfer TP_2\", \"Transfer TP_2\", \"Transfer TP_2\", \"Transfer TP_2\", null, \"Transfer TP_2\", \"Transfer TP_2\", \"Transfer TP_2\", \"Transfer TP_2\", null, \"Transfer TP_2\", \"Transfer TP_2\", \"Transfer TP_2\", \"Transfer TP_2\", null, \"Transfer TP_2\", \"Transfer TP_2\", \"Transfer TP_2\", \"Transfer TP_2\", null]}, {\"connectgaps\": false, \"hoverinfo\": \"y+name\", \"line\": {\"color\": \"rgb(7,165,234)\", \"width\": 10}, \"mode\": \"lines\", \"name\": \"sailing empty_1\", \"type\": \"scatter\", \"x\": [\"2021-01-07T12:25:49\", \"2021-01-07T12:25:49\", \"2021-01-07T12:47:36.164478\", \"2021-01-07T12:47:36.164478\", \"2021-01-07T12:47:36.164478\", \"2021-01-07T15:09:23.328957\", \"2021-01-07T15:09:23.328957\", \"2021-01-07T15:31:10.493435\", \"2021-01-07T15:31:10.493435\", \"2021-01-07T15:31:10.493435\", \"2021-01-07T17:52:57.657913\", \"2021-01-07T17:52:57.657913\", \"2021-01-07T18:14:44.822392\", \"2021-01-07T18:14:44.822392\", \"2021-01-07T18:14:44.822392\", \"2021-01-07T20:36:31.986870\", \"2021-01-07T20:36:31.986870\", \"2021-01-07T20:58:19.151348\", \"2021-01-07T20:58:19.151348\", \"2021-01-07T20:58:19.151348\", \"2021-01-07T23:20:06.315826\", \"2021-01-07T23:20:06.315826\", \"2021-01-07T23:41:53.480305\", \"2021-01-07T23:41:53.480305\", \"2021-01-07T23:41:53.480305\", \"2021-01-08T02:03:40.644783\", \"2021-01-08T02:03:40.644783\", \"2021-01-08T02:25:27.809261\", \"2021-01-08T02:25:27.809261\", \"2021-01-08T02:25:27.809261\"], \"y\": [\"sailing empty_1\", \"sailing empty_1\", \"sailing empty_1\", \"sailing empty_1\", null, \"sailing empty_1\", \"sailing empty_1\", \"sailing empty_1\", \"sailing empty_1\", null, \"sailing empty_1\", \"sailing empty_1\", \"sailing empty_1\", \"sailing empty_1\", null, \"sailing empty_1\", \"sailing empty_1\", \"sailing empty_1\", \"sailing empty_1\", null, \"sailing empty_1\", \"sailing empty_1\", \"sailing empty_1\", \"sailing empty_1\", null, \"sailing empty_1\", \"sailing empty_1\", \"sailing empty_1\", \"sailing empty_1\", null]}, {\"connectgaps\": false, \"hoverinfo\": \"y+name\", \"line\": {\"color\": \"rgb(39,197,10)\", \"width\": 10}, \"mode\": \"lines\", \"name\": \"Transfer MP_1\", \"type\": \"scatter\", \"x\": [\"2021-01-07T12:47:36.164478\", \"2021-01-07T12:47:36.164478\", \"2021-01-07T13:47:36.164478\", \"2021-01-07T13:47:36.164478\", \"2021-01-07T13:47:36.164478\", \"2021-01-07T15:31:10.493435\", \"2021-01-07T15:31:10.493435\", \"2021-01-07T16:31:10.493435\", \"2021-01-07T16:31:10.493435\", \"2021-01-07T16:31:10.493435\", \"2021-01-07T18:14:44.822392\", \"2021-01-07T18:14:44.822392\", \"2021-01-07T19:14:44.822392\", \"2021-01-07T19:14:44.822392\", \"2021-01-07T19:14:44.822392\", \"2021-01-07T20:58:19.151348\", \"2021-01-07T20:58:19.151348\", \"2021-01-07T21:58:19.151348\", \"2021-01-07T21:58:19.151348\", \"2021-01-07T21:58:19.151348\", \"2021-01-07T23:41:53.480305\", \"2021-01-07T23:41:53.480305\", \"2021-01-08T00:41:53.480305\", \"2021-01-08T00:41:53.480305\", \"2021-01-08T00:41:53.480305\", \"2021-01-08T02:25:27.809261\", \"2021-01-08T02:25:27.809261\", \"2021-01-08T03:25:27.809261\", \"2021-01-08T03:25:27.809261\", \"2021-01-08T03:25:27.809261\"], \"y\": [\"Transfer MP_1\", \"Transfer MP_1\", \"Transfer MP_1\", \"Transfer MP_1\", null, \"Transfer MP_1\", \"Transfer MP_1\", \"Transfer MP_1\", \"Transfer MP_1\", null, \"Transfer MP_1\", \"Transfer MP_1\", \"Transfer MP_1\", \"Transfer MP_1\", null, \"Transfer MP_1\", \"Transfer MP_1\", \"Transfer MP_1\", \"Transfer MP_1\", null, \"Transfer MP_1\", \"Transfer MP_1\", \"Transfer MP_1\", \"Transfer MP_1\", null, \"Transfer MP_1\", \"Transfer MP_1\", \"Transfer MP_1\", \"Transfer MP_1\", null]}, {\"connectgaps\": false, \"hoverinfo\": \"y+name\", \"line\": {\"color\": \"rgb(71,229,42)\", \"width\": 10}, \"mode\": \"lines\", \"name\": \"sailing filled_1\", \"type\": \"scatter\", \"x\": [\"2021-01-07T13:47:36.164478\", \"2021-01-07T13:47:36.164478\", \"2021-01-07T14:09:23.328957\", \"2021-01-07T14:09:23.328957\", \"2021-01-07T14:09:23.328957\", \"2021-01-07T16:31:10.493435\", \"2021-01-07T16:31:10.493435\", \"2021-01-07T16:52:57.657913\", \"2021-01-07T16:52:57.657913\", \"2021-01-07T16:52:57.657913\", \"2021-01-07T19:14:44.822392\", \"2021-01-07T19:14:44.822392\", \"2021-01-07T19:36:31.986870\", \"2021-01-07T19:36:31.986870\", \"2021-01-07T19:36:31.986870\", \"2021-01-07T21:58:19.151348\", \"2021-01-07T21:58:19.151348\", \"2021-01-07T22:20:06.315826\", \"2021-01-07T22:20:06.315826\", \"2021-01-07T22:20:06.315826\", \"2021-01-08T00:41:53.480305\", \"2021-01-08T00:41:53.480305\", \"2021-01-08T01:03:40.644783\", \"2021-01-08T01:03:40.644783\", \"2021-01-08T01:03:40.644783\", \"2021-01-08T03:25:27.809261\", \"2021-01-08T03:25:27.809261\", \"2021-01-08T03:47:14.973740\", \"2021-01-08T03:47:14.973740\", \"2021-01-08T03:47:14.973740\"], \"y\": [\"sailing filled_1\", \"sailing filled_1\", \"sailing filled_1\", \"sailing filled_1\", null, \"sailing filled_1\", \"sailing filled_1\", \"sailing filled_1\", \"sailing filled_1\", null, \"sailing filled_1\", \"sailing filled_1\", \"sailing filled_1\", \"sailing filled_1\", null, \"sailing filled_1\", \"sailing filled_1\", \"sailing filled_1\", \"sailing filled_1\", null, \"sailing filled_1\", \"sailing filled_1\", \"sailing filled_1\", \"sailing filled_1\", null, \"sailing filled_1\", \"sailing filled_1\", \"sailing filled_1\", \"sailing filled_1\", null]}, {\"connectgaps\": false, \"hoverinfo\": \"y+name\", \"line\": {\"color\": \"rgb(103,5,74)\", \"width\": 10}, \"mode\": \"lines\", \"name\": \"Transfer TP_1\", \"type\": \"scatter\", \"x\": [\"2021-01-07T14:09:23.328957\", \"2021-01-07T14:09:23.328957\", \"2021-01-07T15:09:23.328957\", \"2021-01-07T15:09:23.328957\", \"2021-01-07T15:09:23.328957\", \"2021-01-07T16:52:57.657913\", \"2021-01-07T16:52:57.657913\", \"2021-01-07T17:52:57.657913\", \"2021-01-07T17:52:57.657913\", \"2021-01-07T17:52:57.657913\", \"2021-01-07T19:36:31.986870\", \"2021-01-07T19:36:31.986870\", \"2021-01-07T20:36:31.986870\", \"2021-01-07T20:36:31.986870\", \"2021-01-07T20:36:31.986870\", \"2021-01-07T22:20:06.315826\", \"2021-01-07T22:20:06.315826\", \"2021-01-07T23:20:06.315826\", \"2021-01-07T23:20:06.315826\", \"2021-01-07T23:20:06.315826\", \"2021-01-08T01:03:40.644783\", \"2021-01-08T01:03:40.644783\", \"2021-01-08T02:03:40.644783\", \"2021-01-08T02:03:40.644783\", \"2021-01-08T02:03:40.644783\", \"2021-01-08T03:47:14.973740\", \"2021-01-08T03:47:14.973740\", \"2021-01-08T04:47:14.973740\", \"2021-01-08T04:47:14.973740\", \"2021-01-08T04:47:14.973740\"], \"y\": [\"Transfer TP_1\", \"Transfer TP_1\", \"Transfer TP_1\", \"Transfer TP_1\", null, \"Transfer TP_1\", \"Transfer TP_1\", \"Transfer TP_1\", \"Transfer TP_1\", null, \"Transfer TP_1\", \"Transfer TP_1\", \"Transfer TP_1\", \"Transfer TP_1\", null, \"Transfer TP_1\", \"Transfer TP_1\", \"Transfer TP_1\", \"Transfer TP_1\", null, \"Transfer TP_1\", \"Transfer TP_1\", \"Transfer TP_1\", \"Transfer TP_1\", null, \"Transfer TP_1\", \"Transfer TP_1\", \"Transfer TP_1\", \"Transfer TP_1\", null]}],                        {\"hovermode\": \"closest\", \"legend\": {\"orientation\": \"h\", \"x\": 0, \"y\": -0.2}, \"template\": {\"data\": {\"bar\": [{\"error_x\": {\"color\": \"#2a3f5f\"}, \"error_y\": {\"color\": \"#2a3f5f\"}, \"marker\": {\"line\": {\"color\": \"#E5ECF6\", \"width\": 0.5}}, \"type\": \"bar\"}], \"barpolar\": [{\"marker\": {\"line\": {\"color\": \"#E5ECF6\", \"width\": 0.5}}, \"type\": \"barpolar\"}], \"carpet\": [{\"aaxis\": {\"endlinecolor\": \"#2a3f5f\", \"gridcolor\": \"white\", \"linecolor\": \"white\", \"minorgridcolor\": \"white\", \"startlinecolor\": \"#2a3f5f\"}, \"baxis\": {\"endlinecolor\": \"#2a3f5f\", \"gridcolor\": \"white\", \"linecolor\": \"white\", \"minorgridcolor\": \"white\", \"startlinecolor\": \"#2a3f5f\"}, \"type\": \"carpet\"}], \"choropleth\": [{\"colorbar\": {\"outlinewidth\": 0, \"ticks\": \"\"}, \"type\": \"choropleth\"}], \"contour\": [{\"colorbar\": {\"outlinewidth\": 0, \"ticks\": \"\"}, \"colorscale\": [[0.0, \"#0d0887\"], [0.1111111111111111, \"#46039f\"], [0.2222222222222222, \"#7201a8\"], [0.3333333333333333, \"#9c179e\"], [0.4444444444444444, \"#bd3786\"], [0.5555555555555556, \"#d8576b\"], [0.6666666666666666, \"#ed7953\"], [0.7777777777777778, \"#fb9f3a\"], [0.8888888888888888, \"#fdca26\"], [1.0, \"#f0f921\"]], \"type\": \"contour\"}], \"contourcarpet\": [{\"colorbar\": {\"outlinewidth\": 0, \"ticks\": \"\"}, \"type\": \"contourcarpet\"}], \"heatmap\": [{\"colorbar\": {\"outlinewidth\": 0, \"ticks\": \"\"}, \"colorscale\": [[0.0, \"#0d0887\"], [0.1111111111111111, \"#46039f\"], [0.2222222222222222, \"#7201a8\"], [0.3333333333333333, \"#9c179e\"], [0.4444444444444444, \"#bd3786\"], [0.5555555555555556, \"#d8576b\"], [0.6666666666666666, \"#ed7953\"], [0.7777777777777778, \"#fb9f3a\"], [0.8888888888888888, \"#fdca26\"], [1.0, \"#f0f921\"]], \"type\": \"heatmap\"}], \"heatmapgl\": [{\"colorbar\": {\"outlinewidth\": 0, \"ticks\": \"\"}, \"colorscale\": [[0.0, \"#0d0887\"], [0.1111111111111111, \"#46039f\"], [0.2222222222222222, \"#7201a8\"], [0.3333333333333333, \"#9c179e\"], [0.4444444444444444, \"#bd3786\"], [0.5555555555555556, \"#d8576b\"], [0.6666666666666666, \"#ed7953\"], [0.7777777777777778, \"#fb9f3a\"], [0.8888888888888888, \"#fdca26\"], [1.0, \"#f0f921\"]], \"type\": \"heatmapgl\"}], \"histogram\": [{\"marker\": {\"colorbar\": {\"outlinewidth\": 0, \"ticks\": \"\"}}, \"type\": \"histogram\"}], \"histogram2d\": [{\"colorbar\": {\"outlinewidth\": 0, \"ticks\": \"\"}, \"colorscale\": [[0.0, \"#0d0887\"], [0.1111111111111111, \"#46039f\"], [0.2222222222222222, \"#7201a8\"], [0.3333333333333333, \"#9c179e\"], [0.4444444444444444, \"#bd3786\"], [0.5555555555555556, \"#d8576b\"], [0.6666666666666666, \"#ed7953\"], [0.7777777777777778, \"#fb9f3a\"], [0.8888888888888888, \"#fdca26\"], [1.0, \"#f0f921\"]], \"type\": \"histogram2d\"}], \"histogram2dcontour\": [{\"colorbar\": {\"outlinewidth\": 0, \"ticks\": \"\"}, \"colorscale\": [[0.0, \"#0d0887\"], [0.1111111111111111, \"#46039f\"], [0.2222222222222222, \"#7201a8\"], [0.3333333333333333, \"#9c179e\"], [0.4444444444444444, \"#bd3786\"], [0.5555555555555556, \"#d8576b\"], [0.6666666666666666, \"#ed7953\"], [0.7777777777777778, \"#fb9f3a\"], [0.8888888888888888, \"#fdca26\"], [1.0, \"#f0f921\"]], \"type\": \"histogram2dcontour\"}], \"mesh3d\": [{\"colorbar\": {\"outlinewidth\": 0, \"ticks\": \"\"}, \"type\": \"mesh3d\"}], \"parcoords\": [{\"line\": {\"colorbar\": {\"outlinewidth\": 0, \"ticks\": \"\"}}, \"type\": \"parcoords\"}], \"pie\": [{\"automargin\": true, \"type\": \"pie\"}], \"scatter\": [{\"marker\": {\"colorbar\": {\"outlinewidth\": 0, \"ticks\": \"\"}}, \"type\": \"scatter\"}], \"scatter3d\": [{\"line\": {\"colorbar\": {\"outlinewidth\": 0, \"ticks\": \"\"}}, \"marker\": {\"colorbar\": {\"outlinewidth\": 0, \"ticks\": \"\"}}, \"type\": \"scatter3d\"}], \"scattercarpet\": [{\"marker\": {\"colorbar\": {\"outlinewidth\": 0, \"ticks\": \"\"}}, \"type\": \"scattercarpet\"}], \"scattergeo\": [{\"marker\": {\"colorbar\": {\"outlinewidth\": 0, \"ticks\": \"\"}}, \"type\": \"scattergeo\"}], \"scattergl\": [{\"marker\": {\"colorbar\": {\"outlinewidth\": 0, \"ticks\": \"\"}}, \"type\": \"scattergl\"}], \"scattermapbox\": [{\"marker\": {\"colorbar\": {\"outlinewidth\": 0, \"ticks\": \"\"}}, \"type\": \"scattermapbox\"}], \"scatterpolar\": [{\"marker\": {\"colorbar\": {\"outlinewidth\": 0, \"ticks\": \"\"}}, \"type\": \"scatterpolar\"}], \"scatterpolargl\": [{\"marker\": {\"colorbar\": {\"outlinewidth\": 0, \"ticks\": \"\"}}, \"type\": \"scatterpolargl\"}], \"scatterternary\": [{\"marker\": {\"colorbar\": {\"outlinewidth\": 0, \"ticks\": \"\"}}, \"type\": \"scatterternary\"}], \"surface\": [{\"colorbar\": {\"outlinewidth\": 0, \"ticks\": \"\"}, \"colorscale\": [[0.0, \"#0d0887\"], [0.1111111111111111, \"#46039f\"], [0.2222222222222222, \"#7201a8\"], [0.3333333333333333, \"#9c179e\"], [0.4444444444444444, \"#bd3786\"], [0.5555555555555556, \"#d8576b\"], [0.6666666666666666, \"#ed7953\"], [0.7777777777777778, \"#fb9f3a\"], [0.8888888888888888, \"#fdca26\"], [1.0, \"#f0f921\"]], \"type\": \"surface\"}], \"table\": [{\"cells\": {\"fill\": {\"color\": \"#EBF0F8\"}, \"line\": {\"color\": \"white\"}}, \"header\": {\"fill\": {\"color\": \"#C8D4E3\"}, \"line\": {\"color\": \"white\"}}, \"type\": \"table\"}]}, \"layout\": {\"annotationdefaults\": {\"arrowcolor\": \"#2a3f5f\", \"arrowhead\": 0, \"arrowwidth\": 1}, \"autotypenumbers\": \"strict\", \"coloraxis\": {\"colorbar\": {\"outlinewidth\": 0, \"ticks\": \"\"}}, \"colorscale\": {\"diverging\": [[0, \"#8e0152\"], [0.1, \"#c51b7d\"], [0.2, \"#de77ae\"], [0.3, \"#f1b6da\"], [0.4, \"#fde0ef\"], [0.5, \"#f7f7f7\"], [0.6, \"#e6f5d0\"], [0.7, \"#b8e186\"], [0.8, \"#7fbc41\"], [0.9, \"#4d9221\"], [1, \"#276419\"]], \"sequential\": [[0.0, \"#0d0887\"], [0.1111111111111111, \"#46039f\"], [0.2222222222222222, \"#7201a8\"], [0.3333333333333333, \"#9c179e\"], [0.4444444444444444, \"#bd3786\"], [0.5555555555555556, \"#d8576b\"], [0.6666666666666666, \"#ed7953\"], [0.7777777777777778, \"#fb9f3a\"], [0.8888888888888888, \"#fdca26\"], [1.0, \"#f0f921\"]], \"sequentialminus\": [[0.0, \"#0d0887\"], [0.1111111111111111, \"#46039f\"], [0.2222222222222222, \"#7201a8\"], [0.3333333333333333, \"#9c179e\"], [0.4444444444444444, \"#bd3786\"], [0.5555555555555556, \"#d8576b\"], [0.6666666666666666, \"#ed7953\"], [0.7777777777777778, \"#fb9f3a\"], [0.8888888888888888, \"#fdca26\"], [1.0, \"#f0f921\"]]}, \"colorway\": [\"#636efa\", \"#EF553B\", \"#00cc96\", \"#ab63fa\", \"#FFA15A\", \"#19d3f3\", \"#FF6692\", \"#B6E880\", \"#FF97FF\", \"#FECB52\"], \"font\": {\"color\": \"#2a3f5f\"}, \"geo\": {\"bgcolor\": \"white\", \"lakecolor\": \"white\", \"landcolor\": \"#E5ECF6\", \"showlakes\": true, \"showland\": true, \"subunitcolor\": \"white\"}, \"hoverlabel\": {\"align\": \"left\"}, \"hovermode\": \"closest\", \"mapbox\": {\"style\": \"light\"}, \"paper_bgcolor\": \"white\", \"plot_bgcolor\": \"#E5ECF6\", \"polar\": {\"angularaxis\": {\"gridcolor\": \"white\", \"linecolor\": \"white\", \"ticks\": \"\"}, \"bgcolor\": \"#E5ECF6\", \"radialaxis\": {\"gridcolor\": \"white\", \"linecolor\": \"white\", \"ticks\": \"\"}}, \"scene\": {\"xaxis\": {\"backgroundcolor\": \"#E5ECF6\", \"gridcolor\": \"white\", \"gridwidth\": 2, \"linecolor\": \"white\", \"showbackground\": true, \"ticks\": \"\", \"zerolinecolor\": \"white\"}, \"yaxis\": {\"backgroundcolor\": \"#E5ECF6\", \"gridcolor\": \"white\", \"gridwidth\": 2, \"linecolor\": \"white\", \"showbackground\": true, \"ticks\": \"\", \"zerolinecolor\": \"white\"}, \"zaxis\": {\"backgroundcolor\": \"#E5ECF6\", \"gridcolor\": \"white\", \"gridwidth\": 2, \"linecolor\": \"white\", \"showbackground\": true, \"ticks\": \"\", \"zerolinecolor\": \"white\"}}, \"shapedefaults\": {\"line\": {\"color\": \"#2a3f5f\"}}, \"ternary\": {\"aaxis\": {\"gridcolor\": \"white\", \"linecolor\": \"white\", \"ticks\": \"\"}, \"baxis\": {\"gridcolor\": \"white\", \"linecolor\": \"white\", \"ticks\": \"\"}, \"bgcolor\": \"#E5ECF6\", \"caxis\": {\"gridcolor\": \"white\", \"linecolor\": \"white\", \"ticks\": \"\"}}, \"title\": {\"x\": 0.05}, \"xaxis\": {\"automargin\": true, \"gridcolor\": \"white\", \"linecolor\": \"white\", \"ticks\": \"\", \"title\": {\"standoff\": 15}, \"zerolinecolor\": \"white\", \"zerolinewidth\": 2}, \"yaxis\": {\"automargin\": true, \"gridcolor\": \"white\", \"linecolor\": \"white\", \"ticks\": \"\", \"title\": {\"standoff\": 15}, \"zerolinecolor\": \"white\", \"zerolinewidth\": 2}}}, \"title\": {\"text\": \"Vessel planning\"}, \"xaxis\": {\"range\": [\"2021-01-07T12:25:49\", \"2021-01-08T04:47:14.973740\"], \"title\": {\"font\": {\"color\": \"#7f7f7f\", \"family\": \"Courier New, monospace\", \"size\": 18}, \"text\": \"Time\"}}, \"yaxis\": {\"title\": {\"font\": {\"color\": \"#7f7f7f\", \"family\": \"Courier New, monospace\", \"size\": 18}, \"text\": \"Vessels\"}}},                        {\"responsive\": true}                    ).then(function(){\n",
       "                            \n",
       "var gd = document.getElementById('3cd3480c-2572-4dfe-a7e9-3c7fc19bc1e5');\n",
       "var x = new MutationObserver(function (mutations, observer) {{\n",
       "        var display = window.getComputedStyle(gd).display;\n",
       "        if (!display || display === 'none') {{\n",
       "            console.log([gd, 'removed!']);\n",
       "            Plotly.purge(gd);\n",
       "            observer.disconnect();\n",
       "        }}\n",
       "}});\n",
       "\n",
       "// Listen for the removal of the full notebook cells\n",
       "var notebookContainer = gd.closest('#notebook-container');\n",
       "if (notebookContainer) {{\n",
       "    x.observe(notebookContainer, {childList: true});\n",
       "}}\n",
       "\n",
       "// Listen for the clearing of the current output cell\n",
       "var outputEl = gd.closest('.output');\n",
       "if (outputEl) {{\n",
       "    x.observe(outputEl, {childList: true});\n",
       "}}\n",
       "\n",
       "                        })                };                });            </script>        </div>"
      ]
     },
     "metadata": {},
     "output_type": "display_data"
    }
   ],
   "source": [
    "plot.vessel_planning([\n",
    "    *while_activity2.sub_processes[0].sub_processes,\n",
    "    *while_activity.sub_processes[0].sub_processes \n",
    "])"
   ]
  },
  {
   "cell_type": "code",
   "execution_count": null,
   "metadata": {},
   "outputs": [],
   "source": []
  }
 ],
 "metadata": {
  "kernelspec": {
   "display_name": "Python 3",
   "language": "python",
   "name": "python3"
  },
  "language_info": {
   "codemirror_mode": {
    "name": "ipython",
    "version": 3
   },
   "file_extension": ".py",
   "mimetype": "text/x-python",
   "name": "python",
   "nbconvert_exporter": "python",
   "pygments_lexer": "ipython3",
   "version": "3.7.3"
  }
 },
 "nbformat": 4,
 "nbformat_minor": 2
}
