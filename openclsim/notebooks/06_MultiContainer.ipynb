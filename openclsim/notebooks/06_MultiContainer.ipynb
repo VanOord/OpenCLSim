{
 "cells": [
  {
   "cell_type": "markdown",
   "metadata": {},
   "source": [
    "# Demo MultiContainer with ShiftAmount Activity\n",
    "In certain scenarios it is important to distinguish which types of objects are available in a container. HasContainer does not provide this capability, while MultiContainer do. A MultiContainer represents a named set of containers. The number of allowed containers is limited by parameter **store_capacity**.\n",
    "For each container a name (**id_** property), a **capacity** and **level** is specified. \n",
    "A MultiContainer can be initialized with parameter **initials** as provided in the example for site and vessel configuration below."
   ]
  },
  {
   "cell_type": "code",
   "execution_count": 1,
   "metadata": {},
   "outputs": [],
   "source": [
    "import datetime, time\n",
    "import simpy\n",
    "\n",
    "import shapely.geometry\n",
    "from simplekml import Kml, Style\n",
    "\n",
    "import pandas as pd\n",
    "import openclsim.core as core\n",
    "import openclsim.model as model\n",
    "import openclsim.plot as plot\n",
    "\n",
    "# setup environment\n",
    "simulation_start = 0\n",
    "my_env = simpy.Environment(initial_time=simulation_start)\n",
    "registry = {}"
   ]
  },
  {
   "cell_type": "markdown",
   "metadata": {},
   "source": [
    "## Definition of Site with MultiContainer\n",
    "The clas HasContainer has now been replaced with HasMultiContainer. The **from_site** can contain four different container types, but right now contains only two: One called MP with a capacity of 10 and a level of 2 and one called TP with a capacity of 2 and a level of 0."
   ]
  },
  {
   "cell_type": "code",
   "execution_count": 4,
   "metadata": {},
   "outputs": [
    {
     "name": "stdout",
     "output_type": "stream",
     "text": [
      "init\n",
      "level: 0.0\n",
      "completed init\n",
      "{'id': 'MP', 'level': 2, 'capacity': 10}\n",
      "{'id': 'TP', 'level': 0, 'capacity': 2}\n"
     ]
    }
   ],
   "source": [
    "# The generic site class\n",
    "Site = type(\n",
    "    \"Site\",\n",
    "    (\n",
    "        core.Identifiable,  # Give it a name\n",
    "        core.Log,  # Allow logging of all discrete events\n",
    "        core.Locatable,  # Add coordinates to extract distance information and visualize\n",
    "        core.HasMultiContainer,  # Add information on the material available at the site\n",
    "        core.HasResource,\n",
    "    ),  # Add information on serving equipment\n",
    "    {},\n",
    ")  # The dictionary is empty because the site type is generic\n",
    "\n",
    "# Information on the extraction site - the \"from site\" - the \"win locatie\"\n",
    "location_from_site = shapely.geometry.Point(4.18055556, 52.18664444)  # lon, lat\n",
    "\n",
    "data_from_site = {\n",
    "    \"env\": my_env,  # The simpy environment defined in the first cel\n",
    "    \"name\": \"Winlocatie\",  # The name of the site\n",
    "    \"ID\": \"6dbbbdf4-4589-11e9-a501-b469212bff5d\",  # For logging purposes\n",
    "    \"geometry\": location_from_site,  # The coordinates of the project site\n",
    "    \"store_capacity\": 4,\n",
    "    \"capacity\": 5,\n",
    "    \"initials\": [\n",
    "        {\"id\": \"MP\", \"level\": 2, \"capacity\": 10},\n",
    "        {\"id\": \"TP\", \"level\": 0, \"capacity\": 2},\n",
    "    ],  # Capacity of the hopper - \"Beunvolume\"\n",
    "}  # The actual volume of the site\n",
    "from_site = Site(**data_from_site)"
   ]
  },
  {
   "cell_type": "markdown",
   "metadata": {},
   "source": [
    "## Creation of Vessel with MultiContainer\n",
    "The class ContainerDependentMovable has been replaced with MultiContainerDependentMovable. The vessel has two containers, one for MPs and one for TPs, each with a capacity of two and a current level of zero."
   ]
  },
  {
   "cell_type": "code",
   "execution_count": 6,
   "metadata": {},
   "outputs": [
    {
     "name": "stdout",
     "output_type": "stream",
     "text": [
      "init\n",
      "level: 0.0\n",
      "completed init\n",
      "{'id': 'MP', 'level': 0, 'capacity': 2}\n",
      "{'id': 'TP', 'level': 0, 'capacity': 2}\n"
     ]
    }
   ],
   "source": [
    "# The generic class for an object that can move and transport (a TSHD for example)\n",
    "TransportProcessingResource = type(\n",
    "    \"TransportProcessingResource\",\n",
    "    (\n",
    "        core.Identifiable,  # Give it a name\n",
    "        core.Log,  # Allow logging of all discrete events\n",
    "        core.MultiContainerDependentMovable,  # A moving container, so capacity and location\n",
    "        core.Processor,  # Allow for loading and unloading\n",
    "        core.HasResource,  # Add information on serving equipment\n",
    "        core.HasCosts,  # Add information on costs\n",
    "        core.LoadingFunction,  # Add a loading function\n",
    "        core.UnloadingFunction,  # Add an unloading function\n",
    "    ),\n",
    "    {},\n",
    ")\n",
    "\n",
    "# For more realistic simulation you might want to have speed dependent on the volume carried by the vessel\n",
    "def compute_v_provider(v_empty, v_full):\n",
    "    return lambda x: 10\n",
    "\n",
    "# TSHD variables\n",
    "data_hopper = {\n",
    "    \"env\": my_env,  # The simpy environment\n",
    "    \"name\": \"Hopper 01\",  # Name\n",
    "    \"ID\": \"6dbbbdf6-4589-11e9-95a2-b469212bff5b\",  # For logging purposes\n",
    "    \"geometry\": location_from_site,  # It starts at the \"from site\"\n",
    "    \"loading_rate\": 1,  # Loading rate\n",
    "    \"unloading_rate\": 1,  # Unloading rate\n",
    "    \"store_capacity\": 4,\n",
    "    \"capacity\": 5,\n",
    "    \"initials\": [\n",
    "        {\"id\": \"MP\", \"level\": 0, \"capacity\": 2},\n",
    "        {\"id\": \"TP\", \"level\": 0, \"capacity\": 2},\n",
    "    ],  # Capacity of the hopper - \"Beunvolume\"\n",
    "    \"compute_v\": compute_v_provider(5, 4.5),  # Variable speed\n",
    "    \"weekrate\": 7,\n",
    "}\n",
    "\n",
    "hopper = TransportProcessingResource(**data_hopper)"
   ]
  },
  {
   "cell_type": "markdown",
   "metadata": {},
   "source": [
    "## ShiftAmount Activity for MultiContainer\n",
    "The **amount** specifies the objects to be transfered and the **id_** parameter specifies to which container this activity relates."
   ]
  },
  {
   "cell_type": "code",
   "execution_count": 17,
   "metadata": {},
   "outputs": [
    {
     "name": "stdout",
     "output_type": "stream",
     "text": [
      "SHift amount Activity keep_resources []\n",
      "start event instance None\n"
     ]
    }
   ],
   "source": [
    "shift_amount_activity_loading_data = {\n",
    "    \"env\": my_env,  # The simpy environment defined in the first cel\n",
    "    \"name\": \"Transfer MP\",  # We are moving soil\n",
    "    \"ID\": \"6dbbbdf7-4589-11e9-bf3b-b469212bff52\",  # For logging purposes\n",
    "    \"registry\": registry,\n",
    "    \"processor\": hopper,\n",
    "    \"origin\": from_site,\n",
    "    \"destination\": hopper,\n",
    "    \"amount\": 1,\n",
    "    \"id_\":\"MP\",\n",
    "    \"duration\": 20,\n",
    "    \"postpone_start\": False,\n",
    "}\n",
    "activity = model.ShiftAmountActivity(**shift_amount_activity_loading_data)\n"
   ]
  },
  {
   "cell_type": "markdown",
   "metadata": {},
   "source": [
    "## Run simulation"
   ]
  },
  {
   "cell_type": "code",
   "execution_count": 19,
   "metadata": {},
   "outputs": [
    {
     "ename": "NameError",
     "evalue": "name 'MP' is not defined",
     "output_type": "error",
     "traceback": [
      "\u001b[1;31m---------------------------------------------------------------------------\u001b[0m",
      "\u001b[1;31mNameError\u001b[0m                                 Traceback (most recent call last)",
      "\u001b[1;32m<ipython-input-19-25f043797006>\u001b[0m in \u001b[0;36m<module>\u001b[1;34m\u001b[0m\n\u001b[1;32m----> 1\u001b[1;33m \u001b[0mMP\u001b[0m\u001b[1;33m\u001b[0m\u001b[1;33m\u001b[0m\u001b[0m\n\u001b[0m",
      "\u001b[1;31mNameError\u001b[0m: name 'MP' is not defined"
     ]
    }
   ],
   "source": [
    "MP"
   ]
  },
  {
   "cell_type": "code",
   "execution_count": 18,
   "metadata": {},
   "outputs": [
    {
     "name": "stdout",
     "output_type": "stream",
     "text": [
      "start : {}\n",
      "{'origin.6dbbbdf4-4589-11e9-a501-b469212bff5d': 1, 'destination.6dbbbdf6-4589-11e9-95a2-b469212bff5b': 1}\n",
      "destination request : {<simpy.resources.resource.Resource object at 0x000000C28F6EE208>: <Request() object at 0xc28f6f2c88>}\n",
      "shift amount process keep_resources []\n",
      "start get_available\n",
      "processor request : {<simpy.resources.resource.Resource object at 0x000000C28F6EE208>: <Request() object at 0xc28f6f2c88>}\n",
      "site request : {<simpy.resources.resource.Resource object at 0x000000C28F6EE208>: <Request() object at 0xc28f6f2c88>, <simpy.resources.resource.Resource object at 0x000000C28F6E3BC8>: <Request() object at 0xc28fc41688>}\n",
      "end requestIfAvailable : {<simpy.resources.resource.Resource object at 0x000000C28F6EE208>: <Request() object at 0xc28f6f2c88>, <simpy.resources.resource.Resource object at 0x000000C28F6E3BC8>: <Request() object at 0xc28fc41688>}\n",
      "after req resource if available : {<simpy.resources.resource.Resource object at 0x000000C28F6EE208>: <Request() object at 0xc28f6f2c88>, <simpy.resources.resource.Resource object at 0x000000C28F6E3BC8>: <Request() object at 0xc28fc41688>}\n",
      "_shift_amount\n",
      "start _shift_amount\n",
      "amount 1\n",
      "processor start process\n",
      "install MP at Hopper 01\n",
      "processor process without rate\n",
      "origin store before get: [{'id': 'default', 'level': 0.0, 'capacity': 5}, {'id': 'TP', 'level': 0, 'capacity': 2}, {'id': 'MP', 'level': 1, 'capacity': 10}]\n",
      "start get 1\n",
      "store_status {'id': 'MP', 'level': 1, 'capacity': 10}\n",
      "end get 1\n",
      "get_callback - id_ <StorePut() object at 0xc28fc41908>\n",
      "start get_callback\n",
      "{}\n",
      "origin store after get: [{'id': 'default', 'level': 0.0, 'capacity': 5}, {'id': 'TP', 'level': 0, 'capacity': 2}, {'id': 'MP', 'level': 0, 'capacity': 10}]\n",
      "after get\n",
      "after check_down time\n",
      "destination store before put: [{'id': 'default', 'level': 0.0, 'capacity': 5}, {'id': 'TP', 'level': 0, 'capacity': 2}, {'id': 'MP', 'level': 1, 'capacity': 2}]\n",
      "<FilterStoreGet() object at 0xc28fc44108>\n",
      "put_callback - id_ MP\n",
      "{}\n",
      "destination store after put: [{'id': 'default', 'level': 0.0, 'capacity': 5}, {'id': 'TP', 'level': 0, 'capacity': 2}, {'id': 'MP', 'level': 2, 'capacity': 2}]\n",
      "after put\n",
      "processor end process\n",
      "Processed 1 of MP:\n",
      "  by:          Hopper 01\n",
      "  origin        Winlocatie  contains: 0 of MP\n",
      "  destination:  Hopper 01 contains: 2 of MP\n",
      "after shift amount : {<simpy.resources.resource.Resource object at 0x000000C28F6EE208>: <Request() object at 0xc28f6f2c88>, <simpy.resources.resource.Resource object at 0x000000C28F6E3BC8>: <Request() object at 0xc28fc41688>}\n",
      "keep resources []\n",
      "release destination : {<simpy.resources.resource.Resource object at 0x000000C28F6E3BC8>: <Request() object at 0xc28fc41688>}\n",
      "released origin : {}\n",
      "released processor : {}\n",
      "{}\n"
     ]
    }
   ],
   "source": [
    "my_env.run()\n"
   ]
  },
  {
   "cell_type": "code",
   "execution_count": 14,
   "metadata": {},
   "outputs": [
    {
     "data": {
      "text/html": [
       "<div>\n",
       "<style scoped>\n",
       "    .dataframe tbody tr th:only-of-type {\n",
       "        vertical-align: middle;\n",
       "    }\n",
       "\n",
       "    .dataframe tbody tr th {\n",
       "        vertical-align: top;\n",
       "    }\n",
       "\n",
       "    .dataframe thead th {\n",
       "        text-align: right;\n",
       "    }\n",
       "</style>\n",
       "<table border=\"1\" class=\"dataframe\">\n",
       "  <thead>\n",
       "    <tr style=\"text-align: right;\">\n",
       "      <th></th>\n",
       "      <th>Message</th>\n",
       "      <th>ActivityState</th>\n",
       "      <th>Timestamp</th>\n",
       "      <th>Value</th>\n",
       "      <th>ActivityID</th>\n",
       "    </tr>\n",
       "  </thead>\n",
       "  <tbody>\n",
       "  </tbody>\n",
       "</table>\n",
       "</div>"
      ],
      "text/plain": [
       "Empty DataFrame\n",
       "Columns: [Message, ActivityState, Timestamp, Value, ActivityID]\n",
       "Index: []"
      ]
     },
     "execution_count": 14,
     "metadata": {},
     "output_type": "execute_result"
    }
   ],
   "source": [
    "log_df = pd.DataFrame(activity.log)\n",
    "data =log_df[['Message', 'ActivityState', 'Timestamp', 'Value', 'ActivityID']]\n",
    "data"
   ]
  },
  {
   "cell_type": "code",
   "execution_count": 15,
   "metadata": {},
   "outputs": [
    {
     "data": {
      "text/html": [
       "<div>\n",
       "<style scoped>\n",
       "    .dataframe tbody tr th:only-of-type {\n",
       "        vertical-align: middle;\n",
       "    }\n",
       "\n",
       "    .dataframe tbody tr th {\n",
       "        vertical-align: top;\n",
       "    }\n",
       "\n",
       "    .dataframe thead th {\n",
       "        text-align: right;\n",
       "    }\n",
       "</style>\n",
       "<table border=\"1\" class=\"dataframe\">\n",
       "  <thead>\n",
       "    <tr style=\"text-align: right;\">\n",
       "      <th></th>\n",
       "      <th>Message</th>\n",
       "      <th>ActivityState</th>\n",
       "      <th>Timestamp</th>\n",
       "      <th>Value</th>\n",
       "      <th>ActivityID</th>\n",
       "    </tr>\n",
       "  </thead>\n",
       "  <tbody>\n",
       "    <tr>\n",
       "      <th>0</th>\n",
       "      <td>install MP at Hopper 01</td>\n",
       "      <td>START</td>\n",
       "      <td>1970-01-01 01:00:00</td>\n",
       "      <td>1</td>\n",
       "      <td>6dbbbdf7-4589-11e9-bf3b-b469212bff52</td>\n",
       "    </tr>\n",
       "    <tr>\n",
       "      <th>2</th>\n",
       "      <td>install MP at Hopper 01</td>\n",
       "      <td>STOP</td>\n",
       "      <td>1970-01-01 01:00:20</td>\n",
       "      <td>1</td>\n",
       "      <td>6dbbbdf7-4589-11e9-bf3b-b469212bff52</td>\n",
       "    </tr>\n",
       "  </tbody>\n",
       "</table>\n",
       "</div>"
      ],
      "text/plain": [
       "                   Message ActivityState           Timestamp  Value  \\\n",
       "0  install MP at Hopper 01         START 1970-01-01 01:00:00      1   \n",
       "2  install MP at Hopper 01          STOP 1970-01-01 01:00:20      1   \n",
       "\n",
       "                             ActivityID  \n",
       "0  6dbbbdf7-4589-11e9-bf3b-b469212bff52  \n",
       "2  6dbbbdf7-4589-11e9-bf3b-b469212bff52  "
      ]
     },
     "execution_count": 15,
     "metadata": {},
     "output_type": "execute_result"
    }
   ],
   "source": [
    "hopper_log_df = pd.DataFrame(hopper.log)\n",
    "hopper_data =hopper_log_df[['Message', 'ActivityState', 'Timestamp', 'Value', 'ActivityID']]\n",
    "hopper_data = hopper_data.drop_duplicates()\n",
    "hopper_data"
   ]
  },
  {
   "cell_type": "markdown",
   "metadata": {},
   "source": [
    "The resulting levels of objects in the hopper and the from_site are requested below. "
   ]
  },
  {
   "cell_type": "code",
   "execution_count": 16,
   "metadata": {},
   "outputs": [
    {
     "data": {
      "text/plain": [
       "1"
      ]
     },
     "execution_count": 16,
     "metadata": {},
     "output_type": "execute_result"
    }
   ],
   "source": [
    "hopper.container.get_level(id_=\"MP\")"
   ]
  },
  {
   "cell_type": "code",
   "execution_count": null,
   "metadata": {},
   "outputs": [],
   "source": [
    "from_site.container.get_level(id_=\"MP\")"
   ]
  }
 ],
 "metadata": {
  "kernelspec": {
   "display_name": "Python 3",
   "language": "python",
   "name": "python3"
  },
  "language_info": {
   "codemirror_mode": {
    "name": "ipython",
    "version": 3
   },
   "file_extension": ".py",
   "mimetype": "text/x-python",
   "name": "python",
   "nbconvert_exporter": "python",
   "pygments_lexer": "ipython3",
   "version": "3.7.6"
  }
 },
 "nbformat": 4,
 "nbformat_minor": 2
}
